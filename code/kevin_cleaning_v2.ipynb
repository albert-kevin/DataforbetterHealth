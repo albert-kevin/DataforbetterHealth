{
 "cells": [
  {
   "cell_type": "code",
   "execution_count": 1,
   "metadata": {},
   "outputs": [],
   "source": [
    "import pandas_profiling as pp\n",
    "import pandas as pd\n",
    "import numpy as np\n",
    "\n",
    "import seaborn as sns\n",
    "from matplotlib import pyplot as plt\n",
    "%matplotlib inline\n",
    "\n",
    "import warnings\n",
    "warnings.filterwarnings('ignore')\n",
    "\n",
    "from sklearn.preprocessing import StandardScaler"
   ]
  },
  {
   "cell_type": "markdown",
   "metadata": {},
   "source": [
    "## df = DB_V2.TXT"
   ]
  },
  {
   "cell_type": "code",
   "execution_count": 2,
   "metadata": {},
   "outputs": [],
   "source": [
    "# RIZIV dataset 1.8GB\n",
    "# reading merge variable as a string\n",
    "df = pd.read_csv(\"../data/original/DB_V2.TXT\", sep='\\t',\n",
    "                 encoding='latin-1',\n",
    "                 low_memory=False,\n",
    "                 dtype={\"reimbt_cat_id\":\"str\", \"realization_date\":\"str\"})\n",
    "df.drop_duplicates(inplace=True)\n",
    "df.drop('Year', axis=1, inplace=True)\n",
    "df.drop('account_yy_ss', axis=1, inplace=True)"
   ]
  },
  {
   "cell_type": "markdown",
   "metadata": {},
   "source": [
    "## pharma_ref = PHARME_REF.xlsx"
   ]
  },
  {
   "cell_type": "code",
   "execution_count": 3,
   "metadata": {},
   "outputs": [],
   "source": [
    "# fixed the drug_code issue for later merging\n",
    "pharma_ref = pd.read_excel(\"../data/original/PHARMA_REF.xlsx\",\n",
    "                           dtype={\"drug_code\":'str', \"produit_pharma\":'str'})\n",
    "pharma_ref.drop_duplicates(inplace=True)"
   ]
  },
  {
   "cell_type": "markdown",
   "metadata": {},
   "source": [
    "## reimburse_cat = reimb category.xls"
   ]
  },
  {
   "cell_type": "code",
   "execution_count": 4,
   "metadata": {},
   "outputs": [],
   "source": [
    "# make sure the id's you merge on are read correctly and the same way\n",
    "reimburse_cat = pd.read_excel(\"../data/original/reimb category.xlsx\", dtype={\"reimbt_cat_id\":'str'})\n",
    "reimburse_cat.drop_duplicates(inplace=True)\n",
    "# max_pct is highly correlated with min_pct (ρ = 0.98479) and 6.1% missing values !\n",
    "reimburse_cat.drop('min_pct', axis=1, inplace=True)\n",
    "# remove the fresh descriptions\n",
    "reimburse_cat.drop('reimbt_cat_desc_fr', axis=1, inplace=True)"
   ]
  },
  {
   "cell_type": "code",
   "execution_count": 5,
   "metadata": {},
   "outputs": [],
   "source": [
    "reimburse_cat_dict = {'nd':'other', 'A':'A', 'B':'B', 'Cat 1':'other', 'Cat 2 (A)':'other', 'Cat 3':'other', 'Cat 4':'other',\n",
    "       'Cat 5 (D)':'other', 'C':'C', 'Cs':'C', 'Cx':'C', 'Cxg':'C', 'D':'D', 'Csg':'C', 'Ag':'A', 'Bg':'B', 'Cg':'C',\n",
    "       'Forf Ant':'other', 'Nutri Par':'other', 'Br':'other', 'Ar':'other', 'Cr':'C', 'Csr':'C', 'Cxr':'C',\n",
    "       'Forf Adm':'other', 'Forf BH':'forf', 'V08':'other', 'Fa':'other', 'Fb':'other', 'Forf 1-3':'other',\n",
    "       'Forf 4-':'other', 'Ri-D11':'other', 'Ri-T1':'other', 'Ri-T2':'other', 'Ri-T3':'other', 'Ri-D5':'other', 'Ri-D7':'other',\n",
    "       'Ri-D2':'other', 'Ri-D9':'other', 'Ri-D6':'other', 'Ri-D10':'other', 'Ri-D3':'other', 'Ri-D1':'other', 'Ri-D8':'other',\n",
    "       'Ri-T4':'other', 'Ri-D4':'other', 'Forf PET':'other', '90-A':'A', '90-B':'B', '90-Fa':'other', '90-Fb':'other',\n",
    "       'Ri-T5':'other', 'Ri-T6':'other', 'Ri-T7':'other', 'Ri-T8':'other', '90-C':'C', '90-Cs':'C', '90-Cx':'C'}\n",
    "reimburse_cat[\"reimbt_crit_long\"] = reimburse_cat[\"reimbt_crit_long\"].map(reimburse_cat_dict)"
   ]
  },
  {
   "cell_type": "markdown",
   "metadata": {},
   "source": [
    "## MERGE left join 3x dataframes"
   ]
  },
  {
   "cell_type": "code",
   "execution_count": 6,
   "metadata": {},
   "outputs": [],
   "source": [
    "df = pd.merge(df, pharma_ref, how=\"left\", left_on=\"drug_code\", right_on=\"drug_code\").reset_index()"
   ]
  },
  {
   "cell_type": "code",
   "execution_count": 7,
   "metadata": {},
   "outputs": [],
   "source": [
    "df = pd.merge(df, reimburse_cat, how=\"left\", left_on=\"reimbt_cat_id\", right_on=\"reimbt_cat_id\").reset_index()"
   ]
  },
  {
   "cell_type": "markdown",
   "metadata": {},
   "source": [
    "## Cleaning Phase 1"
   ]
  },
  {
   "cell_type": "code",
   "execution_count": 8,
   "metadata": {},
   "outputs": [],
   "source": [
    "df.drop(\"level_0\", axis=1, inplace=True)\n",
    "df.drop(\"index\", axis=1, inplace=True)"
   ]
  },
  {
   "cell_type": "code",
   "execution_count": 9,
   "metadata": {},
   "outputs": [],
   "source": [
    "df = df.astype({'Type':'category', 'type_drug_code':'category', 'statut_produit_pharma':'category',\n",
    "               'orphan_flag':'bool', 'chapter_IV_bis_flag':'bool', 'reimbt_cat_acute_yn':'bool',\n",
    "               'reimbt_cat_chron_yn':'bool', 'reimbt_cat_psy_yn':'bool', 'reimbt_cat_fixed_rate_yn':'bool',\n",
    "               'relative_care_yn':'bool', 'ami_ziv_amount_null_yn':'bool', 'not_reimbursed_null_yn':'bool', 'fee_cat':'category'})"
   ]
  },
  {
   "cell_type": "code",
   "execution_count": 10,
   "metadata": {},
   "outputs": [],
   "source": [
    "# removing all the duplicate rows\n",
    "df.drop_duplicates(inplace=True)"
   ]
  },
  {
   "cell_type": "markdown",
   "metadata": {},
   "source": [
    "## Our domain expert suggest to only keep these columns:"
   ]
  },
  {
   "cell_type": "code",
   "execution_count": 11,
   "metadata": {},
   "outputs": [],
   "source": [
    "# keep these columns:\n",
    "# check this later !\n",
    "df = df[['patient_cat', 'Province', 'Type', 'hosp_serv_id', 'reimbt_cat_id', 'drug_code',\n",
    "       'realization_date', 'quantity', 'amount_reimb', 'amount_not_reimb',\n",
    "       'trim_pharma', 'produit_pharma', 'type_drug_code',\n",
    "       'famille_produit_pharma', 'drug_name_aggregated',\n",
    "       'conditionnement', 'mode_administration',\n",
    "       'date_debut_rembourse', 'statut_produit_pharma', 'code_atc',\n",
    "       'code_atc_5', 'code_atc_4', 'code_atc_3', 'code_atc_1', 'DDD',\n",
    "       'nombre_prises', 'orphan_flag', 'chapter_IV_bis_flag',\n",
    "       'link_same_tablet', 'dbegin', 'dend',\n",
    "       'reimbt_cat_desc_nl', 'reimbt_crit_long', 'reimbt_crit_short',\n",
    "       'reimbt_cat_fixed_rate_yn', 'fee_cat']]"
   ]
  },
  {
   "cell_type": "markdown",
   "metadata": {},
   "source": [
    "# Cleaning Phase 2"
   ]
  },
  {
   "cell_type": "markdown",
   "metadata": {},
   "source": [
    "## patient_cat"
   ]
  },
  {
   "cell_type": "code",
   "execution_count": 12,
   "metadata": {},
   "outputs": [],
   "source": [
    "# only keep hospitalised data, ignore ambulant data\n",
    "df = df[ (df[\"patient_cat\"] == 'HOSP') ]"
   ]
  },
  {
   "cell_type": "code",
   "execution_count": 13,
   "metadata": {},
   "outputs": [
    {
     "data": {
      "text/plain": [
       "(19520451, 36)"
      ]
     },
     "execution_count": 13,
     "metadata": {},
     "output_type": "execute_result"
    }
   ],
   "source": [
    "df.shape"
   ]
  },
  {
   "cell_type": "code",
   "execution_count": 14,
   "metadata": {},
   "outputs": [],
   "source": [
    "df.drop(\"patient_cat\", axis=1, inplace=True)"
   ]
  },
  {
   "cell_type": "code",
   "execution_count": 15,
   "metadata": {},
   "outputs": [
    {
     "data": {
      "text/plain": [
       "(19520451, 35)"
      ]
     },
     "execution_count": 15,
     "metadata": {},
     "output_type": "execute_result"
    }
   ],
   "source": [
    "df.shape"
   ]
  },
  {
   "cell_type": "markdown",
   "metadata": {},
   "source": [
    "## Province"
   ]
  },
  {
   "cell_type": "code",
   "execution_count": 16,
   "metadata": {},
   "outputs": [],
   "source": [
    "province = {'Anvers':'Antwerpen',\n",
    "            'Bruxelles-Capitale':'Brussel',\n",
    "            'Flandre orientale':'Oost-Vlaanderen',\n",
    "            'Flandre Occidentale':'West-Vlaanderen',\n",
    "            'Hainaut':'Henegouwen',\n",
    "            'Liège':'Luik',\n",
    "            'Brabant Flamant':'Vlaams-Brabant',\n",
    "            'Limbourg':'Limburg',\n",
    "            'Namur':'Namen',\n",
    "            'Brabant Wallon':'Waals-Brabant'}"
   ]
  },
  {
   "cell_type": "code",
   "execution_count": 17,
   "metadata": {},
   "outputs": [],
   "source": [
    "# replace the values\n",
    "df[\"Province\"] = df[\"Province\"].map(province)"
   ]
  },
  {
   "cell_type": "markdown",
   "metadata": {},
   "source": [
    "## Type"
   ]
  },
  {
   "cell_type": "code",
   "execution_count": 18,
   "metadata": {},
   "outputs": [],
   "source": [
    "# keep General types, ignore all psycholocal drugs (9%)\n",
    "df = df[(df[\"Type\"] == 'Général')]"
   ]
  },
  {
   "cell_type": "code",
   "execution_count": 19,
   "metadata": {},
   "outputs": [],
   "source": [
    "# remove the column it has all the same values\n",
    "df.drop(\"Type\", axis=1, inplace=True)"
   ]
  },
  {
   "cell_type": "code",
   "execution_count": 20,
   "metadata": {},
   "outputs": [
    {
     "data": {
      "text/plain": [
       "(17234103, 34)"
      ]
     },
     "execution_count": 20,
     "metadata": {},
     "output_type": "execute_result"
    }
   ],
   "source": [
    "df.shape"
   ]
  },
  {
   "cell_type": "markdown",
   "metadata": {},
   "source": [
    "## realization_date"
   ]
  },
  {
   "cell_type": "code",
   "execution_count": 21,
   "metadata": {},
   "outputs": [],
   "source": [
    "# here we replace for example 20132 into 2013 as being the year 2013 ...\n",
    "df[\"realization_date\"] = df[\"realization_date\"].str[:4]"
   ]
  },
  {
   "cell_type": "code",
   "execution_count": 22,
   "metadata": {},
   "outputs": [
    {
     "data": {
      "text/plain": [
       "(17234103, 34)"
      ]
     },
     "execution_count": 22,
     "metadata": {},
     "output_type": "execute_result"
    }
   ],
   "source": [
    "df.shape"
   ]
  },
  {
   "cell_type": "markdown",
   "metadata": {},
   "source": [
    "# quantity"
   ]
  },
  {
   "cell_type": "code",
   "execution_count": 23,
   "metadata": {},
   "outputs": [
    {
     "name": "stdout",
     "output_type": "stream",
     "text": [
      "[-3.778591e+06  1.000000e+00  3.000000e+00  7.000000e+00  1.300000e+01\n",
      "  2.300000e+01  4.100000e+01  7.400000e+01  1.490000e+02  4.010000e+02\n",
      "  9.028747e+06]\n"
     ]
    },
    {
     "data": {
      "image/png": "[encoded data removed]",
      "text/plain": [
       "<Figure size 864x720 with 1 Axes>"
      ]
     },
     "metadata": {
      "needs_background": "light"
     },
     "output_type": "display_data"
    }
   ],
   "source": [
    "# create n bins (deciles) and plot a histogram\n",
    "n = 10\n",
    "quantity, edges = pd.qcut(df[\"quantity\"], n, retbins=True)\n",
    "print(edges)\n",
    "plt.close('all')\n",
    "plt.figure(figsize=(12,10))\n",
    "sns.distplot(df[\"quantity\"], bins=n)\n",
    "# store the image\n",
    "plt.savefig(\"../data/image/quantity.png\")"
   ]
  },
  {
   "cell_type": "code",
   "execution_count": 24,
   "metadata": {},
   "outputs": [],
   "source": [
    "# grab the negative values\n",
    "negative_quantity = df[ (df[\"quantity\"] < 0) ]\n",
    "# store the whole table to *.csv\n",
    "negative_quantity.to_csv('../data/dataset/bad_negative_quantity.csv', index=False)"
   ]
  },
  {
   "cell_type": "code",
   "execution_count": 25,
   "metadata": {},
   "outputs": [
    {
     "data": {
      "text/plain": [
       "masked_array(data=[ 1,  5,  1, ..., 14,  6,  1],\n",
       "             mask=False,\n",
       "       fill_value=999999)"
      ]
     },
     "execution_count": 25,
     "metadata": {},
     "output_type": "execute_result"
    }
   ],
   "source": [
    "# winsorize the top and bottom 1%\n",
    "from scipy.stats.mstats import winsorize\n",
    "winsorize(df[\"quantity\"], (0.01, 0.01), inplace=True)"
   ]
  },
  {
   "cell_type": "code",
   "execution_count": 26,
   "metadata": {},
   "outputs": [
    {
     "name": "stdout",
     "output_type": "stream",
     "text": [
      "[-3.000e+00  1.000e+00  3.000e+00  7.000e+00  1.300e+01  2.300e+01\n",
      "  4.100e+01  7.400e+01  1.490e+02  4.010e+02  4.733e+03]\n"
     ]
    },
    {
     "data": {
      "image/png": "[encoded data removed]",
      "text/plain": [
       "<Figure size 864x720 with 1 Axes>"
      ]
     },
     "metadata": {
      "needs_background": "light"
     },
     "output_type": "display_data"
    }
   ],
   "source": [
    "# create n bins (deciles) and plot a histogram\n",
    "plt.close('all')\n",
    "n = 10\n",
    "quantity, edges = pd.qcut(df[\"quantity\"], n, retbins=True, duplicates='drop')\n",
    "print (edges)\n",
    "#quantity.plot(kind='hist', bins=n)\n",
    "plt.figure(figsize=(12,10))\n",
    "sns.distplot(df[\"quantity\"], bins=n)\n",
    "# store the new image\n",
    "plt.savefig(\"../data/image/quantity_winsorized.png\")"
   ]
  },
  {
   "cell_type": "markdown",
   "metadata": {},
   "source": [
    "## amount_reimb"
   ]
  },
  {
   "cell_type": "code",
   "execution_count": 27,
   "metadata": {},
   "outputs": [
    {
     "name": "stdout",
     "output_type": "stream",
     "text": [
      "[-2.07178627e+06  0.00000000e+00  3.00000000e-01  1.60000000e+00\n",
      "  4.75000000e+00  1.31500000e+01  4.07900000e+01  1.92420000e+02\n",
      "  3.87545158e+06]\n"
     ]
    },
    {
     "data": {
      "image/png": "[encoded data removed]",
      "text/plain": [
       "<Figure size 864x720 with 1 Axes>"
      ]
     },
     "metadata": {
      "needs_background": "light"
     },
     "output_type": "display_data"
    }
   ],
   "source": [
    "# create n bins (deciles) and plot a histogram\n",
    "plt.close('all')\n",
    "n = 10\n",
    "amount_reimb, edge = pd.qcut(df[\"amount_reimb\"], n, retbins=True, duplicates='drop')\n",
    "print(edge)\n",
    "#amount_reimb.plot(kind='hist', bins=n)\n",
    "plt.figure(figsize=(12,10))\n",
    "sns.distplot(df[\"amount_reimb\"], bins=n)\n",
    "# store the image\n",
    "plt.savefig(\"../data/image/amount_reimb.png\")"
   ]
  },
  {
   "cell_type": "code",
   "execution_count": 28,
   "metadata": {},
   "outputs": [],
   "source": [
    "# grab the negative values\n",
    "negative_amount_reimb = df[ (df[\"amount_reimb\"] < 0) ]\n",
    "# store the whole table to *.csv\n",
    "negative_quantity.to_csv('../data/dataset/bad_negative_amount_reimb.csv', index=False)"
   ]
  },
  {
   "cell_type": "markdown",
   "metadata": {},
   "source": [
    "## amount_not_reimb"
   ]
  },
  {
   "cell_type": "code",
   "execution_count": 29,
   "metadata": {},
   "outputs": [],
   "source": [
    "# later..."
   ]
  },
  {
   "cell_type": "markdown",
   "metadata": {},
   "source": [
    "## trim_pharma"
   ]
  },
  {
   "cell_type": "code",
   "execution_count": 30,
   "metadata": {},
   "outputs": [
    {
     "data": {
      "text/plain": [
       "(17234103, 34)"
      ]
     },
     "execution_count": 30,
     "metadata": {},
     "output_type": "execute_result"
    }
   ],
   "source": [
    "df.shape"
   ]
  },
  {
   "cell_type": "code",
   "execution_count": 31,
   "metadata": {},
   "outputs": [],
   "source": [
    "# remove the one missing row\n",
    "df.dropna(subset=['trim_pharma'], inplace=True, axis=0)"
   ]
  },
  {
   "cell_type": "code",
   "execution_count": 32,
   "metadata": {},
   "outputs": [
    {
     "data": {
      "text/plain": [
       "(17234103, 34)"
      ]
     },
     "execution_count": 32,
     "metadata": {},
     "output_type": "execute_result"
    }
   ],
   "source": [
    "# expected outcome 1x missing row:\n",
    "df.shape"
   ]
  },
  {
   "cell_type": "code",
   "execution_count": 33,
   "metadata": {},
   "outputs": [
    {
     "data": {
      "text/plain": [
       "20183.0    17234103\n",
       "Name: trim_pharma, dtype: int64"
      ]
     },
     "execution_count": 33,
     "metadata": {},
     "output_type": "execute_result"
    }
   ],
   "source": [
    "df[\"trim_pharma\"].value_counts(dropna=False)"
   ]
  },
  {
   "cell_type": "code",
   "execution_count": 34,
   "metadata": {},
   "outputs": [],
   "source": [
    "# remove the column it has all the same values\n",
    "df.drop(\"trim_pharma\", axis=1, inplace=True)"
   ]
  },
  {
   "cell_type": "code",
   "execution_count": 35,
   "metadata": {},
   "outputs": [
    {
     "data": {
      "text/plain": [
       "(17234103, 33)"
      ]
     },
     "execution_count": 35,
     "metadata": {},
     "output_type": "execute_result"
    }
   ],
   "source": [
    "df.shape"
   ]
  },
  {
   "cell_type": "markdown",
   "metadata": {},
   "source": [
    "## produit_pharma"
   ]
  },
  {
   "cell_type": "code",
   "execution_count": 36,
   "metadata": {},
   "outputs": [],
   "source": [
    "# the variable \"drug_code\" is exactly the same, so we can drop this\n",
    "df.drop(\"produit_pharma\", axis=1, inplace=True)"
   ]
  },
  {
   "cell_type": "code",
   "execution_count": 37,
   "metadata": {},
   "outputs": [
    {
     "data": {
      "text/plain": [
       "(17234103, 32)"
      ]
     },
     "execution_count": 37,
     "metadata": {},
     "output_type": "execute_result"
    }
   ],
   "source": [
    "df.shape"
   ]
  },
  {
   "cell_type": "markdown",
   "metadata": {},
   "source": [
    "## type_drug_code\n",
    "\n",
    "### produit_pharma\n",
    "### drug_name_aggregated\n",
    "### conditionnement\n",
    "### statut_produit_pharma"
   ]
  },
  {
   "cell_type": "code",
   "execution_count": 38,
   "metadata": {},
   "outputs": [],
   "source": [
    "# grab the missing values\n",
    "missing_type_drug_code = df[ (df[\"type_drug_code\"].isnull()) ]\n",
    "# store the whole table to *.csv\n",
    "missing_type_drug_code.to_csv('../data/dataset/missing_type_drug_code.csv', index=False)"
   ]
  },
  {
   "cell_type": "markdown",
   "metadata": {},
   "source": [
    "## mode_administration"
   ]
  },
  {
   "cell_type": "code",
   "execution_count": 39,
   "metadata": {},
   "outputs": [],
   "source": [
    "# grab the missing values\n",
    "missing_mode_administration = df[ (df[\"mode_administration\"].isnull()) ]\n",
    "# store the whole table to *.csv\n",
    "missing_mode_administration.to_csv('../data/dataset/missing_mode_administration.csv', index=False)"
   ]
  },
  {
   "cell_type": "markdown",
   "metadata": {},
   "source": [
    "## DDD"
   ]
  },
  {
   "cell_type": "code",
   "execution_count": 40,
   "metadata": {},
   "outputs": [
    {
     "name": "stdout",
     "output_type": "stream",
     "text": [
      "[0.0000e+00 2.0000e-01 3.3333e-01 5.0000e-01 1.0000e+00 1.1000e+00\n",
      " 4.0000e+00 1.0000e+01 2.5000e+01 5.0000e+03]\n"
     ]
    },
    {
     "data": {
      "image/png": "[encoded data removed]",
      "text/plain": [
       "<Figure size 864x720 with 1 Axes>"
      ]
     },
     "metadata": {
      "needs_background": "light"
     },
     "output_type": "display_data"
    }
   ],
   "source": [
    "# create n bins (deciles) and plot a histogram\n",
    "plt.close('all')\n",
    "n = 10\n",
    "DDD, edges = pd.qcut(df[\"DDD\"], n, retbins=True, duplicates='drop')\n",
    "print (edges)\n",
    "#DDD.plot(kind='hist', bins=n)\n",
    "plt.figure(figsize=(12,10))\n",
    "sns.distplot(df[\"DDD\"], bins=n)\n",
    "# store the image\n",
    "plt.savefig(\"../data/image/DDD.png\")"
   ]
  },
  {
   "cell_type": "markdown",
   "metadata": {},
   "source": [
    "## orphan_flag"
   ]
  },
  {
   "cell_type": "code",
   "execution_count": 41,
   "metadata": {},
   "outputs": [],
   "source": [
    "# replace all missing values into True flag\n",
    "df[\"orphan_flag\"].fillna(False, inplace=True)"
   ]
  },
  {
   "cell_type": "code",
   "execution_count": 42,
   "metadata": {},
   "outputs": [
    {
     "data": {
      "text/plain": [
       "dtype('bool')"
      ]
     },
     "execution_count": 42,
     "metadata": {},
     "output_type": "execute_result"
    }
   ],
   "source": [
    "# dtype must be boolean\n",
    "df[\"orphan_flag\"].dtypes"
   ]
  },
  {
   "cell_type": "code",
   "execution_count": 43,
   "metadata": {},
   "outputs": [],
   "source": [
    "# grab the True values\n",
    "orphan_flag = df[ (df[\"orphan_flag\"] == True) ]\n",
    "# store the whole table to *.csv\n",
    "missing_mode_administration.to_csv('../data/dataset/orphan_flag_True_values.csv', index=False)"
   ]
  },
  {
   "cell_type": "markdown",
   "metadata": {},
   "source": [
    "## chapter_IV_bis_flag"
   ]
  },
  {
   "cell_type": "code",
   "execution_count": 44,
   "metadata": {},
   "outputs": [],
   "source": [
    "# replace all missing values into False flag\n",
    "df[\"chapter_IV_bis_flag\"].fillna(False, inplace=True)"
   ]
  },
  {
   "cell_type": "code",
   "execution_count": 45,
   "metadata": {},
   "outputs": [
    {
     "data": {
      "text/plain": [
       "dtype('bool')"
      ]
     },
     "execution_count": 45,
     "metadata": {},
     "output_type": "execute_result"
    }
   ],
   "source": [
    "# dtype must be boolean\n",
    "df[\"chapter_IV_bis_flag\"].dtypes"
   ]
  },
  {
   "cell_type": "code",
   "execution_count": 46,
   "metadata": {},
   "outputs": [],
   "source": [
    "# grab the True values\n",
    "orphan_flag = df[ (df[\"chapter_IV_bis_flag\"] == True) ]\n",
    "# store the whole table to *.csv\n",
    "missing_mode_administration.to_csv('../data/dataset/chapter_IV_bis_flag_True_values.csv', index=False)"
   ]
  },
  {
   "cell_type": "markdown",
   "metadata": {},
   "source": [
    "## reimbt_cat_fixed_rate_yn"
   ]
  },
  {
   "cell_type": "code",
   "execution_count": 47,
   "metadata": {},
   "outputs": [],
   "source": [
    "# replace all missing values into False flag\n",
    "df[\"reimbt_cat_fixed_rate_yn\"].fillna(False, inplace=True)"
   ]
  },
  {
   "cell_type": "code",
   "execution_count": 48,
   "metadata": {},
   "outputs": [
    {
     "data": {
      "text/plain": [
       "dtype('bool')"
      ]
     },
     "execution_count": 48,
     "metadata": {},
     "output_type": "execute_result"
    }
   ],
   "source": [
    "# dtype must be boolean\n",
    "df[\"reimbt_cat_fixed_rate_yn\"].dtypes"
   ]
  },
  {
   "cell_type": "markdown",
   "metadata": {},
   "source": [
    "## fee_cat"
   ]
  },
  {
   "cell_type": "code",
   "execution_count": 49,
   "metadata": {},
   "outputs": [
    {
     "data": {
      "text/plain": [
       "CategoricalDtype(categories=['A', 'F', 'H', 'N'], ordered=False)"
      ]
     },
     "execution_count": 49,
     "metadata": {},
     "output_type": "execute_result"
    }
   ],
   "source": [
    "df[\"fee_cat\"].dtype"
   ]
  },
  {
   "cell_type": "code",
   "execution_count": 50,
   "metadata": {},
   "outputs": [
    {
     "data": {
      "text/plain": [
       "A    17050146\n",
       "F      148813\n",
       "H       28088\n",
       "N        7056\n",
       "Name: fee_cat, dtype: int64"
      ]
     },
     "execution_count": 50,
     "metadata": {},
     "output_type": "execute_result"
    }
   ],
   "source": [
    "# check if there are missing values ?\n",
    "df[\"fee_cat\"].value_counts(dropna=False)"
   ]
  },
  {
   "cell_type": "code",
   "execution_count": 51,
   "metadata": {},
   "outputs": [],
   "source": [
    "# change category to str then replace missing with the word \"other\", then set back to category\n",
    "#df[\"fee_cat\"] = df[\"fee_cat\"].astype('str')\n",
    "# replace all missing values into False flag\n",
    "#df[\"fee_cat\"].fillna(\"other\", inplace=True)\n",
    "#df[\"fee_cat\"] = df[\"fee_cat\"].astype('category')"
   ]
  },
  {
   "cell_type": "markdown",
   "metadata": {},
   "source": [
    "## Report v5"
   ]
  },
  {
   "cell_type": "code",
   "execution_count": 52,
   "metadata": {},
   "outputs": [],
   "source": [
    "pp.ProfileReport(df).to_file(outputfile=\"../data/report/Report_v5.html\")"
   ]
  },
  {
   "cell_type": "markdown",
   "metadata": {},
   "source": [
    "## Save Dataset"
   ]
  },
  {
   "cell_type": "code",
   "execution_count": 53,
   "metadata": {},
   "outputs": [
    {
     "name": "stdout",
     "output_type": "stream",
     "text": [
      "<class 'pandas.core.frame.DataFrame'>\n",
      "Int64Index: 17234103 entries, 9 to 26002221\n",
      "Data columns (total 32 columns):\n",
      "Province                    object\n",
      "hosp_serv_id                object\n",
      "reimbt_cat_id               object\n",
      "drug_code                   object\n",
      "realization_date            object\n",
      "quantity                    int64\n",
      "amount_reimb                float64\n",
      "amount_not_reimb            float64\n",
      "type_drug_code              category\n",
      "famille_produit_pharma      object\n",
      "drug_name_aggregated        object\n",
      "conditionnement             object\n",
      "mode_administration         object\n",
      "date_debut_rembourse        datetime64[ns]\n",
      "statut_produit_pharma       category\n",
      "code_atc                    object\n",
      "code_atc_5                  object\n",
      "code_atc_4                  object\n",
      "code_atc_3                  object\n",
      "code_atc_1                  object\n",
      "DDD                         float64\n",
      "nombre_prises               float64\n",
      "orphan_flag                 bool\n",
      "chapter_IV_bis_flag         bool\n",
      "link_same_tablet            float64\n",
      "dbegin                      datetime64[ns]\n",
      "dend                        datetime64[ns]\n",
      "reimbt_cat_desc_nl          object\n",
      "reimbt_crit_long            object\n",
      "reimbt_crit_short           object\n",
      "reimbt_cat_fixed_rate_yn    bool\n",
      "fee_cat                     category\n",
      "dtypes: bool(3), category(3), datetime64[ns](3), float64(5), int64(1), object(17)\n",
      "memory usage: 3.6+ GB\n"
     ]
    }
   ],
   "source": [
    "df.info()"
   ]
  },
  {
   "cell_type": "code",
   "execution_count": 55,
   "metadata": {},
   "outputs": [
    {
     "name": "stdout",
     "output_type": "stream",
     "text": [
      "Collecting fastparquet\n",
      "\u001b[?25l  Downloading https://files.pythonhosted.org/packages/73/2e/4407564c9e6a32a6c71be1506d06557c0f909c633fd2f96c97001fce1a8f/fastparquet-0.2.1.tar.gz (147kB)\n",
      "\u001b[K    100% |████████████████████████████████| 153kB 8.5MB/s ta 0:00:01\n",
      "\u001b[?25hRequirement already satisfied: pandas>=0.19 in /home/ubuntu/venv/lib/python3.5/site-packages (from fastparquet) (0.24.0)\n",
      "Collecting numba>=0.28 (from fastparquet)\n",
      "\u001b[?25l  Downloading https://files.pythonhosted.org/packages/36/b2/e5da7c1397614fd6c23179f61481c209670eb0a0b50fc6254480baa20b92/numba-0.42.0-cp35-cp35m-manylinux1_x86_64.whl (3.2MB)\n",
      "\u001b[K    100% |████████████████████████████████| 3.2MB 16.7MB/s eta 0:00:01\n",
      "\u001b[?25hRequirement already satisfied: numpy>=1.11 in /home/ubuntu/venv/lib/python3.5/site-packages (from fastparquet) (1.16.0)\n",
      "Collecting thrift>=0.11.0 (from fastparquet)\n",
      "\u001b[?25l  Downloading https://files.pythonhosted.org/packages/c6/b4/510617906f8e0c5660e7d96fbc5585113f83ad547a3989b80297ac72a74c/thrift-0.11.0.tar.gz (52kB)\n",
      "\u001b[K    100% |████████████████████████████████| 61kB 47.7MB/s ta 0:00:01\n",
      "\u001b[?25hRequirement already satisfied: six in /home/ubuntu/venv/lib/python3.5/site-packages (from fastparquet) (1.12.0)\n",
      "Collecting pytest-runner (from fastparquet)\n",
      "  Downloading https://files.pythonhosted.org/packages/72/a4/d7a5738a3096f22a98bec1609e237b250ebff04e5ea2930305d485337263/pytest_runner-4.2-py2.py3-none-any.whl\n",
      "Requirement already satisfied: python-dateutil>=2.5.0 in /home/ubuntu/venv/lib/python3.5/site-packages (from pandas>=0.19->fastparquet) (2.7.5)\n",
      "Requirement already satisfied: pytz>=2011k in /home/ubuntu/venv/lib/python3.5/site-packages (from pandas>=0.19->fastparquet) (2018.9)\n",
      "Collecting llvmlite>=0.27.0dev0 (from numba>=0.28->fastparquet)\n",
      "\u001b[?25l  Downloading https://files.pythonhosted.org/packages/76/56/6808629ea05c592639abb04b4a8489d90badfd1c2bf2d618b188ba7d4721/llvmlite-0.27.0-cp35-cp35m-manylinux1_x86_64.whl (16.8MB)\n",
      "\u001b[K    100% |████████████████████████████████| 16.8MB 3.7MB/s  eta 0:00:01\n",
      "\u001b[?25hBuilding wheels for collected packages: fastparquet, thrift\n",
      "  Building wheel for fastparquet (setup.py) ... \u001b[?25ldone\n",
      "\u001b[?25h  Stored in directory: /home/ubuntu/.cache/pip/wheels/f9/3e/23/6aab966b822a83be5f85436cc1b38555d98e0b022bd4634c80\n",
      "  Building wheel for thrift (setup.py) ... \u001b[?25ldone\n",
      "\u001b[?25h  Stored in directory: /home/ubuntu/.cache/pip/wheels/be/36/81/0f93ba89a1cb7887c91937948519840a72c0ffdd57cac0ae8f\n",
      "Successfully built fastparquet thrift\n",
      "Installing collected packages: llvmlite, numba, thrift, pytest-runner, fastparquet\n",
      "Successfully installed fastparquet-0.2.1 llvmlite-0.27.0 numba-0.42.0 pytest-runner-4.2 thrift-0.11.0\n",
      "\u001b[33mYou are using pip version 19.0.1, however version 19.0.2 is available.\n",
      "You should consider upgrading via the 'pip install --upgrade pip' command.\u001b[0m\n"
     ]
    }
   ],
   "source": [
    "! pip install fastparquet"
   ]
  },
  {
   "cell_type": "code",
   "execution_count": 57,
   "metadata": {},
   "outputs": [
    {
     "name": "stdout",
     "output_type": "stream",
     "text": [
      "Collecting snappy\n",
      "\u001b[?25l  Downloading https://files.pythonhosted.org/packages/45/7b/14db1341978efc2ae221e00912af13efd0fa3447e4c150986c096f9744ad/snappy-2.6.1.post1-cp35-cp35m-manylinux1_x86_64.whl (22.0MB)\n",
      "\u001b[K    100% |████████████████████████████████| 22.0MB 2.9MB/s  eta 0:00:01\n",
      "\u001b[?25hCollecting future (from snappy)\n",
      "\u001b[?25l  Downloading https://files.pythonhosted.org/packages/90/52/e20466b85000a181e1e144fd8305caf2cf475e2f9674e797b222f8105f5f/future-0.17.1.tar.gz (829kB)\n",
      "\u001b[K    100% |████████████████████████████████| 829kB 37.2MB/s eta 0:00:01\n",
      "\u001b[?25hCollecting snappy-manifolds>=1.0 (from snappy)\n",
      "\u001b[?25l  Downloading https://files.pythonhosted.org/packages/98/ee/f8b61d4c3c3466042ea9f3b6a00214e682fe78c6c0bd8f3804f524214001/snappy_manifolds-1.0-py2.py3-none-any.whl (44.9MB)\n",
      "\u001b[K    100% |████████████████████████████████| 44.9MB 1.5MB/s  eta 0:00:01    53% |█████████████████               | 23.8MB 99.3MB/s eta 0:00:01\n",
      "\u001b[?25hCollecting FXrays>=1.3 (from snappy)\n",
      "\u001b[?25l  Downloading https://files.pythonhosted.org/packages/29/3b/f675024a5894d565751f2e8bb2aea740050ccb648203f861a5276b17f4a9/FXrays-1.3.3-cp35-cp35m-manylinux1_x86_64.whl (82kB)\n",
      "\u001b[K    100% |████████████████████████████████| 92kB 56.6MB/s ta 0:00:01\n",
      "\u001b[?25hCollecting pypng (from snappy)\n",
      "\u001b[?25l  Downloading https://files.pythonhosted.org/packages/0e/39/993a5feea8ed9c2eebd70c6e7c20cb4b0823588f5ab0afab4b0be95ebc23/pypng-0.0.19.tar.gz (293kB)\n",
      "\u001b[K    100% |████████████████████████████████| 296kB 62.3MB/s eta 0:00:01\n",
      "\u001b[?25hRequirement already satisfied: ipython>=0.13 in /home/ubuntu/venv/lib/python3.5/site-packages (from snappy) (7.2.0)\n",
      "Collecting spherogram>=1.8.1 (from snappy)\n",
      "\u001b[?25l  Downloading https://files.pythonhosted.org/packages/93/17/bce9ff552a1d4c427da7eecaf001aacfd78e32d5e35a15d5183aa76b7dc2/spherogram-1.8.1-cp35-cp35m-manylinux1_x86_64.whl (666kB)\n",
      "\u001b[K    100% |████████████████████████████████| 675kB 44.5MB/s eta 0:00:01\n",
      "\u001b[?25hCollecting cypari>=2.2 (from snappy)\n",
      "\u001b[?25l  Downloading https://files.pythonhosted.org/packages/43/c1/a8140403dfd22e54028039ba61cfcc4d7c6e570e887fc3001693df9ffa8f/cypari-2.3.0-cp35-cp35m-manylinux1_x86_64.whl (5.8MB)\n",
      "\u001b[K    100% |████████████████████████████████| 5.8MB 13.2MB/s eta 0:00:01\n",
      "\u001b[?25hCollecting plink>=2.2 (from snappy)\n",
      "\u001b[?25l  Downloading https://files.pythonhosted.org/packages/c0/12/1a32754acead7b6476a7cfb087da90bbf2ae8d8386c8aaae1837aa9e9c09/plink-2.2-py2.py3-none-any.whl (491kB)\n",
      "\u001b[K    100% |████████████████████████████████| 501kB 56.5MB/s eta 0:00:01\n",
      "\u001b[?25hRequirement already satisfied: decorator in /home/ubuntu/venv/lib/python3.5/site-packages (from snappy) (4.3.2)\n",
      "Requirement already satisfied: pygments in /home/ubuntu/venv/lib/python3.5/site-packages (from ipython>=0.13->snappy) (2.3.1)\n",
      "Requirement already satisfied: pickleshare in /home/ubuntu/venv/lib/python3.5/site-packages (from ipython>=0.13->snappy) (0.7.5)\n",
      "Requirement already satisfied: pexpect; sys_platform != \"win32\" in /home/ubuntu/venv/lib/python3.5/site-packages (from ipython>=0.13->snappy) (4.6.0)\n",
      "Requirement already satisfied: prompt-toolkit<2.1.0,>=2.0.0 in /home/ubuntu/venv/lib/python3.5/site-packages (from ipython>=0.13->snappy) (2.0.8)\n",
      "Requirement already satisfied: jedi>=0.10 in /home/ubuntu/venv/lib/python3.5/site-packages (from ipython>=0.13->snappy) (0.13.2)\n",
      "Requirement already satisfied: traitlets>=4.2 in /home/ubuntu/venv/lib/python3.5/site-packages (from ipython>=0.13->snappy) (4.3.2)\n",
      "Requirement already satisfied: setuptools>=18.5 in /home/ubuntu/venv/lib/python3.5/site-packages (from ipython>=0.13->snappy) (40.7.0)\n",
      "Requirement already satisfied: backcall in /home/ubuntu/venv/lib/python3.5/site-packages (from ipython>=0.13->snappy) (0.1.0)\n",
      "Collecting networkx>=1.3 (from spherogram>=1.8.1->snappy)\n",
      "\u001b[?25l  Downloading https://files.pythonhosted.org/packages/f3/f4/7e20ef40b118478191cec0b58c3192f822cace858c19505c7670961b76b2/networkx-2.2.zip (1.7MB)\n",
      "\u001b[K    100% |████████████████████████████████| 1.7MB 36.3MB/s eta 0:00:01\n",
      "\u001b[?25hRequirement already satisfied: six in /home/ubuntu/venv/lib/python3.5/site-packages (from cypari>=2.2->snappy) (1.12.0)\n",
      "Requirement already satisfied: ptyprocess>=0.5 in /home/ubuntu/venv/lib/python3.5/site-packages (from pexpect; sys_platform != \"win32\"->ipython>=0.13->snappy) (0.6.0)\n",
      "Requirement already satisfied: wcwidth in /home/ubuntu/venv/lib/python3.5/site-packages (from prompt-toolkit<2.1.0,>=2.0.0->ipython>=0.13->snappy) (0.1.7)\n",
      "Requirement already satisfied: parso>=0.3.0 in /home/ubuntu/venv/lib/python3.5/site-packages (from jedi>=0.10->ipython>=0.13->snappy) (0.3.2)\n",
      "Requirement already satisfied: ipython-genutils in /home/ubuntu/venv/lib/python3.5/site-packages (from traitlets>=4.2->ipython>=0.13->snappy) (0.2.0)\n",
      "Building wheels for collected packages: future, pypng, networkx\n",
      "  Building wheel for future (setup.py) ... \u001b[?25ldone\n",
      "\u001b[?25h  Stored in directory: /home/ubuntu/.cache/pip/wheels/0c/61/d2/d6b7317325828fbb39ee6ad559dbe4664d0896da4721bf379e\n",
      "  Building wheel for pypng (setup.py) ... \u001b[?25ldone\n",
      "\u001b[?25h  Stored in directory: /home/ubuntu/.cache/pip/wheels/a4/cd/54/c1d0803dfed5adf2bba530eda161581d9096d0154aee082cac\n",
      "  Building wheel for networkx (setup.py) ... \u001b[?25ldone\n",
      "\u001b[?25h  Stored in directory: /home/ubuntu/.cache/pip/wheels/68/f8/29/b53346a112a07d30a5a84d53f19aeadaa1a474897c0423af91\n",
      "Successfully built future pypng networkx\n",
      "Installing collected packages: future, snappy-manifolds, FXrays, pypng, networkx, spherogram, cypari, plink, snappy\n",
      "Successfully installed FXrays-1.3.3 cypari-2.3.0 future-0.17.1 networkx-2.2 plink-2.2 pypng-0.0.19 snappy-2.6.1 snappy-manifolds-1.0 spherogram-1.8.1\n",
      "\u001b[33mYou are using pip version 19.0.1, however version 19.0.2 is available.\n",
      "You should consider upgrading via the 'pip install --upgrade pip' command.\u001b[0m\n"
     ]
    }
   ],
   "source": [
    "! pip install snappy"
   ]
  },
  {
   "cell_type": "code",
   "execution_count": 60,
   "metadata": {},
   "outputs": [],
   "source": [
    "# store the dataset in compressed and optimal way for future reference (4.7GB = 147MB file)\n",
    "df.to_parquet(\"../data/dataset/Dataset_v5.parquet\", engine='fastparquet', index=False, compression='GZIP')"
   ]
  },
  {
   "cell_type": "code",
   "execution_count": null,
   "metadata": {},
   "outputs": [],
   "source": [
    "#df.to_csv(\"../data/dataset/Dataset_v5.csv\", index=False)"
   ]
  },
  {
   "cell_type": "code",
   "execution_count": null,
   "metadata": {},
   "outputs": [],
   "source": [
    "# show ALL missing values\n",
    "plt.close(\"all\")\n",
    "plt.figure(figsize=(14,10))\n",
    "sns.heatmap(df.sample(260000).isnull(), cmap='viridis', cbar=False)\n",
    "plt.savefig(\"../data/image/missing_all_v5.png\")"
   ]
  },
  {
   "cell_type": "code",
   "execution_count": null,
   "metadata": {},
   "outputs": [],
   "source": []
  }
 ],
 "metadata": {
  "kernelspec": {
   "display_name": "Python 3",
   "language": "python",
   "name": "python3"
  },
  "language_info": {
   "codemirror_mode": {
    "name": "ipython",
    "version": 3
   },
   "file_extension": ".py",
   "mimetype": "text/x-python",
   "name": "python",
   "nbconvert_exporter": "python",
   "pygments_lexer": "ipython3",
   "version": "3.5.2"
  }
 },
 "nbformat": 4,
 "nbformat_minor": 2
}
