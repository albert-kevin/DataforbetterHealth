{
 "cells": [
  {
   "cell_type": "code",
   "execution_count": 1,
   "metadata": {},
   "outputs": [
    {
     "name": "stdout",
     "output_type": "stream",
     "text": [
      "Collecting xlrd\n",
      "\u001b[?25l  Downloading https://files.pythonhosted.org/packages/b0/16/63576a1a001752e34bf8ea62e367997530dc553b689356b9879339cf45a4/xlrd-1.2.0-py2.py3-none-any.whl (103kB)\n",
      "\u001b[K    100% |████████████████████████████████| 112kB 3.1MB/s ta 0:00:01\n",
      "\u001b[?25hInstalling collected packages: xlrd\n",
      "Successfully installed xlrd-1.2.0\n"
     ]
    }
   ],
   "source": [
    "! pip install xlrd"
   ]
  },
  {
   "cell_type": "code",
   "execution_count": 1,
   "metadata": {},
   "outputs": [],
   "source": [
    "import pandas_profiling as pp\n",
    "import pandas as pd\n",
    "import numpy as np\n",
    "\n",
    "from matplotlib import pyplot as plt\n",
    "%matplotlib inline"
   ]
  },
  {
   "cell_type": "code",
   "execution_count": 3,
   "metadata": {
    "scrolled": true
   },
   "outputs": [
    {
     "name": "stdout",
     "output_type": "stream",
     "text": [
      "total 1976272\r\n",
      "-rw-rw-r-- 1 ubuntu ubuntu     210907 Jan 25 18:30 1916-2019-01-25-15-00-34.zip\r\n",
      "-rw-rw-r-- 1 ubuntu ubuntu    1641746 Jan 25 17:33 atc-icd-mialist.csv\r\n",
      "-rw-rw-r-- 1 ubuntu ubuntu    2740224 Jan 25 17:23 BE_COD_2015_FR_v1.xls\r\n",
      "-rw-rw-r-- 1 ubuntu ubuntu    2743296 Jan 25 17:23 BE_COD_2015_NL_v2.xls\r\n",
      "-rw-rw-r-- 1 ubuntu ubuntu      13946 Jan 25 17:22 Care place service.xlsx\r\n",
      "-rw-rw-r-- 1 ubuntu ubuntu    1585669 Jan 25 17:22 csv4Emd_Fr_1901A.zip\r\n",
      "-rw-rw-r-- 1 ubuntu ubuntu    1552530 Jan 25 17:22 csv4Emd_Nl_1901A.zip\r\n",
      "-rw-rw-r-- 1 ubuntu ubuntu     782180 Jan 25 17:22 csv_ATCDPP_1808A.zip\r\n",
      "-rw-rw-r-- 1 ubuntu ubuntu     641368 Jan 25 17:22 csv_VOSDCI_1901A.zip\r\n",
      "-rw-rw-r-- 1 ubuntu ubuntu    5330821 Jan 25 17:22 d20061027316.pdf\r\n",
      "-rw-rw-r-- 1 ubuntu ubuntu       4243 Jan 25 18:31 dataforbetterhealth-master.zip\r\n",
      "-rw-rw-r-- 1 ubuntu ubuntu     152496 Jan 25 17:21 db4emd-docEN.pdf\r\n",
      "-rw-r--r-- 1 ubuntu ubuntu 1812381904 Jan 28 11:38 DB_V2.TXT\r\n",
      "-rw-rw-r-- 1 ubuntu ubuntu     357479 Jan 25 17:33 extended_tabel3.csv\r\n",
      "-rw-rw-r-- 1 ubuntu ubuntu    2260524 Jan 25 18:31 GGR_NL_2018.pdf\r\n",
      "-rw-rw-r-- 1 ubuntu ubuntu     265193 Jan 25 17:22 MvtProvFR.xlsx\r\n",
      "-rw-rw-r-- 1 ubuntu ubuntu     264961 Jan 25 17:22 MvtProvNL.xlsx\r\n",
      "-rw-rw-r-- 1 ubuntu ubuntu  105646080 Jan 28 11:42 original.tar\r\n",
      "-rw-rw-r-- 1 ubuntu ubuntu    1527893 Jan 25 17:33 pdfs_tabel3.csv\r\n",
      "-rw-rw-r-- 1 ubuntu ubuntu    4611002 Jan 25 17:40 PHARMA_REF.xlsx\r\n",
      "-rw-rw-r-- 1 ubuntu ubuntu      85921 Jan 25 17:22 reimb category.xlsx\r\n",
      "drwxrwxr-x 3 ubuntu ubuntu       4096 Jan 25 16:15 resources\r\n",
      "-rw-rw-r-- 1 ubuntu ubuntu   47349760 Jan 25 17:34 riziv-pdfs.tar\r\n",
      "-rw-rw-r-- 1 ubuntu ubuntu    1908793 Jan 25 21:03 riziv-stats.csv\r\n",
      "-rw-rw-r-- 1 ubuntu ubuntu   25013517 Jan 25 18:34 SAM_CIVICS_FULL_527_2019-01-15.zip\r\n",
      "-rw-rw-r-- 1 ubuntu ubuntu    1723176 Jan 25 17:21 sql4Emd_Fr_1901A.zip\r\n",
      "-rw-rw-r-- 1 ubuntu ubuntu    1687352 Jan 25 17:21 sql4Emd_Nl_1901A.zip\r\n",
      "-rw-rw-r-- 1 ubuntu ubuntu     855188 Jan 25 17:21 sql_ATCDPP_1808A.zip\r\n",
      "-rw-rw-r-- 1 ubuntu ubuntu     302296 Jan 25 17:21 VOSDCI_nl.pdf\r\n"
     ]
    }
   ],
   "source": [
    "! ls -l ../data/original"
   ]
  },
  {
   "cell_type": "code",
   "execution_count": 4,
   "metadata": {},
   "outputs": [
    {
     "name": "stdout",
     "output_type": "stream",
     "text": [
      "account_yy_ss\tProvince\tType\thosp_serv_id\treimbt_cat_id\tdrug_code\trealization_date\tquantity\tamount_reimb\tamount_not_reimb\tYear\r",
      "\r\n",
      "20026\tAnvers\tG�n�ral\t990\t698014\t0000000\t20014\t1\t218.1\t0\t2002\r",
      "\r\n",
      "20026\tAnvers\tG�n�ral\t990\t698051\t0000000\t20014\t3\t5816.01\t0\t2002\r",
      "\r\n",
      "20027\tAnvers\tG�n�ral\t990\t698051\t0000000\t20014\t1\t51.83\t0\t2002\r",
      "\r\n",
      "20026\tAnvers\tG�n�ral\t990\t698051\t0000000\t20021\t2\t535.21\t0\t2002\r",
      "\r\n",
      "20027\tAnvers\tG�n�ral\t990\t698051\t0000000\t20021\t1\t267.61\t0\t2002\r",
      "\r\n",
      "20026\tAnvers\tG�n�ral\t720\t698051\t0000000\t20022\t1\t5184.17\t0\t2002\r",
      "\r\n",
      "20027\tAnvers\tG�n�ral\t720\t698051\t0000000\t20022\t1\t5184.17\t0\t2002\r",
      "\r\n",
      "20027\tAnvers\tG�n�ral\t990\t698051\t0000000\t20022\t7\t6789.83\t0\t2002\r",
      "\r\n",
      "20027\tAnvers\tG�n�ral\t990\t698051\t0000000\t20023\t4\t1070.44\t0\t2002\r",
      "\r\n"
     ]
    }
   ],
   "source": [
    "! head ../data/original/DB_V2.TXT"
   ]
  },
  {
   "cell_type": "markdown",
   "metadata": {},
   "source": [
    "## loading the data"
   ]
  },
  {
   "cell_type": "code",
   "execution_count": 2,
   "metadata": {},
   "outputs": [],
   "source": [
    "# RIZIV dataset 1.8GB\n",
    "df = pd.read_csv(\"../data/original/DB_V2.TXT\", sep='\\t', encoding='latin-1', low_memory=False)"
   ]
  },
  {
   "cell_type": "code",
   "execution_count": 6,
   "metadata": {},
   "outputs": [
    {
     "name": "stderr",
     "output_type": "stream",
     "text": [
      "/home/ubuntu/venv/lib/python3.5/site-packages/matplotlib/font_manager.py:1241: UserWarning: findfont: Font family ['sans-serif'] not found. Falling back to DejaVu Sans.\n",
      "  (prop.get_family(), self.defaultFamily[fontext]))\n",
      "/home/ubuntu/venv/lib/python3.5/site-packages/matplotlib/font_manager.py:1241: UserWarning: findfont: Font family ['sans-serif'] not found. Falling back to DejaVu Sans.\n",
      "  (prop.get_family(), self.defaultFamily[fontext]))\n",
      "/home/ubuntu/venv/lib/python3.5/site-packages/matplotlib/font_manager.py:1241: UserWarning: findfont: Font family ['sans-serif'] not found. Falling back to DejaVu Sans.\n",
      "  (prop.get_family(), self.defaultFamily[fontext]))\n",
      "/home/ubuntu/venv/lib/python3.5/site-packages/matplotlib/font_manager.py:1241: UserWarning: findfont: Font family ['sans-serif'] not found. Falling back to DejaVu Sans.\n",
      "  (prop.get_family(), self.defaultFamily[fontext]))\n",
      "/home/ubuntu/venv/lib/python3.5/site-packages/matplotlib/font_manager.py:1241: UserWarning: findfont: Font family ['sans-serif'] not found. Falling back to DejaVu Sans.\n",
      "  (prop.get_family(), self.defaultFamily[fontext]))\n",
      "/home/ubuntu/venv/lib/python3.5/site-packages/matplotlib/font_manager.py:1241: UserWarning: findfont: Font family ['sans-serif'] not found. Falling back to DejaVu Sans.\n",
      "  (prop.get_family(), self.defaultFamily[fontext]))\n",
      "/home/ubuntu/venv/lib/python3.5/site-packages/matplotlib/font_manager.py:1241: UserWarning: findfont: Font family ['sans-serif'] not found. Falling back to DejaVu Sans.\n",
      "  (prop.get_family(), self.defaultFamily[fontext]))\n",
      "/home/ubuntu/venv/lib/python3.5/site-packages/matplotlib/font_manager.py:1241: UserWarning: findfont: Font family ['sans-serif'] not found. Falling back to DejaVu Sans.\n",
      "  (prop.get_family(), self.defaultFamily[fontext]))\n"
     ]
    }
   ],
   "source": [
    "pp.ProfileReport(df).to_file(outputfile=\"../data/report/DB_V2_initial_dataset_report.html\")"
   ]
  },
  {
   "cell_type": "code",
   "execution_count": 3,
   "metadata": {},
   "outputs": [],
   "source": [
    "pharma_ref = pd.read_excel(\"../data/original/PHARMA_REF.xlsx\")"
   ]
  },
  {
   "cell_type": "code",
   "execution_count": 13,
   "metadata": {},
   "outputs": [
    {
     "name": "stderr",
     "output_type": "stream",
     "text": [
      "/home/ubuntu/venv/lib/python3.5/site-packages/matplotlib/font_manager.py:1241: UserWarning: findfont: Font family ['sans-serif'] not found. Falling back to DejaVu Sans.\n",
      "  (prop.get_family(), self.defaultFamily[fontext]))\n",
      "/home/ubuntu/venv/lib/python3.5/site-packages/matplotlib/font_manager.py:1241: UserWarning: findfont: Font family ['sans-serif'] not found. Falling back to DejaVu Sans.\n",
      "  (prop.get_family(), self.defaultFamily[fontext]))\n",
      "/home/ubuntu/venv/lib/python3.5/site-packages/matplotlib/font_manager.py:1241: UserWarning: findfont: Font family ['sans-serif'] not found. Falling back to DejaVu Sans.\n",
      "  (prop.get_family(), self.defaultFamily[fontext]))\n",
      "/home/ubuntu/venv/lib/python3.5/site-packages/matplotlib/font_manager.py:1241: UserWarning: findfont: Font family ['sans-serif'] not found. Falling back to DejaVu Sans.\n",
      "  (prop.get_family(), self.defaultFamily[fontext]))\n",
      "/home/ubuntu/venv/lib/python3.5/site-packages/matplotlib/font_manager.py:1241: UserWarning: findfont: Font family ['sans-serif'] not found. Falling back to DejaVu Sans.\n",
      "  (prop.get_family(), self.defaultFamily[fontext]))\n",
      "/home/ubuntu/venv/lib/python3.5/site-packages/matplotlib/font_manager.py:1241: UserWarning: findfont: Font family ['sans-serif'] not found. Falling back to DejaVu Sans.\n",
      "  (prop.get_family(), self.defaultFamily[fontext]))\n"
     ]
    }
   ],
   "source": [
    "pp.ProfileReport(pharma_ref).to_file(outputfile=\"../data/report/PHARMA_REF_xlsx_initial_dataset_report.html\")"
   ]
  },
  {
   "cell_type": "code",
   "execution_count": 4,
   "metadata": {},
   "outputs": [],
   "source": [
    "reimburse_cat = pd.read_excel(\"../data/original/reimb category.xlsx\")"
   ]
  },
  {
   "cell_type": "code",
   "execution_count": 15,
   "metadata": {},
   "outputs": [
    {
     "name": "stderr",
     "output_type": "stream",
     "text": [
      "/home/ubuntu/venv/lib/python3.5/site-packages/matplotlib/font_manager.py:1241: UserWarning: findfont: Font family ['sans-serif'] not found. Falling back to DejaVu Sans.\n",
      "  (prop.get_family(), self.defaultFamily[fontext]))\n",
      "/home/ubuntu/venv/lib/python3.5/site-packages/matplotlib/font_manager.py:1241: UserWarning: findfont: Font family ['sans-serif'] not found. Falling back to DejaVu Sans.\n",
      "  (prop.get_family(), self.defaultFamily[fontext]))\n",
      "/home/ubuntu/venv/lib/python3.5/site-packages/matplotlib/font_manager.py:1241: UserWarning: findfont: Font family ['sans-serif'] not found. Falling back to DejaVu Sans.\n",
      "  (prop.get_family(), self.defaultFamily[fontext]))\n",
      "/home/ubuntu/venv/lib/python3.5/site-packages/matplotlib/font_manager.py:1241: UserWarning: findfont: Font family ['sans-serif'] not found. Falling back to DejaVu Sans.\n",
      "  (prop.get_family(), self.defaultFamily[fontext]))\n",
      "/home/ubuntu/venv/lib/python3.5/site-packages/matplotlib/font_manager.py:1241: UserWarning: findfont: Font family ['sans-serif'] not found. Falling back to DejaVu Sans.\n",
      "  (prop.get_family(), self.defaultFamily[fontext]))\n",
      "/home/ubuntu/venv/lib/python3.5/site-packages/matplotlib/font_manager.py:1241: UserWarning: findfont: Font family ['sans-serif'] not found. Falling back to DejaVu Sans.\n",
      "  (prop.get_family(), self.defaultFamily[fontext]))\n"
     ]
    }
   ],
   "source": [
    "pp.ProfileReport(reimburse_cat).to_file(outputfile=\"../data/report/reimb_category_xlsx_initial_dataset_report.html\")"
   ]
  },
  {
   "cell_type": "markdown",
   "metadata": {},
   "source": [
    "## df datacleaning"
   ]
  },
  {
   "cell_type": "code",
   "execution_count": 5,
   "metadata": {},
   "outputs": [],
   "source": [
    "df.drop('Year', axis=1, inplace=True)\n",
    "df.drop('account_yy_ss', axis=1, inplace=True)"
   ]
  },
  {
   "cell_type": "markdown",
   "metadata": {},
   "source": [
    "## pharma_ref datacleaning"
   ]
  },
  {
   "cell_type": "code",
   "execution_count": 6,
   "metadata": {},
   "outputs": [],
   "source": [
    "pharma_ref[\"drug_code\"] = pharma_ref[\"drug_code\"].astype(\"category\")"
   ]
  },
  {
   "cell_type": "markdown",
   "metadata": {},
   "source": [
    "## reimburse_cat datacleaning"
   ]
  },
  {
   "cell_type": "code",
   "execution_count": 7,
   "metadata": {},
   "outputs": [],
   "source": [
    "reimburse_cat_dict = {'nd':'other', 'A':'A', 'B':'B', 'Cat 1':'other', 'Cat 2 (A)':'other', 'Cat 3':'other', 'Cat 4':'other',\n",
    "       'Cat 5 (D)':'other', 'C':'C', 'Cs':'C', 'Cx':'C', 'Cxg':'C', 'D':'D', 'Csg':'C', 'Ag':'A', 'Bg':'B', 'Cg':'C',\n",
    "       'Forf Ant':'other', 'Nutri Par':'other', 'Br':'other', 'Ar':'other', 'Cr':'C', 'Csr':'C', 'Cxr':'C',\n",
    "       'Forf Adm':'other', 'Forf BH':'forf', 'V08':'other', 'Fa':'other', 'Fb':'other', 'Forf 1-3':'other',\n",
    "       'Forf 4-':'other', 'Ri-D11':'other', 'Ri-T1':'other', 'Ri-T2':'other', 'Ri-T3':'other', 'Ri-D5':'other', 'Ri-D7':'other',\n",
    "       'Ri-D2':'other', 'Ri-D9':'other', 'Ri-D6':'other', 'Ri-D10':'other', 'Ri-D3':'other', 'Ri-D1':'other', 'Ri-D8':'other',\n",
    "       'Ri-T4':'other', 'Ri-D4':'other', 'Forf PET':'other', '90-A':'A', '90-B':'B', '90-Fa':'other', '90-Fb':'other',\n",
    "       'Ri-T5':'other', 'Ri-T6':'other', 'Ri-T7':'other', 'Ri-T8':'other', '90-C':'C', '90-Cs':'C', '90-Cx':'C'}"
   ]
  },
  {
   "cell_type": "code",
   "execution_count": 8,
   "metadata": {},
   "outputs": [],
   "source": [
    "reimburse_cat[\"reimbt_crit_long\"] = reimburse_cat[\"reimbt_crit_long\"].map(reimburse_cat_dict)"
   ]
  },
  {
   "cell_type": "code",
   "execution_count": 9,
   "metadata": {},
   "outputs": [],
   "source": [
    "# only keep hospitalised data, ignore ambulant data\n",
    "reimburse_cat_hosp = reimburse_cat[ (reimburse_cat[\"patient_cat\"] == 'HOSP') ]"
   ]
  },
  {
   "cell_type": "code",
   "execution_count": 10,
   "metadata": {},
   "outputs": [
    {
     "name": "stderr",
     "output_type": "stream",
     "text": [
      "/home/ubuntu/venv/lib/python3.5/site-packages/pandas/core/frame.py:3930: SettingWithCopyWarning: \n",
      "A value is trying to be set on a copy of a slice from a DataFrame\n",
      "\n",
      "See the caveats in the documentation: http://pandas.pydata.org/pandas-docs/stable/indexing.html#indexing-view-versus-copy\n",
      "  errors=errors)\n"
     ]
    }
   ],
   "source": [
    "# max_pct is highly correlated with min_pct (ρ = 0.98479)\n",
    "reimburse_cat_hosp.drop('min_pct', axis=1, inplace=True)"
   ]
  },
  {
   "cell_type": "code",
   "execution_count": 11,
   "metadata": {},
   "outputs": [],
   "source": [
    "# patient_cat has constant value HOSP\n",
    "reimburse_cat_hosp.drop('patient_cat', axis=1, inplace=True)"
   ]
  },
  {
   "cell_type": "markdown",
   "metadata": {},
   "source": [
    "## MERGE inner joins"
   ]
  },
  {
   "cell_type": "code",
   "execution_count": 12,
   "metadata": {},
   "outputs": [],
   "source": [
    "df = df.merge(pharma_ref, how=\"left\", left_on=\"drug_code\", right_on=\"drug_code\").reset_index()"
   ]
  },
  {
   "cell_type": "code",
   "execution_count": 13,
   "metadata": {},
   "outputs": [],
   "source": [
    "df = df.merge(reimburse_cat_hosp, how=\"left\", left_on=\"reimbt_cat_id\", right_on=\"reimbt_cat_id\").reset_index()"
   ]
  },
  {
   "cell_type": "markdown",
   "metadata": {},
   "source": [
    "## df datacleaning phase II"
   ]
  },
  {
   "cell_type": "code",
   "execution_count": 14,
   "metadata": {},
   "outputs": [],
   "source": [
    "df.drop(\"level_0\", axis=1, inplace=True)\n",
    "df.drop(\"index\", axis=1, inplace=True)"
   ]
  },
  {
   "cell_type": "code",
   "execution_count": 15,
   "metadata": {},
   "outputs": [],
   "source": [
    "# set this columns as datetime dtype\n",
    "df['date_debut_rembourse'] = pd.to_datetime(df['date_debut_rembourse'], format='%Y-%m-%d')"
   ]
  },
  {
   "cell_type": "code",
   "execution_count": 16,
   "metadata": {},
   "outputs": [
    {
     "name": "stdout",
     "output_type": "stream",
     "text": [
      "<class 'pandas.core.frame.DataFrame'>\n",
      "RangeIndex: 26009309 entries, 0 to 26009308\n",
      "Data columns (total 46 columns):\n",
      "Province                    object\n",
      "Type                        object\n",
      "hosp_serv_id                object\n",
      "reimbt_cat_id               int64\n",
      "drug_code                   object\n",
      "realization_date            int64\n",
      "quantity                    int64\n",
      "amount_reimb                float64\n",
      "amount_not_reimb            float64\n",
      "trim_pharma                 float64\n",
      "produit_pharma              float64\n",
      "type_drug_code              object\n",
      "famille_produit_pharma      object\n",
      "drug_name_aggregated        object\n",
      "nom_produit_pharma          object\n",
      "conditionnement             object\n",
      "mode_administration         object\n",
      "nom_firme_pharma            object\n",
      "date_debut_rembourse        datetime64[ns]\n",
      "statut_produit_pharma       object\n",
      "code_atc                    object\n",
      "code_atc_5                  object\n",
      "code_atc_4                  object\n",
      "code_atc_3                  object\n",
      "code_atc_1                  object\n",
      "DDD                         float64\n",
      "nombre_prises               float64\n",
      "orphan_flag                 float64\n",
      "chapter_IV_bis_flag         float64\n",
      "link_same_tablet            float64\n",
      "dbegin                      datetime64[ns]\n",
      "dend                        datetime64[ns]\n",
      "reimbt_cat_desc_fr          object\n",
      "reimbt_cat_desc_nl          object\n",
      "reimbt_crit_long            object\n",
      "reimbt_crit_short           object\n",
      "reimbt_cat_acute_yn         float64\n",
      "reimbt_cat_chron_yn         float64\n",
      "reimbt_cat_psy_yn           float64\n",
      "max_pct                     float64\n",
      "reimbt_cat_fixed_rate_yn    float64\n",
      "relative_care_yn            float64\n",
      "ami_ziv_amount_null_yn      float64\n",
      "not_reimbursed_null_yn      float64\n",
      "fee_cat                     object\n",
      "reimbt_cat_id_pk            float64\n",
      "dtypes: datetime64[ns](3), float64(18), int64(3), object(22)\n",
      "memory usage: 8.9+ GB\n"
     ]
    }
   ],
   "source": [
    "df.info()"
   ]
  },
  {
   "cell_type": "code",
   "execution_count": 17,
   "metadata": {},
   "outputs": [],
   "source": [
    "df = df.astype({'Type':'category', 'type_drug_code':'category', 'statut_produit_pharma':'category',\n",
    "               'orphan_flag':'bool', 'chapter_IV_bis_flag':'bool', 'reimbt_cat_acute_yn':'bool',\n",
    "               'reimbt_cat_chron_yn':'bool', 'reimbt_cat_psy_yn':'bool', 'reimbt_cat_fixed_rate_yn':'bool',\n",
    "               'relative_care_yn':'bool', 'ami_ziv_amount_null_yn':'bool', 'not_reimbursed_null_yn':'bool', 'fee_cat':'category'})"
   ]
  },
  {
   "cell_type": "code",
   "execution_count": 18,
   "metadata": {},
   "outputs": [
    {
     "name": "stdout",
     "output_type": "stream",
     "text": [
      "<class 'pandas.core.frame.DataFrame'>\n",
      "RangeIndex: 26009309 entries, 0 to 26009308\n",
      "Data columns (total 46 columns):\n",
      "Province                    object\n",
      "Type                        category\n",
      "hosp_serv_id                object\n",
      "reimbt_cat_id               int64\n",
      "drug_code                   object\n",
      "realization_date            int64\n",
      "quantity                    int64\n",
      "amount_reimb                float64\n",
      "amount_not_reimb            float64\n",
      "trim_pharma                 float64\n",
      "produit_pharma              float64\n",
      "type_drug_code              category\n",
      "famille_produit_pharma      object\n",
      "drug_name_aggregated        object\n",
      "nom_produit_pharma          object\n",
      "conditionnement             object\n",
      "mode_administration         object\n",
      "nom_firme_pharma            object\n",
      "date_debut_rembourse        datetime64[ns]\n",
      "statut_produit_pharma       category\n",
      "code_atc                    object\n",
      "code_atc_5                  object\n",
      "code_atc_4                  object\n",
      "code_atc_3                  object\n",
      "code_atc_1                  object\n",
      "DDD                         float64\n",
      "nombre_prises               float64\n",
      "orphan_flag                 bool\n",
      "chapter_IV_bis_flag         bool\n",
      "link_same_tablet            float64\n",
      "dbegin                      datetime64[ns]\n",
      "dend                        datetime64[ns]\n",
      "reimbt_cat_desc_fr          object\n",
      "reimbt_cat_desc_nl          object\n",
      "reimbt_crit_long            object\n",
      "reimbt_crit_short           object\n",
      "reimbt_cat_acute_yn         bool\n",
      "reimbt_cat_chron_yn         bool\n",
      "reimbt_cat_psy_yn           bool\n",
      "max_pct                     float64\n",
      "reimbt_cat_fixed_rate_yn    bool\n",
      "relative_care_yn            bool\n",
      "ami_ziv_amount_null_yn      bool\n",
      "not_reimbursed_null_yn      bool\n",
      "fee_cat                     category\n",
      "reimbt_cat_id_pk            float64\n",
      "dtypes: bool(9), category(4), datetime64[ns](3), float64(9), int64(3), object(18)\n",
      "memory usage: 6.7+ GB\n"
     ]
    }
   ],
   "source": [
    "df.info()"
   ]
  },
  {
   "cell_type": "code",
   "execution_count": 19,
   "metadata": {},
   "outputs": [],
   "source": [
    "df[\"realization_date\"] = df[\"realization_date\"].astype('str')"
   ]
  },
  {
   "cell_type": "markdown",
   "metadata": {},
   "source": [
    "## Our domain expert suggest to only keep these columns:"
   ]
  },
  {
   "cell_type": "code",
   "execution_count": 20,
   "metadata": {},
   "outputs": [],
   "source": [
    "# keep these columns:\n",
    "df = df[['Province', 'Type', 'hosp_serv_id', 'reimbt_cat_id', 'drug_code',\n",
    "       'realization_date', 'quantity', 'amount_reimb', 'amount_not_reimb',\n",
    "       'trim_pharma', 'produit_pharma', 'type_drug_code',\n",
    "       'famille_produit_pharma', 'drug_name_aggregated',\n",
    "       'conditionnement', 'mode_administration',\n",
    "       'date_debut_rembourse', 'statut_produit_pharma', 'code_atc',\n",
    "       'code_atc_5', 'code_atc_4', 'code_atc_3', 'code_atc_1', 'DDD',\n",
    "       'nombre_prises', 'orphan_flag', 'chapter_IV_bis_flag',\n",
    "       'link_same_tablet', 'dbegin', 'dend', 'reimbt_cat_desc_fr',\n",
    "       'reimbt_cat_desc_nl', 'reimbt_crit_long', 'reimbt_crit_short',\n",
    "       'reimbt_cat_fixed_rate_yn', 'fee_cat']]"
   ]
  },
  {
   "cell_type": "markdown",
   "metadata": {},
   "source": [
    "## then generate a new final report"
   ]
  },
  {
   "cell_type": "code",
   "execution_count": 21,
   "metadata": {},
   "outputs": [
    {
     "name": "stderr",
     "output_type": "stream",
     "text": [
      "/home/ubuntu/venv/lib/python3.5/site-packages/matplotlib/font_manager.py:1241: UserWarning: findfont: Font family ['sans-serif'] not found. Falling back to DejaVu Sans.\n",
      "  (prop.get_family(), self.defaultFamily[fontext]))\n",
      "/home/ubuntu/venv/lib/python3.5/site-packages/matplotlib/font_manager.py:1241: UserWarning: findfont: Font family ['sans-serif'] not found. Falling back to DejaVu Sans.\n",
      "  (prop.get_family(), self.defaultFamily[fontext]))\n",
      "/home/ubuntu/venv/lib/python3.5/site-packages/matplotlib/font_manager.py:1241: UserWarning: findfont: Font family ['sans-serif'] not found. Falling back to DejaVu Sans.\n",
      "  (prop.get_family(), self.defaultFamily[fontext]))\n",
      "/home/ubuntu/venv/lib/python3.5/site-packages/matplotlib/font_manager.py:1241: UserWarning: findfont: Font family ['sans-serif'] not found. Falling back to DejaVu Sans.\n",
      "  (prop.get_family(), self.defaultFamily[fontext]))\n"
     ]
    }
   ],
   "source": [
    "pp.ProfileReport(df).to_file(outputfile=\"../data/report/DB_V4_merged_pharmaref_and_reimbcategory_report.html\")"
   ]
  },
  {
   "cell_type": "markdown",
   "metadata": {},
   "source": [
    "## output the final dataset to *.csv format"
   ]
  },
  {
   "cell_type": "code",
   "execution_count": null,
   "metadata": {},
   "outputs": [],
   "source": [
    "df.to_csv(\"../data/dataset/DB_V4.csv\", index=False)"
   ]
  },
  {
   "cell_type": "code",
   "execution_count": null,
   "metadata": {},
   "outputs": [],
   "source": []
  },
  {
   "cell_type": "code",
   "execution_count": null,
   "metadata": {},
   "outputs": [],
   "source": []
  },
  {
   "cell_type": "markdown",
   "metadata": {},
   "source": [
    "## Select 2016"
   ]
  },
  {
   "cell_type": "code",
   "execution_count": 18,
   "metadata": {},
   "outputs": [],
   "source": [
    "df = df[ (df[\"realization_date\"].str[:4] == '2016')]"
   ]
  },
  {
   "cell_type": "code",
   "execution_count": 18,
   "metadata": {},
   "outputs": [
    {
     "name": "stdout",
     "output_type": "stream",
     "text": [
      "<class 'pandas.core.frame.DataFrame'>\n",
      "Int64Index: 1542611 entries, 22833075 to 26009296\n",
      "Data columns (total 46 columns):\n",
      "Province                    1542611 non-null object\n",
      "Type                        1542611 non-null object\n",
      "hosp_serv_id                1542611 non-null object\n",
      "reimbt_cat_id               1542611 non-null int64\n",
      "drug_code                   1542611 non-null object\n",
      "realization_date            1542611 non-null object\n",
      "quantity                    1542611 non-null int64\n",
      "amount_reimb                1542611 non-null float64\n",
      "amount_not_reimb            1542611 non-null float64\n",
      "trim_pharma                 1542611 non-null float64\n",
      "produit_pharma              1542611 non-null float64\n",
      "type_drug_code              1538323 non-null object\n",
      "famille_produit_pharma      1538323 non-null object\n",
      "drug_name_aggregated        1538323 non-null object\n",
      "nom_produit_pharma          1538323 non-null object\n",
      "conditionnement             1509986 non-null object\n",
      "mode_administration         1510761 non-null object\n",
      "nom_firme_pharma            1382056 non-null object\n",
      "date_debut_rembourse        1542611 non-null datetime64[ns]\n",
      "statut_produit_pharma       1459958 non-null object\n",
      "code_atc                    1542611 non-null object\n",
      "code_atc_5                  1542611 non-null object\n",
      "code_atc_4                  1542611 non-null object\n",
      "code_atc_3                  1542611 non-null object\n",
      "code_atc_1                  1542611 non-null object\n",
      "DDD                         1542611 non-null float64\n",
      "nombre_prises               1542611 non-null float64\n",
      "orphan_flag                 1542611 non-null float64\n",
      "chapter_IV_bis_flag         1542611 non-null float64\n",
      "link_same_tablet            1542611 non-null float64\n",
      "dbegin                      1159383 non-null datetime64[ns]\n",
      "dend                        1159383 non-null datetime64[ns]\n",
      "reimbt_cat_desc_fr          1159383 non-null object\n",
      "reimbt_cat_desc_nl          1159383 non-null object\n",
      "reimbt_crit_long            1159383 non-null object\n",
      "reimbt_crit_short           1159383 non-null object\n",
      "reimbt_cat_acute_yn         1159383 non-null float64\n",
      "reimbt_cat_chron_yn         1159383 non-null float64\n",
      "reimbt_cat_psy_yn           1159383 non-null float64\n",
      "max_pct                     1159307 non-null float64\n",
      "reimbt_cat_fixed_rate_yn    1159383 non-null float64\n",
      "relative_care_yn            1159383 non-null float64\n",
      "ami_ziv_amount_null_yn      1159383 non-null float64\n",
      "not_reimbursed_null_yn      1159383 non-null float64\n",
      "fee_cat                     1159383 non-null object\n",
      "reimbt_cat_id_pk            1159383 non-null float64\n",
      "dtypes: datetime64[ns](3), float64(18), int64(2), object(23)\n",
      "memory usage: 553.2+ MB\n"
     ]
    }
   ],
   "source": [
    "df.info()"
   ]
  },
  {
   "cell_type": "markdown",
   "metadata": {},
   "source": [
    "## output result"
   ]
  },
  {
   "cell_type": "code",
   "execution_count": 20,
   "metadata": {},
   "outputs": [
    {
     "name": "stderr",
     "output_type": "stream",
     "text": [
      "/home/ubuntu/venv/lib/python3.5/site-packages/matplotlib/font_manager.py:1241: UserWarning: findfont: Font family ['sans-serif'] not found. Falling back to DejaVu Sans.\n",
      "  (prop.get_family(), self.defaultFamily[fontext]))\n",
      "/home/ubuntu/venv/lib/python3.5/site-packages/matplotlib/font_manager.py:1241: UserWarning: findfont: Font family ['sans-serif'] not found. Falling back to DejaVu Sans.\n",
      "  (prop.get_family(), self.defaultFamily[fontext]))\n",
      "/home/ubuntu/venv/lib/python3.5/site-packages/matplotlib/font_manager.py:1241: UserWarning: findfont: Font family ['sans-serif'] not found. Falling back to DejaVu Sans.\n",
      "  (prop.get_family(), self.defaultFamily[fontext]))\n",
      "/home/ubuntu/venv/lib/python3.5/site-packages/matplotlib/font_manager.py:1241: UserWarning: findfont: Font family ['sans-serif'] not found. Falling back to DejaVu Sans.\n",
      "  (prop.get_family(), self.defaultFamily[fontext]))\n",
      "/home/ubuntu/venv/lib/python3.5/site-packages/matplotlib/font_manager.py:1241: UserWarning: findfont: Font family ['sans-serif'] not found. Falling back to DejaVu Sans.\n",
      "  (prop.get_family(), self.defaultFamily[fontext]))\n",
      "/home/ubuntu/venv/lib/python3.5/site-packages/matplotlib/font_manager.py:1241: UserWarning: findfont: Font family ['sans-serif'] not found. Falling back to DejaVu Sans.\n",
      "  (prop.get_family(), self.defaultFamily[fontext]))\n",
      "/home/ubuntu/venv/lib/python3.5/site-packages/matplotlib/font_manager.py:1241: UserWarning: findfont: Font family ['sans-serif'] not found. Falling back to DejaVu Sans.\n",
      "  (prop.get_family(), self.defaultFamily[fontext]))\n",
      "/home/ubuntu/venv/lib/python3.5/site-packages/matplotlib/font_manager.py:1241: UserWarning: findfont: Font family ['sans-serif'] not found. Falling back to DejaVu Sans.\n",
      "  (prop.get_family(), self.defaultFamily[fontext]))\n",
      "/home/ubuntu/venv/lib/python3.5/site-packages/matplotlib/font_manager.py:1241: UserWarning: findfont: Font family ['sans-serif'] not found. Falling back to DejaVu Sans.\n",
      "  (prop.get_family(), self.defaultFamily[fontext]))\n"
     ]
    }
   ],
   "source": [
    "pp.ProfileReport(df).to_file(outputfile=\"../data/report/DB_V4_2016_report.html\")"
   ]
  },
  {
   "cell_type": "code",
   "execution_count": null,
   "metadata": {},
   "outputs": [],
   "source": [
    "#df.to_csv(\"../data/dataset/DB_V4.csv\", index=False)"
   ]
  },
  {
   "cell_type": "code",
   "execution_count": 21,
   "metadata": {},
   "outputs": [
    {
     "name": "stdout",
     "output_type": "stream",
     "text": [
      "<class 'pandas.core.frame.DataFrame'>\n",
      "Int64Index: 1542611 entries, 22833075 to 26009296\n",
      "Data columns (total 46 columns):\n",
      "Province                    1542611 non-null object\n",
      "Type                        1542611 non-null object\n",
      "hosp_serv_id                1542611 non-null object\n",
      "reimbt_cat_id               1542611 non-null int64\n",
      "drug_code                   1542611 non-null object\n",
      "realization_date            1542611 non-null object\n",
      "quantity                    1542611 non-null int64\n",
      "amount_reimb                1542611 non-null float64\n",
      "amount_not_reimb            1542611 non-null float64\n",
      "trim_pharma                 1542611 non-null float64\n",
      "produit_pharma              1542611 non-null float64\n",
      "type_drug_code              1538323 non-null object\n",
      "famille_produit_pharma      1538323 non-null object\n",
      "drug_name_aggregated        1538323 non-null object\n",
      "nom_produit_pharma          1538323 non-null object\n",
      "conditionnement             1509986 non-null object\n",
      "mode_administration         1510761 non-null object\n",
      "nom_firme_pharma            1382056 non-null object\n",
      "date_debut_rembourse        1542611 non-null datetime64[ns]\n",
      "statut_produit_pharma       1459958 non-null object\n",
      "code_atc                    1542611 non-null object\n",
      "code_atc_5                  1542611 non-null object\n",
      "code_atc_4                  1542611 non-null object\n",
      "code_atc_3                  1542611 non-null object\n",
      "code_atc_1                  1542611 non-null object\n",
      "DDD                         1542611 non-null float64\n",
      "nombre_prises               1542611 non-null float64\n",
      "orphan_flag                 1542611 non-null float64\n",
      "chapter_IV_bis_flag         1542611 non-null float64\n",
      "link_same_tablet            1542611 non-null float64\n",
      "dbegin                      1159383 non-null datetime64[ns]\n",
      "dend                        1159383 non-null datetime64[ns]\n",
      "reimbt_cat_desc_fr          1159383 non-null object\n",
      "reimbt_cat_desc_nl          1159383 non-null object\n",
      "reimbt_crit_long            1159383 non-null object\n",
      "reimbt_crit_short           1159383 non-null object\n",
      "reimbt_cat_acute_yn         1159383 non-null float64\n",
      "reimbt_cat_chron_yn         1159383 non-null float64\n",
      "reimbt_cat_psy_yn           1159383 non-null float64\n",
      "max_pct                     1159307 non-null float64\n",
      "reimbt_cat_fixed_rate_yn    1159383 non-null float64\n",
      "relative_care_yn            1159383 non-null float64\n",
      "ami_ziv_amount_null_yn      1159383 non-null float64\n",
      "not_reimbursed_null_yn      1159383 non-null float64\n",
      "fee_cat                     1159383 non-null object\n",
      "reimbt_cat_id_pk            1159383 non-null float64\n",
      "dtypes: datetime64[ns](3), float64(18), int64(2), object(23)\n",
      "memory usage: 553.2+ MB\n"
     ]
    }
   ],
   "source": [
    "df.info(verbose=True)"
   ]
  },
  {
   "cell_type": "code",
   "execution_count": null,
   "metadata": {},
   "outputs": [],
   "source": [
    "#import pandas_profiling as pp"
   ]
  },
  {
   "cell_type": "code",
   "execution_count": null,
   "metadata": {},
   "outputs": [],
   "source": [
    "#pp.ProfileReport(pharma_ref)"
   ]
  },
  {
   "cell_type": "code",
   "execution_count": null,
   "metadata": {},
   "outputs": [],
   "source": [
    "#df[\"realization_date\"] = df[\"realization_date\"].astype('str')"
   ]
  },
  {
   "cell_type": "code",
   "execution_count": null,
   "metadata": {},
   "outputs": [],
   "source": [
    "#(df[\"realization_date\"].str[:4] == '2016').value_counts()"
   ]
  },
  {
   "cell_type": "code",
   "execution_count": 22,
   "metadata": {},
   "outputs": [
    {
     "data": {
      "text/plain": [
       "Index(['Province', 'Type', 'hosp_serv_id', 'reimbt_cat_id', 'drug_code',\n",
       "       'realization_date', 'quantity', 'amount_reimb', 'amount_not_reimb',\n",
       "       'trim_pharma', 'produit_pharma', 'type_drug_code',\n",
       "       'famille_produit_pharma', 'drug_name_aggregated', 'nom_produit_pharma',\n",
       "       'conditionnement', 'mode_administration', 'nom_firme_pharma',\n",
       "       'date_debut_rembourse', 'statut_produit_pharma', 'code_atc',\n",
       "       'code_atc_5', 'code_atc_4', 'code_atc_3', 'code_atc_1', 'DDD',\n",
       "       'nombre_prises', 'orphan_flag', 'chapter_IV_bis_flag',\n",
       "       'link_same_tablet', 'dbegin', 'dend', 'reimbt_cat_desc_fr',\n",
       "       'reimbt_cat_desc_nl', 'reimbt_crit_long', 'reimbt_crit_short',\n",
       "       'reimbt_cat_acute_yn', 'reimbt_cat_chron_yn', 'reimbt_cat_psy_yn',\n",
       "       'max_pct', 'reimbt_cat_fixed_rate_yn', 'relative_care_yn',\n",
       "       'ami_ziv_amount_null_yn', 'not_reimbursed_null_yn', 'fee_cat',\n",
       "       'reimbt_cat_id_pk'],\n",
       "      dtype='object')"
      ]
     },
     "execution_count": 22,
     "metadata": {},
     "output_type": "execute_result"
    }
   ],
   "source": [
    "df.columns"
   ]
  },
  {
   "cell_type": "code",
   "execution_count": 19,
   "metadata": {},
   "outputs": [],
   "source": [
    "# keep these columns:\n",
    "df = df[['Province', 'Type', 'hosp_serv_id', 'reimbt_cat_id', 'drug_code',\n",
    "       'realization_date', 'quantity', 'amount_reimb', 'amount_not_reimb',\n",
    "       'trim_pharma', 'produit_pharma', 'type_drug_code',\n",
    "       'famille_produit_pharma', 'drug_name_aggregated',\n",
    "       'conditionnement', 'mode_administration',\n",
    "       'date_debut_rembourse', 'statut_produit_pharma', 'code_atc',\n",
    "       'code_atc_5', 'code_atc_4', 'code_atc_3', 'code_atc_1', 'DDD',\n",
    "       'nombre_prises', 'orphan_flag', 'chapter_IV_bis_flag',\n",
    "       'link_same_tablet', 'dbegin', 'dend', 'reimbt_cat_desc_fr',\n",
    "       'reimbt_cat_desc_nl', 'reimbt_crit_long', 'reimbt_crit_short',\n",
    "       'reimbt_cat_fixed_rate_yn', 'fee_cat']]"
   ]
  },
  {
   "cell_type": "code",
   "execution_count": 20,
   "metadata": {},
   "outputs": [],
   "source": [
    "df[\"reimbt_cat_fixed_rate_yn\"] = df[\"reimbt_cat_fixed_rate_yn\"].astype('bool')"
   ]
  },
  {
   "cell_type": "code",
   "execution_count": 21,
   "metadata": {},
   "outputs": [],
   "source": [
    "df_work = df[ (df[\"reimbt_cat_fixed_rate_yn\"] == True) ]"
   ]
  },
  {
   "cell_type": "code",
   "execution_count": 38,
   "metadata": {},
   "outputs": [],
   "source": [
    "df_work.to_csv(\"../data/dataset/not_reimb_workfile_2016.csv\", index=False)"
   ]
  },
  {
   "cell_type": "code",
   "execution_count": 40,
   "metadata": {},
   "outputs": [
    {
     "data": {
      "text/plain": [
       "Général          953388\n",
       "Psychiatrique      6046\n",
       "Name: Type, dtype: int64"
      ]
     },
     "execution_count": 40,
     "metadata": {},
     "output_type": "execute_result"
    }
   ],
   "source": [
    "df_work[\"Type\"].value_counts()"
   ]
  },
  {
   "cell_type": "code",
   "execution_count": 63,
   "metadata": {},
   "outputs": [
    {
     "name": "stderr",
     "output_type": "stream",
     "text": [
      "/home/ubuntu/venv/lib/python3.5/site-packages/ipykernel_launcher.py:1: SettingWithCopyWarning: \n",
      "A value is trying to be set on a copy of a slice from a DataFrame.\n",
      "Try using .loc[row_indexer,col_indexer] = value instead\n",
      "\n",
      "See the caveats in the documentation: http://pandas.pydata.org/pandas-docs/stable/indexing.html#indexing-view-versus-copy\n",
      "  \"\"\"Entry point for launching an IPython kernel.\n"
     ]
    }
   ],
   "source": [
    "df_work[\"amount_reimb_div_quantity\"] = df_work[\"amount_reimb\"] / df_work[\"quantity\"]"
   ]
  },
  {
   "cell_type": "code",
   "execution_count": null,
   "metadata": {},
   "outputs": [],
   "source": [
    "#df.groupby('col1')['col2'].apply(lambda x: x)"
   ]
  },
  {
   "cell_type": "code",
   "execution_count": 41,
   "metadata": {},
   "outputs": [],
   "source": [
    "df_work = df_work[ (df_work[\"Type\"] == \"Général\") ]"
   ]
  },
  {
   "cell_type": "code",
   "execution_count": 68,
   "metadata": {},
   "outputs": [
    {
     "data": {
      "text/plain": [
       " 0.000000e+00    520\n",
       " inf             101\n",
       "-inf              13\n",
       " 5.824304e+00      1\n",
       " 5.003638e+02      1\n",
       " 4.261144e+00      1\n",
       " 4.202902e+01      1\n",
       " 4.718318e+01      1\n",
       " 3.732954e+02      1\n",
       " 6.304515e+01      1\n",
       " 5.873456e+02      1\n",
       " 8.036152e+00      1\n",
       " 9.219011e+04      1\n",
       " 2.022065e+04      1\n",
       " 9.989872e+03      1\n",
       " 3.684756e+01      1\n",
       " 1.139832e+01      1\n",
       " 4.038665e+03      1\n",
       " 2.662045e-01      1\n",
       " 2.348433e+01      1\n",
       " 9.977944e+03      1\n",
       " 7.716923e+01      1\n",
       " 2.796620e+03      1\n",
       " 7.934648e+00      1\n",
       " 8.849044e+01      1\n",
       " 1.206362e+02      1\n",
       " 2.878000e+01      1\n",
       " 1.138605e+04      1\n",
       " 3.721350e+03      1\n",
       " 2.942728e+02      1\n",
       "                ... \n",
       " 3.865374e+04      1\n",
       " 1.041316e+06      1\n",
       " 2.406465e+01      1\n",
       " 7.219843e+00      1\n",
       " 4.166468e+01      1\n",
       " 3.284791e+01      1\n",
       " 2.573558e+00      1\n",
       " 4.382187e+00      1\n",
       " 1.281722e+05      1\n",
       " 4.841690e+02      1\n",
       " 4.057019e+01      1\n",
       " 6.042004e+03      1\n",
       " 6.111199e+01      1\n",
       " 2.092393e+05      1\n",
       " 7.775758e+02      1\n",
       " 1.050866e+04      1\n",
       " 2.576000e+02      1\n",
       " 4.755167e-01      1\n",
       " 2.518901e+04      1\n",
       " 1.994092e+02      1\n",
       " 4.000000e-01      1\n",
       " 4.905000e+01      1\n",
       " 2.681792e+01      1\n",
       " 6.219660e+02      1\n",
       " 2.436641e+02      1\n",
       " 1.917584e+02      1\n",
       " 3.520450e+02      1\n",
       " 9.887000e+01      1\n",
       " 1.528000e+01      1\n",
       " 2.545669e+00      1\n",
       "Name: amount_reimb_div_quantity, Length: 817, dtype: int64"
      ]
     },
     "execution_count": 68,
     "metadata": {},
     "output_type": "execute_result"
    }
   ],
   "source": [
    "df_work.groupby([\"code_atc\"])[\"amount_reimb_div_quantity\"].sum().value_counts(ascending=False)"
   ]
  },
  {
   "cell_type": "code",
   "execution_count": 46,
   "metadata": {},
   "outputs": [
    {
     "ename": "AttributeError",
     "evalue": "'DataFrameGroupBy' object has no attribute 'value_counts'",
     "output_type": "error",
     "traceback": [
      "\u001b[0;31m---------------------------------------------------------------------------\u001b[0m",
      "\u001b[0;31mAttributeError\u001b[0m                            Traceback (most recent call last)",
      "\u001b[0;32m<ipython-input-46-529565768334>\u001b[0m in \u001b[0;36m<module>\u001b[0;34m\u001b[0m\n\u001b[0;32m----> 1\u001b[0;31m \u001b[0mdf_work\u001b[0m\u001b[0;34m.\u001b[0m\u001b[0mgroupby\u001b[0m\u001b[0;34m(\u001b[0m\u001b[0;34m[\u001b[0m\u001b[0;34m\"code_atc\"\u001b[0m\u001b[0;34m]\u001b[0m\u001b[0;34m)\u001b[0m\u001b[0;34m.\u001b[0m\u001b[0mvalue_counts\u001b[0m\u001b[0;34m(\u001b[0m\u001b[0;34m)\u001b[0m\u001b[0;34m\u001b[0m\u001b[0m\n\u001b[0m",
      "\u001b[0;32m~/venv/lib/python3.5/site-packages/pandas/core/groupby/groupby.py\u001b[0m in \u001b[0;36m__getattr__\u001b[0;34m(self, attr)\u001b[0m\n\u001b[1;32m    534\u001b[0m \u001b[0;34m\u001b[0m\u001b[0m\n\u001b[1;32m    535\u001b[0m         raise AttributeError(\"%r object has no attribute %r\" %\n\u001b[0;32m--> 536\u001b[0;31m                              (type(self).__name__, attr))\n\u001b[0m\u001b[1;32m    537\u001b[0m \u001b[0;34m\u001b[0m\u001b[0m\n\u001b[1;32m    538\u001b[0m     @Substitution(klass='GroupBy',\n",
      "\u001b[0;31mAttributeError\u001b[0m: 'DataFrameGroupBy' object has no attribute 'value_counts'"
     ]
    }
   ],
   "source": [
    "df_work.groupby([\"code_atc\"]).value_counts()"
   ]
  },
  {
   "cell_type": "code",
   "execution_count": 27,
   "metadata": {},
   "outputs": [
    {
     "data": {
      "text/html": [
       "<div>\n",
       "<style scoped>\n",
       "    .dataframe tbody tr th:only-of-type {\n",
       "        vertical-align: middle;\n",
       "    }\n",
       "\n",
       "    .dataframe tbody tr th {\n",
       "        vertical-align: top;\n",
       "    }\n",
       "\n",
       "    .dataframe thead th {\n",
       "        text-align: right;\n",
       "    }\n",
       "</style>\n",
       "<table border=\"1\" class=\"dataframe\">\n",
       "  <thead>\n",
       "    <tr style=\"text-align: right;\">\n",
       "      <th></th>\n",
       "      <th>25278167</th>\n",
       "      <th>23545790</th>\n",
       "      <th>23272318</th>\n",
       "      <th>24872023</th>\n",
       "      <th>23028290</th>\n",
       "    </tr>\n",
       "  </thead>\n",
       "  <tbody>\n",
       "    <tr>\n",
       "      <th>Province</th>\n",
       "      <td>Flandre orientale</td>\n",
       "      <td>Flandre Occidentale</td>\n",
       "      <td>Bruxelles-Capitale</td>\n",
       "      <td>Bruxelles-Capitale</td>\n",
       "      <td>Anvers</td>\n",
       "    </tr>\n",
       "    <tr>\n",
       "      <th>Type</th>\n",
       "      <td>Général</td>\n",
       "      <td>Général</td>\n",
       "      <td>Général</td>\n",
       "      <td>Général</td>\n",
       "      <td>Général</td>\n",
       "    </tr>\n",
       "    <tr>\n",
       "      <th>hosp_serv_id</th>\n",
       "      <td>620</td>\n",
       "      <td>230</td>\n",
       "      <td>990</td>\n",
       "      <td>730</td>\n",
       "      <td>230</td>\n",
       "    </tr>\n",
       "    <tr>\n",
       "      <th>reimbt_cat_id</th>\n",
       "      <td>756066</td>\n",
       "      <td>756125</td>\n",
       "      <td>750934</td>\n",
       "      <td>751015</td>\n",
       "      <td>757864</td>\n",
       "    </tr>\n",
       "    <tr>\n",
       "      <th>drug_code</th>\n",
       "      <td>742445</td>\n",
       "      <td>700773</td>\n",
       "      <td>7703333</td>\n",
       "      <td>1406453</td>\n",
       "      <td>727271</td>\n",
       "    </tr>\n",
       "    <tr>\n",
       "      <th>realization_date</th>\n",
       "      <td>20164</td>\n",
       "      <td>20163</td>\n",
       "      <td>20161</td>\n",
       "      <td>20164</td>\n",
       "      <td>20162</td>\n",
       "    </tr>\n",
       "    <tr>\n",
       "      <th>quantity</th>\n",
       "      <td>41</td>\n",
       "      <td>49</td>\n",
       "      <td>6</td>\n",
       "      <td>1068</td>\n",
       "      <td>2</td>\n",
       "    </tr>\n",
       "    <tr>\n",
       "      <th>amount_reimb</th>\n",
       "      <td>0.76</td>\n",
       "      <td>15.88</td>\n",
       "      <td>12.48</td>\n",
       "      <td>0</td>\n",
       "      <td>1.38</td>\n",
       "    </tr>\n",
       "    <tr>\n",
       "      <th>amount_not_reimb</th>\n",
       "      <td>0</td>\n",
       "      <td>0</td>\n",
       "      <td>3.77</td>\n",
       "      <td>763.61</td>\n",
       "      <td>0</td>\n",
       "    </tr>\n",
       "    <tr>\n",
       "      <th>trim_pharma</th>\n",
       "      <td>20183</td>\n",
       "      <td>20183</td>\n",
       "      <td>20183</td>\n",
       "      <td>20183</td>\n",
       "      <td>20183</td>\n",
       "    </tr>\n",
       "    <tr>\n",
       "      <th>produit_pharma</th>\n",
       "      <td>742445</td>\n",
       "      <td>700773</td>\n",
       "      <td>7.70333e+06</td>\n",
       "      <td>1.40645e+06</td>\n",
       "      <td>727271</td>\n",
       "    </tr>\n",
       "    <tr>\n",
       "      <th>type_drug_code</th>\n",
       "      <td>Unit</td>\n",
       "      <td>Unit</td>\n",
       "      <td>Unit</td>\n",
       "      <td>Package</td>\n",
       "      <td>Unit</td>\n",
       "    </tr>\n",
       "    <tr>\n",
       "      <th>famille_produit_pharma</th>\n",
       "      <td>Spécialité pharmaceutique</td>\n",
       "      <td>Spécialité pharmaceutique</td>\n",
       "      <td>Spécialité pharmaceutique</td>\n",
       "      <td>Médicament D</td>\n",
       "      <td>Spécialité pharmaceutique</td>\n",
       "    </tr>\n",
       "    <tr>\n",
       "      <th>drug_name_aggregated</th>\n",
       "      <td>DEPAKINE</td>\n",
       "      <td>AMUKIN</td>\n",
       "      <td>NATRIUMBICARBONAAT</td>\n",
       "      <td>HEPARINE</td>\n",
       "      <td>OMNIPAQUE</td>\n",
       "    </tr>\n",
       "    <tr>\n",
       "      <th>conditionnement</th>\n",
       "      <td>* pr. compr. ret. 1 x 300 mg</td>\n",
       "      <td>1 flacon injectable x 50 mg/ml Amikacine, sulfate</td>\n",
       "      <td>1 poche x 1,4 % Bicarbonate de sodium</td>\n",
       "      <td>F.IV 100 IU /ML 10 10 ML</td>\n",
       "      <td>* pr. 10 ml  240 mg I/ml</td>\n",
       "    </tr>\n",
       "    <tr>\n",
       "      <th>mode_administration</th>\n",
       "      <td>COMPRIMES</td>\n",
       "      <td>INJECTION</td>\n",
       "      <td>INJECTION</td>\n",
       "      <td>INJECTION</td>\n",
       "      <td>INJECTION</td>\n",
       "    </tr>\n",
       "    <tr>\n",
       "      <th>date_debut_rembourse</th>\n",
       "      <td>1995-05-01 00:00:00</td>\n",
       "      <td>1987-01-01 00:00:00</td>\n",
       "      <td>2013-09-01 00:00:00</td>\n",
       "      <td>2070-01-01 00:00:00</td>\n",
       "      <td>1986-01-01 00:00:00</td>\n",
       "    </tr>\n",
       "    <tr>\n",
       "      <th>statut_produit_pharma</th>\n",
       "      <td>orig R</td>\n",
       "      <td>orig R</td>\n",
       "      <td>orig</td>\n",
       "      <td>orig</td>\n",
       "      <td>orig</td>\n",
       "    </tr>\n",
       "    <tr>\n",
       "      <th>code_atc</th>\n",
       "      <td>N03AG01</td>\n",
       "      <td>J01GB06</td>\n",
       "      <td>B05XA02</td>\n",
       "      <td>B01AB01</td>\n",
       "      <td>V08AB02</td>\n",
       "    </tr>\n",
       "    <tr>\n",
       "      <th>code_atc_5</th>\n",
       "      <td>N03AG</td>\n",
       "      <td>J01GB</td>\n",
       "      <td>B05XA</td>\n",
       "      <td>B01AB</td>\n",
       "      <td>V08AB</td>\n",
       "    </tr>\n",
       "    <tr>\n",
       "      <th>code_atc_4</th>\n",
       "      <td>N03A</td>\n",
       "      <td>J01G</td>\n",
       "      <td>B05X</td>\n",
       "      <td>B01A</td>\n",
       "      <td>V08A</td>\n",
       "    </tr>\n",
       "    <tr>\n",
       "      <th>code_atc_3</th>\n",
       "      <td>N03</td>\n",
       "      <td>J01</td>\n",
       "      <td>B05</td>\n",
       "      <td>B01</td>\n",
       "      <td>V08</td>\n",
       "    </tr>\n",
       "    <tr>\n",
       "      <th>code_atc_1</th>\n",
       "      <td>N</td>\n",
       "      <td>J</td>\n",
       "      <td>B</td>\n",
       "      <td>B</td>\n",
       "      <td>V</td>\n",
       "    </tr>\n",
       "    <tr>\n",
       "      <th>DDD</th>\n",
       "      <td>0.2</td>\n",
       "      <td>0.1</td>\n",
       "      <td>1</td>\n",
       "      <td>1</td>\n",
       "      <td>1</td>\n",
       "    </tr>\n",
       "    <tr>\n",
       "      <th>nombre_prises</th>\n",
       "      <td>1</td>\n",
       "      <td>0</td>\n",
       "      <td>0</td>\n",
       "      <td>0</td>\n",
       "      <td>0</td>\n",
       "    </tr>\n",
       "    <tr>\n",
       "      <th>orphan_flag</th>\n",
       "      <td>0</td>\n",
       "      <td>0</td>\n",
       "      <td>0</td>\n",
       "      <td>0</td>\n",
       "      <td>0</td>\n",
       "    </tr>\n",
       "    <tr>\n",
       "      <th>chapter_IV_bis_flag</th>\n",
       "      <td>0</td>\n",
       "      <td>0</td>\n",
       "      <td>0</td>\n",
       "      <td>0</td>\n",
       "      <td>0</td>\n",
       "    </tr>\n",
       "    <tr>\n",
       "      <th>link_same_tablet</th>\n",
       "      <td>5811</td>\n",
       "      <td>-13044</td>\n",
       "      <td>-15185</td>\n",
       "      <td>-15626</td>\n",
       "      <td>-15473</td>\n",
       "    </tr>\n",
       "    <tr>\n",
       "      <th>dbegin</th>\n",
       "      <td>2006-07-01 00:00:00</td>\n",
       "      <td>2006-07-01 00:00:00</td>\n",
       "      <td>NaT</td>\n",
       "      <td>NaT</td>\n",
       "      <td>2013-01-01 00:00:00</td>\n",
       "    </tr>\n",
       "    <tr>\n",
       "      <th>dend</th>\n",
       "      <td>2099-12-31 00:00:00</td>\n",
       "      <td>2099-12-31 00:00:00</td>\n",
       "      <td>NaT</td>\n",
       "      <td>NaT</td>\n",
       "      <td>2099-12-31 00:00:00</td>\n",
       "    </tr>\n",
       "    <tr>\n",
       "      <th>reimbt_cat_desc_fr</th>\n",
       "      <td>Spécialité pharmaceutique forfaitarisée de cat...</td>\n",
       "      <td>Spécialité pharmaceutique forfaitarisée de cat...</td>\n",
       "      <td>NaN</td>\n",
       "      <td>NaN</td>\n",
       "      <td>Spécialité pharmaceutique forfaitarisée de cla...</td>\n",
       "    </tr>\n",
       "    <tr>\n",
       "      <th>reimbt_cat_desc_nl</th>\n",
       "      <td>Geforfaitariseerd geneesmiddel van categorie A...</td>\n",
       "      <td>Geforfaitariseerd geneesmiddel van categorie B...</td>\n",
       "      <td>NaN</td>\n",
       "      <td>NaN</td>\n",
       "      <td>Geforfaitariseerd geneesmiddel van ATC klasse ...</td>\n",
       "    </tr>\n",
       "    <tr>\n",
       "      <th>reimbt_crit_long</th>\n",
       "      <td>other</td>\n",
       "      <td>other</td>\n",
       "      <td>NaN</td>\n",
       "      <td>NaN</td>\n",
       "      <td>other</td>\n",
       "    </tr>\n",
       "    <tr>\n",
       "      <th>reimbt_crit_short</th>\n",
       "      <td>A</td>\n",
       "      <td>B</td>\n",
       "      <td>NaN</td>\n",
       "      <td>NaN</td>\n",
       "      <td>B</td>\n",
       "    </tr>\n",
       "    <tr>\n",
       "      <th>reimbt_cat_fixed_rate_yn</th>\n",
       "      <td>True</td>\n",
       "      <td>True</td>\n",
       "      <td>True</td>\n",
       "      <td>True</td>\n",
       "      <td>True</td>\n",
       "    </tr>\n",
       "    <tr>\n",
       "      <th>fee_cat</th>\n",
       "      <td>A</td>\n",
       "      <td>A</td>\n",
       "      <td>NaN</td>\n",
       "      <td>NaN</td>\n",
       "      <td>A</td>\n",
       "    </tr>\n",
       "    <tr>\n",
       "      <th>B_IsGeneric</th>\n",
       "      <td>True</td>\n",
       "      <td>True</td>\n",
       "      <td>False</td>\n",
       "      <td>False</td>\n",
       "      <td>False</td>\n",
       "    </tr>\n",
       "  </tbody>\n",
       "</table>\n",
       "</div>"
      ],
      "text/plain": [
       "                                                                   25278167  \\\n",
       "Province                                                  Flandre orientale   \n",
       "Type                                                                Général   \n",
       "hosp_serv_id                                                            620   \n",
       "reimbt_cat_id                                                        756066   \n",
       "drug_code                                                            742445   \n",
       "realization_date                                                      20164   \n",
       "quantity                                                                 41   \n",
       "amount_reimb                                                           0.76   \n",
       "amount_not_reimb                                                          0   \n",
       "trim_pharma                                                           20183   \n",
       "produit_pharma                                                       742445   \n",
       "type_drug_code                                                         Unit   \n",
       "famille_produit_pharma                            Spécialité pharmaceutique   \n",
       "drug_name_aggregated                                               DEPAKINE   \n",
       "conditionnement                                * pr. compr. ret. 1 x 300 mg   \n",
       "mode_administration                                               COMPRIMES   \n",
       "date_debut_rembourse                                    1995-05-01 00:00:00   \n",
       "statut_produit_pharma                                                orig R   \n",
       "code_atc                                                            N03AG01   \n",
       "code_atc_5                                                            N03AG   \n",
       "code_atc_4                                                             N03A   \n",
       "code_atc_3                                                              N03   \n",
       "code_atc_1                                                                N   \n",
       "DDD                                                                     0.2   \n",
       "nombre_prises                                                             1   \n",
       "orphan_flag                                                               0   \n",
       "chapter_IV_bis_flag                                                       0   \n",
       "link_same_tablet                                                       5811   \n",
       "dbegin                                                  2006-07-01 00:00:00   \n",
       "dend                                                    2099-12-31 00:00:00   \n",
       "reimbt_cat_desc_fr        Spécialité pharmaceutique forfaitarisée de cat...   \n",
       "reimbt_cat_desc_nl        Geforfaitariseerd geneesmiddel van categorie A...   \n",
       "reimbt_crit_long                                                      other   \n",
       "reimbt_crit_short                                                         A   \n",
       "reimbt_cat_fixed_rate_yn                                               True   \n",
       "fee_cat                                                                   A   \n",
       "B_IsGeneric                                                            True   \n",
       "\n",
       "                                                                   23545790  \\\n",
       "Province                                                Flandre Occidentale   \n",
       "Type                                                                Général   \n",
       "hosp_serv_id                                                            230   \n",
       "reimbt_cat_id                                                        756125   \n",
       "drug_code                                                            700773   \n",
       "realization_date                                                      20163   \n",
       "quantity                                                                 49   \n",
       "amount_reimb                                                          15.88   \n",
       "amount_not_reimb                                                          0   \n",
       "trim_pharma                                                           20183   \n",
       "produit_pharma                                                       700773   \n",
       "type_drug_code                                                         Unit   \n",
       "famille_produit_pharma                            Spécialité pharmaceutique   \n",
       "drug_name_aggregated                                                 AMUKIN   \n",
       "conditionnement           1 flacon injectable x 50 mg/ml Amikacine, sulfate   \n",
       "mode_administration                                               INJECTION   \n",
       "date_debut_rembourse                                    1987-01-01 00:00:00   \n",
       "statut_produit_pharma                                                orig R   \n",
       "code_atc                                                            J01GB06   \n",
       "code_atc_5                                                            J01GB   \n",
       "code_atc_4                                                             J01G   \n",
       "code_atc_3                                                              J01   \n",
       "code_atc_1                                                                J   \n",
       "DDD                                                                     0.1   \n",
       "nombre_prises                                                             0   \n",
       "orphan_flag                                                               0   \n",
       "chapter_IV_bis_flag                                                       0   \n",
       "link_same_tablet                                                     -13044   \n",
       "dbegin                                                  2006-07-01 00:00:00   \n",
       "dend                                                    2099-12-31 00:00:00   \n",
       "reimbt_cat_desc_fr        Spécialité pharmaceutique forfaitarisée de cat...   \n",
       "reimbt_cat_desc_nl        Geforfaitariseerd geneesmiddel van categorie B...   \n",
       "reimbt_crit_long                                                      other   \n",
       "reimbt_crit_short                                                         B   \n",
       "reimbt_cat_fixed_rate_yn                                               True   \n",
       "fee_cat                                                                   A   \n",
       "B_IsGeneric                                                            True   \n",
       "\n",
       "                                                       23272318  \\\n",
       "Province                                     Bruxelles-Capitale   \n",
       "Type                                                    Général   \n",
       "hosp_serv_id                                                990   \n",
       "reimbt_cat_id                                            750934   \n",
       "drug_code                                               7703333   \n",
       "realization_date                                          20161   \n",
       "quantity                                                      6   \n",
       "amount_reimb                                              12.48   \n",
       "amount_not_reimb                                           3.77   \n",
       "trim_pharma                                               20183   \n",
       "produit_pharma                                      7.70333e+06   \n",
       "type_drug_code                                             Unit   \n",
       "famille_produit_pharma                Spécialité pharmaceutique   \n",
       "drug_name_aggregated                         NATRIUMBICARBONAAT   \n",
       "conditionnement           1 poche x 1,4 % Bicarbonate de sodium   \n",
       "mode_administration                                   INJECTION   \n",
       "date_debut_rembourse                        2013-09-01 00:00:00   \n",
       "statut_produit_pharma                                      orig   \n",
       "code_atc                                                B05XA02   \n",
       "code_atc_5                                                B05XA   \n",
       "code_atc_4                                                 B05X   \n",
       "code_atc_3                                                  B05   \n",
       "code_atc_1                                                    B   \n",
       "DDD                                                           1   \n",
       "nombre_prises                                                 0   \n",
       "orphan_flag                                                   0   \n",
       "chapter_IV_bis_flag                                           0   \n",
       "link_same_tablet                                         -15185   \n",
       "dbegin                                                      NaT   \n",
       "dend                                                        NaT   \n",
       "reimbt_cat_desc_fr                                          NaN   \n",
       "reimbt_cat_desc_nl                                          NaN   \n",
       "reimbt_crit_long                                            NaN   \n",
       "reimbt_crit_short                                           NaN   \n",
       "reimbt_cat_fixed_rate_yn                                   True   \n",
       "fee_cat                                                     NaN   \n",
       "B_IsGeneric                                               False   \n",
       "\n",
       "                                          24872023  \\\n",
       "Province                        Bruxelles-Capitale   \n",
       "Type                                       Général   \n",
       "hosp_serv_id                                   730   \n",
       "reimbt_cat_id                               751015   \n",
       "drug_code                                  1406453   \n",
       "realization_date                             20164   \n",
       "quantity                                      1068   \n",
       "amount_reimb                                     0   \n",
       "amount_not_reimb                            763.61   \n",
       "trim_pharma                                  20183   \n",
       "produit_pharma                         1.40645e+06   \n",
       "type_drug_code                             Package   \n",
       "famille_produit_pharma                Médicament D   \n",
       "drug_name_aggregated                      HEPARINE   \n",
       "conditionnement           F.IV 100 IU /ML 10 10 ML   \n",
       "mode_administration                      INJECTION   \n",
       "date_debut_rembourse           2070-01-01 00:00:00   \n",
       "statut_produit_pharma                         orig   \n",
       "code_atc                                   B01AB01   \n",
       "code_atc_5                                   B01AB   \n",
       "code_atc_4                                    B01A   \n",
       "code_atc_3                                     B01   \n",
       "code_atc_1                                       B   \n",
       "DDD                                              1   \n",
       "nombre_prises                                    0   \n",
       "orphan_flag                                      0   \n",
       "chapter_IV_bis_flag                              0   \n",
       "link_same_tablet                            -15626   \n",
       "dbegin                                         NaT   \n",
       "dend                                           NaT   \n",
       "reimbt_cat_desc_fr                             NaN   \n",
       "reimbt_cat_desc_nl                             NaN   \n",
       "reimbt_crit_long                               NaN   \n",
       "reimbt_crit_short                              NaN   \n",
       "reimbt_cat_fixed_rate_yn                      True   \n",
       "fee_cat                                        NaN   \n",
       "B_IsGeneric                                  False   \n",
       "\n",
       "                                                                   23028290  \n",
       "Province                                                             Anvers  \n",
       "Type                                                                Général  \n",
       "hosp_serv_id                                                            230  \n",
       "reimbt_cat_id                                                        757864  \n",
       "drug_code                                                            727271  \n",
       "realization_date                                                      20162  \n",
       "quantity                                                                  2  \n",
       "amount_reimb                                                           1.38  \n",
       "amount_not_reimb                                                          0  \n",
       "trim_pharma                                                           20183  \n",
       "produit_pharma                                                       727271  \n",
       "type_drug_code                                                         Unit  \n",
       "famille_produit_pharma                            Spécialité pharmaceutique  \n",
       "drug_name_aggregated                                              OMNIPAQUE  \n",
       "conditionnement                                    * pr. 10 ml  240 mg I/ml  \n",
       "mode_administration                                               INJECTION  \n",
       "date_debut_rembourse                                    1986-01-01 00:00:00  \n",
       "statut_produit_pharma                                                  orig  \n",
       "code_atc                                                            V08AB02  \n",
       "code_atc_5                                                            V08AB  \n",
       "code_atc_4                                                             V08A  \n",
       "code_atc_3                                                              V08  \n",
       "code_atc_1                                                                V  \n",
       "DDD                                                                       1  \n",
       "nombre_prises                                                             0  \n",
       "orphan_flag                                                               0  \n",
       "chapter_IV_bis_flag                                                       0  \n",
       "link_same_tablet                                                     -15473  \n",
       "dbegin                                                  2013-01-01 00:00:00  \n",
       "dend                                                    2099-12-31 00:00:00  \n",
       "reimbt_cat_desc_fr        Spécialité pharmaceutique forfaitarisée de cla...  \n",
       "reimbt_cat_desc_nl        Geforfaitariseerd geneesmiddel van ATC klasse ...  \n",
       "reimbt_crit_long                                                      other  \n",
       "reimbt_crit_short                                                         B  \n",
       "reimbt_cat_fixed_rate_yn                                               True  \n",
       "fee_cat                                                                   A  \n",
       "B_IsGeneric                                                           False  "
      ]
     },
     "execution_count": 27,
     "metadata": {},
     "output_type": "execute_result"
    }
   ],
   "source": [
    "df_work.sample(5).T"
   ]
  },
  {
   "cell_type": "code",
   "execution_count": 23,
   "metadata": {},
   "outputs": [
    {
     "data": {
      "text/plain": [
       "array([nan, 'G', 'orig', 'orig R'], dtype=object)"
      ]
     },
     "execution_count": 23,
     "metadata": {},
     "output_type": "execute_result"
    }
   ],
   "source": [
    "df_work.statut_produit_pharma.unique()"
   ]
  },
  {
   "cell_type": "code",
   "execution_count": 24,
   "metadata": {},
   "outputs": [],
   "source": [
    "statut_produit_pharma_dict = {'G':True, 'orig':False, 'orig R':True}"
   ]
  },
  {
   "cell_type": "code",
   "execution_count": 26,
   "metadata": {},
   "outputs": [
    {
     "name": "stderr",
     "output_type": "stream",
     "text": [
      "/home/ubuntu/venv/lib/python3.5/site-packages/ipykernel_launcher.py:1: SettingWithCopyWarning: \n",
      "A value is trying to be set on a copy of a slice from a DataFrame.\n",
      "Try using .loc[row_indexer,col_indexer] = value instead\n",
      "\n",
      "See the caveats in the documentation: http://pandas.pydata.org/pandas-docs/stable/indexing.html#indexing-view-versus-copy\n",
      "  \"\"\"Entry point for launching an IPython kernel.\n"
     ]
    }
   ],
   "source": [
    "df_work[\"B_IsGeneric\"] = df_work[\"statut_produit_pharma\"].map(statut_produit_pharma_dict)"
   ]
  },
  {
   "cell_type": "code",
   "execution_count": 29,
   "metadata": {},
   "outputs": [
    {
     "data": {
      "text/plain": [
       "True     0.509418\n",
       "False    0.490582\n",
       "Name: B_IsGeneric, dtype: float64"
      ]
     },
     "execution_count": 29,
     "metadata": {},
     "output_type": "execute_result"
    }
   ],
   "source": [
    "df_work[\"B_IsGeneric\"].value_counts(normalize=True)"
   ]
  },
  {
   "cell_type": "code",
   "execution_count": 33,
   "metadata": {},
   "outputs": [
    {
     "data": {
      "text/plain": [
       "code_atc_1  B_IsGeneric\n",
       "A           False          0.540738\n",
       "            True           0.459262\n",
       "B           False          0.962066\n",
       "            True           0.037934\n",
       "C           True           0.771700\n",
       "            False          0.228300\n",
       "D           False          0.938807\n",
       "            True           0.061193\n",
       "G           False          0.588580\n",
       "            True           0.411420\n",
       "H           False          0.548688\n",
       "            True           0.451312\n",
       "J           True           0.760785\n",
       "            False          0.239215\n",
       "L           False          0.510983\n",
       "            True           0.489017\n",
       "M           True           0.728268\n",
       "            False          0.271732\n",
       "N           True           0.665850\n",
       "            False          0.334150\n",
       "P           False          0.645973\n",
       "            True           0.354027\n",
       "R           True           0.704271\n",
       "            False          0.295729\n",
       "S           False          0.636908\n",
       "            True           0.363092\n",
       "V           False          0.921120\n",
       "            True           0.078880\n",
       "X           False          1.000000\n",
       "Z           False          1.000000\n",
       "Name: B_IsGeneric, dtype: float64"
      ]
     },
     "execution_count": 33,
     "metadata": {},
     "output_type": "execute_result"
    }
   ],
   "source": [
    "generic = df_work.groupby([\"code_atc_1\"])[\"B_IsGeneric\"].value_counts(normalize=True)\n",
    "generic"
   ]
  },
  {
   "cell_type": "code",
   "execution_count": 54,
   "metadata": {},
   "outputs": [
    {
     "data": {
      "text/plain": [
       "MultiIndex(levels=[['A', 'B', 'C', 'D', 'G', 'H', 'J', 'L', 'M', 'N', 'P', 'R', 'S', 'V', 'X', 'Z'], [False, True]],\n",
       "           codes=[[0, 0, 1, 1, 2, 2, 3, 3, 4, 4, 5, 5, 6, 6, 7, 7, 8, 8, 9, 9, 10, 10, 11, 11, 12, 12, 13, 13, 14, 15], [0, 1, 0, 1, 1, 0, 0, 1, 0, 1, 0, 1, 1, 0, 0, 1, 1, 0, 1, 0, 0, 1, 1, 0, 0, 1, 0, 1, 0, 0]],\n",
       "           names=['code_atc_1', 'B_IsGeneric'])"
      ]
     },
     "execution_count": 54,
     "metadata": {},
     "output_type": "execute_result"
    }
   ],
   "source": [
    "generic.index"
   ]
  },
  {
   "cell_type": "code",
   "execution_count": 44,
   "metadata": {},
   "outputs": [],
   "source": [
    "newgeneric = pd.DataFrame()"
   ]
  },
  {
   "cell_type": "code",
   "execution_count": 68,
   "metadata": {},
   "outputs": [],
   "source": [
    "newgeneric[\"percentageOfGeneric\"] = generic.values"
   ]
  },
  {
   "cell_type": "code",
   "execution_count": 57,
   "metadata": {},
   "outputs": [],
   "source": [
    "newgeneric[\"ATC\"] = pd.Series(['A', 'B', 'C', 'D', 'G', 'H', 'J', 'L', 'M', 'N', 'P', 'R', 'S', 'V', 'X', 'Z'])"
   ]
  },
  {
   "cell_type": "code",
   "execution_count": null,
   "metadata": {},
   "outputs": [],
   "source": [
    "newgeneric"
   ]
  },
  {
   "cell_type": "code",
   "execution_count": 34,
   "metadata": {},
   "outputs": [],
   "source": [
    "import seaborn as sns"
   ]
  },
  {
   "cell_type": "code",
   "execution_count": null,
   "metadata": {},
   "outputs": [],
   "source": []
  },
  {
   "cell_type": "code",
   "execution_count": null,
   "metadata": {},
   "outputs": [],
   "source": []
  },
  {
   "cell_type": "code",
   "execution_count": 35,
   "metadata": {},
   "outputs": [
    {
     "data": {
      "text/plain": [
       "<matplotlib.axes._subplots.AxesSubplot at 0x7f495ae10b00>"
      ]
     },
     "execution_count": 35,
     "metadata": {},
     "output_type": "execute_result"
    },
    {
     "data": {
      "image/png": "[encoded data removed]",
      "text/plain": [
       "<Figure size 432x288 with 1 Axes>"
      ]
     },
     "metadata": {
      "needs_background": "light"
     },
     "output_type": "display_data"
    }
   ],
   "source": [
    "generic.plot(kind=\"bar\")"
   ]
  },
  {
   "cell_type": "code",
   "execution_count": 84,
   "metadata": {},
   "outputs": [
    {
     "data": {
      "text/plain": [
       "<matplotlib.axes._subplots.AxesSubplot at 0x7f495b05f2e8>"
      ]
     },
     "execution_count": 84,
     "metadata": {},
     "output_type": "execute_result"
    },
    {
     "data": {
      "image/png": "[encoded data removed]",
      "text/plain": [
       "<Figure size 1440x576 with 1 Axes>"
      ]
     },
     "metadata": {
      "needs_background": "light"
     },
     "output_type": "display_data"
    }
   ],
   "source": [
    "plt.figure(figsize=(20,8))\n",
    "sns.barplot(data=newgeneric, x=\"percentageOfGeneric\", y=\"ATC\", color='blue' )"
   ]
  },
  {
   "cell_type": "code",
   "execution_count": null,
   "metadata": {},
   "outputs": [],
   "source": []
  },
  {
   "cell_type": "code",
   "execution_count": 70,
   "metadata": {},
   "outputs": [
    {
     "data": {
      "text/plain": [
       "hosp_serv_id  B_IsGeneric\n",
       "2             False          0.628992\n",
       "              True           0.371008\n",
       "190           False          0.605381\n",
       "              True           0.394619\n",
       "210           True           0.616735\n",
       "              False          0.383265\n",
       "220           True           0.604873\n",
       "              False          0.395127\n",
       "230           True           0.584108\n",
       "              False          0.415892\n",
       "250           True           0.590588\n",
       "              False          0.409412\n",
       "260           True           0.510317\n",
       "              False          0.489683\n",
       "270           False          0.549520\n",
       "              True           0.450480\n",
       "290           True           0.565955\n",
       "              False          0.434045\n",
       "300           True           0.636112\n",
       "              False          0.363888\n",
       "320           False          0.671159\n",
       "              True           0.328841\n",
       "340           True           0.665946\n",
       "              False          0.334054\n",
       "350           True           0.640741\n",
       "              False          0.359259\n",
       "370           True           0.667960\n",
       "              False          0.332040\n",
       "380           True           0.675781\n",
       "              False          0.324219\n",
       "                               ...   \n",
       "              True           0.571429\n",
       "              False          0.428571\n",
       "490           True           0.535598\n",
       "              False          0.464402\n",
       "610           True           0.639964\n",
       "              False          0.360036\n",
       "620           True           0.591297\n",
       "              False          0.408703\n",
       "630           True           0.537088\n",
       "              False          0.462912\n",
       "640           True           0.614790\n",
       "              False          0.385210\n",
       "650           True           0.842308\n",
       "              False          0.157692\n",
       "710           False          0.733420\n",
       "              True           0.266580\n",
       "720           False          0.673132\n",
       "              True           0.326868\n",
       "730           False          0.616689\n",
       "              True           0.383311\n",
       "750           False          0.713545\n",
       "              True           0.286455\n",
       "760           False          0.714286\n",
       "              True           0.285714\n",
       "770           False          0.947368\n",
       "              True           0.052632\n",
       "840           False          0.671104\n",
       "              True           0.328896\n",
       "990           False          0.659132\n",
       "              True           0.340868\n",
       "Name: B_IsGeneric, Length: 118, dtype: float64"
      ]
     },
     "execution_count": 70,
     "metadata": {},
     "output_type": "execute_result"
    }
   ],
   "source": [
    "genericByService = df_work.groupby([\"hosp_serv_id\"])[\"B_IsGeneric\"].value_counts(normalize=True)\n",
    "genericByService"
   ]
  },
  {
   "cell_type": "code",
   "execution_count": 71,
   "metadata": {},
   "outputs": [
    {
     "data": {
      "text/plain": [
       "MultiIndex(levels=[[2, 190, 210, 220, 230, 250, 260, 270, 290, 300, 320, 340, 350, 370, 380, 490, 610, 620, 630, 640, 650, 660, 710, 720, 730, 740, 750, 760, 770, 810, 840, 990, '002', '190', '210', '220', '230', '260', '270', '290', '300', '320', '340', '370', '380', '490', '610', '620', '630', '640', '650', '710', '720', '730', '750', '760', '770', '840', '990'], [False, True]],\n",
       "           codes=[[0, 0, 1, 1, 2, 2, 3, 3, 4, 4, 5, 5, 6, 6, 7, 7, 8, 8, 9, 9, 10, 10, 11, 11, 12, 12, 13, 13, 14, 14, 15, 15, 16, 16, 17, 17, 18, 18, 19, 19, 20, 20, 21, 21, 22, 22, 23, 23, 24, 24, 25, 25, 26, 26, 27, 27, 28, 28, 29, 29, 30, 30, 31, 31, 32, 32, 33, 33, 34, 34, 35, 35, 36, 36, 37, 37, 38, 38, 39, 39, 40, 40, 41, 41, 42, 42, 43, 43, 44, 44, 45, 45, 46, 46, 47, 47, 48, 48, 49, 49, 50, 50, 51, 51, 52, 52, 53, 53, 54, 54, 55, 55, 56, 56, 57, 57, 58, 58], [0, 1, 0, 1, 1, 0, 1, 0, 1, 0, 1, 0, 1, 0, 0, 1, 1, 0, 1, 0, 0, 1, 1, 0, 1, 0, 1, 0, 1, 0, 1, 0, 1, 0, 1, 0, 1, 0, 1, 0, 1, 0, 1, 0, 0, 1, 0, 1, 0, 1, 0, 1, 0, 1, 0, 1, 0, 1, 1, 0, 0, 1, 0, 1, 0, 1, 0, 1, 1, 0, 1, 0, 1, 0, 0, 1, 0, 1, 1, 0, 1, 0, 0, 1, 1, 0, 1, 0, 1, 0, 1, 0, 1, 0, 1, 0, 1, 0, 1, 0, 1, 0, 0, 1, 0, 1, 0, 1, 0, 1, 0, 1, 0, 1, 0, 1, 0, 1]],\n",
       "           names=['hosp_serv_id', 'B_IsGeneric'])"
      ]
     },
     "execution_count": 71,
     "metadata": {},
     "output_type": "execute_result"
    }
   ],
   "source": [
    "genericByService.index"
   ]
  },
  {
   "cell_type": "code",
   "execution_count": 72,
   "metadata": {},
   "outputs": [],
   "source": [
    "newgenericByService = pd.DataFrame()"
   ]
  },
  {
   "cell_type": "code",
   "execution_count": 73,
   "metadata": {},
   "outputs": [],
   "source": [
    "newgenericByService[\"percentageOfGeneric\"] = genericByService.values"
   ]
  },
  {
   "cell_type": "code",
   "execution_count": 78,
   "metadata": {},
   "outputs": [],
   "source": [
    "newgenericByService[\"Service\"] = pd.Series([2, 190, 210, 220, 230, 250, 260, 270, 290, 300, 320, 340, 350, 370, 380, 490, 610, 620, 630, 640, 650, 660, 710, 720, 730, 740, 750, 760, 770, 810, 840, 990, 2, 190, 210, 220, 230, 250, 260, 270, 290, 300, 320, 340, 350, 370, 380, 490, 610, 620, 630, 640, 650, 660, 710, 720, 730, 740, 750, 760, 770, 810, 840, 990])"
   ]
  },
  {
   "cell_type": "code",
   "execution_count": 82,
   "metadata": {},
   "outputs": [
    {
     "data": {
      "text/plain": [
       "<matplotlib.axes._subplots.AxesSubplot at 0x7f495b056fd0>"
      ]
     },
     "execution_count": 82,
     "metadata": {},
     "output_type": "execute_result"
    },
    {
     "data": {
      "image/png": "[encoded data removed]",
      "text/plain": [
       "<Figure size 1440x576 with 1 Axes>"
      ]
     },
     "metadata": {
      "needs_background": "light"
     },
     "output_type": "display_data"
    }
   ],
   "source": [
    "plt.figure(figsize=(20,8))\n",
    "sns.barplot(data=newgenericByService, y=\"percentageOfGeneric\", x=\"Service\", color='blue' )"
   ]
  },
  {
   "cell_type": "code",
   "execution_count": null,
   "metadata": {},
   "outputs": [],
   "source": []
  }
 ],
 "metadata": {
  "kernelspec": {
   "display_name": "Python 3",
   "language": "python",
   "name": "python3"
  },
  "language_info": {
   "codemirror_mode": {
    "name": "ipython",
    "version": 3
   },
   "file_extension": ".py",
   "mimetype": "text/x-python",
   "name": "python",
   "nbconvert_exporter": "python",
   "pygments_lexer": "ipython3",
   "version": "3.5.2"
  }
 },
 "nbformat": 4,
 "nbformat_minor": 2
}
