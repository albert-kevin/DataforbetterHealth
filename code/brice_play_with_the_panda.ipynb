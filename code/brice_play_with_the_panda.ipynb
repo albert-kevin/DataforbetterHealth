{
 "cells": [
  {
   "cell_type": "code",
   "execution_count": null,
   "metadata": {},
   "outputs": [],
   "source": [
    "! pip install xlrd"
   ]
  },
  {
   "cell_type": "code",
   "execution_count": 1,
   "metadata": {},
   "outputs": [],
   "source": [
    "import pandas_profiling as pp\n",
    "import pandas as pd\n",
    "import numpy as np\n",
    "\n",
    "from matplotlib import pyplot as plt\n",
    "%matplotlib inline\n",
    "\n",
    "import warnings\n",
    "warnings.filterwarnings('ignore')"
   ]
  },
  {
   "cell_type": "code",
   "execution_count": 2,
   "metadata": {
    "scrolled": true
   },
   "outputs": [
    {
     "name": "stdout",
     "output_type": "stream",
     "text": [
      "total 1976272\r\n",
      "-rw-rw-r-- 1 ubuntu ubuntu     210907 Jan 25 18:30 1916-2019-01-25-15-00-34.zip\r\n",
      "-rw-rw-r-- 1 ubuntu ubuntu    1641746 Jan 25 17:33 atc-icd-mialist.csv\r\n",
      "-rw-rw-r-- 1 ubuntu ubuntu    2740224 Jan 25 17:23 BE_COD_2015_FR_v1.xls\r\n",
      "-rw-rw-r-- 1 ubuntu ubuntu    2743296 Jan 25 17:23 BE_COD_2015_NL_v2.xls\r\n",
      "-rw-rw-r-- 1 ubuntu ubuntu      13946 Jan 25 17:22 Care place service.xlsx\r\n",
      "-rw-rw-r-- 1 ubuntu ubuntu    1585669 Jan 25 17:22 csv4Emd_Fr_1901A.zip\r\n",
      "-rw-rw-r-- 1 ubuntu ubuntu    1552530 Jan 25 17:22 csv4Emd_Nl_1901A.zip\r\n",
      "-rw-rw-r-- 1 ubuntu ubuntu     782180 Jan 25 17:22 csv_ATCDPP_1808A.zip\r\n",
      "-rw-rw-r-- 1 ubuntu ubuntu     641368 Jan 25 17:22 csv_VOSDCI_1901A.zip\r\n",
      "-rw-rw-r-- 1 ubuntu ubuntu    5330821 Jan 25 17:22 d20061027316.pdf\r\n",
      "-rw-rw-r-- 1 ubuntu ubuntu       4243 Jan 25 18:31 dataforbetterhealth-master.zip\r\n",
      "-rw-rw-r-- 1 ubuntu ubuntu     152496 Jan 25 17:21 db4emd-docEN.pdf\r\n",
      "-rw-r--r-- 1 ubuntu ubuntu 1812381904 Jan 28 11:38 DB_V2.TXT\r\n",
      "-rw-rw-r-- 1 ubuntu ubuntu     357479 Jan 25 17:33 extended_tabel3.csv\r\n",
      "-rw-rw-r-- 1 ubuntu ubuntu    2260524 Jan 25 18:31 GGR_NL_2018.pdf\r\n",
      "-rw-rw-r-- 1 ubuntu ubuntu     265193 Jan 25 17:22 MvtProvFR.xlsx\r\n",
      "-rw-rw-r-- 1 ubuntu ubuntu     264961 Jan 25 17:22 MvtProvNL.xlsx\r\n",
      "-rw-rw-r-- 1 ubuntu ubuntu  105646080 Jan 28 11:42 original.tar\r\n",
      "-rw-rw-r-- 1 ubuntu ubuntu    1527893 Jan 25 17:33 pdfs_tabel3.csv\r\n",
      "-rw-rw-r-- 1 ubuntu ubuntu    4611002 Jan 25 17:40 PHARMA_REF.xlsx\r\n",
      "-rw-rw-r-- 1 ubuntu ubuntu      85921 Jan 25 17:22 reimb category.xlsx\r\n",
      "drwxrwxr-x 3 ubuntu ubuntu       4096 Jan 25 16:15 resources\r\n",
      "-rw-rw-r-- 1 ubuntu ubuntu   47349760 Jan 25 17:34 riziv-pdfs.tar\r\n",
      "-rw-rw-r-- 1 ubuntu ubuntu    1908793 Jan 25 21:03 riziv-stats.csv\r\n",
      "-rw-rw-r-- 1 ubuntu ubuntu   25013517 Jan 25 18:34 SAM_CIVICS_FULL_527_2019-01-15.zip\r\n",
      "-rw-rw-r-- 1 ubuntu ubuntu    1723176 Jan 25 17:21 sql4Emd_Fr_1901A.zip\r\n",
      "-rw-rw-r-- 1 ubuntu ubuntu    1687352 Jan 25 17:21 sql4Emd_Nl_1901A.zip\r\n",
      "-rw-rw-r-- 1 ubuntu ubuntu     855188 Jan 25 17:21 sql_ATCDPP_1808A.zip\r\n",
      "-rw-rw-r-- 1 ubuntu ubuntu     302296 Jan 25 17:21 VOSDCI_nl.pdf\r\n"
     ]
    }
   ],
   "source": [
    "! ls -l ../data/original"
   ]
  },
  {
   "cell_type": "code",
   "execution_count": 3,
   "metadata": {},
   "outputs": [
    {
     "name": "stdout",
     "output_type": "stream",
     "text": [
      "account_yy_ss\tProvince\tType\thosp_serv_id\treimbt_cat_id\tdrug_code\trealization_date\tquantity\tamount_reimb\tamount_not_reimb\tYear\r",
      "\r\n",
      "20026\tAnvers\tG�n�ral\t990\t698014\t0000000\t20014\t1\t218.1\t0\t2002\r",
      "\r\n",
      "20026\tAnvers\tG�n�ral\t990\t698051\t0000000\t20014\t3\t5816.01\t0\t2002\r",
      "\r\n",
      "20027\tAnvers\tG�n�ral\t990\t698051\t0000000\t20014\t1\t51.83\t0\t2002\r",
      "\r\n",
      "20026\tAnvers\tG�n�ral\t990\t698051\t0000000\t20021\t2\t535.21\t0\t2002\r",
      "\r\n",
      "20027\tAnvers\tG�n�ral\t990\t698051\t0000000\t20021\t1\t267.61\t0\t2002\r",
      "\r\n",
      "20026\tAnvers\tG�n�ral\t720\t698051\t0000000\t20022\t1\t5184.17\t0\t2002\r",
      "\r\n",
      "20027\tAnvers\tG�n�ral\t720\t698051\t0000000\t20022\t1\t5184.17\t0\t2002\r",
      "\r\n",
      "20027\tAnvers\tG�n�ral\t990\t698051\t0000000\t20022\t7\t6789.83\t0\t2002\r",
      "\r\n",
      "20027\tAnvers\tG�n�ral\t990\t698051\t0000000\t20023\t4\t1070.44\t0\t2002\r",
      "\r\n"
     ]
    }
   ],
   "source": [
    "! head ../data/original/DB_V2.TXT"
   ]
  },
  {
   "cell_type": "markdown",
   "metadata": {},
   "source": [
    "## loading the data"
   ]
  },
  {
   "cell_type": "code",
   "execution_count": 2,
   "metadata": {},
   "outputs": [],
   "source": [
    "# RIZIV dataset 1.8GB\n",
    "df = pd.read_csv(\"../data/original/DB_V2.TXT\", sep='\\t', encoding='latin-1', low_memory=False)\n",
    "df.drop_duplicates(inplace=True)"
   ]
  },
  {
   "cell_type": "code",
   "execution_count": null,
   "metadata": {},
   "outputs": [],
   "source": [
    "pp.ProfileReport(df).to_file(outputfile=\"../data/report/DB_V2_initial_dataset_report.html\")"
   ]
  },
  {
   "cell_type": "code",
   "execution_count": 3,
   "metadata": {},
   "outputs": [],
   "source": [
    "# fixed the drug_code issue for later merging\n",
    "pharma_ref = pd.read_excel(\"../data/original/PHARMA_REF.xlsx\", dtype={\"drug_code\":'str'})\n",
    "pharma_ref.drop_duplicates(inplace=True)"
   ]
  },
  {
   "cell_type": "code",
   "execution_count": 26,
   "metadata": {},
   "outputs": [],
   "source": [
    "pp.ProfileReport(pharma_ref).to_file(outputfile=\"../data/report/PHARMA_REF_xlsx_initial_dataset_report.html\")"
   ]
  },
  {
   "cell_type": "code",
   "execution_count": 9,
   "metadata": {},
   "outputs": [],
   "source": [
    "reimburse_cat = pd.read_excel(\"../data/original/reimb category.xlsx\")\n",
    "reimburse_cat.drop_duplicates(inplace=True)"
   ]
  },
  {
   "cell_type": "code",
   "execution_count": 29,
   "metadata": {},
   "outputs": [],
   "source": [
    "pp.ProfileReport(reimburse_cat).to_file(outputfile=\"../data/report/reimb_category_xlsx_initial_dataset_report.html\")"
   ]
  },
  {
   "cell_type": "markdown",
   "metadata": {},
   "source": [
    "## df datacleaning"
   ]
  },
  {
   "cell_type": "code",
   "execution_count": 5,
   "metadata": {},
   "outputs": [],
   "source": [
    "df.drop('Year', axis=1, inplace=True)\n",
    "df.drop('account_yy_ss', axis=1, inplace=True)"
   ]
  },
  {
   "cell_type": "markdown",
   "metadata": {},
   "source": [
    "## pharma_ref datacleaning"
   ]
  },
  {
   "cell_type": "markdown",
   "metadata": {},
   "source": [
    "### Big mistake here !\n",
    "\n",
    "keep it as a string object to merge properly !"
   ]
  },
  {
   "cell_type": "code",
   "execution_count": 4,
   "metadata": {},
   "outputs": [],
   "source": [
    "for id in pharma_ref[\"drug_code\"].unique():\n",
    "    if len(id) != 7:\n",
    "        print (id)\n",
    "        # this should reply 0 amount of id's"
   ]
  },
  {
   "cell_type": "code",
   "execution_count": 6,
   "metadata": {},
   "outputs": [],
   "source": [
    "for id in df[\"drug_code\"].unique():\n",
    "    if len(id) != 7:\n",
    "        print (id)\n",
    "        # this should reply 0 amount of id's"
   ]
  },
  {
   "cell_type": "code",
   "execution_count": 6,
   "metadata": {},
   "outputs": [],
   "source": [
    "#pharma_ref[\"drug_code\"] = pharma_ref[\"drug_code\"].astype(\"category\")\n",
    "# V2         has 24754 unique values here it has these codes occuring sometimes \n",
    "# pharma_ref has 36898 unique values all 100% unique\n",
    "\n",
    "# and we have to make sure pharma_ref[\"drug_code\"] is changed to string object values and you need to map/replace\n",
    "# for example      0 to 0000000\n",
    "# for example 136168 to 0136168, etc...\n",
    "\n",
    "# then when you merge you can use how='outer', indicator=True\n",
    "# special column \"_merge\" what you want (both, left_only, right_only)"
   ]
  },
  {
   "cell_type": "markdown",
   "metadata": {},
   "source": [
    "## reimburse_cat datacleaning"
   ]
  },
  {
   "cell_type": "code",
   "execution_count": 11,
   "metadata": {},
   "outputs": [],
   "source": [
    "reimburse_cat_dict = {'nd':'other', 'A':'A', 'B':'B', 'Cat 1':'other', 'Cat 2 (A)':'other', 'Cat 3':'other', 'Cat 4':'other',\n",
    "       'Cat 5 (D)':'other', 'C':'C', 'Cs':'C', 'Cx':'C', 'Cxg':'C', 'D':'D', 'Csg':'C', 'Ag':'A', 'Bg':'B', 'Cg':'C',\n",
    "       'Forf Ant':'other', 'Nutri Par':'other', 'Br':'other', 'Ar':'other', 'Cr':'C', 'Csr':'C', 'Cxr':'C',\n",
    "       'Forf Adm':'other', 'Forf BH':'forf', 'V08':'other', 'Fa':'other', 'Fb':'other', 'Forf 1-3':'other',\n",
    "       'Forf 4-':'other', 'Ri-D11':'other', 'Ri-T1':'other', 'Ri-T2':'other', 'Ri-T3':'other', 'Ri-D5':'other', 'Ri-D7':'other',\n",
    "       'Ri-D2':'other', 'Ri-D9':'other', 'Ri-D6':'other', 'Ri-D10':'other', 'Ri-D3':'other', 'Ri-D1':'other', 'Ri-D8':'other',\n",
    "       'Ri-T4':'other', 'Ri-D4':'other', 'Forf PET':'other', '90-A':'A', '90-B':'B', '90-Fa':'other', '90-Fb':'other',\n",
    "       'Ri-T5':'other', 'Ri-T6':'other', 'Ri-T7':'other', 'Ri-T8':'other', '90-C':'C', '90-Cs':'C', '90-Cx':'C'}"
   ]
  },
  {
   "cell_type": "code",
   "execution_count": 12,
   "metadata": {},
   "outputs": [],
   "source": [
    "reimburse_cat[\"reimbt_crit_long\"] = reimburse_cat[\"reimbt_crit_long\"].map(reimburse_cat_dict)"
   ]
  },
  {
   "cell_type": "code",
   "execution_count": 13,
   "metadata": {},
   "outputs": [],
   "source": [
    "# only keep hospitalised data, ignore ambulant data\n",
    "reimburse_cat_hosp = reimburse_cat[ (reimburse_cat[\"patient_cat\"] == 'HOSP') ]"
   ]
  },
  {
   "cell_type": "code",
   "execution_count": 14,
   "metadata": {},
   "outputs": [],
   "source": [
    "# max_pct is highly correlated with min_pct (ρ = 0.98479)\n",
    "reimburse_cat_hosp.drop('min_pct', axis=1, inplace=True)"
   ]
  },
  {
   "cell_type": "code",
   "execution_count": 15,
   "metadata": {},
   "outputs": [],
   "source": [
    "# patient_cat has constant value HOSP\n",
    "reimburse_cat_hosp.drop('patient_cat', axis=1, inplace=True)"
   ]
  },
  {
   "cell_type": "markdown",
   "metadata": {},
   "source": [
    "## MERGE inner joins"
   ]
  },
  {
   "cell_type": "code",
   "execution_count": 16,
   "metadata": {},
   "outputs": [],
   "source": [
    "df = pd.merge(df, pharma_ref, how=\"left\", left_on=\"drug_code\", right_on=\"drug_code\").reset_index()"
   ]
  },
  {
   "cell_type": "code",
   "execution_count": 17,
   "metadata": {},
   "outputs": [],
   "source": [
    "df = pd.merge(df, reimburse_cat_hosp, how=\"left\", left_on=\"reimbt_cat_id\", right_on=\"reimbt_cat_id\").reset_index()"
   ]
  },
  {
   "cell_type": "markdown",
   "metadata": {},
   "source": [
    "## df datacleaning phase II"
   ]
  },
  {
   "cell_type": "code",
   "execution_count": 18,
   "metadata": {},
   "outputs": [],
   "source": [
    "df.drop(\"level_0\", axis=1, inplace=True)\n",
    "df.drop(\"index\", axis=1, inplace=True)"
   ]
  },
  {
   "cell_type": "code",
   "execution_count": 19,
   "metadata": {},
   "outputs": [],
   "source": [
    "# set this columns as datetime dtype\n",
    "df['date_debut_rembourse'] = pd.to_datetime(df['date_debut_rembourse'], format='%Y-%m-%d')"
   ]
  },
  {
   "cell_type": "code",
   "execution_count": 20,
   "metadata": {},
   "outputs": [
    {
     "name": "stdout",
     "output_type": "stream",
     "text": [
      "<class 'pandas.core.frame.DataFrame'>\n",
      "RangeIndex: 26009309 entries, 0 to 26009308\n",
      "Data columns (total 46 columns):\n",
      "Province                    object\n",
      "Type                        object\n",
      "hosp_serv_id                object\n",
      "reimbt_cat_id               int64\n",
      "drug_code                   object\n",
      "realization_date            int64\n",
      "quantity                    int64\n",
      "amount_reimb                float64\n",
      "amount_not_reimb            float64\n",
      "trim_pharma                 float64\n",
      "produit_pharma              float64\n",
      "type_drug_code              object\n",
      "famille_produit_pharma      object\n",
      "drug_name_aggregated        object\n",
      "nom_produit_pharma          object\n",
      "conditionnement             object\n",
      "mode_administration         object\n",
      "nom_firme_pharma            object\n",
      "date_debut_rembourse        datetime64[ns]\n",
      "statut_produit_pharma       object\n",
      "code_atc                    object\n",
      "code_atc_5                  object\n",
      "code_atc_4                  object\n",
      "code_atc_3                  object\n",
      "code_atc_1                  object\n",
      "DDD                         float64\n",
      "nombre_prises               float64\n",
      "orphan_flag                 float64\n",
      "chapter_IV_bis_flag         float64\n",
      "link_same_tablet            float64\n",
      "dbegin                      datetime64[ns]\n",
      "dend                        datetime64[ns]\n",
      "reimbt_cat_desc_fr          object\n",
      "reimbt_cat_desc_nl          object\n",
      "reimbt_crit_long            object\n",
      "reimbt_crit_short           object\n",
      "reimbt_cat_acute_yn         float64\n",
      "reimbt_cat_chron_yn         float64\n",
      "reimbt_cat_psy_yn           float64\n",
      "max_pct                     float64\n",
      "reimbt_cat_fixed_rate_yn    float64\n",
      "relative_care_yn            float64\n",
      "ami_ziv_amount_null_yn      float64\n",
      "not_reimbursed_null_yn      float64\n",
      "fee_cat                     object\n",
      "reimbt_cat_id_pk            float64\n",
      "dtypes: datetime64[ns](3), float64(18), int64(3), object(22)\n",
      "memory usage: 8.9+ GB\n"
     ]
    }
   ],
   "source": [
    "df.info()"
   ]
  },
  {
   "cell_type": "code",
   "execution_count": 21,
   "metadata": {},
   "outputs": [],
   "source": [
    "df = df.astype({'Type':'category', 'type_drug_code':'category', 'statut_produit_pharma':'category',\n",
    "               'orphan_flag':'bool', 'chapter_IV_bis_flag':'bool', 'reimbt_cat_acute_yn':'bool',\n",
    "               'reimbt_cat_chron_yn':'bool', 'reimbt_cat_psy_yn':'bool', 'reimbt_cat_fixed_rate_yn':'bool',\n",
    "               'relative_care_yn':'bool', 'ami_ziv_amount_null_yn':'bool', 'not_reimbursed_null_yn':'bool', 'fee_cat':'category'})"
   ]
  },
  {
   "cell_type": "code",
   "execution_count": 22,
   "metadata": {},
   "outputs": [
    {
     "name": "stdout",
     "output_type": "stream",
     "text": [
      "<class 'pandas.core.frame.DataFrame'>\n",
      "RangeIndex: 26009309 entries, 0 to 26009308\n",
      "Data columns (total 46 columns):\n",
      "Province                    object\n",
      "Type                        category\n",
      "hosp_serv_id                object\n",
      "reimbt_cat_id               int64\n",
      "drug_code                   object\n",
      "realization_date            int64\n",
      "quantity                    int64\n",
      "amount_reimb                float64\n",
      "amount_not_reimb            float64\n",
      "trim_pharma                 float64\n",
      "produit_pharma              float64\n",
      "type_drug_code              category\n",
      "famille_produit_pharma      object\n",
      "drug_name_aggregated        object\n",
      "nom_produit_pharma          object\n",
      "conditionnement             object\n",
      "mode_administration         object\n",
      "nom_firme_pharma            object\n",
      "date_debut_rembourse        datetime64[ns]\n",
      "statut_produit_pharma       category\n",
      "code_atc                    object\n",
      "code_atc_5                  object\n",
      "code_atc_4                  object\n",
      "code_atc_3                  object\n",
      "code_atc_1                  object\n",
      "DDD                         float64\n",
      "nombre_prises               float64\n",
      "orphan_flag                 bool\n",
      "chapter_IV_bis_flag         bool\n",
      "link_same_tablet            float64\n",
      "dbegin                      datetime64[ns]\n",
      "dend                        datetime64[ns]\n",
      "reimbt_cat_desc_fr          object\n",
      "reimbt_cat_desc_nl          object\n",
      "reimbt_crit_long            object\n",
      "reimbt_crit_short           object\n",
      "reimbt_cat_acute_yn         bool\n",
      "reimbt_cat_chron_yn         bool\n",
      "reimbt_cat_psy_yn           bool\n",
      "max_pct                     float64\n",
      "reimbt_cat_fixed_rate_yn    bool\n",
      "relative_care_yn            bool\n",
      "ami_ziv_amount_null_yn      bool\n",
      "not_reimbursed_null_yn      bool\n",
      "fee_cat                     category\n",
      "reimbt_cat_id_pk            float64\n",
      "dtypes: bool(9), category(4), datetime64[ns](3), float64(9), int64(3), object(18)\n",
      "memory usage: 6.7+ GB\n"
     ]
    }
   ],
   "source": [
    "df.info()"
   ]
  },
  {
   "cell_type": "code",
   "execution_count": 23,
   "metadata": {},
   "outputs": [],
   "source": [
    "df[\"realization_date\"] = df[\"realization_date\"].astype('str')"
   ]
  },
  {
   "cell_type": "markdown",
   "metadata": {},
   "source": [
    "## Our domain expert suggest to only keep these columns:"
   ]
  },
  {
   "cell_type": "code",
   "execution_count": 24,
   "metadata": {},
   "outputs": [],
   "source": [
    "# keep these columns:\n",
    "df = df[['Province', 'Type', 'hosp_serv_id', 'reimbt_cat_id', 'drug_code',\n",
    "       'realization_date', 'quantity', 'amount_reimb', 'amount_not_reimb',\n",
    "       'trim_pharma', 'produit_pharma', 'type_drug_code',\n",
    "       'famille_produit_pharma', 'drug_name_aggregated',\n",
    "       'conditionnement', 'mode_administration',\n",
    "       'date_debut_rembourse', 'statut_produit_pharma', 'code_atc',\n",
    "       'code_atc_5', 'code_atc_4', 'code_atc_3', 'code_atc_1', 'DDD',\n",
    "       'nombre_prises', 'orphan_flag', 'chapter_IV_bis_flag',\n",
    "       'link_same_tablet', 'dbegin', 'dend', 'reimbt_cat_desc_fr',\n",
    "       'reimbt_cat_desc_nl', 'reimbt_crit_long', 'reimbt_crit_short',\n",
    "       'reimbt_cat_fixed_rate_yn', 'fee_cat']]"
   ]
  },
  {
   "cell_type": "markdown",
   "metadata": {},
   "source": [
    "## then generate a new final report"
   ]
  },
  {
   "cell_type": "code",
   "execution_count": 25,
   "metadata": {},
   "outputs": [],
   "source": [
    "pp.ProfileReport(df).to_file(outputfile=\"../data/report/DB_V4_merged_pharmaref_and_reimbcategory_report.html\")"
   ]
  },
  {
   "cell_type": "markdown",
   "metadata": {},
   "source": [
    "## output the final dataset to *.csv format"
   ]
  },
  {
   "cell_type": "code",
   "execution_count": null,
   "metadata": {},
   "outputs": [],
   "source": [
    "# df.to_csv(\"../data/dataset/DB_V4.csv\", index=False)"
   ]
  },
  {
   "cell_type": "code",
   "execution_count": null,
   "metadata": {},
   "outputs": [],
   "source": []
  },
  {
   "cell_type": "markdown",
   "metadata": {},
   "source": [
    "## make a split for every year"
   ]
  },
  {
   "cell_type": "code",
   "execution_count": 27,
   "metadata": {},
   "outputs": [
    {
     "name": "stdout",
     "output_type": "stream",
     "text": [
      "2001\n",
      "2002\n",
      "2000\n",
      "1999\n",
      "2009\n",
      "1998\n",
      "1995\n",
      "1996\n",
      "1997\n",
      "2008\n",
      "2007\n",
      "1994\n",
      "1991\n",
      "1992\n",
      "1993\n",
      "1989\n",
      "2004\n",
      "2006\n",
      "2003\n",
      "2005\n",
      "2010\n",
      "2011\n",
      "2012\n",
      "2013\n",
      "2014\n",
      "2015\n",
      "2016\n",
      "2017\n"
     ]
    }
   ],
   "source": [
    "for i in df[\"realization_date\"].str[:4].unique():\n",
    "    print (i)"
   ]
  },
  {
   "cell_type": "code",
   "execution_count": 28,
   "metadata": {},
   "outputs": [
    {
     "name": "stdout",
     "output_type": "stream",
     "text": [
      "selecting year: 2001\n",
      "created dataframe\n",
      "created html report\n",
      "created *.csv file\n",
      "selecting year: 2002\n",
      "created dataframe\n",
      "created html report\n",
      "created *.csv file\n",
      "selecting year: 2000\n",
      "created dataframe\n",
      "created html report\n",
      "created *.csv file\n",
      "selecting year: 1999\n",
      "created dataframe\n",
      "created html report\n",
      "created *.csv file\n",
      "selecting year: 2009\n",
      "created dataframe\n",
      "created html report\n",
      "created *.csv file\n",
      "selecting year: 1998\n",
      "created dataframe\n",
      "created html report\n",
      "created *.csv file\n",
      "selecting year: 1995\n",
      "created dataframe\n",
      "created html report\n",
      "created *.csv file\n",
      "selecting year: 1996\n",
      "created dataframe\n",
      "created html report\n",
      "created *.csv file\n",
      "selecting year: 1997\n",
      "created dataframe\n",
      "created html report\n",
      "created *.csv file\n",
      "selecting year: 2008\n",
      "created dataframe\n",
      "created html report\n",
      "created *.csv file\n",
      "selecting year: 2007\n",
      "created dataframe\n",
      "created html report\n",
      "created *.csv file\n",
      "selecting year: 1994\n",
      "created dataframe\n",
      "created html report\n",
      "created *.csv file\n",
      "selecting year: 1991\n",
      "created dataframe\n",
      "created html report\n",
      "created *.csv file\n",
      "selecting year: 1992\n",
      "created dataframe\n",
      "created html report\n",
      "created *.csv file\n",
      "selecting year: 1993\n",
      "created dataframe\n",
      "created html report\n",
      "created *.csv file\n",
      "selecting year: 1989\n",
      "created dataframe\n",
      "created html report\n",
      "created *.csv file\n",
      "selecting year: 2004\n",
      "created dataframe\n",
      "created html report\n",
      "created *.csv file\n",
      "selecting year: 2006\n",
      "created dataframe\n",
      "created html report\n",
      "created *.csv file\n",
      "selecting year: 2003\n",
      "created dataframe\n",
      "created html report\n",
      "created *.csv file\n",
      "selecting year: 2005\n",
      "created dataframe\n",
      "created html report\n",
      "created *.csv file\n",
      "selecting year: 2010\n",
      "created dataframe\n",
      "created html report\n",
      "created *.csv file\n",
      "selecting year: 2011\n",
      "created dataframe\n",
      "created html report\n",
      "created *.csv file\n",
      "selecting year: 2012\n",
      "created dataframe\n",
      "created html report\n",
      "created *.csv file\n",
      "selecting year: 2013\n",
      "created dataframe\n",
      "created html report\n",
      "created *.csv file\n",
      "selecting year: 2014\n",
      "created dataframe\n",
      "created html report\n",
      "created *.csv file\n",
      "selecting year: 2015\n",
      "created dataframe\n",
      "created html report\n",
      "created *.csv file\n",
      "selecting year: 2016\n",
      "created dataframe\n",
      "created html report\n",
      "created *.csv file\n",
      "selecting year: 2017\n",
      "created dataframe\n",
      "created html report\n",
      "created *.csv file\n"
     ]
    }
   ],
   "source": [
    "for year in df[\"realization_date\"].str[:4].unique():\n",
    "    print (\"selecting year: {}\".format(year))\n",
    "    df_year = df[ (df[\"realization_date\"].str[:4] == year)] # here we select only that year\n",
    "    print (\"created dataframe\")\n",
    "    pp.ProfileReport(df_year).to_file(outputfile=\"../data/report/DB_V4_\" + str(year) + \"_report.html\")\n",
    "    print (\"created html report\")\n",
    "    df_year.to_csv(\"../data/dataset/DB_V4_\" + str(year) + \".csv\", index=False)\n",
    "    print (\"created *.csv file\")"
   ]
  },
  {
   "cell_type": "code",
   "execution_count": null,
   "metadata": {},
   "outputs": [],
   "source": []
  },
  {
   "cell_type": "code",
   "execution_count": null,
   "metadata": {},
   "outputs": [],
   "source": []
  },
  {
   "cell_type": "code",
   "execution_count": null,
   "metadata": {},
   "outputs": [],
   "source": []
  },
  {
   "cell_type": "markdown",
   "metadata": {},
   "source": [
    "## Select 2016"
   ]
  },
  {
   "cell_type": "code",
   "execution_count": 30,
   "metadata": {},
   "outputs": [],
   "source": [
    "df = df[ (df[\"realization_date\"].str[:4] == '2016')]"
   ]
  },
  {
   "cell_type": "code",
   "execution_count": 31,
   "metadata": {},
   "outputs": [
    {
     "name": "stdout",
     "output_type": "stream",
     "text": [
      "<class 'pandas.core.frame.DataFrame'>\n",
      "Int64Index: 1542611 entries, 22833075 to 26009296\n",
      "Data columns (total 36 columns):\n",
      "Province                    1542611 non-null object\n",
      "Type                        1542611 non-null category\n",
      "hosp_serv_id                1542611 non-null object\n",
      "reimbt_cat_id               1542611 non-null int64\n",
      "drug_code                   1542611 non-null object\n",
      "realization_date            1542611 non-null object\n",
      "quantity                    1542611 non-null int64\n",
      "amount_reimb                1542611 non-null float64\n",
      "amount_not_reimb            1542611 non-null float64\n",
      "trim_pharma                 1542611 non-null float64\n",
      "produit_pharma              1542611 non-null float64\n",
      "type_drug_code              1538323 non-null category\n",
      "famille_produit_pharma      1538323 non-null object\n",
      "drug_name_aggregated        1538323 non-null object\n",
      "conditionnement             1509986 non-null object\n",
      "mode_administration         1510761 non-null object\n",
      "date_debut_rembourse        1542611 non-null datetime64[ns]\n",
      "statut_produit_pharma       1459958 non-null category\n",
      "code_atc                    1542611 non-null object\n",
      "code_atc_5                  1542611 non-null object\n",
      "code_atc_4                  1542611 non-null object\n",
      "code_atc_3                  1542611 non-null object\n",
      "code_atc_1                  1542611 non-null object\n",
      "DDD                         1542611 non-null float64\n",
      "nombre_prises               1542611 non-null float64\n",
      "orphan_flag                 1542611 non-null bool\n",
      "chapter_IV_bis_flag         1542611 non-null bool\n",
      "link_same_tablet            1542611 non-null float64\n",
      "dbegin                      1159383 non-null datetime64[ns]\n",
      "dend                        1159383 non-null datetime64[ns]\n",
      "reimbt_cat_desc_fr          1159383 non-null object\n",
      "reimbt_cat_desc_nl          1159383 non-null object\n",
      "reimbt_crit_long            1159383 non-null object\n",
      "reimbt_crit_short           1159383 non-null object\n",
      "reimbt_cat_fixed_rate_yn    1542611 non-null bool\n",
      "fee_cat                     1159383 non-null category\n",
      "dtypes: bool(3), category(4), datetime64[ns](3), float64(7), int64(2), object(17)\n",
      "memory usage: 363.4+ MB\n"
     ]
    }
   ],
   "source": [
    "df.info()"
   ]
  },
  {
   "cell_type": "markdown",
   "metadata": {},
   "source": [
    "## output result"
   ]
  },
  {
   "cell_type": "code",
   "execution_count": null,
   "metadata": {},
   "outputs": [],
   "source": [
    "pp.ProfileReport(df).to_file(outputfile=\"../data/report/DB_V4_2016_report.html\")"
   ]
  },
  {
   "cell_type": "code",
   "execution_count": null,
   "metadata": {},
   "outputs": [],
   "source": [
    "#df.to_csv(\"../data/dataset/DB_V4.csv\", index=False)"
   ]
  },
  {
   "cell_type": "code",
   "execution_count": null,
   "metadata": {},
   "outputs": [],
   "source": [
    "df.info(verbose=True)"
   ]
  },
  {
   "cell_type": "code",
   "execution_count": null,
   "metadata": {},
   "outputs": [],
   "source": [
    "#import pandas_profiling as pp"
   ]
  },
  {
   "cell_type": "code",
   "execution_count": null,
   "metadata": {},
   "outputs": [],
   "source": [
    "#pp.ProfileReport(pharma_ref)"
   ]
  },
  {
   "cell_type": "code",
   "execution_count": null,
   "metadata": {},
   "outputs": [],
   "source": [
    "#df[\"realization_date\"] = df[\"realization_date\"].astype('str')"
   ]
  },
  {
   "cell_type": "code",
   "execution_count": null,
   "metadata": {},
   "outputs": [],
   "source": [
    "#(df[\"realization_date\"].str[:4] == '2016').value_counts()"
   ]
  },
  {
   "cell_type": "code",
   "execution_count": 32,
   "metadata": {},
   "outputs": [
    {
     "data": {
      "text/plain": [
       "Index(['Province', 'Type', 'hosp_serv_id', 'reimbt_cat_id', 'drug_code',\n",
       "       'realization_date', 'quantity', 'amount_reimb', 'amount_not_reimb',\n",
       "       'trim_pharma', 'produit_pharma', 'type_drug_code',\n",
       "       'famille_produit_pharma', 'drug_name_aggregated', 'conditionnement',\n",
       "       'mode_administration', 'date_debut_rembourse', 'statut_produit_pharma',\n",
       "       'code_atc', 'code_atc_5', 'code_atc_4', 'code_atc_3', 'code_atc_1',\n",
       "       'DDD', 'nombre_prises', 'orphan_flag', 'chapter_IV_bis_flag',\n",
       "       'link_same_tablet', 'dbegin', 'dend', 'reimbt_cat_desc_fr',\n",
       "       'reimbt_cat_desc_nl', 'reimbt_crit_long', 'reimbt_crit_short',\n",
       "       'reimbt_cat_fixed_rate_yn', 'fee_cat'],\n",
       "      dtype='object')"
      ]
     },
     "execution_count": 32,
     "metadata": {},
     "output_type": "execute_result"
    }
   ],
   "source": [
    "df.columns"
   ]
  },
  {
   "cell_type": "code",
   "execution_count": 33,
   "metadata": {},
   "outputs": [],
   "source": [
    "# keep these columns:\n",
    "df = df[['Province', 'Type', 'hosp_serv_id', 'reimbt_cat_id', 'drug_code',\n",
    "       'realization_date', 'quantity', 'amount_reimb', 'amount_not_reimb',\n",
    "       'trim_pharma', 'produit_pharma', 'type_drug_code',\n",
    "       'famille_produit_pharma', 'drug_name_aggregated',\n",
    "       'conditionnement', 'mode_administration',\n",
    "       'date_debut_rembourse', 'statut_produit_pharma', 'code_atc',\n",
    "       'code_atc_5', 'code_atc_4', 'code_atc_3', 'code_atc_1', 'DDD',\n",
    "       'nombre_prises', 'orphan_flag', 'chapter_IV_bis_flag',\n",
    "       'link_same_tablet', 'dbegin', 'dend', 'reimbt_cat_desc_fr',\n",
    "       'reimbt_cat_desc_nl', 'reimbt_crit_long', 'reimbt_crit_short',\n",
    "       'reimbt_cat_fixed_rate_yn', 'fee_cat']]"
   ]
  },
  {
   "cell_type": "code",
   "execution_count": 34,
   "metadata": {},
   "outputs": [],
   "source": [
    "df[\"reimbt_cat_fixed_rate_yn\"] = df[\"reimbt_cat_fixed_rate_yn\"].astype('bool')"
   ]
  },
  {
   "cell_type": "code",
   "execution_count": 35,
   "metadata": {},
   "outputs": [],
   "source": [
    "df_work = df[ (df[\"reimbt_cat_fixed_rate_yn\"] == True) ]"
   ]
  },
  {
   "cell_type": "code",
   "execution_count": 36,
   "metadata": {},
   "outputs": [],
   "source": [
    "df_work.to_csv(\"../data/dataset/not_reimb_workfile_2016.csv\", index=False)"
   ]
  },
  {
   "cell_type": "code",
   "execution_count": 37,
   "metadata": {},
   "outputs": [
    {
     "data": {
      "text/plain": [
       "Général          953388\n",
       "Psychiatrique      6046\n",
       "Name: Type, dtype: int64"
      ]
     },
     "execution_count": 37,
     "metadata": {},
     "output_type": "execute_result"
    }
   ],
   "source": [
    "df_work[\"Type\"].value_counts()"
   ]
  },
  {
   "cell_type": "code",
   "execution_count": 38,
   "metadata": {},
   "outputs": [],
   "source": [
    "df_work[\"amount_reimb_div_quantity\"] = df_work[\"amount_reimb\"] / df_work[\"quantity\"]"
   ]
  },
  {
   "cell_type": "code",
   "execution_count": null,
   "metadata": {},
   "outputs": [],
   "source": [
    "#df.groupby('col1')['col2'].apply(lambda x: x)"
   ]
  },
  {
   "cell_type": "code",
   "execution_count": 39,
   "metadata": {},
   "outputs": [],
   "source": [
    "df_work = df_work[ (df_work[\"Type\"] == \"Général\") ]"
   ]
  },
  {
   "cell_type": "code",
   "execution_count": 40,
   "metadata": {},
   "outputs": [
    {
     "data": {
      "text/plain": [
       " 0.000000e+00    520\n",
       " inf             101\n",
       "-inf              13\n",
       " 5.824304e+00      1\n",
       " 5.003638e+02      1\n",
       " 4.261144e+00      1\n",
       " 4.202902e+01      1\n",
       " 4.718318e+01      1\n",
       " 3.732954e+02      1\n",
       " 6.304515e+01      1\n",
       " 5.873456e+02      1\n",
       " 8.036152e+00      1\n",
       " 9.219011e+04      1\n",
       " 2.022065e+04      1\n",
       " 9.989872e+03      1\n",
       " 3.684756e+01      1\n",
       " 1.139832e+01      1\n",
       " 4.038665e+03      1\n",
       " 2.662045e-01      1\n",
       " 2.348433e+01      1\n",
       " 9.977944e+03      1\n",
       " 7.716923e+01      1\n",
       " 2.796620e+03      1\n",
       " 7.934648e+00      1\n",
       " 8.849044e+01      1\n",
       " 1.206362e+02      1\n",
       " 2.878000e+01      1\n",
       " 1.138605e+04      1\n",
       " 3.721350e+03      1\n",
       " 2.942728e+02      1\n",
       "                ... \n",
       " 3.865374e+04      1\n",
       " 1.041316e+06      1\n",
       " 2.406465e+01      1\n",
       " 7.219843e+00      1\n",
       " 4.166468e+01      1\n",
       " 3.284791e+01      1\n",
       " 2.573558e+00      1\n",
       " 4.382187e+00      1\n",
       " 1.281722e+05      1\n",
       " 4.841690e+02      1\n",
       " 4.057019e+01      1\n",
       " 6.042004e+03      1\n",
       " 6.111199e+01      1\n",
       " 2.092393e+05      1\n",
       " 7.775758e+02      1\n",
       " 1.050866e+04      1\n",
       " 2.576000e+02      1\n",
       " 4.755167e-01      1\n",
       " 2.518901e+04      1\n",
       " 1.994092e+02      1\n",
       " 4.000000e-01      1\n",
       " 4.905000e+01      1\n",
       " 2.681792e+01      1\n",
       " 6.219660e+02      1\n",
       " 2.436641e+02      1\n",
       " 1.917584e+02      1\n",
       " 3.520450e+02      1\n",
       " 9.887000e+01      1\n",
       " 1.528000e+01      1\n",
       " 2.545669e+00      1\n",
       "Name: amount_reimb_div_quantity, Length: 817, dtype: int64"
      ]
     },
     "execution_count": 40,
     "metadata": {},
     "output_type": "execute_result"
    }
   ],
   "source": [
    "df_work.groupby([\"code_atc\"])[\"amount_reimb_div_quantity\"].sum().value_counts(ascending=False)"
   ]
  },
  {
   "cell_type": "code",
   "execution_count": 41,
   "metadata": {},
   "outputs": [
    {
     "ename": "AttributeError",
     "evalue": "'DataFrameGroupBy' object has no attribute 'value_counts'",
     "output_type": "error",
     "traceback": [
      "\u001b[0;31m---------------------------------------------------------------------------\u001b[0m",
      "\u001b[0;31mAttributeError\u001b[0m                            Traceback (most recent call last)",
      "\u001b[0;32m<ipython-input-41-529565768334>\u001b[0m in \u001b[0;36m<module>\u001b[0;34m\u001b[0m\n\u001b[0;32m----> 1\u001b[0;31m \u001b[0mdf_work\u001b[0m\u001b[0;34m.\u001b[0m\u001b[0mgroupby\u001b[0m\u001b[0;34m(\u001b[0m\u001b[0;34m[\u001b[0m\u001b[0;34m\"code_atc\"\u001b[0m\u001b[0;34m]\u001b[0m\u001b[0;34m)\u001b[0m\u001b[0;34m.\u001b[0m\u001b[0mvalue_counts\u001b[0m\u001b[0;34m(\u001b[0m\u001b[0;34m)\u001b[0m\u001b[0;34m\u001b[0m\u001b[0m\n\u001b[0m",
      "\u001b[0;32m~/venv/lib/python3.5/site-packages/pandas/core/groupby/groupby.py\u001b[0m in \u001b[0;36m__getattr__\u001b[0;34m(self, attr)\u001b[0m\n\u001b[1;32m    534\u001b[0m \u001b[0;34m\u001b[0m\u001b[0m\n\u001b[1;32m    535\u001b[0m         raise AttributeError(\"%r object has no attribute %r\" %\n\u001b[0;32m--> 536\u001b[0;31m                              (type(self).__name__, attr))\n\u001b[0m\u001b[1;32m    537\u001b[0m \u001b[0;34m\u001b[0m\u001b[0m\n\u001b[1;32m    538\u001b[0m     @Substitution(klass='GroupBy',\n",
      "\u001b[0;31mAttributeError\u001b[0m: 'DataFrameGroupBy' object has no attribute 'value_counts'"
     ]
    }
   ],
   "source": [
    "df_work.groupby([\"code_atc\"]).value_counts()"
   ]
  },
  {
   "cell_type": "code",
   "execution_count": 42,
   "metadata": {},
   "outputs": [
    {
     "data": {
      "text/html": [
       "<div>\n",
       "<style scoped>\n",
       "    .dataframe tbody tr th:only-of-type {\n",
       "        vertical-align: middle;\n",
       "    }\n",
       "\n",
       "    .dataframe tbody tr th {\n",
       "        vertical-align: top;\n",
       "    }\n",
       "\n",
       "    .dataframe thead th {\n",
       "        text-align: right;\n",
       "    }\n",
       "</style>\n",
       "<table border=\"1\" class=\"dataframe\">\n",
       "  <thead>\n",
       "    <tr style=\"text-align: right;\">\n",
       "      <th></th>\n",
       "      <th>25274257</th>\n",
       "      <th>23855448</th>\n",
       "      <th>24485367</th>\n",
       "      <th>23460071</th>\n",
       "      <th>23366336</th>\n",
       "    </tr>\n",
       "  </thead>\n",
       "  <tbody>\n",
       "    <tr>\n",
       "      <th>Province</th>\n",
       "      <td>Flandre orientale</td>\n",
       "      <td>Hainaut</td>\n",
       "      <td>Anvers</td>\n",
       "      <td>Flandre Occidentale</td>\n",
       "      <td>Bruxelles-Capitale</td>\n",
       "    </tr>\n",
       "    <tr>\n",
       "      <th>Type</th>\n",
       "      <td>Général</td>\n",
       "      <td>Général</td>\n",
       "      <td>Général</td>\n",
       "      <td>Général</td>\n",
       "      <td>Général</td>\n",
       "    </tr>\n",
       "    <tr>\n",
       "      <th>hosp_serv_id</th>\n",
       "      <td>490</td>\n",
       "      <td>770</td>\n",
       "      <td>720</td>\n",
       "      <td>320</td>\n",
       "      <td>650</td>\n",
       "    </tr>\n",
       "    <tr>\n",
       "      <th>reimbt_cat_id</th>\n",
       "      <td>756044</td>\n",
       "      <td>751015</td>\n",
       "      <td>753955</td>\n",
       "      <td>750890</td>\n",
       "      <td>756125</td>\n",
       "    </tr>\n",
       "    <tr>\n",
       "      <th>drug_code</th>\n",
       "      <td>0740951</td>\n",
       "      <td>1782499</td>\n",
       "      <td>0762153</td>\n",
       "      <td>0784645</td>\n",
       "      <td>0746719</td>\n",
       "    </tr>\n",
       "    <tr>\n",
       "      <th>realization_date</th>\n",
       "      <td>20162</td>\n",
       "      <td>20162</td>\n",
       "      <td>20164</td>\n",
       "      <td>20163</td>\n",
       "      <td>20163</td>\n",
       "    </tr>\n",
       "    <tr>\n",
       "      <th>quantity</th>\n",
       "      <td>33</td>\n",
       "      <td>1</td>\n",
       "      <td>11</td>\n",
       "      <td>2</td>\n",
       "      <td>47</td>\n",
       "    </tr>\n",
       "    <tr>\n",
       "      <th>amount_reimb</th>\n",
       "      <td>13.75</td>\n",
       "      <td>0</td>\n",
       "      <td>0.66</td>\n",
       "      <td>2.58</td>\n",
       "      <td>2.17</td>\n",
       "    </tr>\n",
       "    <tr>\n",
       "      <th>amount_not_reimb</th>\n",
       "      <td>0</td>\n",
       "      <td>0.13</td>\n",
       "      <td>0.66</td>\n",
       "      <td>0.86</td>\n",
       "      <td>0</td>\n",
       "    </tr>\n",
       "    <tr>\n",
       "      <th>trim_pharma</th>\n",
       "      <td>20183</td>\n",
       "      <td>20183</td>\n",
       "      <td>20183</td>\n",
       "      <td>20183</td>\n",
       "      <td>20183</td>\n",
       "    </tr>\n",
       "    <tr>\n",
       "      <th>produit_pharma</th>\n",
       "      <td>740951</td>\n",
       "      <td>1.7825e+06</td>\n",
       "      <td>762153</td>\n",
       "      <td>784645</td>\n",
       "      <td>746719</td>\n",
       "    </tr>\n",
       "    <tr>\n",
       "      <th>type_drug_code</th>\n",
       "      <td>Unit</td>\n",
       "      <td>Package</td>\n",
       "      <td>Unit</td>\n",
       "      <td>Unit</td>\n",
       "      <td>Unit</td>\n",
       "    </tr>\n",
       "    <tr>\n",
       "      <th>famille_produit_pharma</th>\n",
       "      <td>Spécialité pharmaceutique</td>\n",
       "      <td>Médicament D</td>\n",
       "      <td>Spécialité pharmaceutique</td>\n",
       "      <td>Spécialité pharmaceutique</td>\n",
       "      <td>Spécialité pharmaceutique</td>\n",
       "    </tr>\n",
       "    <tr>\n",
       "      <th>drug_name_aggregated</th>\n",
       "      <td>elektrolyten - generieken</td>\n",
       "      <td>SPIDIFEN</td>\n",
       "      <td>LYSOMUCIL</td>\n",
       "      <td>alendroninezuur - generieken</td>\n",
       "      <td>PROGOR</td>\n",
       "    </tr>\n",
       "    <tr>\n",
       "      <th>conditionnement</th>\n",
       "      <td>* pr. zak - sac 500 ml</td>\n",
       "      <td>dos gran 24 x 200 mg</td>\n",
       "      <td>* pr. gran. sach. 1 x 600 mg</td>\n",
       "      <td>1 comprimé x 70 mg Alendronate, sodique</td>\n",
       "      <td>* pr. caps. 1 x 300 mg</td>\n",
       "    </tr>\n",
       "    <tr>\n",
       "      <th>mode_administration</th>\n",
       "      <td>INJECTION</td>\n",
       "      <td>ORAL LIQUIDE</td>\n",
       "      <td>ORAL LIQUIDE</td>\n",
       "      <td>COMPRIMES</td>\n",
       "      <td>COMPRIMES</td>\n",
       "    </tr>\n",
       "    <tr>\n",
       "      <th>date_debut_rembourse</th>\n",
       "      <td>1994-04-01 00:00:00</td>\n",
       "      <td>2070-01-01 00:00:00</td>\n",
       "      <td>2000-05-01 00:00:00</td>\n",
       "      <td>2007-01-01 00:00:00</td>\n",
       "      <td>1997-12-01 00:00:00</td>\n",
       "    </tr>\n",
       "    <tr>\n",
       "      <th>statut_produit_pharma</th>\n",
       "      <td>orig</td>\n",
       "      <td>orig</td>\n",
       "      <td>orig R</td>\n",
       "      <td>G</td>\n",
       "      <td>orig R</td>\n",
       "    </tr>\n",
       "    <tr>\n",
       "      <th>code_atc</th>\n",
       "      <td>B05BB01</td>\n",
       "      <td>M01AE01</td>\n",
       "      <td>R05CB01</td>\n",
       "      <td>M05BA04</td>\n",
       "      <td>C08DB01</td>\n",
       "    </tr>\n",
       "    <tr>\n",
       "      <th>code_atc_5</th>\n",
       "      <td>B05BB</td>\n",
       "      <td>M01AE</td>\n",
       "      <td>R05CB</td>\n",
       "      <td>M05BA</td>\n",
       "      <td>C08DB</td>\n",
       "    </tr>\n",
       "    <tr>\n",
       "      <th>code_atc_4</th>\n",
       "      <td>B05B</td>\n",
       "      <td>M01A</td>\n",
       "      <td>R05C</td>\n",
       "      <td>M05B</td>\n",
       "      <td>C08D</td>\n",
       "    </tr>\n",
       "    <tr>\n",
       "      <th>code_atc_3</th>\n",
       "      <td>B05</td>\n",
       "      <td>M01</td>\n",
       "      <td>R05</td>\n",
       "      <td>M05</td>\n",
       "      <td>C08</td>\n",
       "    </tr>\n",
       "    <tr>\n",
       "      <th>code_atc_1</th>\n",
       "      <td>B</td>\n",
       "      <td>M</td>\n",
       "      <td>R</td>\n",
       "      <td>M</td>\n",
       "      <td>C</td>\n",
       "    </tr>\n",
       "    <tr>\n",
       "      <th>DDD</th>\n",
       "      <td>1</td>\n",
       "      <td>4</td>\n",
       "      <td>1.2</td>\n",
       "      <td>7</td>\n",
       "      <td>1.25</td>\n",
       "    </tr>\n",
       "    <tr>\n",
       "      <th>nombre_prises</th>\n",
       "      <td>0</td>\n",
       "      <td>0</td>\n",
       "      <td>0</td>\n",
       "      <td>1</td>\n",
       "      <td>1</td>\n",
       "    </tr>\n",
       "    <tr>\n",
       "      <th>orphan_flag</th>\n",
       "      <td>False</td>\n",
       "      <td>False</td>\n",
       "      <td>False</td>\n",
       "      <td>False</td>\n",
       "      <td>False</td>\n",
       "    </tr>\n",
       "    <tr>\n",
       "      <th>chapter_IV_bis_flag</th>\n",
       "      <td>False</td>\n",
       "      <td>False</td>\n",
       "      <td>False</td>\n",
       "      <td>False</td>\n",
       "      <td>False</td>\n",
       "    </tr>\n",
       "    <tr>\n",
       "      <th>link_same_tablet</th>\n",
       "      <td>-15054</td>\n",
       "      <td>-19189</td>\n",
       "      <td>-17499</td>\n",
       "      <td>3374</td>\n",
       "      <td>1245</td>\n",
       "    </tr>\n",
       "    <tr>\n",
       "      <th>dbegin</th>\n",
       "      <td>2006-07-01 00:00:00</td>\n",
       "      <td>NaT</td>\n",
       "      <td>NaT</td>\n",
       "      <td>NaT</td>\n",
       "      <td>2006-07-01 00:00:00</td>\n",
       "    </tr>\n",
       "    <tr>\n",
       "      <th>dend</th>\n",
       "      <td>2099-12-31 00:00:00</td>\n",
       "      <td>NaT</td>\n",
       "      <td>NaT</td>\n",
       "      <td>NaT</td>\n",
       "      <td>2099-12-31 00:00:00</td>\n",
       "    </tr>\n",
       "    <tr>\n",
       "      <th>reimbt_cat_desc_fr</th>\n",
       "      <td>Spécialité pharmaceutique forfaitarisée de cat...</td>\n",
       "      <td>NaN</td>\n",
       "      <td>NaN</td>\n",
       "      <td>NaN</td>\n",
       "      <td>Spécialité pharmaceutique forfaitarisée de cat...</td>\n",
       "    </tr>\n",
       "    <tr>\n",
       "      <th>reimbt_cat_desc_nl</th>\n",
       "      <td>Geforfaitariseerd geneesmiddel van categorie A...</td>\n",
       "      <td>NaN</td>\n",
       "      <td>NaN</td>\n",
       "      <td>NaN</td>\n",
       "      <td>Geforfaitariseerd geneesmiddel van categorie B...</td>\n",
       "    </tr>\n",
       "    <tr>\n",
       "      <th>reimbt_crit_long</th>\n",
       "      <td>A</td>\n",
       "      <td>NaN</td>\n",
       "      <td>NaN</td>\n",
       "      <td>NaN</td>\n",
       "      <td>other</td>\n",
       "    </tr>\n",
       "    <tr>\n",
       "      <th>reimbt_crit_short</th>\n",
       "      <td>A</td>\n",
       "      <td>NaN</td>\n",
       "      <td>NaN</td>\n",
       "      <td>NaN</td>\n",
       "      <td>B</td>\n",
       "    </tr>\n",
       "    <tr>\n",
       "      <th>reimbt_cat_fixed_rate_yn</th>\n",
       "      <td>True</td>\n",
       "      <td>True</td>\n",
       "      <td>True</td>\n",
       "      <td>True</td>\n",
       "      <td>True</td>\n",
       "    </tr>\n",
       "    <tr>\n",
       "      <th>fee_cat</th>\n",
       "      <td>A</td>\n",
       "      <td>NaN</td>\n",
       "      <td>NaN</td>\n",
       "      <td>NaN</td>\n",
       "      <td>A</td>\n",
       "    </tr>\n",
       "    <tr>\n",
       "      <th>amount_reimb_div_quantity</th>\n",
       "      <td>0.416667</td>\n",
       "      <td>0</td>\n",
       "      <td>0.06</td>\n",
       "      <td>1.29</td>\n",
       "      <td>0.0461702</td>\n",
       "    </tr>\n",
       "  </tbody>\n",
       "</table>\n",
       "</div>"
      ],
      "text/plain": [
       "                                                                    25274257  \\\n",
       "Province                                                   Flandre orientale   \n",
       "Type                                                                 Général   \n",
       "hosp_serv_id                                                             490   \n",
       "reimbt_cat_id                                                         756044   \n",
       "drug_code                                                            0740951   \n",
       "realization_date                                                       20162   \n",
       "quantity                                                                  33   \n",
       "amount_reimb                                                           13.75   \n",
       "amount_not_reimb                                                           0   \n",
       "trim_pharma                                                            20183   \n",
       "produit_pharma                                                        740951   \n",
       "type_drug_code                                                          Unit   \n",
       "famille_produit_pharma                             Spécialité pharmaceutique   \n",
       "drug_name_aggregated                               elektrolyten - generieken   \n",
       "conditionnement                                       * pr. zak - sac 500 ml   \n",
       "mode_administration                                                INJECTION   \n",
       "date_debut_rembourse                                     1994-04-01 00:00:00   \n",
       "statut_produit_pharma                                                   orig   \n",
       "code_atc                                                             B05BB01   \n",
       "code_atc_5                                                             B05BB   \n",
       "code_atc_4                                                              B05B   \n",
       "code_atc_3                                                               B05   \n",
       "code_atc_1                                                                 B   \n",
       "DDD                                                                        1   \n",
       "nombre_prises                                                              0   \n",
       "orphan_flag                                                            False   \n",
       "chapter_IV_bis_flag                                                    False   \n",
       "link_same_tablet                                                      -15054   \n",
       "dbegin                                                   2006-07-01 00:00:00   \n",
       "dend                                                     2099-12-31 00:00:00   \n",
       "reimbt_cat_desc_fr         Spécialité pharmaceutique forfaitarisée de cat...   \n",
       "reimbt_cat_desc_nl         Geforfaitariseerd geneesmiddel van categorie A...   \n",
       "reimbt_crit_long                                                           A   \n",
       "reimbt_crit_short                                                          A   \n",
       "reimbt_cat_fixed_rate_yn                                                True   \n",
       "fee_cat                                                                    A   \n",
       "amount_reimb_div_quantity                                           0.416667   \n",
       "\n",
       "                                       23855448                      24485367  \\\n",
       "Province                                Hainaut                        Anvers   \n",
       "Type                                    Général                       Général   \n",
       "hosp_serv_id                                770                           720   \n",
       "reimbt_cat_id                            751015                        753955   \n",
       "drug_code                               1782499                       0762153   \n",
       "realization_date                          20162                         20164   \n",
       "quantity                                      1                            11   \n",
       "amount_reimb                                  0                          0.66   \n",
       "amount_not_reimb                           0.13                          0.66   \n",
       "trim_pharma                               20183                         20183   \n",
       "produit_pharma                       1.7825e+06                        762153   \n",
       "type_drug_code                          Package                          Unit   \n",
       "famille_produit_pharma             Médicament D     Spécialité pharmaceutique   \n",
       "drug_name_aggregated                   SPIDIFEN                     LYSOMUCIL   \n",
       "conditionnement            dos gran 24 x 200 mg  * pr. gran. sach. 1 x 600 mg   \n",
       "mode_administration                ORAL LIQUIDE                  ORAL LIQUIDE   \n",
       "date_debut_rembourse        2070-01-01 00:00:00           2000-05-01 00:00:00   \n",
       "statut_produit_pharma                      orig                        orig R   \n",
       "code_atc                                M01AE01                       R05CB01   \n",
       "code_atc_5                                M01AE                         R05CB   \n",
       "code_atc_4                                 M01A                          R05C   \n",
       "code_atc_3                                  M01                           R05   \n",
       "code_atc_1                                    M                             R   \n",
       "DDD                                           4                           1.2   \n",
       "nombre_prises                                 0                             0   \n",
       "orphan_flag                               False                         False   \n",
       "chapter_IV_bis_flag                       False                         False   \n",
       "link_same_tablet                         -19189                        -17499   \n",
       "dbegin                                      NaT                           NaT   \n",
       "dend                                        NaT                           NaT   \n",
       "reimbt_cat_desc_fr                          NaN                           NaN   \n",
       "reimbt_cat_desc_nl                          NaN                           NaN   \n",
       "reimbt_crit_long                            NaN                           NaN   \n",
       "reimbt_crit_short                           NaN                           NaN   \n",
       "reimbt_cat_fixed_rate_yn                   True                          True   \n",
       "fee_cat                                     NaN                           NaN   \n",
       "amount_reimb_div_quantity                     0                          0.06   \n",
       "\n",
       "                                                          23460071  \\\n",
       "Province                                       Flandre Occidentale   \n",
       "Type                                                       Général   \n",
       "hosp_serv_id                                                   320   \n",
       "reimbt_cat_id                                               750890   \n",
       "drug_code                                                  0784645   \n",
       "realization_date                                             20163   \n",
       "quantity                                                         2   \n",
       "amount_reimb                                                  2.58   \n",
       "amount_not_reimb                                              0.86   \n",
       "trim_pharma                                                  20183   \n",
       "produit_pharma                                              784645   \n",
       "type_drug_code                                                Unit   \n",
       "famille_produit_pharma                   Spécialité pharmaceutique   \n",
       "drug_name_aggregated                  alendroninezuur - generieken   \n",
       "conditionnement            1 comprimé x 70 mg Alendronate, sodique   \n",
       "mode_administration                                      COMPRIMES   \n",
       "date_debut_rembourse                           2007-01-01 00:00:00   \n",
       "statut_produit_pharma                                            G   \n",
       "code_atc                                                   M05BA04   \n",
       "code_atc_5                                                   M05BA   \n",
       "code_atc_4                                                    M05B   \n",
       "code_atc_3                                                     M05   \n",
       "code_atc_1                                                       M   \n",
       "DDD                                                              7   \n",
       "nombre_prises                                                    1   \n",
       "orphan_flag                                                  False   \n",
       "chapter_IV_bis_flag                                          False   \n",
       "link_same_tablet                                              3374   \n",
       "dbegin                                                         NaT   \n",
       "dend                                                           NaT   \n",
       "reimbt_cat_desc_fr                                             NaN   \n",
       "reimbt_cat_desc_nl                                             NaN   \n",
       "reimbt_crit_long                                               NaN   \n",
       "reimbt_crit_short                                              NaN   \n",
       "reimbt_cat_fixed_rate_yn                                      True   \n",
       "fee_cat                                                        NaN   \n",
       "amount_reimb_div_quantity                                     1.29   \n",
       "\n",
       "                                                                    23366336  \n",
       "Province                                                  Bruxelles-Capitale  \n",
       "Type                                                                 Général  \n",
       "hosp_serv_id                                                             650  \n",
       "reimbt_cat_id                                                         756125  \n",
       "drug_code                                                            0746719  \n",
       "realization_date                                                       20163  \n",
       "quantity                                                                  47  \n",
       "amount_reimb                                                            2.17  \n",
       "amount_not_reimb                                                           0  \n",
       "trim_pharma                                                            20183  \n",
       "produit_pharma                                                        746719  \n",
       "type_drug_code                                                          Unit  \n",
       "famille_produit_pharma                             Spécialité pharmaceutique  \n",
       "drug_name_aggregated                                                  PROGOR  \n",
       "conditionnement                                       * pr. caps. 1 x 300 mg  \n",
       "mode_administration                                                COMPRIMES  \n",
       "date_debut_rembourse                                     1997-12-01 00:00:00  \n",
       "statut_produit_pharma                                                 orig R  \n",
       "code_atc                                                             C08DB01  \n",
       "code_atc_5                                                             C08DB  \n",
       "code_atc_4                                                              C08D  \n",
       "code_atc_3                                                               C08  \n",
       "code_atc_1                                                                 C  \n",
       "DDD                                                                     1.25  \n",
       "nombre_prises                                                              1  \n",
       "orphan_flag                                                            False  \n",
       "chapter_IV_bis_flag                                                    False  \n",
       "link_same_tablet                                                        1245  \n",
       "dbegin                                                   2006-07-01 00:00:00  \n",
       "dend                                                     2099-12-31 00:00:00  \n",
       "reimbt_cat_desc_fr         Spécialité pharmaceutique forfaitarisée de cat...  \n",
       "reimbt_cat_desc_nl         Geforfaitariseerd geneesmiddel van categorie B...  \n",
       "reimbt_crit_long                                                       other  \n",
       "reimbt_crit_short                                                          B  \n",
       "reimbt_cat_fixed_rate_yn                                                True  \n",
       "fee_cat                                                                    A  \n",
       "amount_reimb_div_quantity                                          0.0461702  "
      ]
     },
     "execution_count": 42,
     "metadata": {},
     "output_type": "execute_result"
    }
   ],
   "source": [
    "df_work.sample(5).T"
   ]
  },
  {
   "cell_type": "code",
   "execution_count": 43,
   "metadata": {},
   "outputs": [
    {
     "data": {
      "text/plain": [
       "[NaN, G, orig, orig R]\n",
       "Categories (3, object): [G, orig, orig R]"
      ]
     },
     "execution_count": 43,
     "metadata": {},
     "output_type": "execute_result"
    }
   ],
   "source": [
    "df_work.statut_produit_pharma.unique()"
   ]
  },
  {
   "cell_type": "code",
   "execution_count": 44,
   "metadata": {},
   "outputs": [],
   "source": [
    "statut_produit_pharma_dict = {'G':True, 'orig':False, 'orig R':True}"
   ]
  },
  {
   "cell_type": "code",
   "execution_count": 45,
   "metadata": {},
   "outputs": [],
   "source": [
    "df_work[\"B_IsGeneric\"] = df_work[\"statut_produit_pharma\"].map(statut_produit_pharma_dict)"
   ]
  },
  {
   "cell_type": "code",
   "execution_count": 46,
   "metadata": {},
   "outputs": [
    {
     "data": {
      "text/plain": [
       "True     0.509194\n",
       "False    0.490806\n",
       "Name: B_IsGeneric, dtype: float64"
      ]
     },
     "execution_count": 46,
     "metadata": {},
     "output_type": "execute_result"
    }
   ],
   "source": [
    "df_work[\"B_IsGeneric\"].value_counts(normalize=True)"
   ]
  },
  {
   "cell_type": "code",
   "execution_count": 47,
   "metadata": {},
   "outputs": [
    {
     "data": {
      "text/plain": [
       "code_atc_1  B_IsGeneric\n",
       "A           False          0.539930\n",
       "            True           0.460070\n",
       "B           False          0.962213\n",
       "            True           0.037787\n",
       "C           True           0.771696\n",
       "            False          0.228304\n",
       "D           False          0.938929\n",
       "            True           0.061071\n",
       "G           False          0.587653\n",
       "            True           0.412347\n",
       "H           False          0.547976\n",
       "            True           0.452024\n",
       "J           True           0.760908\n",
       "            False          0.239092\n",
       "L           False          0.511316\n",
       "            True           0.488684\n",
       "M           True           0.728576\n",
       "            False          0.271424\n",
       "N           True           0.666368\n",
       "            False          0.333632\n",
       "P           False          0.646290\n",
       "            True           0.353710\n",
       "R           True           0.705223\n",
       "            False          0.294777\n",
       "S           False          0.637980\n",
       "            True           0.362020\n",
       "V           False          0.921036\n",
       "            True           0.078964\n",
       "X           False          1.000000\n",
       "Z           False          1.000000\n",
       "Name: B_IsGeneric, dtype: float64"
      ]
     },
     "execution_count": 47,
     "metadata": {},
     "output_type": "execute_result"
    }
   ],
   "source": [
    "generic = df_work.groupby([\"code_atc_1\"])[\"B_IsGeneric\"].value_counts(normalize=True)\n",
    "generic"
   ]
  },
  {
   "cell_type": "code",
   "execution_count": 48,
   "metadata": {},
   "outputs": [
    {
     "data": {
      "text/plain": [
       "MultiIndex(levels=[['A', 'B', 'C', 'D', 'G', 'H', 'J', 'L', 'M', 'N', 'P', 'R', 'S', 'V', 'X', 'Z'], [False, True]],\n",
       "           codes=[[0, 0, 1, 1, 2, 2, 3, 3, 4, 4, 5, 5, 6, 6, 7, 7, 8, 8, 9, 9, 10, 10, 11, 11, 12, 12, 13, 13, 14, 15], [0, 1, 0, 1, 1, 0, 0, 1, 0, 1, 0, 1, 1, 0, 0, 1, 1, 0, 1, 0, 0, 1, 1, 0, 0, 1, 0, 1, 0, 0]],\n",
       "           names=['code_atc_1', 'B_IsGeneric'])"
      ]
     },
     "execution_count": 48,
     "metadata": {},
     "output_type": "execute_result"
    }
   ],
   "source": [
    "generic.index"
   ]
  },
  {
   "cell_type": "code",
   "execution_count": 49,
   "metadata": {},
   "outputs": [],
   "source": [
    "newgeneric = pd.DataFrame()"
   ]
  },
  {
   "cell_type": "code",
   "execution_count": 50,
   "metadata": {},
   "outputs": [],
   "source": [
    "newgeneric[\"percentageOfGeneric\"] = generic.values"
   ]
  },
  {
   "cell_type": "code",
   "execution_count": 51,
   "metadata": {},
   "outputs": [],
   "source": [
    "newgeneric[\"ATC\"] = pd.Series(['A', 'B', 'C', 'D', 'G', 'H', 'J', 'L', 'M', 'N', 'P', 'R', 'S', 'V', 'X', 'Z'])"
   ]
  },
  {
   "cell_type": "code",
   "execution_count": 52,
   "metadata": {},
   "outputs": [
    {
     "data": {
      "text/html": [
       "<div>\n",
       "<style scoped>\n",
       "    .dataframe tbody tr th:only-of-type {\n",
       "        vertical-align: middle;\n",
       "    }\n",
       "\n",
       "    .dataframe tbody tr th {\n",
       "        vertical-align: top;\n",
       "    }\n",
       "\n",
       "    .dataframe thead th {\n",
       "        text-align: right;\n",
       "    }\n",
       "</style>\n",
       "<table border=\"1\" class=\"dataframe\">\n",
       "  <thead>\n",
       "    <tr style=\"text-align: right;\">\n",
       "      <th></th>\n",
       "      <th>percentageOfGeneric</th>\n",
       "      <th>ATC</th>\n",
       "    </tr>\n",
       "  </thead>\n",
       "  <tbody>\n",
       "    <tr>\n",
       "      <th>0</th>\n",
       "      <td>0.539930</td>\n",
       "      <td>A</td>\n",
       "    </tr>\n",
       "    <tr>\n",
       "      <th>1</th>\n",
       "      <td>0.460070</td>\n",
       "      <td>B</td>\n",
       "    </tr>\n",
       "    <tr>\n",
       "      <th>2</th>\n",
       "      <td>0.962213</td>\n",
       "      <td>C</td>\n",
       "    </tr>\n",
       "    <tr>\n",
       "      <th>3</th>\n",
       "      <td>0.037787</td>\n",
       "      <td>D</td>\n",
       "    </tr>\n",
       "    <tr>\n",
       "      <th>4</th>\n",
       "      <td>0.771696</td>\n",
       "      <td>G</td>\n",
       "    </tr>\n",
       "    <tr>\n",
       "      <th>5</th>\n",
       "      <td>0.228304</td>\n",
       "      <td>H</td>\n",
       "    </tr>\n",
       "    <tr>\n",
       "      <th>6</th>\n",
       "      <td>0.938929</td>\n",
       "      <td>J</td>\n",
       "    </tr>\n",
       "    <tr>\n",
       "      <th>7</th>\n",
       "      <td>0.061071</td>\n",
       "      <td>L</td>\n",
       "    </tr>\n",
       "    <tr>\n",
       "      <th>8</th>\n",
       "      <td>0.587653</td>\n",
       "      <td>M</td>\n",
       "    </tr>\n",
       "    <tr>\n",
       "      <th>9</th>\n",
       "      <td>0.412347</td>\n",
       "      <td>N</td>\n",
       "    </tr>\n",
       "    <tr>\n",
       "      <th>10</th>\n",
       "      <td>0.547976</td>\n",
       "      <td>P</td>\n",
       "    </tr>\n",
       "    <tr>\n",
       "      <th>11</th>\n",
       "      <td>0.452024</td>\n",
       "      <td>R</td>\n",
       "    </tr>\n",
       "    <tr>\n",
       "      <th>12</th>\n",
       "      <td>0.760908</td>\n",
       "      <td>S</td>\n",
       "    </tr>\n",
       "    <tr>\n",
       "      <th>13</th>\n",
       "      <td>0.239092</td>\n",
       "      <td>V</td>\n",
       "    </tr>\n",
       "    <tr>\n",
       "      <th>14</th>\n",
       "      <td>0.511316</td>\n",
       "      <td>X</td>\n",
       "    </tr>\n",
       "    <tr>\n",
       "      <th>15</th>\n",
       "      <td>0.488684</td>\n",
       "      <td>Z</td>\n",
       "    </tr>\n",
       "    <tr>\n",
       "      <th>16</th>\n",
       "      <td>0.728576</td>\n",
       "      <td>NaN</td>\n",
       "    </tr>\n",
       "    <tr>\n",
       "      <th>17</th>\n",
       "      <td>0.271424</td>\n",
       "      <td>NaN</td>\n",
       "    </tr>\n",
       "    <tr>\n",
       "      <th>18</th>\n",
       "      <td>0.666368</td>\n",
       "      <td>NaN</td>\n",
       "    </tr>\n",
       "    <tr>\n",
       "      <th>19</th>\n",
       "      <td>0.333632</td>\n",
       "      <td>NaN</td>\n",
       "    </tr>\n",
       "    <tr>\n",
       "      <th>20</th>\n",
       "      <td>0.646290</td>\n",
       "      <td>NaN</td>\n",
       "    </tr>\n",
       "    <tr>\n",
       "      <th>21</th>\n",
       "      <td>0.353710</td>\n",
       "      <td>NaN</td>\n",
       "    </tr>\n",
       "    <tr>\n",
       "      <th>22</th>\n",
       "      <td>0.705223</td>\n",
       "      <td>NaN</td>\n",
       "    </tr>\n",
       "    <tr>\n",
       "      <th>23</th>\n",
       "      <td>0.294777</td>\n",
       "      <td>NaN</td>\n",
       "    </tr>\n",
       "    <tr>\n",
       "      <th>24</th>\n",
       "      <td>0.637980</td>\n",
       "      <td>NaN</td>\n",
       "    </tr>\n",
       "    <tr>\n",
       "      <th>25</th>\n",
       "      <td>0.362020</td>\n",
       "      <td>NaN</td>\n",
       "    </tr>\n",
       "    <tr>\n",
       "      <th>26</th>\n",
       "      <td>0.921036</td>\n",
       "      <td>NaN</td>\n",
       "    </tr>\n",
       "    <tr>\n",
       "      <th>27</th>\n",
       "      <td>0.078964</td>\n",
       "      <td>NaN</td>\n",
       "    </tr>\n",
       "    <tr>\n",
       "      <th>28</th>\n",
       "      <td>1.000000</td>\n",
       "      <td>NaN</td>\n",
       "    </tr>\n",
       "    <tr>\n",
       "      <th>29</th>\n",
       "      <td>1.000000</td>\n",
       "      <td>NaN</td>\n",
       "    </tr>\n",
       "  </tbody>\n",
       "</table>\n",
       "</div>"
      ],
      "text/plain": [
       "    percentageOfGeneric  ATC\n",
       "0              0.539930    A\n",
       "1              0.460070    B\n",
       "2              0.962213    C\n",
       "3              0.037787    D\n",
       "4              0.771696    G\n",
       "5              0.228304    H\n",
       "6              0.938929    J\n",
       "7              0.061071    L\n",
       "8              0.587653    M\n",
       "9              0.412347    N\n",
       "10             0.547976    P\n",
       "11             0.452024    R\n",
       "12             0.760908    S\n",
       "13             0.239092    V\n",
       "14             0.511316    X\n",
       "15             0.488684    Z\n",
       "16             0.728576  NaN\n",
       "17             0.271424  NaN\n",
       "18             0.666368  NaN\n",
       "19             0.333632  NaN\n",
       "20             0.646290  NaN\n",
       "21             0.353710  NaN\n",
       "22             0.705223  NaN\n",
       "23             0.294777  NaN\n",
       "24             0.637980  NaN\n",
       "25             0.362020  NaN\n",
       "26             0.921036  NaN\n",
       "27             0.078964  NaN\n",
       "28             1.000000  NaN\n",
       "29             1.000000  NaN"
      ]
     },
     "execution_count": 52,
     "metadata": {},
     "output_type": "execute_result"
    }
   ],
   "source": [
    "newgeneric"
   ]
  },
  {
   "cell_type": "code",
   "execution_count": 53,
   "metadata": {},
   "outputs": [],
   "source": [
    "import seaborn as sns"
   ]
  },
  {
   "cell_type": "code",
   "execution_count": null,
   "metadata": {},
   "outputs": [],
   "source": []
  },
  {
   "cell_type": "code",
   "execution_count": null,
   "metadata": {},
   "outputs": [],
   "source": []
  },
  {
   "cell_type": "code",
   "execution_count": 54,
   "metadata": {},
   "outputs": [
    {
     "data": {
      "text/plain": [
       "<matplotlib.axes._subplots.AxesSubplot at 0x7f1be6881fd0>"
      ]
     },
     "execution_count": 54,
     "metadata": {},
     "output_type": "execute_result"
    },
    {
     "data": {
      "image/png": "[encoded data removed]",
      "text/plain": [
       "<Figure size 800x550 with 1 Axes>"
      ]
     },
     "metadata": {},
     "output_type": "display_data"
    }
   ],
   "source": [
    "generic.plot(kind=\"bar\")"
   ]
  },
  {
   "cell_type": "code",
   "execution_count": 55,
   "metadata": {},
   "outputs": [
    {
     "data": {
      "text/plain": [
       "<matplotlib.axes._subplots.AxesSubplot at 0x7f1be6862860>"
      ]
     },
     "execution_count": 55,
     "metadata": {},
     "output_type": "execute_result"
    },
    {
     "data": {
      "image/png": "[encoded data removed]",
      "text/plain": [
       "<Figure size 2000x800 with 1 Axes>"
      ]
     },
     "metadata": {},
     "output_type": "display_data"
    }
   ],
   "source": [
    "plt.figure(figsize=(20,8))\n",
    "sns.barplot(data=newgeneric, x=\"percentageOfGeneric\", y=\"ATC\", color='blue' )"
   ]
  },
  {
   "cell_type": "code",
   "execution_count": null,
   "metadata": {},
   "outputs": [],
   "source": []
  },
  {
   "cell_type": "code",
   "execution_count": 56,
   "metadata": {},
   "outputs": [
    {
     "data": {
      "text/plain": [
       "hosp_serv_id  B_IsGeneric\n",
       "002           False          0.630610\n",
       "              True           0.369390\n",
       "190           False          0.605704\n",
       "              True           0.394296\n",
       "210           True           0.611370\n",
       "              False          0.388630\n",
       "220           True           0.598881\n",
       "              False          0.401119\n",
       "230           True           0.581920\n",
       "              False          0.418080\n",
       "250           True           0.590588\n",
       "              False          0.409412\n",
       "260           True           0.505588\n",
       "              False          0.494412\n",
       "270           False          0.557515\n",
       "              True           0.442485\n",
       "290           True           0.564628\n",
       "              False          0.435372\n",
       "300           True           0.632329\n",
       "              False          0.367671\n",
       "320           False          0.673674\n",
       "              True           0.326326\n",
       "340           True           0.667646\n",
       "              False          0.332354\n",
       "350           True           0.640741\n",
       "              False          0.359259\n",
       "370           True           0.662253\n",
       "              False          0.337747\n",
       "380           True           0.674374\n",
       "              False          0.325626\n",
       "                               ...   \n",
       "610           True           0.634858\n",
       "              False          0.365142\n",
       "620           True           0.657303\n",
       "              False          0.342697\n",
       "630           True           0.659693\n",
       "              False          0.340307\n",
       "640           True           0.636861\n",
       "              False          0.363139\n",
       "650           True           0.643636\n",
       "              False          0.356364\n",
       "660           True           0.664460\n",
       "              False          0.335540\n",
       "710           False          0.719134\n",
       "              True           0.280866\n",
       "720           False          0.643729\n",
       "              True           0.356271\n",
       "730           False          0.603581\n",
       "              True           0.396419\n",
       "740           False          0.750000\n",
       "              True           0.250000\n",
       "750           False          0.699853\n",
       "              True           0.300147\n",
       "770           False          0.805339\n",
       "              True           0.194661\n",
       "810           True           0.571429\n",
       "              False          0.428571\n",
       "840           False          0.658130\n",
       "              True           0.341870\n",
       "990           False          0.664647\n",
       "              True           0.335353\n",
       "Name: B_IsGeneric, Length: 62, dtype: float64"
      ]
     },
     "execution_count": 56,
     "metadata": {},
     "output_type": "execute_result"
    }
   ],
   "source": [
    "genericByService = df_work.groupby([\"hosp_serv_id\"])[\"B_IsGeneric\"].value_counts(normalize=True)\n",
    "genericByService"
   ]
  },
  {
   "cell_type": "code",
   "execution_count": 57,
   "metadata": {},
   "outputs": [
    {
     "data": {
      "text/plain": [
       "MultiIndex(levels=[['002', '190', '210', '220', '230', '250', '260', '270', '290', '300', '320', '340', '350', '370', '380', '490', '610', '620', '630', '640', '650', '660', '710', '720', '730', '740', '750', '770', '810', '840', '990'], [False, True]],\n",
       "           codes=[[0, 0, 1, 1, 2, 2, 3, 3, 4, 4, 5, 5, 6, 6, 7, 7, 8, 8, 9, 9, 10, 10, 11, 11, 12, 12, 13, 13, 14, 14, 15, 15, 16, 16, 17, 17, 18, 18, 19, 19, 20, 20, 21, 21, 22, 22, 23, 23, 24, 24, 25, 25, 26, 26, 27, 27, 28, 28, 29, 29, 30, 30], [0, 1, 0, 1, 1, 0, 1, 0, 1, 0, 1, 0, 1, 0, 0, 1, 1, 0, 1, 0, 0, 1, 1, 0, 1, 0, 1, 0, 1, 0, 1, 0, 1, 0, 1, 0, 1, 0, 1, 0, 1, 0, 1, 0, 0, 1, 0, 1, 0, 1, 0, 1, 0, 1, 0, 1, 1, 0, 0, 1, 0, 1]],\n",
       "           names=['hosp_serv_id', 'B_IsGeneric'])"
      ]
     },
     "execution_count": 57,
     "metadata": {},
     "output_type": "execute_result"
    }
   ],
   "source": [
    "genericByService.index"
   ]
  },
  {
   "cell_type": "code",
   "execution_count": 58,
   "metadata": {},
   "outputs": [],
   "source": [
    "newgenericByService = pd.DataFrame()"
   ]
  },
  {
   "cell_type": "code",
   "execution_count": 59,
   "metadata": {},
   "outputs": [],
   "source": [
    "newgenericByService[\"percentageOfGeneric\"] = genericByService.values"
   ]
  },
  {
   "cell_type": "code",
   "execution_count": 60,
   "metadata": {},
   "outputs": [],
   "source": [
    "newgenericByService[\"Service\"] = pd.Series([2, 190, 210, 220, 230, 250, 260, 270, 290, 300, 320, 340, 350, 370, 380, 490, 610, 620, 630, 640, 650, 660, 710, 720, 730, 740, 750, 760, 770, 810, 840, 990, 2, 190, 210, 220, 230, 250, 260, 270, 290, 300, 320, 340, 350, 370, 380, 490, 610, 620, 630, 640, 650, 660, 710, 720, 730, 740, 750, 760, 770, 810, 840, 990])"
   ]
  },
  {
   "cell_type": "code",
   "execution_count": 61,
   "metadata": {},
   "outputs": [
    {
     "data": {
      "text/plain": [
       "<matplotlib.axes._subplots.AxesSubplot at 0x7f1b873ca9b0>"
      ]
     },
     "execution_count": 61,
     "metadata": {},
     "output_type": "execute_result"
    },
    {
     "data": {
      "image/png": "[encoded data removed]",
      "text/plain": [
       "<Figure size 2000x800 with 1 Axes>"
      ]
     },
     "metadata": {},
     "output_type": "display_data"
    }
   ],
   "source": [
    "plt.figure(figsize=(20,8))\n",
    "sns.barplot(data=newgenericByService, y=\"percentageOfGeneric\", x=\"Service\", color='blue' )"
   ]
  },
  {
   "cell_type": "code",
   "execution_count": null,
   "metadata": {},
   "outputs": [],
   "source": []
  },
  {
   "cell_type": "code",
   "execution_count": 62,
   "metadata": {},
   "outputs": [
    {
     "name": "stdout",
     "output_type": "stream",
     "text": [
      "<class 'pandas.core.frame.DataFrame'>\n",
      "Int64Index: 1542611 entries, 22833075 to 26009296\n",
      "Data columns (total 36 columns):\n",
      "Province                    1542611 non-null object\n",
      "Type                        1542611 non-null category\n",
      "hosp_serv_id                1542611 non-null object\n",
      "reimbt_cat_id               1542611 non-null int64\n",
      "drug_code                   1542611 non-null object\n",
      "realization_date            1542611 non-null object\n",
      "quantity                    1542611 non-null int64\n",
      "amount_reimb                1542611 non-null float64\n",
      "amount_not_reimb            1542611 non-null float64\n",
      "trim_pharma                 1542611 non-null float64\n",
      "produit_pharma              1542611 non-null float64\n",
      "type_drug_code              1538323 non-null category\n",
      "famille_produit_pharma      1538323 non-null object\n",
      "drug_name_aggregated        1538323 non-null object\n",
      "conditionnement             1509986 non-null object\n",
      "mode_administration         1510761 non-null object\n",
      "date_debut_rembourse        1542611 non-null datetime64[ns]\n",
      "statut_produit_pharma       1459958 non-null category\n",
      "code_atc                    1542611 non-null object\n",
      "code_atc_5                  1542611 non-null object\n",
      "code_atc_4                  1542611 non-null object\n",
      "code_atc_3                  1542611 non-null object\n",
      "code_atc_1                  1542611 non-null object\n",
      "DDD                         1542611 non-null float64\n",
      "nombre_prises               1542611 non-null float64\n",
      "orphan_flag                 1542611 non-null bool\n",
      "chapter_IV_bis_flag         1542611 non-null bool\n",
      "link_same_tablet            1542611 non-null float64\n",
      "dbegin                      1159383 non-null datetime64[ns]\n",
      "dend                        1159383 non-null datetime64[ns]\n",
      "reimbt_cat_desc_fr          1159383 non-null object\n",
      "reimbt_cat_desc_nl          1159383 non-null object\n",
      "reimbt_crit_long            1159383 non-null object\n",
      "reimbt_crit_short           1159383 non-null object\n",
      "reimbt_cat_fixed_rate_yn    1542611 non-null bool\n",
      "fee_cat                     1159383 non-null category\n",
      "dtypes: bool(3), category(4), datetime64[ns](3), float64(7), int64(2), object(17)\n",
      "memory usage: 363.4+ MB\n"
     ]
    }
   ],
   "source": [
    "df.info()"
   ]
  },
  {
   "cell_type": "code",
   "execution_count": 63,
   "metadata": {},
   "outputs": [],
   "source": [
    "df.drop_duplicates(inplace=True)"
   ]
  },
  {
   "cell_type": "code",
   "execution_count": 64,
   "metadata": {},
   "outputs": [
    {
     "name": "stdout",
     "output_type": "stream",
     "text": [
      "<class 'pandas.core.frame.DataFrame'>\n",
      "Int64Index: 1524505 entries, 22833075 to 26009296\n",
      "Data columns (total 36 columns):\n",
      "Province                    1524505 non-null object\n",
      "Type                        1524505 non-null category\n",
      "hosp_serv_id                1524505 non-null object\n",
      "reimbt_cat_id               1524505 non-null int64\n",
      "drug_code                   1524505 non-null object\n",
      "realization_date            1524505 non-null object\n",
      "quantity                    1524505 non-null int64\n",
      "amount_reimb                1524505 non-null float64\n",
      "amount_not_reimb            1524505 non-null float64\n",
      "trim_pharma                 1524505 non-null float64\n",
      "produit_pharma              1524505 non-null float64\n",
      "type_drug_code              1520302 non-null category\n",
      "famille_produit_pharma      1520302 non-null object\n",
      "drug_name_aggregated        1520302 non-null object\n",
      "conditionnement             1492665 non-null object\n",
      "mode_administration         1493431 non-null object\n",
      "date_debut_rembourse        1524505 non-null datetime64[ns]\n",
      "statut_produit_pharma       1443287 non-null category\n",
      "code_atc                    1524505 non-null object\n",
      "code_atc_5                  1524505 non-null object\n",
      "code_atc_4                  1524505 non-null object\n",
      "code_atc_3                  1524505 non-null object\n",
      "code_atc_1                  1524505 non-null object\n",
      "DDD                         1524505 non-null float64\n",
      "nombre_prises               1524505 non-null float64\n",
      "orphan_flag                 1524505 non-null bool\n",
      "chapter_IV_bis_flag         1524505 non-null bool\n",
      "link_same_tablet            1524505 non-null float64\n",
      "dbegin                      1147807 non-null datetime64[ns]\n",
      "dend                        1147807 non-null datetime64[ns]\n",
      "reimbt_cat_desc_fr          1147807 non-null object\n",
      "reimbt_cat_desc_nl          1147807 non-null object\n",
      "reimbt_crit_long            1147807 non-null object\n",
      "reimbt_crit_short           1147807 non-null object\n",
      "reimbt_cat_fixed_rate_yn    1524505 non-null bool\n",
      "fee_cat                     1147807 non-null category\n",
      "dtypes: bool(3), category(4), datetime64[ns](3), float64(7), int64(2), object(17)\n",
      "memory usage: 359.1+ MB\n"
     ]
    }
   ],
   "source": [
    "df.info()"
   ]
  },
  {
   "cell_type": "code",
   "execution_count": null,
   "metadata": {},
   "outputs": [],
   "source": []
  }
 ],
 "metadata": {
  "kernelspec": {
   "display_name": "Python 3",
   "language": "python",
   "name": "python3"
  },
  "language_info": {
   "codemirror_mode": {
    "name": "ipython",
    "version": 3
   },
   "file_extension": ".py",
   "mimetype": "text/x-python",
   "name": "python",
   "nbconvert_exporter": "python",
   "pygments_lexer": "ipython3",
   "version": "3.5.2"
  }
 },
 "nbformat": 4,
 "nbformat_minor": 2
}
