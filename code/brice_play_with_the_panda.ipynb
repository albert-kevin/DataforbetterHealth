{
 "cells": [
  {
   "cell_type": "code",
   "execution_count": null,
   "metadata": {},
   "outputs": [],
   "source": [
    "! pip install xlrd"
   ]
  },
  {
   "cell_type": "code",
   "execution_count": 1,
   "metadata": {},
   "outputs": [],
   "source": [
    "import pandas_profiling as pp\n",
    "import pandas as pd\n",
    "import numpy as np\n",
    "\n",
    "from matplotlib import pyplot as plt\n",
    "%matplotlib inline"
   ]
  },
  {
   "cell_type": "code",
   "execution_count": null,
   "metadata": {
    "scrolled": true
   },
   "outputs": [],
   "source": [
    "! ls -l ../data/original"
   ]
  },
  {
   "cell_type": "code",
   "execution_count": null,
   "metadata": {},
   "outputs": [],
   "source": [
    "! head ../data/original/DB_V2.TXT"
   ]
  },
  {
   "cell_type": "markdown",
   "metadata": {},
   "source": [
    "## loading the data"
   ]
  },
  {
   "cell_type": "code",
   "execution_count": 2,
   "metadata": {},
   "outputs": [
    {
     "name": "stderr",
     "output_type": "stream",
     "text": [
      "/home/ubuntu/venv/lib/python3.5/site-packages/IPython/core/interactiveshell.py:3020: DtypeWarning: Columns (3,5) have mixed types. Specify dtype option on import or set low_memory=False.\n",
      "  interactivity=interactivity, compiler=compiler, result=result)\n"
     ]
    }
   ],
   "source": [
    "# RIZIV dataset 1.8GB\n",
    "df = pd.read_csv(\"../data/original/DB_V2.TXT\", sep='\\t', encoding='latin-1')"
   ]
  },
  {
   "cell_type": "code",
   "execution_count": 3,
   "metadata": {},
   "outputs": [],
   "source": [
    "pharma_ref = pd.read_excel(\"../data/original/PHARMA_REF.xlsx\")"
   ]
  },
  {
   "cell_type": "code",
   "execution_count": 4,
   "metadata": {},
   "outputs": [],
   "source": [
    "reimburse_cat = pd.read_excel(\"../data/original/reimb category.xlsx\")"
   ]
  },
  {
   "cell_type": "markdown",
   "metadata": {},
   "source": [
    "## df datacleaning"
   ]
  },
  {
   "cell_type": "code",
   "execution_count": 5,
   "metadata": {},
   "outputs": [],
   "source": [
    "df.drop('Year', axis=1, inplace=True)\n",
    "df.drop('account_yy_ss', axis=1, inplace=True)"
   ]
  },
  {
   "cell_type": "markdown",
   "metadata": {},
   "source": [
    "## pharma_ref datacleaning"
   ]
  },
  {
   "cell_type": "code",
   "execution_count": 6,
   "metadata": {},
   "outputs": [],
   "source": [
    "pharma_ref[\"drug_code\"] = pharma_ref[\"drug_code\"].astype(\"category\")"
   ]
  },
  {
   "cell_type": "markdown",
   "metadata": {},
   "source": [
    "## reimburse_cat datacleaning"
   ]
  },
  {
   "cell_type": "code",
   "execution_count": 7,
   "metadata": {},
   "outputs": [],
   "source": [
    "reimburse_cat_dict = {'nd':'other', 'A':'A', 'B':'B', 'Cat 1':'other', 'Cat 2 (A)':'other', 'Cat 3':'other', 'Cat 4':'other',\n",
    "       'Cat 5 (D)':'other', 'C':'C', 'Cs':'C', 'Cx':'C', 'Cxg':'C', 'D':'D', 'Csg':'C', 'Ag':'A', 'Bg':'B', 'Cg':'C',\n",
    "       'Forf Ant':'other', 'Nutri Par':'other', 'Br':'other', 'Ar':'other', 'Cr':'C', 'Csr':'C', 'Cxr':'C',\n",
    "       'Forf Adm':'other', 'Forf BH':'forf', 'V08':'other', 'Fa':'other', 'Fb':'other', 'Forf 1-3':'other',\n",
    "       'Forf 4-':'other', 'Ri-D11':'other', 'Ri-T1':'other', 'Ri-T2':'other', 'Ri-T3':'other', 'Ri-D5':'other', 'Ri-D7':'other',\n",
    "       'Ri-D2':'other', 'Ri-D9':'other', 'Ri-D6':'other', 'Ri-D10':'other', 'Ri-D3':'other', 'Ri-D1':'other', 'Ri-D8':'other',\n",
    "       'Ri-T4':'other', 'Ri-D4':'other', 'Forf PET':'other', '90-A':'A', '90-B':'B', '90-Fa':'other', '90-Fb':'other',\n",
    "       'Ri-T5':'other', 'Ri-T6':'other', 'Ri-T7':'other', 'Ri-T8':'other', '90-C':'C', '90-Cs':'C', '90-Cx':'C'}"
   ]
  },
  {
   "cell_type": "code",
   "execution_count": 8,
   "metadata": {},
   "outputs": [],
   "source": [
    "reimburse_cat[\"reimbt_crit_long\"] = reimburse_cat[\"reimbt_crit_long\"].map(reimburse_cat_dict)"
   ]
  },
  {
   "cell_type": "code",
   "execution_count": 9,
   "metadata": {},
   "outputs": [],
   "source": [
    "# only keep hospitalised data, ignore ambualnt data\n",
    "reimburse_cat_hosp = reimburse_cat[ (reimburse_cat[\"patient_cat\"] == 'HOSP') ]"
   ]
  },
  {
   "cell_type": "code",
   "execution_count": 10,
   "metadata": {},
   "outputs": [
    {
     "name": "stderr",
     "output_type": "stream",
     "text": [
      "/home/ubuntu/venv/lib/python3.5/site-packages/pandas/core/frame.py:3930: SettingWithCopyWarning: \n",
      "A value is trying to be set on a copy of a slice from a DataFrame\n",
      "\n",
      "See the caveats in the documentation: http://pandas.pydata.org/pandas-docs/stable/indexing.html#indexing-view-versus-copy\n",
      "  errors=errors)\n"
     ]
    }
   ],
   "source": [
    "# max_pct is highly correlated with min_pct (ρ = 0.98479)\n",
    "reimburse_cat_hosp.drop('min_pct', axis=1, inplace=True)"
   ]
  },
  {
   "cell_type": "code",
   "execution_count": 11,
   "metadata": {},
   "outputs": [],
   "source": [
    "# patient_cat has constant value HOSP\n",
    "reimburse_cat_hosp.drop('patient_cat', axis=1, inplace=True)"
   ]
  },
  {
   "cell_type": "markdown",
   "metadata": {},
   "source": [
    "## MERGE inner joins"
   ]
  },
  {
   "cell_type": "code",
   "execution_count": 12,
   "metadata": {},
   "outputs": [],
   "source": [
    "df = df.merge(pharma_ref, how=\"left\", left_on=\"drug_code\", right_on=\"drug_code\").reset_index()"
   ]
  },
  {
   "cell_type": "code",
   "execution_count": 13,
   "metadata": {},
   "outputs": [],
   "source": [
    "df = df.merge(reimburse_cat_hosp, how=\"left\", left_on=\"reimbt_cat_id\", right_on=\"reimbt_cat_id\").reset_index()"
   ]
  },
  {
   "cell_type": "markdown",
   "metadata": {},
   "source": [
    "## df datacleaning phase II"
   ]
  },
  {
   "cell_type": "code",
   "execution_count": 14,
   "metadata": {},
   "outputs": [],
   "source": [
    "df.drop(\"level_0\", axis=1, inplace=True)\n",
    "df.drop(\"index\", axis=1, inplace=True)"
   ]
  },
  {
   "cell_type": "code",
   "execution_count": 15,
   "metadata": {},
   "outputs": [],
   "source": [
    "# set this columns as datetime dtype\n",
    "df['date_debut_rembourse'] = pd.to_datetime(df['date_debut_rembourse'], format='%Y-%m-%d')"
   ]
  },
  {
   "cell_type": "code",
   "execution_count": null,
   "metadata": {},
   "outputs": [],
   "source": [
    "df = df.astype({'Province':'str',\n",
    "              'Type':'category',\n",
    "              'hosp_serv_id':'str',\n",
    "              'reimbt_cat_id':'int64',\n",
    "              'drug_code':'int64',\n",
    "              'realization_date':'str',\n",
    "              'quantity':'int64',\n",
    "              'amount_reimb':'float64',\n",
    "              'amount_not_reimb':'float64',\n",
    "              'trim_pharma':'int64',\n",
    "              'produit_pharma':'int64',\n",
    "              'type_drug_code':'category',\n",
    "              'famille_produit_pharma':'str',\n",
    "              'drug_name_aggregated':'str',\n",
    "              'nom_produit_pharma':'str',\n",
    "              'conditionnement':'str',\n",
    "              'mode_administration':'str',\n",
    "              'nom_firme_pharma':'str',       \n",
    "              'statut_produit_pharma':'category',\n",
    "              'code_atc':'str',\n",
    "              'code_atc_5':'str',\n",
    "              'code_atc_4':'str',\n",
    "              'code_atc_3':'str',\n",
    "              'code_atc_1':'str',\n",
    "              'DDD':'float64',\n",
    "              'nombre_prises':'int64',\n",
    "              'orphan_flag':'bool',\n",
    "              'chapter_IV_bis_flag':'bool',\n",
    "              'link_same_tablet':'int64',\n",
    "              'reimbt_cat_desc_fr':'str',\n",
    "              'reimbt_cat_desc_nl':'str',\n",
    "              'reimbt_crit_short':'str',\n",
    "              'reimbt_cat_acute_yn':'bool',\n",
    "              'reimbt_cat_chron_yn':'bool',\n",
    "              'reimbt_cat_psy_yn':'bool',\n",
    "              'max_pct':'float64',\n",
    "              'reimbt_cat_fixed_rate_yn':'bool',\n",
    "              'relative_care_yn':'bool',\n",
    "              'ami_ziv_amount_null_yn':'bool',\n",
    "              'not_reimbursed_null_yn':'bool',\n",
    "              'fee_cat':'category',\n",
    "              'reimbt_cat_id_pk':'int64'})"
   ]
  },
  {
   "cell_type": "code",
   "execution_count": 16,
   "metadata": {},
   "outputs": [],
   "source": [
    "df[\"realization_date\"] = df[\"realization_date\"].astype('str')"
   ]
  },
  {
   "cell_type": "code",
   "execution_count": 17,
   "metadata": {},
   "outputs": [],
   "source": [
    "df = df[ (df[\"realization_date\"].str[:4] == '2016')]"
   ]
  },
  {
   "cell_type": "code",
   "execution_count": 18,
   "metadata": {},
   "outputs": [
    {
     "name": "stdout",
     "output_type": "stream",
     "text": [
      "<class 'pandas.core.frame.DataFrame'>\n",
      "Int64Index: 1542611 entries, 22833075 to 26009296\n",
      "Data columns (total 46 columns):\n",
      "Province                    1542611 non-null object\n",
      "Type                        1542611 non-null object\n",
      "hosp_serv_id                1542611 non-null object\n",
      "reimbt_cat_id               1542611 non-null int64\n",
      "drug_code                   1542611 non-null object\n",
      "realization_date            1542611 non-null object\n",
      "quantity                    1542611 non-null int64\n",
      "amount_reimb                1542611 non-null float64\n",
      "amount_not_reimb            1542611 non-null float64\n",
      "trim_pharma                 1542611 non-null float64\n",
      "produit_pharma              1542611 non-null float64\n",
      "type_drug_code              1538323 non-null object\n",
      "famille_produit_pharma      1538323 non-null object\n",
      "drug_name_aggregated        1538323 non-null object\n",
      "nom_produit_pharma          1538323 non-null object\n",
      "conditionnement             1509986 non-null object\n",
      "mode_administration         1510761 non-null object\n",
      "nom_firme_pharma            1382056 non-null object\n",
      "date_debut_rembourse        1542611 non-null datetime64[ns]\n",
      "statut_produit_pharma       1459958 non-null object\n",
      "code_atc                    1542611 non-null object\n",
      "code_atc_5                  1542611 non-null object\n",
      "code_atc_4                  1542611 non-null object\n",
      "code_atc_3                  1542611 non-null object\n",
      "code_atc_1                  1542611 non-null object\n",
      "DDD                         1542611 non-null float64\n",
      "nombre_prises               1542611 non-null float64\n",
      "orphan_flag                 1542611 non-null float64\n",
      "chapter_IV_bis_flag         1542611 non-null float64\n",
      "link_same_tablet            1542611 non-null float64\n",
      "dbegin                      1159383 non-null datetime64[ns]\n",
      "dend                        1159383 non-null datetime64[ns]\n",
      "reimbt_cat_desc_fr          1159383 non-null object\n",
      "reimbt_cat_desc_nl          1159383 non-null object\n",
      "reimbt_crit_long            1159383 non-null object\n",
      "reimbt_crit_short           1159383 non-null object\n",
      "reimbt_cat_acute_yn         1159383 non-null float64\n",
      "reimbt_cat_chron_yn         1159383 non-null float64\n",
      "reimbt_cat_psy_yn           1159383 non-null float64\n",
      "max_pct                     1159307 non-null float64\n",
      "reimbt_cat_fixed_rate_yn    1159383 non-null float64\n",
      "relative_care_yn            1159383 non-null float64\n",
      "ami_ziv_amount_null_yn      1159383 non-null float64\n",
      "not_reimbursed_null_yn      1159383 non-null float64\n",
      "fee_cat                     1159383 non-null object\n",
      "reimbt_cat_id_pk            1159383 non-null float64\n",
      "dtypes: datetime64[ns](3), float64(18), int64(2), object(23)\n",
      "memory usage: 553.2+ MB\n"
     ]
    }
   ],
   "source": [
    "df.info()"
   ]
  },
  {
   "cell_type": "markdown",
   "metadata": {},
   "source": [
    "## output result"
   ]
  },
  {
   "cell_type": "code",
   "execution_count": 20,
   "metadata": {},
   "outputs": [
    {
     "name": "stderr",
     "output_type": "stream",
     "text": [
      "/home/ubuntu/venv/lib/python3.5/site-packages/matplotlib/font_manager.py:1241: UserWarning: findfont: Font family ['sans-serif'] not found. Falling back to DejaVu Sans.\n",
      "  (prop.get_family(), self.defaultFamily[fontext]))\n",
      "/home/ubuntu/venv/lib/python3.5/site-packages/matplotlib/font_manager.py:1241: UserWarning: findfont: Font family ['sans-serif'] not found. Falling back to DejaVu Sans.\n",
      "  (prop.get_family(), self.defaultFamily[fontext]))\n",
      "/home/ubuntu/venv/lib/python3.5/site-packages/matplotlib/font_manager.py:1241: UserWarning: findfont: Font family ['sans-serif'] not found. Falling back to DejaVu Sans.\n",
      "  (prop.get_family(), self.defaultFamily[fontext]))\n",
      "/home/ubuntu/venv/lib/python3.5/site-packages/matplotlib/font_manager.py:1241: UserWarning: findfont: Font family ['sans-serif'] not found. Falling back to DejaVu Sans.\n",
      "  (prop.get_family(), self.defaultFamily[fontext]))\n",
      "/home/ubuntu/venv/lib/python3.5/site-packages/matplotlib/font_manager.py:1241: UserWarning: findfont: Font family ['sans-serif'] not found. Falling back to DejaVu Sans.\n",
      "  (prop.get_family(), self.defaultFamily[fontext]))\n",
      "/home/ubuntu/venv/lib/python3.5/site-packages/matplotlib/font_manager.py:1241: UserWarning: findfont: Font family ['sans-serif'] not found. Falling back to DejaVu Sans.\n",
      "  (prop.get_family(), self.defaultFamily[fontext]))\n",
      "/home/ubuntu/venv/lib/python3.5/site-packages/matplotlib/font_manager.py:1241: UserWarning: findfont: Font family ['sans-serif'] not found. Falling back to DejaVu Sans.\n",
      "  (prop.get_family(), self.defaultFamily[fontext]))\n",
      "/home/ubuntu/venv/lib/python3.5/site-packages/matplotlib/font_manager.py:1241: UserWarning: findfont: Font family ['sans-serif'] not found. Falling back to DejaVu Sans.\n",
      "  (prop.get_family(), self.defaultFamily[fontext]))\n",
      "/home/ubuntu/venv/lib/python3.5/site-packages/matplotlib/font_manager.py:1241: UserWarning: findfont: Font family ['sans-serif'] not found. Falling back to DejaVu Sans.\n",
      "  (prop.get_family(), self.defaultFamily[fontext]))\n"
     ]
    }
   ],
   "source": [
    "pp.ProfileReport(df).to_file(outputfile=\"../data/report/DB_V4_2016_report.html\")"
   ]
  },
  {
   "cell_type": "code",
   "execution_count": null,
   "metadata": {},
   "outputs": [],
   "source": [
    "#df.to_csv(\"../data/dataset/DB_V4.csv\", index=False)"
   ]
  },
  {
   "cell_type": "code",
   "execution_count": 21,
   "metadata": {},
   "outputs": [
    {
     "name": "stdout",
     "output_type": "stream",
     "text": [
      "<class 'pandas.core.frame.DataFrame'>\n",
      "Int64Index: 1542611 entries, 22833075 to 26009296\n",
      "Data columns (total 46 columns):\n",
      "Province                    1542611 non-null object\n",
      "Type                        1542611 non-null object\n",
      "hosp_serv_id                1542611 non-null object\n",
      "reimbt_cat_id               1542611 non-null int64\n",
      "drug_code                   1542611 non-null object\n",
      "realization_date            1542611 non-null object\n",
      "quantity                    1542611 non-null int64\n",
      "amount_reimb                1542611 non-null float64\n",
      "amount_not_reimb            1542611 non-null float64\n",
      "trim_pharma                 1542611 non-null float64\n",
      "produit_pharma              1542611 non-null float64\n",
      "type_drug_code              1538323 non-null object\n",
      "famille_produit_pharma      1538323 non-null object\n",
      "drug_name_aggregated        1538323 non-null object\n",
      "nom_produit_pharma          1538323 non-null object\n",
      "conditionnement             1509986 non-null object\n",
      "mode_administration         1510761 non-null object\n",
      "nom_firme_pharma            1382056 non-null object\n",
      "date_debut_rembourse        1542611 non-null datetime64[ns]\n",
      "statut_produit_pharma       1459958 non-null object\n",
      "code_atc                    1542611 non-null object\n",
      "code_atc_5                  1542611 non-null object\n",
      "code_atc_4                  1542611 non-null object\n",
      "code_atc_3                  1542611 non-null object\n",
      "code_atc_1                  1542611 non-null object\n",
      "DDD                         1542611 non-null float64\n",
      "nombre_prises               1542611 non-null float64\n",
      "orphan_flag                 1542611 non-null float64\n",
      "chapter_IV_bis_flag         1542611 non-null float64\n",
      "link_same_tablet            1542611 non-null float64\n",
      "dbegin                      1159383 non-null datetime64[ns]\n",
      "dend                        1159383 non-null datetime64[ns]\n",
      "reimbt_cat_desc_fr          1159383 non-null object\n",
      "reimbt_cat_desc_nl          1159383 non-null object\n",
      "reimbt_crit_long            1159383 non-null object\n",
      "reimbt_crit_short           1159383 non-null object\n",
      "reimbt_cat_acute_yn         1159383 non-null float64\n",
      "reimbt_cat_chron_yn         1159383 non-null float64\n",
      "reimbt_cat_psy_yn           1159383 non-null float64\n",
      "max_pct                     1159307 non-null float64\n",
      "reimbt_cat_fixed_rate_yn    1159383 non-null float64\n",
      "relative_care_yn            1159383 non-null float64\n",
      "ami_ziv_amount_null_yn      1159383 non-null float64\n",
      "not_reimbursed_null_yn      1159383 non-null float64\n",
      "fee_cat                     1159383 non-null object\n",
      "reimbt_cat_id_pk            1159383 non-null float64\n",
      "dtypes: datetime64[ns](3), float64(18), int64(2), object(23)\n",
      "memory usage: 553.2+ MB\n"
     ]
    }
   ],
   "source": [
    "df.info(verbose=True)"
   ]
  },
  {
   "cell_type": "code",
   "execution_count": null,
   "metadata": {},
   "outputs": [],
   "source": [
    "#import pandas_profiling as pp"
   ]
  },
  {
   "cell_type": "code",
   "execution_count": null,
   "metadata": {},
   "outputs": [],
   "source": [
    "#pp.ProfileReport(pharma_ref)"
   ]
  },
  {
   "cell_type": "code",
   "execution_count": null,
   "metadata": {},
   "outputs": [],
   "source": [
    "#df[\"realization_date\"] = df[\"realization_date\"].astype('str')"
   ]
  },
  {
   "cell_type": "code",
   "execution_count": null,
   "metadata": {},
   "outputs": [],
   "source": [
    "#(df[\"realization_date\"].str[:4] == '2016').value_counts()"
   ]
  },
  {
   "cell_type": "code",
   "execution_count": 22,
   "metadata": {},
   "outputs": [
    {
     "data": {
      "text/plain": [
       "Index(['Province', 'Type', 'hosp_serv_id', 'reimbt_cat_id', 'drug_code',\n",
       "       'realization_date', 'quantity', 'amount_reimb', 'amount_not_reimb',\n",
       "       'trim_pharma', 'produit_pharma', 'type_drug_code',\n",
       "       'famille_produit_pharma', 'drug_name_aggregated', 'nom_produit_pharma',\n",
       "       'conditionnement', 'mode_administration', 'nom_firme_pharma',\n",
       "       'date_debut_rembourse', 'statut_produit_pharma', 'code_atc',\n",
       "       'code_atc_5', 'code_atc_4', 'code_atc_3', 'code_atc_1', 'DDD',\n",
       "       'nombre_prises', 'orphan_flag', 'chapter_IV_bis_flag',\n",
       "       'link_same_tablet', 'dbegin', 'dend', 'reimbt_cat_desc_fr',\n",
       "       'reimbt_cat_desc_nl', 'reimbt_crit_long', 'reimbt_crit_short',\n",
       "       'reimbt_cat_acute_yn', 'reimbt_cat_chron_yn', 'reimbt_cat_psy_yn',\n",
       "       'max_pct', 'reimbt_cat_fixed_rate_yn', 'relative_care_yn',\n",
       "       'ami_ziv_amount_null_yn', 'not_reimbursed_null_yn', 'fee_cat',\n",
       "       'reimbt_cat_id_pk'],\n",
       "      dtype='object')"
      ]
     },
     "execution_count": 22,
     "metadata": {},
     "output_type": "execute_result"
    }
   ],
   "source": [
    "df.columns"
   ]
  },
  {
   "cell_type": "code",
   "execution_count": 24,
   "metadata": {},
   "outputs": [],
   "source": [
    "# keep these columns:\n",
    "df = df[['Province', 'Type', 'hosp_serv_id', 'reimbt_cat_id', 'drug_code',\n",
    "       'realization_date', 'quantity', 'amount_reimb', 'amount_not_reimb',\n",
    "       'trim_pharma', 'produit_pharma', 'type_drug_code',\n",
    "       'famille_produit_pharma', 'drug_name_aggregated',\n",
    "       'conditionnement', 'mode_administration',\n",
    "       'date_debut_rembourse', 'statut_produit_pharma', 'code_atc',\n",
    "       'code_atc_5', 'code_atc_4', 'code_atc_3', 'code_atc_1', 'DDD',\n",
    "       'nombre_prises', 'orphan_flag', 'chapter_IV_bis_flag',\n",
    "       'link_same_tablet', 'dbegin', 'dend', 'reimbt_cat_desc_fr',\n",
    "       'reimbt_cat_desc_nl', 'reimbt_crit_long', 'reimbt_crit_short',\n",
    "       'reimbt_cat_fixed_rate_yn', 'fee_cat']]"
   ]
  },
  {
   "cell_type": "code",
   "execution_count": 29,
   "metadata": {},
   "outputs": [],
   "source": [
    "df[\"reimbt_cat_fixed_rate_yn\"] = df[\"reimbt_cat_fixed_rate_yn\"].astype('bool')"
   ]
  },
  {
   "cell_type": "code",
   "execution_count": 37,
   "metadata": {},
   "outputs": [],
   "source": [
    "df_work = df[ (df[\"reimbt_cat_fixed_rate_yn\"] == True) ]"
   ]
  },
  {
   "cell_type": "code",
   "execution_count": 38,
   "metadata": {},
   "outputs": [],
   "source": [
    "df_work.to_csv(\"../data/dataset/not_reimb_workfile_2016.csv\", index=False)"
   ]
  },
  {
   "cell_type": "code",
   "execution_count": 40,
   "metadata": {},
   "outputs": [
    {
     "data": {
      "text/plain": [
       "Général          953388\n",
       "Psychiatrique      6046\n",
       "Name: Type, dtype: int64"
      ]
     },
     "execution_count": 40,
     "metadata": {},
     "output_type": "execute_result"
    }
   ],
   "source": [
    "df_work[\"Type\"].value_counts()"
   ]
  },
  {
   "cell_type": "code",
   "execution_count": 63,
   "metadata": {},
   "outputs": [
    {
     "name": "stderr",
     "output_type": "stream",
     "text": [
      "/home/ubuntu/venv/lib/python3.5/site-packages/ipykernel_launcher.py:1: SettingWithCopyWarning: \n",
      "A value is trying to be set on a copy of a slice from a DataFrame.\n",
      "Try using .loc[row_indexer,col_indexer] = value instead\n",
      "\n",
      "See the caveats in the documentation: http://pandas.pydata.org/pandas-docs/stable/indexing.html#indexing-view-versus-copy\n",
      "  \"\"\"Entry point for launching an IPython kernel.\n"
     ]
    }
   ],
   "source": [
    "df_work[\"amount_reimb_div_quantity\"] = df_work[\"amount_reimb\"] / df_work[\"quantity\"]"
   ]
  },
  {
   "cell_type": "code",
   "execution_count": null,
   "metadata": {},
   "outputs": [],
   "source": [
    "#df.groupby('col1')['col2'].apply(lambda x: x)"
   ]
  },
  {
   "cell_type": "code",
   "execution_count": 41,
   "metadata": {},
   "outputs": [],
   "source": [
    "df_work = df_work[ (df_work[\"Type\"] == \"Général\") ]"
   ]
  },
  {
   "cell_type": "code",
   "execution_count": 68,
   "metadata": {},
   "outputs": [
    {
     "data": {
      "text/plain": [
       " 0.000000e+00    520\n",
       " inf             101\n",
       "-inf              13\n",
       " 5.824304e+00      1\n",
       " 5.003638e+02      1\n",
       " 4.261144e+00      1\n",
       " 4.202902e+01      1\n",
       " 4.718318e+01      1\n",
       " 3.732954e+02      1\n",
       " 6.304515e+01      1\n",
       " 5.873456e+02      1\n",
       " 8.036152e+00      1\n",
       " 9.219011e+04      1\n",
       " 2.022065e+04      1\n",
       " 9.989872e+03      1\n",
       " 3.684756e+01      1\n",
       " 1.139832e+01      1\n",
       " 4.038665e+03      1\n",
       " 2.662045e-01      1\n",
       " 2.348433e+01      1\n",
       " 9.977944e+03      1\n",
       " 7.716923e+01      1\n",
       " 2.796620e+03      1\n",
       " 7.934648e+00      1\n",
       " 8.849044e+01      1\n",
       " 1.206362e+02      1\n",
       " 2.878000e+01      1\n",
       " 1.138605e+04      1\n",
       " 3.721350e+03      1\n",
       " 2.942728e+02      1\n",
       "                ... \n",
       " 3.865374e+04      1\n",
       " 1.041316e+06      1\n",
       " 2.406465e+01      1\n",
       " 7.219843e+00      1\n",
       " 4.166468e+01      1\n",
       " 3.284791e+01      1\n",
       " 2.573558e+00      1\n",
       " 4.382187e+00      1\n",
       " 1.281722e+05      1\n",
       " 4.841690e+02      1\n",
       " 4.057019e+01      1\n",
       " 6.042004e+03      1\n",
       " 6.111199e+01      1\n",
       " 2.092393e+05      1\n",
       " 7.775758e+02      1\n",
       " 1.050866e+04      1\n",
       " 2.576000e+02      1\n",
       " 4.755167e-01      1\n",
       " 2.518901e+04      1\n",
       " 1.994092e+02      1\n",
       " 4.000000e-01      1\n",
       " 4.905000e+01      1\n",
       " 2.681792e+01      1\n",
       " 6.219660e+02      1\n",
       " 2.436641e+02      1\n",
       " 1.917584e+02      1\n",
       " 3.520450e+02      1\n",
       " 9.887000e+01      1\n",
       " 1.528000e+01      1\n",
       " 2.545669e+00      1\n",
       "Name: amount_reimb_div_quantity, Length: 817, dtype: int64"
      ]
     },
     "execution_count": 68,
     "metadata": {},
     "output_type": "execute_result"
    }
   ],
   "source": [
    "df_work.groupby([\"code_atc\"])[\"amount_reimb_div_quantity\"].sum().value_counts(ascending=False)"
   ]
  },
  {
   "cell_type": "code",
   "execution_count": 46,
   "metadata": {},
   "outputs": [
    {
     "ename": "AttributeError",
     "evalue": "'DataFrameGroupBy' object has no attribute 'value_counts'",
     "output_type": "error",
     "traceback": [
      "\u001b[0;31m---------------------------------------------------------------------------\u001b[0m",
      "\u001b[0;31mAttributeError\u001b[0m                            Traceback (most recent call last)",
      "\u001b[0;32m<ipython-input-46-529565768334>\u001b[0m in \u001b[0;36m<module>\u001b[0;34m\u001b[0m\n\u001b[0;32m----> 1\u001b[0;31m \u001b[0mdf_work\u001b[0m\u001b[0;34m.\u001b[0m\u001b[0mgroupby\u001b[0m\u001b[0;34m(\u001b[0m\u001b[0;34m[\u001b[0m\u001b[0;34m\"code_atc\"\u001b[0m\u001b[0;34m]\u001b[0m\u001b[0;34m)\u001b[0m\u001b[0;34m.\u001b[0m\u001b[0mvalue_counts\u001b[0m\u001b[0;34m(\u001b[0m\u001b[0;34m)\u001b[0m\u001b[0;34m\u001b[0m\u001b[0m\n\u001b[0m",
      "\u001b[0;32m~/venv/lib/python3.5/site-packages/pandas/core/groupby/groupby.py\u001b[0m in \u001b[0;36m__getattr__\u001b[0;34m(self, attr)\u001b[0m\n\u001b[1;32m    534\u001b[0m \u001b[0;34m\u001b[0m\u001b[0m\n\u001b[1;32m    535\u001b[0m         raise AttributeError(\"%r object has no attribute %r\" %\n\u001b[0;32m--> 536\u001b[0;31m                              (type(self).__name__, attr))\n\u001b[0m\u001b[1;32m    537\u001b[0m \u001b[0;34m\u001b[0m\u001b[0m\n\u001b[1;32m    538\u001b[0m     @Substitution(klass='GroupBy',\n",
      "\u001b[0;31mAttributeError\u001b[0m: 'DataFrameGroupBy' object has no attribute 'value_counts'"
     ]
    }
   ],
   "source": [
    "df_work.groupby([\"code_atc\"]).value_counts()"
   ]
  },
  {
   "cell_type": "code",
   "execution_count": null,
   "metadata": {},
   "outputs": [],
   "source": []
  },
  {
   "cell_type": "code",
   "execution_count": null,
   "metadata": {},
   "outputs": [],
   "source": []
  },
  {
   "cell_type": "code",
   "execution_count": null,
   "metadata": {},
   "outputs": [],
   "source": []
  },
  {
   "cell_type": "code",
   "execution_count": null,
   "metadata": {},
   "outputs": [],
   "source": []
  },
  {
   "cell_type": "code",
   "execution_count": null,
   "metadata": {},
   "outputs": [],
   "source": []
  }
 ],
 "metadata": {
  "kernelspec": {
   "display_name": "Python 3",
   "language": "python",
   "name": "python3"
  },
  "language_info": {
   "codemirror_mode": {
    "name": "ipython",
    "version": 3
   },
   "file_extension": ".py",
   "mimetype": "text/x-python",
   "name": "python",
   "nbconvert_exporter": "python",
   "pygments_lexer": "ipython3",
   "version": "3.5.2"
  }
 },
 "nbformat": 4,
 "nbformat_minor": 2
}
