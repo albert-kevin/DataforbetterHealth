{
 "cells": [
  {
   "cell_type": "code",
   "execution_count": null,
   "metadata": {},
   "outputs": [],
   "source": [
    "! pip install xlrd"
   ]
  },
  {
   "cell_type": "code",
   "execution_count": 1,
   "metadata": {},
   "outputs": [],
   "source": [
    "import pandas_profiling as pp\n",
    "import pandas as pd\n",
    "import numpy as np\n",
    "\n",
    "import seaborn as sns\n",
    "from matplotlib import pyplot as plt\n",
    "%matplotlib inline\n",
    "\n",
    "import warnings\n",
    "warnings.filterwarnings('ignore')\n",
    "\n",
    "from sklearn.preprocessing import StandardScaler"
   ]
  },
  {
   "cell_type": "code",
   "execution_count": null,
   "metadata": {
    "scrolled": true
   },
   "outputs": [],
   "source": [
    "! ls -l ../data/original"
   ]
  },
  {
   "cell_type": "code",
   "execution_count": null,
   "metadata": {},
   "outputs": [],
   "source": [
    "! head ../data/original/DB_V2.TXT"
   ]
  },
  {
   "cell_type": "markdown",
   "metadata": {},
   "source": [
    "## df = DB_V2.TXT"
   ]
  },
  {
   "cell_type": "code",
   "execution_count": null,
   "metadata": {},
   "outputs": [],
   "source": [
    "# RIZIV dataset 1.8GB\n",
    "# reading merge variable as a string\n",
    "df = pd.read_csv(\"../data/original/DB_V2.TXT\", sep='\\t',\n",
    "                 encoding='latin-1',\n",
    "                 low_memory=False,\n",
    "                 dtype={\"reimbt_cat_id\":\"str\", \"realization_date\":\"str\"})\n",
    "df.drop_duplicates(inplace=True)\n",
    "df.drop('Year', axis=1, inplace=True)\n",
    "df.drop('account_yy_ss', axis=1, inplace=True)"
   ]
  },
  {
   "cell_type": "code",
   "execution_count": null,
   "metadata": {},
   "outputs": [],
   "source": [
    "pp.ProfileReport(df).to_file(outputfile=\"../data/report/DB_V2_initial_dataset_report.html\")"
   ]
  },
  {
   "cell_type": "markdown",
   "metadata": {},
   "source": [
    "## pharma_ref = PHARME_REF.xlsx"
   ]
  },
  {
   "cell_type": "code",
   "execution_count": 3,
   "metadata": {},
   "outputs": [],
   "source": [
    "# fixed the drug_code issue for later merging\n",
    "pharma_ref = pd.read_excel(\"../data/original/PHARMA_REF.xlsx\",\n",
    "                           dtype={\"drug_code\":'str', \"produit_pharma\":'str'})\n",
    "pharma_ref.drop_duplicates(inplace=True)"
   ]
  },
  {
   "cell_type": "code",
   "execution_count": null,
   "metadata": {},
   "outputs": [],
   "source": [
    "pp.ProfileReport(pharma_ref).to_file(outputfile=\"../data/report/PHARMA_REF_xlsx_initial_dataset_report.html\")"
   ]
  },
  {
   "cell_type": "markdown",
   "metadata": {},
   "source": [
    "## reimburse_cat = reimb category.xls"
   ]
  },
  {
   "cell_type": "code",
   "execution_count": 4,
   "metadata": {},
   "outputs": [],
   "source": [
    "# make sure the id's you merge on are read correctly and the same way\n",
    "reimburse_cat = pd.read_excel(\"../data/original/reimb category.xlsx\", dtype={\"reimbt_cat_id\":'str'})\n",
    "reimburse_cat.drop_duplicates(inplace=True)\n",
    "# max_pct is highly correlated with min_pct (ρ = 0.98479) and 6.1% missing values !\n",
    "reimburse_cat.drop('min_pct', axis=1, inplace=True)\n",
    "# remove the fresh descriptions\n",
    "reimburse_cat.drop('reimbt_cat_desc_fr', axis=1, inplace=True)"
   ]
  },
  {
   "cell_type": "code",
   "execution_count": 5,
   "metadata": {},
   "outputs": [],
   "source": [
    "reimburse_cat_dict = {'nd':'other', 'A':'A', 'B':'B', 'Cat 1':'other', 'Cat 2 (A)':'other', 'Cat 3':'other', 'Cat 4':'other',\n",
    "       'Cat 5 (D)':'other', 'C':'C', 'Cs':'C', 'Cx':'C', 'Cxg':'C', 'D':'D', 'Csg':'C', 'Ag':'A', 'Bg':'B', 'Cg':'C',\n",
    "       'Forf Ant':'other', 'Nutri Par':'other', 'Br':'other', 'Ar':'other', 'Cr':'C', 'Csr':'C', 'Cxr':'C',\n",
    "       'Forf Adm':'other', 'Forf BH':'forf', 'V08':'other', 'Fa':'other', 'Fb':'other', 'Forf 1-3':'other',\n",
    "       'Forf 4-':'other', 'Ri-D11':'other', 'Ri-T1':'other', 'Ri-T2':'other', 'Ri-T3':'other', 'Ri-D5':'other', 'Ri-D7':'other',\n",
    "       'Ri-D2':'other', 'Ri-D9':'other', 'Ri-D6':'other', 'Ri-D10':'other', 'Ri-D3':'other', 'Ri-D1':'other', 'Ri-D8':'other',\n",
    "       'Ri-T4':'other', 'Ri-D4':'other', 'Forf PET':'other', '90-A':'A', '90-B':'B', '90-Fa':'other', '90-Fb':'other',\n",
    "       'Ri-T5':'other', 'Ri-T6':'other', 'Ri-T7':'other', 'Ri-T8':'other', '90-C':'C', '90-Cs':'C', '90-Cx':'C'}\n",
    "reimburse_cat[\"reimbt_crit_long\"] = reimburse_cat[\"reimbt_crit_long\"].map(reimburse_cat_dict)"
   ]
  },
  {
   "cell_type": "code",
   "execution_count": null,
   "metadata": {},
   "outputs": [],
   "source": [
    "pp.ProfileReport(reimburse_cat).to_file(outputfile=\"../data/report/reimb_category_xlsx_initial_dataset_report.html\")"
   ]
  },
  {
   "cell_type": "markdown",
   "metadata": {},
   "source": [
    "## MERGE left join 3x dataframes"
   ]
  },
  {
   "cell_type": "code",
   "execution_count": 6,
   "metadata": {},
   "outputs": [],
   "source": [
    "df = pd.merge(df, pharma_ref, how=\"left\", left_on=\"drug_code\", right_on=\"drug_code\").reset_index()"
   ]
  },
  {
   "cell_type": "code",
   "execution_count": 7,
   "metadata": {},
   "outputs": [],
   "source": [
    "df = pd.merge(df, reimburse_cat, how=\"left\", left_on=\"reimbt_cat_id\", right_on=\"reimbt_cat_id\").reset_index()"
   ]
  },
  {
   "cell_type": "code",
   "execution_count": null,
   "metadata": {},
   "outputs": [],
   "source": [
    "#df.merge(pharma_ref, how=\"left\", on=\"drug_code\").reset_index()"
   ]
  },
  {
   "cell_type": "code",
   "execution_count": null,
   "metadata": {},
   "outputs": [],
   "source": [
    "#df.merge(reimburse_cat, how=\"left\", on=\"reimbt_cat_id\").reset_index()"
   ]
  },
  {
   "cell_type": "markdown",
   "metadata": {},
   "source": [
    "## Datacleaning Phase II"
   ]
  },
  {
   "cell_type": "code",
   "execution_count": null,
   "metadata": {},
   "outputs": [],
   "source": [
    "df.columns"
   ]
  },
  {
   "cell_type": "code",
   "execution_count": 8,
   "metadata": {},
   "outputs": [],
   "source": [
    "df.drop(\"level_0\", axis=1, inplace=True)\n",
    "df.drop(\"index\", axis=1, inplace=True)"
   ]
  },
  {
   "cell_type": "code",
   "execution_count": 9,
   "metadata": {},
   "outputs": [
    {
     "name": "stdout",
     "output_type": "stream",
     "text": [
      "<class 'pandas.core.frame.DataFrame'>\n",
      "RangeIndex: 26009309 entries, 0 to 26009308\n",
      "Data columns (total 46 columns):\n",
      "Province                    object\n",
      "Type                        object\n",
      "hosp_serv_id                object\n",
      "reimbt_cat_id               object\n",
      "drug_code                   object\n",
      "realization_date            object\n",
      "quantity                    int64\n",
      "amount_reimb                float64\n",
      "amount_not_reimb            float64\n",
      "trim_pharma                 float64\n",
      "produit_pharma              object\n",
      "type_drug_code              object\n",
      "famille_produit_pharma      object\n",
      "drug_name_aggregated        object\n",
      "nom_produit_pharma          object\n",
      "conditionnement             object\n",
      "mode_administration         object\n",
      "nom_firme_pharma            object\n",
      "date_debut_rembourse        datetime64[ns]\n",
      "statut_produit_pharma       object\n",
      "code_atc                    object\n",
      "code_atc_5                  object\n",
      "code_atc_4                  object\n",
      "code_atc_3                  object\n",
      "code_atc_1                  object\n",
      "DDD                         float64\n",
      "nombre_prises               float64\n",
      "orphan_flag                 float64\n",
      "chapter_IV_bis_flag         float64\n",
      "link_same_tablet            float64\n",
      "dbegin                      datetime64[ns]\n",
      "dend                        datetime64[ns]\n",
      "reimbt_cat_desc_nl          object\n",
      "patient_cat                 object\n",
      "reimbt_crit_long            object\n",
      "reimbt_crit_short           object\n",
      "reimbt_cat_acute_yn         int64\n",
      "reimbt_cat_chron_yn         int64\n",
      "reimbt_cat_psy_yn           int64\n",
      "max_pct                     float64\n",
      "reimbt_cat_fixed_rate_yn    int64\n",
      "relative_care_yn            int64\n",
      "ami_ziv_amount_null_yn      int64\n",
      "not_reimbursed_null_yn      int64\n",
      "fee_cat                     object\n",
      "reimbt_cat_id_pk            int64\n",
      "dtypes: datetime64[ns](3), float64(9), int64(9), object(25)\n",
      "memory usage: 8.9+ GB\n"
     ]
    }
   ],
   "source": [
    "df.info()"
   ]
  },
  {
   "cell_type": "code",
   "execution_count": 10,
   "metadata": {},
   "outputs": [],
   "source": [
    "# only keep hospitalised data, ignore ambulant data\n",
    "#df = df[ (df[\"patient_cat\"] == 'HOSP') ]"
   ]
  },
  {
   "cell_type": "code",
   "execution_count": 9,
   "metadata": {},
   "outputs": [],
   "source": [
    "df = df.astype({'Type':'category', 'type_drug_code':'category', 'statut_produit_pharma':'category',\n",
    "               'orphan_flag':'bool', 'chapter_IV_bis_flag':'bool', 'reimbt_cat_acute_yn':'bool',\n",
    "               'reimbt_cat_chron_yn':'bool', 'reimbt_cat_psy_yn':'bool', 'reimbt_cat_fixed_rate_yn':'bool',\n",
    "               'relative_care_yn':'bool', 'ami_ziv_amount_null_yn':'bool', 'not_reimbursed_null_yn':'bool', 'fee_cat':'category'})"
   ]
  },
  {
   "cell_type": "markdown",
   "metadata": {},
   "source": [
    "## Our domain expert suggest to only keep these columns:"
   ]
  },
  {
   "cell_type": "code",
   "execution_count": 12,
   "metadata": {},
   "outputs": [
    {
     "name": "stdout",
     "output_type": "stream",
     "text": [
      "<class 'pandas.core.frame.DataFrame'>\n",
      "RangeIndex: 26009309 entries, 0 to 26009308\n",
      "Data columns (total 46 columns):\n",
      "Province                    object\n",
      "Type                        category\n",
      "hosp_serv_id                object\n",
      "reimbt_cat_id               object\n",
      "drug_code                   object\n",
      "realization_date            object\n",
      "quantity                    int64\n",
      "amount_reimb                float64\n",
      "amount_not_reimb            float64\n",
      "trim_pharma                 float64\n",
      "produit_pharma              object\n",
      "type_drug_code              category\n",
      "famille_produit_pharma      object\n",
      "drug_name_aggregated        object\n",
      "nom_produit_pharma          object\n",
      "conditionnement             object\n",
      "mode_administration         object\n",
      "nom_firme_pharma            object\n",
      "date_debut_rembourse        datetime64[ns]\n",
      "statut_produit_pharma       category\n",
      "code_atc                    object\n",
      "code_atc_5                  object\n",
      "code_atc_4                  object\n",
      "code_atc_3                  object\n",
      "code_atc_1                  object\n",
      "DDD                         float64\n",
      "nombre_prises               float64\n",
      "orphan_flag                 bool\n",
      "chapter_IV_bis_flag         bool\n",
      "link_same_tablet            float64\n",
      "dbegin                      datetime64[ns]\n",
      "dend                        datetime64[ns]\n",
      "reimbt_cat_desc_nl          object\n",
      "patient_cat                 object\n",
      "reimbt_crit_long            object\n",
      "reimbt_crit_short           object\n",
      "reimbt_cat_acute_yn         bool\n",
      "reimbt_cat_chron_yn         bool\n",
      "reimbt_cat_psy_yn           bool\n",
      "max_pct                     float64\n",
      "reimbt_cat_fixed_rate_yn    bool\n",
      "relative_care_yn            bool\n",
      "ami_ziv_amount_null_yn      bool\n",
      "not_reimbursed_null_yn      bool\n",
      "fee_cat                     category\n",
      "reimbt_cat_id_pk            int64\n",
      "dtypes: bool(9), category(4), datetime64[ns](3), float64(7), int64(2), object(21)\n",
      "memory usage: 6.7+ GB\n"
     ]
    }
   ],
   "source": [
    "df.info()"
   ]
  },
  {
   "cell_type": "code",
   "execution_count": 10,
   "metadata": {},
   "outputs": [],
   "source": [
    "# keep these columns:\n",
    "# check this later !\n",
    "df = df[['Province', 'Type', 'hosp_serv_id', 'reimbt_cat_id', 'drug_code',\n",
    "       'realization_date', 'quantity', 'amount_reimb', 'amount_not_reimb',\n",
    "       'trim_pharma', 'produit_pharma', 'type_drug_code',\n",
    "       'famille_produit_pharma', 'drug_name_aggregated',\n",
    "       'conditionnement', 'mode_administration',\n",
    "       'date_debut_rembourse', 'statut_produit_pharma', 'code_atc',\n",
    "       'code_atc_5', 'code_atc_4', 'code_atc_3', 'code_atc_1', 'DDD',\n",
    "       'nombre_prises', 'orphan_flag', 'chapter_IV_bis_flag',\n",
    "       'link_same_tablet', 'dbegin', 'dend',\n",
    "       'reimbt_cat_desc_nl', 'reimbt_crit_long', 'reimbt_crit_short',\n",
    "       'reimbt_cat_fixed_rate_yn', 'fee_cat']]"
   ]
  },
  {
   "cell_type": "code",
   "execution_count": 14,
   "metadata": {},
   "outputs": [
    {
     "name": "stdout",
     "output_type": "stream",
     "text": [
      "<class 'pandas.core.frame.DataFrame'>\n",
      "RangeIndex: 26009309 entries, 0 to 26009308\n",
      "Data columns (total 35 columns):\n",
      "Province                    object\n",
      "Type                        category\n",
      "hosp_serv_id                object\n",
      "reimbt_cat_id               object\n",
      "drug_code                   object\n",
      "realization_date            object\n",
      "quantity                    int64\n",
      "amount_reimb                float64\n",
      "amount_not_reimb            float64\n",
      "trim_pharma                 float64\n",
      "produit_pharma              object\n",
      "type_drug_code              category\n",
      "famille_produit_pharma      object\n",
      "drug_name_aggregated        object\n",
      "conditionnement             object\n",
      "mode_administration         object\n",
      "date_debut_rembourse        datetime64[ns]\n",
      "statut_produit_pharma       category\n",
      "code_atc                    object\n",
      "code_atc_5                  object\n",
      "code_atc_4                  object\n",
      "code_atc_3                  object\n",
      "code_atc_1                  object\n",
      "DDD                         float64\n",
      "nombre_prises               float64\n",
      "orphan_flag                 bool\n",
      "chapter_IV_bis_flag         bool\n",
      "link_same_tablet            float64\n",
      "dbegin                      datetime64[ns]\n",
      "dend                        datetime64[ns]\n",
      "reimbt_cat_desc_nl          object\n",
      "reimbt_crit_long            object\n",
      "reimbt_crit_short           object\n",
      "reimbt_cat_fixed_rate_yn    bool\n",
      "fee_cat                     category\n",
      "dtypes: bool(3), category(4), datetime64[ns](3), float64(6), int64(1), object(18)\n",
      "memory usage: 5.6+ GB\n"
     ]
    }
   ],
   "source": [
    "df.info()"
   ]
  },
  {
   "cell_type": "markdown",
   "metadata": {},
   "source": [
    "## then generate a new final report"
   ]
  },
  {
   "cell_type": "code",
   "execution_count": 15,
   "metadata": {},
   "outputs": [],
   "source": [
    "#pp.ProfileReport(df).to_file(outputfile=\"../data/report/DB_V4_merged_pharmaref_and_reimbcategory_report.html\")"
   ]
  },
  {
   "cell_type": "markdown",
   "metadata": {},
   "source": [
    "## output the final dataset to *.parquet format"
   ]
  },
  {
   "cell_type": "code",
   "execution_count": 16,
   "metadata": {},
   "outputs": [],
   "source": [
    "#df.to_parquet(\"../data/dataset/DB_V4.parquet\", index=False)"
   ]
  },
  {
   "cell_type": "markdown",
   "metadata": {},
   "source": [
    "# UPDATE trello\n",
    "\n",
    "## make some visualisations"
   ]
  },
  {
   "cell_type": "code",
   "execution_count": null,
   "metadata": {},
   "outputs": [],
   "source": [
    "# show all missing values \"int\"\n",
    "plt.close(\"all\")\n",
    "plt.figure(figsize=(14,10))\n",
    "sns.heatmap(df.select_dtypes(include=['int']).isnull(), cmap='viridis', cbar=False)\n",
    "plt.savefig(\"../data/image/missing_int.png\")"
   ]
  },
  {
   "cell_type": "code",
   "execution_count": null,
   "metadata": {},
   "outputs": [],
   "source": [
    "# show all missing values \"float\"\n",
    "plt.close(\"all\")\n",
    "plt.figure(figsize=(14,10))\n",
    "sns.heatmap(df.select_dtypes(include=['float']).isnull(), cmap='viridis', cbar=False)\n",
    "plt.savefig(\"../data/image/missing_float.png\")"
   ]
  },
  {
   "cell_type": "code",
   "execution_count": null,
   "metadata": {},
   "outputs": [],
   "source": [
    "# show all missing values \"bool\"\n",
    "plt.close(\"all\")\n",
    "plt.figure(figsize=(14,10))\n",
    "sns.heatmap(df.select_dtypes(include=['bool']).isnull(), cmap='viridis', cbar=False)\n",
    "plt.savefig(\"../data/image/missing_bool.png\")"
   ]
  },
  {
   "cell_type": "code",
   "execution_count": null,
   "metadata": {},
   "outputs": [],
   "source": [
    "# show all missing values \"object\"\n",
    "plt.close(\"all\")\n",
    "plt.figure(figsize=(14,10))\n",
    "sns.heatmap(df.select_dtypes(include=['object']).isnull(), cmap='viridis', cbar=False)\n",
    "plt.savefig(\"../data/image/missing_object.png\")"
   ]
  },
  {
   "cell_type": "code",
   "execution_count": null,
   "metadata": {},
   "outputs": [],
   "source": [
    "# show all missing values \"category\"\n",
    "plt.close(\"all\")\n",
    "plt.figure(figsize=(14,10))\n",
    "sns.heatmap(df.select_dtypes(include=['category']).isnull(), cmap='viridis', cbar=False)\n",
    "plt.savefig(\"../data/image/missing_category.png\")"
   ]
  },
  {
   "cell_type": "code",
   "execution_count": null,
   "metadata": {},
   "outputs": [],
   "source": [
    "# show all missing values \"datetime\"\n",
    "plt.close(\"all\")\n",
    "plt.figure(figsize=(14,10))\n",
    "sns.heatmap(df.select_dtypes(include=['datetime64']).isnull(), cmap='viridis', cbar=False)\n",
    "plt.savefig(\"../data/image/missing_datetime.png\")"
   ]
  },
  {
   "cell_type": "code",
   "execution_count": null,
   "metadata": {},
   "outputs": [],
   "source": [
    "# show all zero values\n",
    "plt.close(\"all\")\n",
    "plt.figure(figsize=(14,10))\n",
    "sns.heatmap(df.select_dtypes(include=['int', 'float']) == 0, cmap='viridis', cbar=False)\n",
    "plt.savefig(\"../data/image/zeros.png\")"
   ]
  },
  {
   "cell_type": "code",
   "execution_count": null,
   "metadata": {},
   "outputs": [],
   "source": [
    "# show all negative values\n",
    "plt.close(\"all\")\n",
    "plt.figure(figsize=(14,10))\n",
    "sns.heatmap(df.select_dtypes(include=['int', 'float']) < 0, cmap='viridis', cbar=False)\n",
    "plt.savefig(\"../data/image/negatives.png\")"
   ]
  },
  {
   "cell_type": "code",
   "execution_count": null,
   "metadata": {},
   "outputs": [],
   "source": [
    "# show all string values \"other\"\n",
    "plt.close(\"all\")\n",
    "plt.figure(figsize=(14,10))\n",
    "sns.heatmap(df.select_dtypes(include=['object']) == 'other', cmap='viridis', cbar=False)\n",
    "plt.savefig(\"../data/image/other_str.png\")"
   ]
  },
  {
   "cell_type": "code",
   "execution_count": null,
   "metadata": {},
   "outputs": [],
   "source": [
    "# show all \"duplicated\" values\n",
    "plt.close(\"all\")\n",
    "plt.figure(figsize=(14,10))\n",
    "sns.heatmap(df.duplicated(), cmap='viridis', cbar=False)\n",
    "plt.savefig(\"../data/image/duplicated.png\")"
   ]
  },
  {
   "cell_type": "code",
   "execution_count": null,
   "metadata": {},
   "outputs": [],
   "source": [
    "# show ALL missing values\n",
    "plt.close(\"all\")\n",
    "plt.figure(figsize=(14,10))\n",
    "sns.heatmap(df.sample(26000).isnull(), cmap='viridis', cbar=False)\n",
    "plt.savefig(\"../data/image/missing_all.png\")"
   ]
  },
  {
   "cell_type": "code",
   "execution_count": 17,
   "metadata": {},
   "outputs": [
    {
     "name": "stdout",
     "output_type": "stream",
     "text": [
      "0.012329893116345383\n"
     ]
    }
   ],
   "source": [
    "# show the percentage of duplicates\n",
    "print (np.mean(df.duplicated()))"
   ]
  },
  {
   "cell_type": "code",
   "execution_count": 18,
   "metadata": {},
   "outputs": [
    {
     "name": "stdout",
     "output_type": "stream",
     "text": [
      "320692\n"
     ]
    }
   ],
   "source": [
    "# show the amount of duplicates\n",
    "print (np.sum(df.duplicated()))"
   ]
  },
  {
   "cell_type": "code",
   "execution_count": 19,
   "metadata": {},
   "outputs": [
    {
     "data": {
      "text/plain": [
       "(26009309, 35)"
      ]
     },
     "execution_count": 19,
     "metadata": {},
     "output_type": "execute_result"
    }
   ],
   "source": [
    "df.shape"
   ]
  },
  {
   "cell_type": "code",
   "execution_count": 11,
   "metadata": {},
   "outputs": [],
   "source": [
    "# removing the duplicate rows\n",
    "df.drop_duplicates(inplace=True)"
   ]
  },
  {
   "cell_type": "code",
   "execution_count": 21,
   "metadata": {},
   "outputs": [
    {
     "data": {
      "text/plain": [
       "(25688617, 35)"
      ]
     },
     "execution_count": 21,
     "metadata": {},
     "output_type": "execute_result"
    }
   ],
   "source": [
    "df.shape"
   ]
  },
  {
   "cell_type": "code",
   "execution_count": 27,
   "metadata": {},
   "outputs": [
    {
     "data": {
      "text/plain": [
       "<Figure size 1008x720 with 0 Axes>"
      ]
     },
     "metadata": {},
     "output_type": "display_data"
    },
    {
     "data": {
      "image/png": "[encoded data removed]",
      "text/plain": [
       "<Figure size 1260x1260 with 56 Axes>"
      ]
     },
     "metadata": {
      "needs_background": "light"
     },
     "output_type": "display_data"
    }
   ],
   "source": [
    "# show me a pairplot of all numerical combinations\n",
    "plt.close(\"all\")\n",
    "plt.figure(figsize=(14,10))\n",
    "sns.pairplot(df.sample(260000).select_dtypes(include=['int', 'float']))\n",
    "plt.savefig(\"../data/image/pairplot.png\")"
   ]
  },
  {
   "cell_type": "code",
   "execution_count": null,
   "metadata": {},
   "outputs": [],
   "source": [
    "# let's calculate standardized data"
   ]
  },
  {
   "cell_type": "code",
   "execution_count": 12,
   "metadata": {},
   "outputs": [],
   "source": [
    "scaler = StandardScaler()\n",
    "df_scaled = pd.DataFrame(scaler.fit_transform(df.select_dtypes(include=['int', 'float'])),\n",
    "                         columns=df.select_dtypes(include=['int', 'float']).columns)"
   ]
  },
  {
   "cell_type": "code",
   "execution_count": 13,
   "metadata": {},
   "outputs": [
    {
     "data": {
      "text/html": [
       "<div>\n",
       "<style scoped>\n",
       "    .dataframe tbody tr th:only-of-type {\n",
       "        vertical-align: middle;\n",
       "    }\n",
       "\n",
       "    .dataframe tbody tr th {\n",
       "        vertical-align: top;\n",
       "    }\n",
       "\n",
       "    .dataframe thead th {\n",
       "        text-align: right;\n",
       "    }\n",
       "</style>\n",
       "<table border=\"1\" class=\"dataframe\">\n",
       "  <thead>\n",
       "    <tr style=\"text-align: right;\">\n",
       "      <th></th>\n",
       "      <th>quantity</th>\n",
       "      <th>amount_reimb</th>\n",
       "      <th>amount_not_reimb</th>\n",
       "      <th>trim_pharma</th>\n",
       "      <th>DDD</th>\n",
       "      <th>nombre_prises</th>\n",
       "      <th>link_same_tablet</th>\n",
       "    </tr>\n",
       "  </thead>\n",
       "  <tbody>\n",
       "    <tr>\n",
       "      <th>9469296</th>\n",
       "      <td>-0.043775</td>\n",
       "      <td>-0.041005</td>\n",
       "      <td>-0.043373</td>\n",
       "      <td>0.0</td>\n",
       "      <td>-0.137499</td>\n",
       "      <td>-0.254681</td>\n",
       "      <td>-0.909850</td>\n",
       "    </tr>\n",
       "    <tr>\n",
       "      <th>19049146</th>\n",
       "      <td>-0.056491</td>\n",
       "      <td>-0.046152</td>\n",
       "      <td>-0.043373</td>\n",
       "      <td>0.0</td>\n",
       "      <td>-0.115639</td>\n",
       "      <td>-0.254681</td>\n",
       "      <td>-0.947743</td>\n",
       "    </tr>\n",
       "    <tr>\n",
       "      <th>3148481</th>\n",
       "      <td>-0.067916</td>\n",
       "      <td>-0.047735</td>\n",
       "      <td>-0.043805</td>\n",
       "      <td>0.0</td>\n",
       "      <td>-0.222751</td>\n",
       "      <td>-0.254681</td>\n",
       "      <td>-0.309666</td>\n",
       "    </tr>\n",
       "    <tr>\n",
       "      <th>5769288</th>\n",
       "      <td>-0.062940</td>\n",
       "      <td>-0.047608</td>\n",
       "      <td>-0.042891</td>\n",
       "      <td>0.0</td>\n",
       "      <td>-0.006341</td>\n",
       "      <td>-0.254681</td>\n",
       "      <td>-1.135206</td>\n",
       "    </tr>\n",
       "    <tr>\n",
       "      <th>9202530</th>\n",
       "      <td>-0.062572</td>\n",
       "      <td>-0.047608</td>\n",
       "      <td>-0.042653</td>\n",
       "      <td>0.0</td>\n",
       "      <td>-0.203077</td>\n",
       "      <td>-0.254681</td>\n",
       "      <td>-0.645701</td>\n",
       "    </tr>\n",
       "  </tbody>\n",
       "</table>\n",
       "</div>"
      ],
      "text/plain": [
       "          quantity  amount_reimb  amount_not_reimb  trim_pharma       DDD  \\\n",
       "9469296  -0.043775     -0.041005         -0.043373          0.0 -0.137499   \n",
       "19049146 -0.056491     -0.046152         -0.043373          0.0 -0.115639   \n",
       "3148481  -0.067916     -0.047735         -0.043805          0.0 -0.222751   \n",
       "5769288  -0.062940     -0.047608         -0.042891          0.0 -0.006341   \n",
       "9202530  -0.062572     -0.047608         -0.042653          0.0 -0.203077   \n",
       "\n",
       "          nombre_prises  link_same_tablet  \n",
       "9469296       -0.254681         -0.909850  \n",
       "19049146      -0.254681         -0.947743  \n",
       "3148481       -0.254681         -0.309666  \n",
       "5769288       -0.254681         -1.135206  \n",
       "9202530       -0.254681         -0.645701  "
      ]
     },
     "execution_count": 13,
     "metadata": {},
     "output_type": "execute_result"
    }
   ],
   "source": [
    "df_scaled.sample(5)"
   ]
  },
  {
   "cell_type": "code",
   "execution_count": 17,
   "metadata": {},
   "outputs": [
    {
     "data": {
      "text/plain": [
       "<Figure size 1008x720 with 0 Axes>"
      ]
     },
     "metadata": {},
     "output_type": "display_data"
    },
    {
     "data": {
      "image/png": "[encoded data removed]",
      "text/plain": [
       "<Figure size 1260x1260 with 56 Axes>"
      ]
     },
     "metadata": {
      "needs_background": "light"
     },
     "output_type": "display_data"
    }
   ],
   "source": [
    "# show the pairplot of all numerical combinations but SCALED !\n",
    "plt.close(\"all\")\n",
    "plt.figure(figsize=(14,10))\n",
    "sns.pairplot(df_scaled.sample(260000))\n",
    "plt.savefig(\"../data/image/pairplot_normalized.png\")"
   ]
  },
  {
   "cell_type": "code",
   "execution_count": null,
   "metadata": {},
   "outputs": [],
   "source": [
    "# show the pairplot of all numerical combinations but SCALED !\n",
    "plt.close(\"all\")\n",
    "plt.figure(figsize=(14,10))\n",
    "scaler = StandardScaler()\n",
    "sns.pairplot(pd.DataFrame(scaler.fit_transform(df.select_dtypes(include=['int', 'float'])),\n",
    "                         columns=df.select_dtypes(include=['int', 'float']).columns))\n",
    "plt.savefig(\"../data/image/pairplot_normalized.png\")"
   ]
  },
  {
   "cell_type": "code",
   "execution_count": 24,
   "metadata": {},
   "outputs": [],
   "source": [
    "# step by step"
   ]
  },
  {
   "cell_type": "code",
   "execution_count": 25,
   "metadata": {},
   "outputs": [
    {
     "data": {
      "text/plain": [
       "<Figure size 1400x1000 with 0 Axes>"
      ]
     },
     "metadata": {},
     "output_type": "display_data"
    }
   ],
   "source": [
    "plt.close(\"all\")\n",
    "plt.figure(figsize=(14,10))\n",
    "scaler = StandardScaler()"
   ]
  },
  {
   "cell_type": "code",
   "execution_count": 26,
   "metadata": {},
   "outputs": [],
   "source": [
    "df_scaled = scaler.fit_transform(df.select_dtypes(include=['int', 'float']))"
   ]
  },
  {
   "cell_type": "code",
   "execution_count": 28,
   "metadata": {},
   "outputs": [
    {
     "data": {
      "text/plain": [
       "(25688617, 7)"
      ]
     },
     "execution_count": 28,
     "metadata": {},
     "output_type": "execute_result"
    }
   ],
   "source": [
    "df_scaled.shape"
   ]
  },
  {
   "cell_type": "code",
   "execution_count": null,
   "metadata": {},
   "outputs": [],
   "source": [
    "sns.pairplot(pd.DataFrame(df_scaled,\n",
    "                         columns=df.select_dtypes(include=['int', 'float']).columns))\n",
    "plt.savefig(\"../data/image/pairplot_normalized.png\")"
   ]
  },
  {
   "cell_type": "code",
   "execution_count": 22,
   "metadata": {},
   "outputs": [
    {
     "data": {
      "text/html": [
       "<div>\n",
       "<style scoped>\n",
       "    .dataframe tbody tr th:only-of-type {\n",
       "        vertical-align: middle;\n",
       "    }\n",
       "\n",
       "    .dataframe tbody tr th {\n",
       "        vertical-align: top;\n",
       "    }\n",
       "\n",
       "    .dataframe thead th {\n",
       "        text-align: right;\n",
       "    }\n",
       "</style>\n",
       "<table border=\"1\" class=\"dataframe\">\n",
       "  <thead>\n",
       "    <tr style=\"text-align: right;\">\n",
       "      <th></th>\n",
       "      <th>quantity</th>\n",
       "      <th>amount_reimb</th>\n",
       "      <th>amount_not_reimb</th>\n",
       "      <th>trim_pharma</th>\n",
       "      <th>DDD</th>\n",
       "      <th>nombre_prises</th>\n",
       "      <th>link_same_tablet</th>\n",
       "    </tr>\n",
       "  </thead>\n",
       "  <tbody>\n",
       "    <tr>\n",
       "      <th>count</th>\n",
       "      <td>2.568862e+07</td>\n",
       "      <td>2.568862e+07</td>\n",
       "      <td>2.568862e+07</td>\n",
       "      <td>25688616.0</td>\n",
       "      <td>2.568862e+07</td>\n",
       "      <td>2.568862e+07</td>\n",
       "      <td>2.568862e+07</td>\n",
       "    </tr>\n",
       "    <tr>\n",
       "      <th>mean</th>\n",
       "      <td>-2.933601e-18</td>\n",
       "      <td>5.497446e-17</td>\n",
       "      <td>2.898750e-19</td>\n",
       "      <td>0.0</td>\n",
       "      <td>-9.182178e-17</td>\n",
       "      <td>1.224113e-17</td>\n",
       "      <td>7.852736e-17</td>\n",
       "    </tr>\n",
       "    <tr>\n",
       "      <th>std</th>\n",
       "      <td>1.000000e+00</td>\n",
       "      <td>1.000000e+00</td>\n",
       "      <td>1.000000e+00</td>\n",
       "      <td>0.0</td>\n",
       "      <td>1.000000e+00</td>\n",
       "      <td>1.000000e+00</td>\n",
       "      <td>1.000000e+00</td>\n",
       "    </tr>\n",
       "    <tr>\n",
       "      <th>min</th>\n",
       "      <td>-6.963897e+02</td>\n",
       "      <td>-1.196093e+02</td>\n",
       "      <td>-7.215508e+01</td>\n",
       "      <td>0.0</td>\n",
       "      <td>-2.249370e-01</td>\n",
       "      <td>-2.546808e-01</td>\n",
       "      <td>-1.475440e+00</td>\n",
       "    </tr>\n",
       "    <tr>\n",
       "      <th>25%</th>\n",
       "      <td>-6.238765e-02</td>\n",
       "      <td>-4.760786e-02</td>\n",
       "      <td>-4.337261e-02</td>\n",
       "      <td>0.0</td>\n",
       "      <td>-2.140072e-01</td>\n",
       "      <td>-2.546808e-01</td>\n",
       "      <td>-8.207673e-01</td>\n",
       "    </tr>\n",
       "    <tr>\n",
       "      <th>50%</th>\n",
       "      <td>-5.925485e-02</td>\n",
       "      <td>-4.749821e-02</td>\n",
       "      <td>-4.290323e-02</td>\n",
       "      <td>0.0</td>\n",
       "      <td>-2.030774e-01</td>\n",
       "      <td>-2.546808e-01</td>\n",
       "      <td>-4.053478e-01</td>\n",
       "    </tr>\n",
       "    <tr>\n",
       "      <th>75%</th>\n",
       "      <td>-4.469657e-02</td>\n",
       "      <td>-4.586908e-02</td>\n",
       "      <td>-3.702692e-02</td>\n",
       "      <td>0.0</td>\n",
       "      <td>-7.919890e-02</td>\n",
       "      <td>-2.073040e-01</td>\n",
       "      <td>1.069966e+00</td>\n",
       "    </tr>\n",
       "    <tr>\n",
       "      <th>max</th>\n",
       "      <td>1.663773e+03</td>\n",
       "      <td>2.615767e+02</td>\n",
       "      <td>2.095070e+03</td>\n",
       "      <td>0.0</td>\n",
       "      <td>1.090732e+02</td>\n",
       "      <td>4.712212e+01</td>\n",
       "      <td>1.579668e+00</td>\n",
       "    </tr>\n",
       "  </tbody>\n",
       "</table>\n",
       "</div>"
      ],
      "text/plain": [
       "           quantity  amount_reimb  amount_not_reimb  trim_pharma  \\\n",
       "count  2.568862e+07  2.568862e+07      2.568862e+07   25688616.0   \n",
       "mean  -2.933601e-18  5.497446e-17      2.898750e-19          0.0   \n",
       "std    1.000000e+00  1.000000e+00      1.000000e+00          0.0   \n",
       "min   -6.963897e+02 -1.196093e+02     -7.215508e+01          0.0   \n",
       "25%   -6.238765e-02 -4.760786e-02     -4.337261e-02          0.0   \n",
       "50%   -5.925485e-02 -4.749821e-02     -4.290323e-02          0.0   \n",
       "75%   -4.469657e-02 -4.586908e-02     -3.702692e-02          0.0   \n",
       "max    1.663773e+03  2.615767e+02      2.095070e+03          0.0   \n",
       "\n",
       "                DDD  nombre_prises  link_same_tablet  \n",
       "count  2.568862e+07   2.568862e+07      2.568862e+07  \n",
       "mean  -9.182178e-17   1.224113e-17      7.852736e-17  \n",
       "std    1.000000e+00   1.000000e+00      1.000000e+00  \n",
       "min   -2.249370e-01  -2.546808e-01     -1.475440e+00  \n",
       "25%   -2.140072e-01  -2.546808e-01     -8.207673e-01  \n",
       "50%   -2.030774e-01  -2.546808e-01     -4.053478e-01  \n",
       "75%   -7.919890e-02  -2.073040e-01      1.069966e+00  \n",
       "max    1.090732e+02   4.712212e+01      1.579668e+00  "
      ]
     },
     "execution_count": 22,
     "metadata": {},
     "output_type": "execute_result"
    }
   ],
   "source": [
    "df_scaled.describe()"
   ]
  },
  {
   "cell_type": "code",
   "execution_count": 23,
   "metadata": {},
   "outputs": [
    {
     "data": {
      "text/plain": [
       "1.0000000000000022"
      ]
     },
     "execution_count": 23,
     "metadata": {},
     "output_type": "execute_result"
    }
   ],
   "source": [
    "np.var(df_scaled[\"quantity\"])"
   ]
  },
  {
   "cell_type": "code",
   "execution_count": null,
   "metadata": {},
   "outputs": [],
   "source": []
  },
  {
   "cell_type": "code",
   "execution_count": 21,
   "metadata": {},
   "outputs": [
    {
     "data": {
      "text/html": [
       "<style  type=\"text/css\" >\n",
       "    #T_f739aafc_2e45_11e9_88a7_028074017092row0_col0 {\n",
       "            background-color:  #fff7fb;\n",
       "            color:  #000000;\n",
       "        }    #T_f739aafc_2e45_11e9_88a7_028074017092row0_col1 {\n",
       "            background-color:  #fff7fb;\n",
       "            color:  #000000;\n",
       "        }    #T_f739aafc_2e45_11e9_88a7_028074017092row0_col2 {\n",
       "            background-color:  #fff7fb;\n",
       "            color:  #000000;\n",
       "        }    #T_f739aafc_2e45_11e9_88a7_028074017092row0_col3 {\n",
       "            background-color:  #fff7fb;\n",
       "            color:  #000000;\n",
       "        }    #T_f739aafc_2e45_11e9_88a7_028074017092row0_col4 {\n",
       "            background-color:  #fff7fb;\n",
       "            color:  #000000;\n",
       "        }    #T_f739aafc_2e45_11e9_88a7_028074017092row0_col5 {\n",
       "            background-color:  #fff7fb;\n",
       "            color:  #000000;\n",
       "        }    #T_f739aafc_2e45_11e9_88a7_028074017092row0_col6 {\n",
       "            background-color:  #fff7fb;\n",
       "            color:  #000000;\n",
       "        }    #T_f739aafc_2e45_11e9_88a7_028074017092row0_col7 {\n",
       "            background-color:  #fff7fb;\n",
       "            color:  #000000;\n",
       "        }    #T_f739aafc_2e45_11e9_88a7_028074017092row0_col8 {\n",
       "            background-color:  #fff7fb;\n",
       "            color:  #000000;\n",
       "        }    #T_f739aafc_2e45_11e9_88a7_028074017092row0_col9 {\n",
       "            background-color:  #fff7fb;\n",
       "            color:  #000000;\n",
       "        }    #T_f739aafc_2e45_11e9_88a7_028074017092row1_col0 {\n",
       "            background-color:  #fff7fb;\n",
       "            color:  #000000;\n",
       "        }    #T_f739aafc_2e45_11e9_88a7_028074017092row1_col1 {\n",
       "            background-color:  #fff7fb;\n",
       "            color:  #000000;\n",
       "        }    #T_f739aafc_2e45_11e9_88a7_028074017092row1_col2 {\n",
       "            background-color:  #fff7fb;\n",
       "            color:  #000000;\n",
       "        }    #T_f739aafc_2e45_11e9_88a7_028074017092row1_col3 {\n",
       "            background-color:  #fff7fb;\n",
       "            color:  #000000;\n",
       "        }    #T_f739aafc_2e45_11e9_88a7_028074017092row1_col4 {\n",
       "            background-color:  #fff7fb;\n",
       "            color:  #000000;\n",
       "        }    #T_f739aafc_2e45_11e9_88a7_028074017092row1_col5 {\n",
       "            background-color:  #fff7fb;\n",
       "            color:  #000000;\n",
       "        }    #T_f739aafc_2e45_11e9_88a7_028074017092row1_col6 {\n",
       "            background-color:  #fff7fb;\n",
       "            color:  #000000;\n",
       "        }    #T_f739aafc_2e45_11e9_88a7_028074017092row1_col7 {\n",
       "            background-color:  #fff7fb;\n",
       "            color:  #000000;\n",
       "        }    #T_f739aafc_2e45_11e9_88a7_028074017092row1_col8 {\n",
       "            background-color:  #fff7fb;\n",
       "            color:  #000000;\n",
       "        }    #T_f739aafc_2e45_11e9_88a7_028074017092row1_col9 {\n",
       "            background-color:  #fff7fb;\n",
       "            color:  #000000;\n",
       "        }    #T_f739aafc_2e45_11e9_88a7_028074017092row2_col0 {\n",
       "            background-color:  #fff7fb;\n",
       "            color:  #000000;\n",
       "        }    #T_f739aafc_2e45_11e9_88a7_028074017092row2_col1 {\n",
       "            background-color:  #fff7fb;\n",
       "            color:  #000000;\n",
       "        }    #T_f739aafc_2e45_11e9_88a7_028074017092row2_col2 {\n",
       "            background-color:  #fff7fb;\n",
       "            color:  #000000;\n",
       "        }    #T_f739aafc_2e45_11e9_88a7_028074017092row2_col3 {\n",
       "            background-color:  #fff7fb;\n",
       "            color:  #000000;\n",
       "        }    #T_f739aafc_2e45_11e9_88a7_028074017092row2_col4 {\n",
       "            background-color:  #fff7fb;\n",
       "            color:  #000000;\n",
       "        }    #T_f739aafc_2e45_11e9_88a7_028074017092row2_col5 {\n",
       "            background-color:  #fff7fb;\n",
       "            color:  #000000;\n",
       "        }    #T_f739aafc_2e45_11e9_88a7_028074017092row2_col6 {\n",
       "            background-color:  #fff7fb;\n",
       "            color:  #000000;\n",
       "        }    #T_f739aafc_2e45_11e9_88a7_028074017092row2_col7 {\n",
       "            background-color:  #fff7fb;\n",
       "            color:  #000000;\n",
       "        }    #T_f739aafc_2e45_11e9_88a7_028074017092row2_col8 {\n",
       "            background-color:  #fff7fb;\n",
       "            color:  #000000;\n",
       "        }    #T_f739aafc_2e45_11e9_88a7_028074017092row2_col9 {\n",
       "            background-color:  #fff7fb;\n",
       "            color:  #000000;\n",
       "        }    #T_f739aafc_2e45_11e9_88a7_028074017092row3_col0 {\n",
       "            background-color:  #fff7fb;\n",
       "            color:  #000000;\n",
       "        }    #T_f739aafc_2e45_11e9_88a7_028074017092row3_col1 {\n",
       "            background-color:  #fff7fb;\n",
       "            color:  #000000;\n",
       "        }    #T_f739aafc_2e45_11e9_88a7_028074017092row3_col2 {\n",
       "            background-color:  #fff7fb;\n",
       "            color:  #000000;\n",
       "        }    #T_f739aafc_2e45_11e9_88a7_028074017092row3_col3 {\n",
       "            background-color:  #fff7fb;\n",
       "            color:  #000000;\n",
       "        }    #T_f739aafc_2e45_11e9_88a7_028074017092row3_col4 {\n",
       "            background-color:  #fff7fb;\n",
       "            color:  #000000;\n",
       "        }    #T_f739aafc_2e45_11e9_88a7_028074017092row3_col5 {\n",
       "            background-color:  #fff7fb;\n",
       "            color:  #000000;\n",
       "        }    #T_f739aafc_2e45_11e9_88a7_028074017092row3_col6 {\n",
       "            background-color:  #fff7fb;\n",
       "            color:  #000000;\n",
       "        }    #T_f739aafc_2e45_11e9_88a7_028074017092row3_col7 {\n",
       "            background-color:  #fff7fb;\n",
       "            color:  #000000;\n",
       "        }    #T_f739aafc_2e45_11e9_88a7_028074017092row3_col8 {\n",
       "            background-color:  #fff7fb;\n",
       "            color:  #000000;\n",
       "        }    #T_f739aafc_2e45_11e9_88a7_028074017092row3_col9 {\n",
       "            background-color:  #fff7fb;\n",
       "            color:  #000000;\n",
       "        }    #T_f739aafc_2e45_11e9_88a7_028074017092row4_col0 {\n",
       "            background-color:  #fff7fb;\n",
       "            color:  #000000;\n",
       "        }    #T_f739aafc_2e45_11e9_88a7_028074017092row4_col1 {\n",
       "            background-color:  #fff7fb;\n",
       "            color:  #000000;\n",
       "        }    #T_f739aafc_2e45_11e9_88a7_028074017092row4_col2 {\n",
       "            background-color:  #fff7fb;\n",
       "            color:  #000000;\n",
       "        }    #T_f739aafc_2e45_11e9_88a7_028074017092row4_col3 {\n",
       "            background-color:  #fff7fb;\n",
       "            color:  #000000;\n",
       "        }    #T_f739aafc_2e45_11e9_88a7_028074017092row4_col4 {\n",
       "            background-color:  #fff7fb;\n",
       "            color:  #000000;\n",
       "        }    #T_f739aafc_2e45_11e9_88a7_028074017092row4_col5 {\n",
       "            background-color:  #fff7fb;\n",
       "            color:  #000000;\n",
       "        }    #T_f739aafc_2e45_11e9_88a7_028074017092row4_col6 {\n",
       "            background-color:  #fff7fb;\n",
       "            color:  #000000;\n",
       "        }    #T_f739aafc_2e45_11e9_88a7_028074017092row4_col7 {\n",
       "            background-color:  #fff7fb;\n",
       "            color:  #000000;\n",
       "        }    #T_f739aafc_2e45_11e9_88a7_028074017092row4_col8 {\n",
       "            background-color:  #fff7fb;\n",
       "            color:  #000000;\n",
       "        }    #T_f739aafc_2e45_11e9_88a7_028074017092row4_col9 {\n",
       "            background-color:  #fff7fb;\n",
       "            color:  #000000;\n",
       "        }    #T_f739aafc_2e45_11e9_88a7_028074017092row5_col0 {\n",
       "            background-color:  #fff7fb;\n",
       "            color:  #000000;\n",
       "        }    #T_f739aafc_2e45_11e9_88a7_028074017092row5_col1 {\n",
       "            background-color:  #fff7fb;\n",
       "            color:  #000000;\n",
       "        }    #T_f739aafc_2e45_11e9_88a7_028074017092row5_col2 {\n",
       "            background-color:  #fff7fb;\n",
       "            color:  #000000;\n",
       "        }    #T_f739aafc_2e45_11e9_88a7_028074017092row5_col3 {\n",
       "            background-color:  #fff7fb;\n",
       "            color:  #000000;\n",
       "        }    #T_f739aafc_2e45_11e9_88a7_028074017092row5_col4 {\n",
       "            background-color:  #fff7fb;\n",
       "            color:  #000000;\n",
       "        }    #T_f739aafc_2e45_11e9_88a7_028074017092row5_col5 {\n",
       "            background-color:  #fff7fb;\n",
       "            color:  #000000;\n",
       "        }    #T_f739aafc_2e45_11e9_88a7_028074017092row5_col6 {\n",
       "            background-color:  #fff7fb;\n",
       "            color:  #000000;\n",
       "        }    #T_f739aafc_2e45_11e9_88a7_028074017092row5_col7 {\n",
       "            background-color:  #fff7fb;\n",
       "            color:  #000000;\n",
       "        }    #T_f739aafc_2e45_11e9_88a7_028074017092row5_col8 {\n",
       "            background-color:  #fff7fb;\n",
       "            color:  #000000;\n",
       "        }    #T_f739aafc_2e45_11e9_88a7_028074017092row5_col9 {\n",
       "            background-color:  #fff7fb;\n",
       "            color:  #000000;\n",
       "        }    #T_f739aafc_2e45_11e9_88a7_028074017092row6_col0 {\n",
       "            background-color:  #fff7fb;\n",
       "            color:  #000000;\n",
       "        }    #T_f739aafc_2e45_11e9_88a7_028074017092row6_col1 {\n",
       "            background-color:  #fff7fb;\n",
       "            color:  #000000;\n",
       "        }    #T_f739aafc_2e45_11e9_88a7_028074017092row6_col2 {\n",
       "            background-color:  #fff7fb;\n",
       "            color:  #000000;\n",
       "        }    #T_f739aafc_2e45_11e9_88a7_028074017092row6_col3 {\n",
       "            background-color:  #fff7fb;\n",
       "            color:  #000000;\n",
       "        }    #T_f739aafc_2e45_11e9_88a7_028074017092row6_col4 {\n",
       "            background-color:  #fff7fb;\n",
       "            color:  #000000;\n",
       "        }    #T_f739aafc_2e45_11e9_88a7_028074017092row6_col5 {\n",
       "            background-color:  #fff7fb;\n",
       "            color:  #000000;\n",
       "        }    #T_f739aafc_2e45_11e9_88a7_028074017092row6_col6 {\n",
       "            background-color:  #fff7fb;\n",
       "            color:  #000000;\n",
       "        }    #T_f739aafc_2e45_11e9_88a7_028074017092row6_col7 {\n",
       "            background-color:  #fff7fb;\n",
       "            color:  #000000;\n",
       "        }    #T_f739aafc_2e45_11e9_88a7_028074017092row6_col8 {\n",
       "            background-color:  #fff7fb;\n",
       "            color:  #000000;\n",
       "        }    #T_f739aafc_2e45_11e9_88a7_028074017092row6_col9 {\n",
       "            background-color:  #fff7fb;\n",
       "            color:  #000000;\n",
       "        }    #T_f739aafc_2e45_11e9_88a7_028074017092row7_col0 {\n",
       "            background-color:  #fff7fb;\n",
       "            color:  #000000;\n",
       "        }    #T_f739aafc_2e45_11e9_88a7_028074017092row7_col1 {\n",
       "            background-color:  #fff7fb;\n",
       "            color:  #000000;\n",
       "        }    #T_f739aafc_2e45_11e9_88a7_028074017092row7_col2 {\n",
       "            background-color:  #fff7fb;\n",
       "            color:  #000000;\n",
       "        }    #T_f739aafc_2e45_11e9_88a7_028074017092row7_col3 {\n",
       "            background-color:  #fff7fb;\n",
       "            color:  #000000;\n",
       "        }    #T_f739aafc_2e45_11e9_88a7_028074017092row7_col4 {\n",
       "            background-color:  #fff7fb;\n",
       "            color:  #000000;\n",
       "        }    #T_f739aafc_2e45_11e9_88a7_028074017092row7_col5 {\n",
       "            background-color:  #fff7fb;\n",
       "            color:  #000000;\n",
       "        }    #T_f739aafc_2e45_11e9_88a7_028074017092row7_col6 {\n",
       "            background-color:  #fff7fb;\n",
       "            color:  #000000;\n",
       "        }    #T_f739aafc_2e45_11e9_88a7_028074017092row7_col7 {\n",
       "            background-color:  #fff7fb;\n",
       "            color:  #000000;\n",
       "        }    #T_f739aafc_2e45_11e9_88a7_028074017092row7_col8 {\n",
       "            background-color:  #fff7fb;\n",
       "            color:  #000000;\n",
       "        }    #T_f739aafc_2e45_11e9_88a7_028074017092row7_col9 {\n",
       "            background-color:  #fff7fb;\n",
       "            color:  #000000;\n",
       "        }    #T_f739aafc_2e45_11e9_88a7_028074017092row8_col0 {\n",
       "            background-color:  #fff7fb;\n",
       "            color:  #000000;\n",
       "        }    #T_f739aafc_2e45_11e9_88a7_028074017092row8_col1 {\n",
       "            background-color:  #fff7fb;\n",
       "            color:  #000000;\n",
       "        }    #T_f739aafc_2e45_11e9_88a7_028074017092row8_col2 {\n",
       "            background-color:  #fff7fb;\n",
       "            color:  #000000;\n",
       "        }    #T_f739aafc_2e45_11e9_88a7_028074017092row8_col3 {\n",
       "            background-color:  #fff7fb;\n",
       "            color:  #000000;\n",
       "        }    #T_f739aafc_2e45_11e9_88a7_028074017092row8_col4 {\n",
       "            background-color:  #fff7fb;\n",
       "            color:  #000000;\n",
       "        }    #T_f739aafc_2e45_11e9_88a7_028074017092row8_col5 {\n",
       "            background-color:  #fff7fb;\n",
       "            color:  #000000;\n",
       "        }    #T_f739aafc_2e45_11e9_88a7_028074017092row8_col6 {\n",
       "            background-color:  #fff7fb;\n",
       "            color:  #000000;\n",
       "        }    #T_f739aafc_2e45_11e9_88a7_028074017092row8_col7 {\n",
       "            background-color:  #fff7fb;\n",
       "            color:  #000000;\n",
       "        }    #T_f739aafc_2e45_11e9_88a7_028074017092row8_col8 {\n",
       "            background-color:  #fff7fb;\n",
       "            color:  #000000;\n",
       "        }    #T_f739aafc_2e45_11e9_88a7_028074017092row8_col9 {\n",
       "            background-color:  #fff7fb;\n",
       "            color:  #000000;\n",
       "        }    #T_f739aafc_2e45_11e9_88a7_028074017092row9_col0 {\n",
       "            background-color:  #fff7fb;\n",
       "            color:  #000000;\n",
       "        }    #T_f739aafc_2e45_11e9_88a7_028074017092row9_col1 {\n",
       "            background-color:  #fff7fb;\n",
       "            color:  #000000;\n",
       "        }    #T_f739aafc_2e45_11e9_88a7_028074017092row9_col2 {\n",
       "            background-color:  #fff7fb;\n",
       "            color:  #000000;\n",
       "        }    #T_f739aafc_2e45_11e9_88a7_028074017092row9_col3 {\n",
       "            background-color:  #fff7fb;\n",
       "            color:  #000000;\n",
       "        }    #T_f739aafc_2e45_11e9_88a7_028074017092row9_col4 {\n",
       "            background-color:  #fff7fb;\n",
       "            color:  #000000;\n",
       "        }    #T_f739aafc_2e45_11e9_88a7_028074017092row9_col5 {\n",
       "            background-color:  #fff7fb;\n",
       "            color:  #000000;\n",
       "        }    #T_f739aafc_2e45_11e9_88a7_028074017092row9_col6 {\n",
       "            background-color:  #fff7fb;\n",
       "            color:  #000000;\n",
       "        }    #T_f739aafc_2e45_11e9_88a7_028074017092row9_col7 {\n",
       "            background-color:  #fff7fb;\n",
       "            color:  #000000;\n",
       "        }    #T_f739aafc_2e45_11e9_88a7_028074017092row9_col8 {\n",
       "            background-color:  #fff7fb;\n",
       "            color:  #000000;\n",
       "        }    #T_f739aafc_2e45_11e9_88a7_028074017092row9_col9 {\n",
       "            background-color:  #fff7fb;\n",
       "            color:  #000000;\n",
       "        }</style><table id=\"T_f739aafc_2e45_11e9_88a7_028074017092\" ><thead>    <tr>        <th class=\"blank level0\" ></th>        <th class=\"col_heading level0 col0\" >quantity</th>        <th class=\"col_heading level0 col1\" >amount_reimb</th>        <th class=\"col_heading level0 col2\" >amount_not_reimb</th>        <th class=\"col_heading level0 col3\" >trim_pharma</th>        <th class=\"col_heading level0 col4\" >DDD</th>        <th class=\"col_heading level0 col5\" >nombre_prises</th>        <th class=\"col_heading level0 col6\" >orphan_flag</th>        <th class=\"col_heading level0 col7\" >chapter_IV_bis_flag</th>        <th class=\"col_heading level0 col8\" >link_same_tablet</th>        <th class=\"col_heading level0 col9\" >reimbt_cat_fixed_rate_yn</th>    </tr></thead><tbody>\n",
       "                <tr>\n",
       "                        <th id=\"T_f739aafc_2e45_11e9_88a7_028074017092level0_row0\" class=\"row_heading level0 row0\" >quantity</th>\n",
       "                        <td id=\"T_f739aafc_2e45_11e9_88a7_028074017092row0_col0\" class=\"data row0 col0\" >1</td>\n",
       "                        <td id=\"T_f739aafc_2e45_11e9_88a7_028074017092row0_col1\" class=\"data row0 col1\" >0.0465656</td>\n",
       "                        <td id=\"T_f739aafc_2e45_11e9_88a7_028074017092row0_col2\" class=\"data row0 col2\" >0.229726</td>\n",
       "                        <td id=\"T_f739aafc_2e45_11e9_88a7_028074017092row0_col3\" class=\"data row0 col3\" >nan</td>\n",
       "                        <td id=\"T_f739aafc_2e45_11e9_88a7_028074017092row0_col4\" class=\"data row0 col4\" >0.00500679</td>\n",
       "                        <td id=\"T_f739aafc_2e45_11e9_88a7_028074017092row0_col5\" class=\"data row0 col5\" >0.00195074</td>\n",
       "                        <td id=\"T_f739aafc_2e45_11e9_88a7_028074017092row0_col6\" class=\"data row0 col6\" >0.000718629</td>\n",
       "                        <td id=\"T_f739aafc_2e45_11e9_88a7_028074017092row0_col7\" class=\"data row0 col7\" >0.000292867</td>\n",
       "                        <td id=\"T_f739aafc_2e45_11e9_88a7_028074017092row0_col8\" class=\"data row0 col8\" >0.00873164</td>\n",
       "                        <td id=\"T_f739aafc_2e45_11e9_88a7_028074017092row0_col9\" class=\"data row0 col9\" >0.00345236</td>\n",
       "            </tr>\n",
       "            <tr>\n",
       "                        <th id=\"T_f739aafc_2e45_11e9_88a7_028074017092level0_row1\" class=\"row_heading level0 row1\" >amount_reimb</th>\n",
       "                        <td id=\"T_f739aafc_2e45_11e9_88a7_028074017092row1_col0\" class=\"data row1 col0\" >0.0465656</td>\n",
       "                        <td id=\"T_f739aafc_2e45_11e9_88a7_028074017092row1_col1\" class=\"data row1 col1\" >1</td>\n",
       "                        <td id=\"T_f739aafc_2e45_11e9_88a7_028074017092row1_col2\" class=\"data row1 col2\" >0.0647819</td>\n",
       "                        <td id=\"T_f739aafc_2e45_11e9_88a7_028074017092row1_col3\" class=\"data row1 col3\" >nan</td>\n",
       "                        <td id=\"T_f739aafc_2e45_11e9_88a7_028074017092row1_col4\" class=\"data row1 col4\" >0.00261087</td>\n",
       "                        <td id=\"T_f739aafc_2e45_11e9_88a7_028074017092row1_col5\" class=\"data row1 col5\" >0.0118023</td>\n",
       "                        <td id=\"T_f739aafc_2e45_11e9_88a7_028074017092row1_col6\" class=\"data row1 col6\" >0.0865674</td>\n",
       "                        <td id=\"T_f739aafc_2e45_11e9_88a7_028074017092row1_col7\" class=\"data row1 col7\" >0.00349264</td>\n",
       "                        <td id=\"T_f739aafc_2e45_11e9_88a7_028074017092row1_col8\" class=\"data row1 col8\" >0.0211583</td>\n",
       "                        <td id=\"T_f739aafc_2e45_11e9_88a7_028074017092row1_col9\" class=\"data row1 col9\" >0.0236032</td>\n",
       "            </tr>\n",
       "            <tr>\n",
       "                        <th id=\"T_f739aafc_2e45_11e9_88a7_028074017092level0_row2\" class=\"row_heading level0 row2\" >amount_not_reimb</th>\n",
       "                        <td id=\"T_f739aafc_2e45_11e9_88a7_028074017092row2_col0\" class=\"data row2 col0\" >0.229726</td>\n",
       "                        <td id=\"T_f739aafc_2e45_11e9_88a7_028074017092row2_col1\" class=\"data row2 col1\" >0.0647819</td>\n",
       "                        <td id=\"T_f739aafc_2e45_11e9_88a7_028074017092row2_col2\" class=\"data row2 col2\" >1</td>\n",
       "                        <td id=\"T_f739aafc_2e45_11e9_88a7_028074017092row2_col3\" class=\"data row2 col3\" >nan</td>\n",
       "                        <td id=\"T_f739aafc_2e45_11e9_88a7_028074017092row2_col4\" class=\"data row2 col4\" >0.00921589</td>\n",
       "                        <td id=\"T_f739aafc_2e45_11e9_88a7_028074017092row2_col5\" class=\"data row2 col5\" >0.00255485</td>\n",
       "                        <td id=\"T_f739aafc_2e45_11e9_88a7_028074017092row2_col6\" class=\"data row2 col6\" >0.000565664</td>\n",
       "                        <td id=\"T_f739aafc_2e45_11e9_88a7_028074017092row2_col7\" class=\"data row2 col7\" >0.000234469</td>\n",
       "                        <td id=\"T_f739aafc_2e45_11e9_88a7_028074017092row2_col8\" class=\"data row2 col8\" >0.0210087</td>\n",
       "                        <td id=\"T_f739aafc_2e45_11e9_88a7_028074017092row2_col9\" class=\"data row2 col9\" >0.0248254</td>\n",
       "            </tr>\n",
       "            <tr>\n",
       "                        <th id=\"T_f739aafc_2e45_11e9_88a7_028074017092level0_row3\" class=\"row_heading level0 row3\" >trim_pharma</th>\n",
       "                        <td id=\"T_f739aafc_2e45_11e9_88a7_028074017092row3_col0\" class=\"data row3 col0\" >nan</td>\n",
       "                        <td id=\"T_f739aafc_2e45_11e9_88a7_028074017092row3_col1\" class=\"data row3 col1\" >nan</td>\n",
       "                        <td id=\"T_f739aafc_2e45_11e9_88a7_028074017092row3_col2\" class=\"data row3 col2\" >nan</td>\n",
       "                        <td id=\"T_f739aafc_2e45_11e9_88a7_028074017092row3_col3\" class=\"data row3 col3\" >nan</td>\n",
       "                        <td id=\"T_f739aafc_2e45_11e9_88a7_028074017092row3_col4\" class=\"data row3 col4\" >nan</td>\n",
       "                        <td id=\"T_f739aafc_2e45_11e9_88a7_028074017092row3_col5\" class=\"data row3 col5\" >nan</td>\n",
       "                        <td id=\"T_f739aafc_2e45_11e9_88a7_028074017092row3_col6\" class=\"data row3 col6\" >nan</td>\n",
       "                        <td id=\"T_f739aafc_2e45_11e9_88a7_028074017092row3_col7\" class=\"data row3 col7\" >nan</td>\n",
       "                        <td id=\"T_f739aafc_2e45_11e9_88a7_028074017092row3_col8\" class=\"data row3 col8\" >nan</td>\n",
       "                        <td id=\"T_f739aafc_2e45_11e9_88a7_028074017092row3_col9\" class=\"data row3 col9\" >nan</td>\n",
       "            </tr>\n",
       "            <tr>\n",
       "                        <th id=\"T_f739aafc_2e45_11e9_88a7_028074017092level0_row4\" class=\"row_heading level0 row4\" >DDD</th>\n",
       "                        <td id=\"T_f739aafc_2e45_11e9_88a7_028074017092row4_col0\" class=\"data row4 col0\" >0.00500679</td>\n",
       "                        <td id=\"T_f739aafc_2e45_11e9_88a7_028074017092row4_col1\" class=\"data row4 col1\" >0.00261087</td>\n",
       "                        <td id=\"T_f739aafc_2e45_11e9_88a7_028074017092row4_col2\" class=\"data row4 col2\" >0.00921589</td>\n",
       "                        <td id=\"T_f739aafc_2e45_11e9_88a7_028074017092row4_col3\" class=\"data row4 col3\" >nan</td>\n",
       "                        <td id=\"T_f739aafc_2e45_11e9_88a7_028074017092row4_col4\" class=\"data row4 col4\" >1</td>\n",
       "                        <td id=\"T_f739aafc_2e45_11e9_88a7_028074017092row4_col5\" class=\"data row4 col5\" >0.330942</td>\n",
       "                        <td id=\"T_f739aafc_2e45_11e9_88a7_028074017092row4_col6\" class=\"data row4 col6\" >0.00916983</td>\n",
       "                        <td id=\"T_f739aafc_2e45_11e9_88a7_028074017092row4_col7\" class=\"data row4 col7\" >0.00610638</td>\n",
       "                        <td id=\"T_f739aafc_2e45_11e9_88a7_028074017092row4_col8\" class=\"data row4 col8\" >0.0859663</td>\n",
       "                        <td id=\"T_f739aafc_2e45_11e9_88a7_028074017092row4_col9\" class=\"data row4 col9\" >0.103951</td>\n",
       "            </tr>\n",
       "            <tr>\n",
       "                        <th id=\"T_f739aafc_2e45_11e9_88a7_028074017092level0_row5\" class=\"row_heading level0 row5\" >nombre_prises</th>\n",
       "                        <td id=\"T_f739aafc_2e45_11e9_88a7_028074017092row5_col0\" class=\"data row5 col0\" >0.00195074</td>\n",
       "                        <td id=\"T_f739aafc_2e45_11e9_88a7_028074017092row5_col1\" class=\"data row5 col1\" >0.0118023</td>\n",
       "                        <td id=\"T_f739aafc_2e45_11e9_88a7_028074017092row5_col2\" class=\"data row5 col2\" >0.00255485</td>\n",
       "                        <td id=\"T_f739aafc_2e45_11e9_88a7_028074017092row5_col3\" class=\"data row5 col3\" >nan</td>\n",
       "                        <td id=\"T_f739aafc_2e45_11e9_88a7_028074017092row5_col4\" class=\"data row5 col4\" >0.330942</td>\n",
       "                        <td id=\"T_f739aafc_2e45_11e9_88a7_028074017092row5_col5\" class=\"data row5 col5\" >1</td>\n",
       "                        <td id=\"T_f739aafc_2e45_11e9_88a7_028074017092row5_col6\" class=\"data row5 col6\" >0.0115919</td>\n",
       "                        <td id=\"T_f739aafc_2e45_11e9_88a7_028074017092row5_col7\" class=\"data row5 col7\" >0.00673657</td>\n",
       "                        <td id=\"T_f739aafc_2e45_11e9_88a7_028074017092row5_col8\" class=\"data row5 col8\" >0.241599</td>\n",
       "                        <td id=\"T_f739aafc_2e45_11e9_88a7_028074017092row5_col9\" class=\"data row5 col9\" >0.133669</td>\n",
       "            </tr>\n",
       "            <tr>\n",
       "                        <th id=\"T_f739aafc_2e45_11e9_88a7_028074017092level0_row6\" class=\"row_heading level0 row6\" >orphan_flag</th>\n",
       "                        <td id=\"T_f739aafc_2e45_11e9_88a7_028074017092row6_col0\" class=\"data row6 col0\" >0.000718629</td>\n",
       "                        <td id=\"T_f739aafc_2e45_11e9_88a7_028074017092row6_col1\" class=\"data row6 col1\" >0.0865674</td>\n",
       "                        <td id=\"T_f739aafc_2e45_11e9_88a7_028074017092row6_col2\" class=\"data row6 col2\" >0.000565664</td>\n",
       "                        <td id=\"T_f739aafc_2e45_11e9_88a7_028074017092row6_col3\" class=\"data row6 col3\" >nan</td>\n",
       "                        <td id=\"T_f739aafc_2e45_11e9_88a7_028074017092row6_col4\" class=\"data row6 col4\" >0.00916983</td>\n",
       "                        <td id=\"T_f739aafc_2e45_11e9_88a7_028074017092row6_col5\" class=\"data row6 col5\" >0.0115919</td>\n",
       "                        <td id=\"T_f739aafc_2e45_11e9_88a7_028074017092row6_col6\" class=\"data row6 col6\" >1</td>\n",
       "                        <td id=\"T_f739aafc_2e45_11e9_88a7_028074017092row6_col7\" class=\"data row6 col7\" >0.00177182</td>\n",
       "                        <td id=\"T_f739aafc_2e45_11e9_88a7_028074017092row6_col8\" class=\"data row6 col8\" >0.0281076</td>\n",
       "                        <td id=\"T_f739aafc_2e45_11e9_88a7_028074017092row6_col9\" class=\"data row6 col9\" >0.0294404</td>\n",
       "            </tr>\n",
       "            <tr>\n",
       "                        <th id=\"T_f739aafc_2e45_11e9_88a7_028074017092level0_row7\" class=\"row_heading level0 row7\" >chapter_IV_bis_flag</th>\n",
       "                        <td id=\"T_f739aafc_2e45_11e9_88a7_028074017092row7_col0\" class=\"data row7 col0\" >0.000292867</td>\n",
       "                        <td id=\"T_f739aafc_2e45_11e9_88a7_028074017092row7_col1\" class=\"data row7 col1\" >0.00349264</td>\n",
       "                        <td id=\"T_f739aafc_2e45_11e9_88a7_028074017092row7_col2\" class=\"data row7 col2\" >0.000234469</td>\n",
       "                        <td id=\"T_f739aafc_2e45_11e9_88a7_028074017092row7_col3\" class=\"data row7 col3\" >nan</td>\n",
       "                        <td id=\"T_f739aafc_2e45_11e9_88a7_028074017092row7_col4\" class=\"data row7 col4\" >0.00610638</td>\n",
       "                        <td id=\"T_f739aafc_2e45_11e9_88a7_028074017092row7_col5\" class=\"data row7 col5\" >0.00673657</td>\n",
       "                        <td id=\"T_f739aafc_2e45_11e9_88a7_028074017092row7_col6\" class=\"data row7 col6\" >0.00177182</td>\n",
       "                        <td id=\"T_f739aafc_2e45_11e9_88a7_028074017092row7_col7\" class=\"data row7 col7\" >1</td>\n",
       "                        <td id=\"T_f739aafc_2e45_11e9_88a7_028074017092row7_col8\" class=\"data row7 col8\" >0.0210494</td>\n",
       "                        <td id=\"T_f739aafc_2e45_11e9_88a7_028074017092row7_col9\" class=\"data row7 col9\" >0.0199658</td>\n",
       "            </tr>\n",
       "            <tr>\n",
       "                        <th id=\"T_f739aafc_2e45_11e9_88a7_028074017092level0_row8\" class=\"row_heading level0 row8\" >link_same_tablet</th>\n",
       "                        <td id=\"T_f739aafc_2e45_11e9_88a7_028074017092row8_col0\" class=\"data row8 col0\" >0.00873164</td>\n",
       "                        <td id=\"T_f739aafc_2e45_11e9_88a7_028074017092row8_col1\" class=\"data row8 col1\" >0.0211583</td>\n",
       "                        <td id=\"T_f739aafc_2e45_11e9_88a7_028074017092row8_col2\" class=\"data row8 col2\" >0.0210087</td>\n",
       "                        <td id=\"T_f739aafc_2e45_11e9_88a7_028074017092row8_col3\" class=\"data row8 col3\" >nan</td>\n",
       "                        <td id=\"T_f739aafc_2e45_11e9_88a7_028074017092row8_col4\" class=\"data row8 col4\" >0.0859663</td>\n",
       "                        <td id=\"T_f739aafc_2e45_11e9_88a7_028074017092row8_col5\" class=\"data row8 col5\" >0.241599</td>\n",
       "                        <td id=\"T_f739aafc_2e45_11e9_88a7_028074017092row8_col6\" class=\"data row8 col6\" >0.0281076</td>\n",
       "                        <td id=\"T_f739aafc_2e45_11e9_88a7_028074017092row8_col7\" class=\"data row8 col7\" >0.0210494</td>\n",
       "                        <td id=\"T_f739aafc_2e45_11e9_88a7_028074017092row8_col8\" class=\"data row8 col8\" >1</td>\n",
       "                        <td id=\"T_f739aafc_2e45_11e9_88a7_028074017092row8_col9\" class=\"data row8 col9\" >0.185214</td>\n",
       "            </tr>\n",
       "            <tr>\n",
       "                        <th id=\"T_f739aafc_2e45_11e9_88a7_028074017092level0_row9\" class=\"row_heading level0 row9\" >reimbt_cat_fixed_rate_yn</th>\n",
       "                        <td id=\"T_f739aafc_2e45_11e9_88a7_028074017092row9_col0\" class=\"data row9 col0\" >0.00345236</td>\n",
       "                        <td id=\"T_f739aafc_2e45_11e9_88a7_028074017092row9_col1\" class=\"data row9 col1\" >0.0236032</td>\n",
       "                        <td id=\"T_f739aafc_2e45_11e9_88a7_028074017092row9_col2\" class=\"data row9 col2\" >0.0248254</td>\n",
       "                        <td id=\"T_f739aafc_2e45_11e9_88a7_028074017092row9_col3\" class=\"data row9 col3\" >nan</td>\n",
       "                        <td id=\"T_f739aafc_2e45_11e9_88a7_028074017092row9_col4\" class=\"data row9 col4\" >0.103951</td>\n",
       "                        <td id=\"T_f739aafc_2e45_11e9_88a7_028074017092row9_col5\" class=\"data row9 col5\" >0.133669</td>\n",
       "                        <td id=\"T_f739aafc_2e45_11e9_88a7_028074017092row9_col6\" class=\"data row9 col6\" >0.0294404</td>\n",
       "                        <td id=\"T_f739aafc_2e45_11e9_88a7_028074017092row9_col7\" class=\"data row9 col7\" >0.0199658</td>\n",
       "                        <td id=\"T_f739aafc_2e45_11e9_88a7_028074017092row9_col8\" class=\"data row9 col8\" >0.185214</td>\n",
       "                        <td id=\"T_f739aafc_2e45_11e9_88a7_028074017092row9_col9\" class=\"data row9 col9\" >1</td>\n",
       "            </tr>\n",
       "    </tbody></table>"
      ],
      "text/plain": [
       "<pandas.io.formats.style.Styler at 0x7f5f45c4f080>"
      ]
     },
     "execution_count": 21,
     "metadata": {},
     "output_type": "execute_result"
    }
   ],
   "source": [
    "df.corr().abs().style.background_gradient()"
   ]
  },
  {
   "cell_type": "code",
   "execution_count": null,
   "metadata": {},
   "outputs": [],
   "source": []
  },
  {
   "cell_type": "markdown",
   "metadata": {},
   "source": [
    "## then generate a new final report"
   ]
  },
  {
   "cell_type": "code",
   "execution_count": 23,
   "metadata": {},
   "outputs": [],
   "source": [
    "pp.ProfileReport(df).to_file(outputfile=\"../data/report/DB_V4_merged_pharmaref_and_reimbcategory_report.html\")"
   ]
  },
  {
   "cell_type": "markdown",
   "metadata": {},
   "source": [
    "## output the final dataset to *.parquet format"
   ]
  },
  {
   "cell_type": "code",
   "execution_count": 22,
   "metadata": {},
   "outputs": [
    {
     "ename": "ImportError",
     "evalue": "Unable to find a usable engine; tried using: 'pyarrow', 'fastparquet'.\npyarrow or fastparquet is required for parquet support",
     "output_type": "error",
     "traceback": [
      "\u001b[0;31m---------------------------------------------------------------------------\u001b[0m",
      "\u001b[0;31mImportError\u001b[0m                               Traceback (most recent call last)",
      "\u001b[0;32m<ipython-input-22-0d97e1a748ad>\u001b[0m in \u001b[0;36m<module>\u001b[0;34m\u001b[0m\n\u001b[0;32m----> 1\u001b[0;31m \u001b[0mdf\u001b[0m\u001b[0;34m.\u001b[0m\u001b[0mto_parquet\u001b[0m\u001b[0;34m(\u001b[0m\u001b[0;34m\"../data/dataset/DB_V4.parquet\"\u001b[0m\u001b[0;34m,\u001b[0m \u001b[0mindex\u001b[0m\u001b[0;34m=\u001b[0m\u001b[0;32mFalse\u001b[0m\u001b[0;34m)\u001b[0m\u001b[0;34m\u001b[0m\u001b[0m\n\u001b[0m",
      "\u001b[0;32m~/venv/lib/python3.5/site-packages/pandas/core/frame.py\u001b[0m in \u001b[0;36mto_parquet\u001b[0;34m(self, fname, engine, compression, index, partition_cols, **kwargs)\u001b[0m\n\u001b[1;32m   2191\u001b[0m         to_parquet(self, fname, engine,\n\u001b[1;32m   2192\u001b[0m                    \u001b[0mcompression\u001b[0m\u001b[0;34m=\u001b[0m\u001b[0mcompression\u001b[0m\u001b[0;34m,\u001b[0m \u001b[0mindex\u001b[0m\u001b[0;34m=\u001b[0m\u001b[0mindex\u001b[0m\u001b[0;34m,\u001b[0m\u001b[0;34m\u001b[0m\u001b[0m\n\u001b[0;32m-> 2193\u001b[0;31m                    partition_cols=partition_cols, **kwargs)\n\u001b[0m\u001b[1;32m   2194\u001b[0m \u001b[0;34m\u001b[0m\u001b[0m\n\u001b[1;32m   2195\u001b[0m     \u001b[0;34m@\u001b[0m\u001b[0mSubstitution\u001b[0m\u001b[0;34m(\u001b[0m\u001b[0mheader\u001b[0m\u001b[0;34m=\u001b[0m\u001b[0;34m'Whether to print column labels, default True'\u001b[0m\u001b[0;34m)\u001b[0m\u001b[0;34m\u001b[0m\u001b[0m\n",
      "\u001b[0;32m~/venv/lib/python3.5/site-packages/pandas/io/parquet.py\u001b[0m in \u001b[0;36mto_parquet\u001b[0;34m(df, path, engine, compression, index, partition_cols, **kwargs)\u001b[0m\n\u001b[1;32m    248\u001b[0m         \u001b[0mAdditional\u001b[0m \u001b[0mkeyword\u001b[0m \u001b[0marguments\u001b[0m \u001b[0mpassed\u001b[0m \u001b[0mto\u001b[0m \u001b[0mthe\u001b[0m \u001b[0mengine\u001b[0m\u001b[0;34m\u001b[0m\u001b[0m\n\u001b[1;32m    249\u001b[0m     \"\"\"\n\u001b[0;32m--> 250\u001b[0;31m     \u001b[0mimpl\u001b[0m \u001b[0;34m=\u001b[0m \u001b[0mget_engine\u001b[0m\u001b[0;34m(\u001b[0m\u001b[0mengine\u001b[0m\u001b[0;34m)\u001b[0m\u001b[0;34m\u001b[0m\u001b[0m\n\u001b[0m\u001b[1;32m    251\u001b[0m     return impl.write(df, path, compression=compression, index=index,\n\u001b[1;32m    252\u001b[0m                       partition_cols=partition_cols, **kwargs)\n",
      "\u001b[0;32m~/venv/lib/python3.5/site-packages/pandas/io/parquet.py\u001b[0m in \u001b[0;36mget_engine\u001b[0;34m(engine)\u001b[0m\n\u001b[1;32m     30\u001b[0m             \u001b[0;32mpass\u001b[0m\u001b[0;34m\u001b[0m\u001b[0m\n\u001b[1;32m     31\u001b[0m \u001b[0;34m\u001b[0m\u001b[0m\n\u001b[0;32m---> 32\u001b[0;31m         raise ImportError(\"Unable to find a usable engine; \"\n\u001b[0m\u001b[1;32m     33\u001b[0m                           \u001b[0;34m\"tried using: 'pyarrow', 'fastparquet'.\\n\"\u001b[0m\u001b[0;34m\u001b[0m\u001b[0m\n\u001b[1;32m     34\u001b[0m                           \u001b[0;34m\"pyarrow or fastparquet is required for parquet \"\u001b[0m\u001b[0;34m\u001b[0m\u001b[0m\n",
      "\u001b[0;31mImportError\u001b[0m: Unable to find a usable engine; tried using: 'pyarrow', 'fastparquet'.\npyarrow or fastparquet is required for parquet support"
     ]
    }
   ],
   "source": [
    "#df.to_parquet(\"../data/dataset/DB_V4.parquet\", index=False)"
   ]
  },
  {
   "cell_type": "code",
   "execution_count": null,
   "metadata": {},
   "outputs": [],
   "source": []
  },
  {
   "cell_type": "code",
   "execution_count": null,
   "metadata": {},
   "outputs": [],
   "source": []
  },
  {
   "cell_type": "code",
   "execution_count": null,
   "metadata": {},
   "outputs": [],
   "source": []
  },
  {
   "cell_type": "markdown",
   "metadata": {},
   "source": [
    "## make a split for every year"
   ]
  },
  {
   "cell_type": "code",
   "execution_count": null,
   "metadata": {},
   "outputs": [],
   "source": [
    "for i in df[\"realization_date\"].str[:4].unique():\n",
    "    print (i)"
   ]
  },
  {
   "cell_type": "code",
   "execution_count": null,
   "metadata": {},
   "outputs": [],
   "source": [
    "for year in df[\"realization_date\"].str[:4].unique():\n",
    "    print (\"selecting year: {}\".format(year))\n",
    "    df_year = df[ (df[\"realization_date\"].str[:4] == year)] # here we select only that year\n",
    "    print (\"created dataframe\")\n",
    "    pp.ProfileReport(df_year).to_file(outputfile=\"../data/report/DB_V4_\" + str(year) + \"_report.html\")\n",
    "    print (\"created html report\")\n",
    "    df_year.to_csv(\"../data/dataset/DB_V4_\" + str(year) + \".csv\", index=False)\n",
    "    print (\"created *.csv file\")"
   ]
  },
  {
   "cell_type": "code",
   "execution_count": null,
   "metadata": {},
   "outputs": [],
   "source": []
  },
  {
   "cell_type": "code",
   "execution_count": null,
   "metadata": {},
   "outputs": [],
   "source": []
  },
  {
   "cell_type": "code",
   "execution_count": null,
   "metadata": {},
   "outputs": [],
   "source": []
  },
  {
   "cell_type": "markdown",
   "metadata": {},
   "source": [
    "## Select 2016"
   ]
  },
  {
   "cell_type": "code",
   "execution_count": null,
   "metadata": {},
   "outputs": [],
   "source": [
    "df = df[ (df[\"realization_date\"].str[:4] == '2016')]"
   ]
  },
  {
   "cell_type": "code",
   "execution_count": null,
   "metadata": {},
   "outputs": [],
   "source": [
    "df.info()"
   ]
  },
  {
   "cell_type": "markdown",
   "metadata": {},
   "source": [
    "## output result"
   ]
  },
  {
   "cell_type": "code",
   "execution_count": null,
   "metadata": {},
   "outputs": [],
   "source": [
    "pp.ProfileReport(df).to_file(outputfile=\"../data/report/DB_V4_2016_report.html\")"
   ]
  },
  {
   "cell_type": "code",
   "execution_count": null,
   "metadata": {},
   "outputs": [],
   "source": [
    "#df.to_csv(\"../data/dataset/DB_V4.csv\", index=False)"
   ]
  },
  {
   "cell_type": "code",
   "execution_count": null,
   "metadata": {},
   "outputs": [],
   "source": [
    "df.info(verbose=True)"
   ]
  },
  {
   "cell_type": "code",
   "execution_count": null,
   "metadata": {},
   "outputs": [],
   "source": [
    "#import pandas_profiling as pp"
   ]
  },
  {
   "cell_type": "code",
   "execution_count": null,
   "metadata": {},
   "outputs": [],
   "source": [
    "#pp.ProfileReport(pharma_ref)"
   ]
  },
  {
   "cell_type": "code",
   "execution_count": null,
   "metadata": {},
   "outputs": [],
   "source": [
    "#df[\"realization_date\"] = df[\"realization_date\"].astype('str')"
   ]
  },
  {
   "cell_type": "code",
   "execution_count": null,
   "metadata": {},
   "outputs": [],
   "source": [
    "#(df[\"realization_date\"].str[:4] == '2016').value_counts()"
   ]
  },
  {
   "cell_type": "code",
   "execution_count": null,
   "metadata": {},
   "outputs": [],
   "source": [
    "df.columns"
   ]
  },
  {
   "cell_type": "code",
   "execution_count": null,
   "metadata": {},
   "outputs": [],
   "source": [
    "# keep these columns:\n",
    "df = df[['Province', 'Type', 'hosp_serv_id', 'reimbt_cat_id', 'drug_code',\n",
    "       'realization_date', 'quantity', 'amount_reimb', 'amount_not_reimb',\n",
    "       'trim_pharma', 'produit_pharma', 'type_drug_code',\n",
    "       'famille_produit_pharma', 'drug_name_aggregated',\n",
    "       'conditionnement', 'mode_administration',\n",
    "       'date_debut_rembourse', 'statut_produit_pharma', 'code_atc',\n",
    "       'code_atc_5', 'code_atc_4', 'code_atc_3', 'code_atc_1', 'DDD',\n",
    "       'nombre_prises', 'orphan_flag', 'chapter_IV_bis_flag',\n",
    "       'link_same_tablet', 'dbegin', 'dend', 'reimbt_cat_desc_fr',\n",
    "       'reimbt_cat_desc_nl', 'reimbt_crit_long', 'reimbt_crit_short',\n",
    "       'reimbt_cat_fixed_rate_yn', 'fee_cat']]"
   ]
  },
  {
   "cell_type": "code",
   "execution_count": null,
   "metadata": {},
   "outputs": [],
   "source": [
    "df[\"reimbt_cat_fixed_rate_yn\"] = df[\"reimbt_cat_fixed_rate_yn\"].astype('bool')"
   ]
  },
  {
   "cell_type": "code",
   "execution_count": null,
   "metadata": {},
   "outputs": [],
   "source": [
    "df_work = df[ (df[\"reimbt_cat_fixed_rate_yn\"] == True) ]"
   ]
  },
  {
   "cell_type": "code",
   "execution_count": null,
   "metadata": {},
   "outputs": [],
   "source": [
    "df_work.to_csv(\"../data/dataset/not_reimb_workfile_2016.csv\", index=False)"
   ]
  },
  {
   "cell_type": "code",
   "execution_count": null,
   "metadata": {},
   "outputs": [],
   "source": [
    "df_work[\"Type\"].value_counts()"
   ]
  },
  {
   "cell_type": "code",
   "execution_count": null,
   "metadata": {},
   "outputs": [],
   "source": [
    "df_work[\"amount_reimb_div_quantity\"] = df_work[\"amount_reimb\"] / df_work[\"quantity\"]"
   ]
  },
  {
   "cell_type": "code",
   "execution_count": null,
   "metadata": {},
   "outputs": [],
   "source": [
    "#df.groupby('col1')['col2'].apply(lambda x: x)"
   ]
  },
  {
   "cell_type": "code",
   "execution_count": null,
   "metadata": {},
   "outputs": [],
   "source": [
    "df_work = df_work[ (df_work[\"Type\"] == \"Général\") ]"
   ]
  },
  {
   "cell_type": "code",
   "execution_count": null,
   "metadata": {},
   "outputs": [],
   "source": [
    "df_work.groupby([\"code_atc\"])[\"amount_reimb_div_quantity\"].sum().value_counts(ascending=False)"
   ]
  },
  {
   "cell_type": "code",
   "execution_count": null,
   "metadata": {},
   "outputs": [],
   "source": [
    "df_work.groupby([\"code_atc\"]).value_counts()"
   ]
  },
  {
   "cell_type": "code",
   "execution_count": null,
   "metadata": {},
   "outputs": [],
   "source": [
    "df_work.sample(5).T"
   ]
  },
  {
   "cell_type": "code",
   "execution_count": null,
   "metadata": {},
   "outputs": [],
   "source": [
    "df_work.statut_produit_pharma.unique()"
   ]
  },
  {
   "cell_type": "code",
   "execution_count": null,
   "metadata": {},
   "outputs": [],
   "source": [
    "statut_produit_pharma_dict = {'G':True, 'orig':False, 'orig R':True}"
   ]
  },
  {
   "cell_type": "code",
   "execution_count": null,
   "metadata": {},
   "outputs": [],
   "source": [
    "df_work[\"B_IsGeneric\"] = df_work[\"statut_produit_pharma\"].map(statut_produit_pharma_dict)"
   ]
  },
  {
   "cell_type": "code",
   "execution_count": null,
   "metadata": {},
   "outputs": [],
   "source": [
    "df_work[\"B_IsGeneric\"].value_counts(normalize=True)"
   ]
  },
  {
   "cell_type": "code",
   "execution_count": null,
   "metadata": {},
   "outputs": [],
   "source": [
    "generic = df_work.groupby([\"code_atc_1\"])[\"B_IsGeneric\"].value_counts(normalize=True)\n",
    "generic"
   ]
  },
  {
   "cell_type": "code",
   "execution_count": null,
   "metadata": {},
   "outputs": [],
   "source": [
    "generic.index"
   ]
  },
  {
   "cell_type": "code",
   "execution_count": null,
   "metadata": {},
   "outputs": [],
   "source": [
    "newgeneric = pd.DataFrame()"
   ]
  },
  {
   "cell_type": "code",
   "execution_count": null,
   "metadata": {},
   "outputs": [],
   "source": [
    "newgeneric[\"percentageOfGeneric\"] = generic.values"
   ]
  },
  {
   "cell_type": "code",
   "execution_count": null,
   "metadata": {},
   "outputs": [],
   "source": [
    "newgeneric[\"ATC\"] = pd.Series(['A', 'B', 'C', 'D', 'G', 'H', 'J', 'L', 'M', 'N', 'P', 'R', 'S', 'V', 'X', 'Z'])"
   ]
  },
  {
   "cell_type": "code",
   "execution_count": null,
   "metadata": {},
   "outputs": [],
   "source": [
    "newgeneric"
   ]
  },
  {
   "cell_type": "code",
   "execution_count": null,
   "metadata": {},
   "outputs": [],
   "source": [
    "import seaborn as sns"
   ]
  },
  {
   "cell_type": "code",
   "execution_count": null,
   "metadata": {},
   "outputs": [],
   "source": []
  },
  {
   "cell_type": "code",
   "execution_count": null,
   "metadata": {},
   "outputs": [],
   "source": []
  },
  {
   "cell_type": "code",
   "execution_count": null,
   "metadata": {},
   "outputs": [],
   "source": [
    "generic.plot(kind=\"bar\")"
   ]
  },
  {
   "cell_type": "code",
   "execution_count": null,
   "metadata": {},
   "outputs": [],
   "source": [
    "plt.figure(figsize=(20,8))\n",
    "sns.barplot(data=newgeneric, x=\"percentageOfGeneric\", y=\"ATC\", color='blue' )"
   ]
  },
  {
   "cell_type": "code",
   "execution_count": null,
   "metadata": {},
   "outputs": [],
   "source": []
  },
  {
   "cell_type": "code",
   "execution_count": null,
   "metadata": {},
   "outputs": [],
   "source": [
    "genericByService = df_work.groupby([\"hosp_serv_id\"])[\"B_IsGeneric\"].value_counts(normalize=True)\n",
    "genericByService"
   ]
  },
  {
   "cell_type": "code",
   "execution_count": null,
   "metadata": {},
   "outputs": [],
   "source": [
    "genericByService.index"
   ]
  },
  {
   "cell_type": "code",
   "execution_count": null,
   "metadata": {},
   "outputs": [],
   "source": [
    "newgenericByService = pd.DataFrame()"
   ]
  },
  {
   "cell_type": "code",
   "execution_count": null,
   "metadata": {},
   "outputs": [],
   "source": [
    "newgenericByService[\"percentageOfGeneric\"] = genericByService.values"
   ]
  },
  {
   "cell_type": "code",
   "execution_count": null,
   "metadata": {},
   "outputs": [],
   "source": [
    "newgenericByService[\"Service\"] = pd.Series([2, 190, 210, 220, 230, 250, 260, 270, 290, 300, 320, 340, 350, 370, 380, 490, 610, 620, 630, 640, 650, 660, 710, 720, 730, 740, 750, 760, 770, 810, 840, 990, 2, 190, 210, 220, 230, 250, 260, 270, 290, 300, 320, 340, 350, 370, 380, 490, 610, 620, 630, 640, 650, 660, 710, 720, 730, 740, 750, 760, 770, 810, 840, 990])"
   ]
  },
  {
   "cell_type": "code",
   "execution_count": null,
   "metadata": {},
   "outputs": [],
   "source": [
    "plt.figure(figsize=(20,8))\n",
    "sns.barplot(data=newgenericByService, y=\"percentageOfGeneric\", x=\"Service\", color='blue' )"
   ]
  },
  {
   "cell_type": "code",
   "execution_count": null,
   "metadata": {},
   "outputs": [],
   "source": []
  },
  {
   "cell_type": "code",
   "execution_count": null,
   "metadata": {},
   "outputs": [],
   "source": [
    "df.info()"
   ]
  },
  {
   "cell_type": "code",
   "execution_count": null,
   "metadata": {},
   "outputs": [],
   "source": [
    "df.drop_duplicates(inplace=True)"
   ]
  },
  {
   "cell_type": "code",
   "execution_count": null,
   "metadata": {},
   "outputs": [],
   "source": [
    "df.info()"
   ]
  },
  {
   "cell_type": "code",
   "execution_count": null,
   "metadata": {},
   "outputs": [],
   "source": []
  }
 ],
 "metadata": {
  "kernelspec": {
   "display_name": "Python 3",
   "language": "python",
   "name": "python3"
  },
  "language_info": {
   "codemirror_mode": {
    "name": "ipython",
    "version": 3
   },
   "file_extension": ".py",
   "mimetype": "text/x-python",
   "name": "python",
   "nbconvert_exporter": "python",
   "pygments_lexer": "ipython3",
   "version": "3.5.2"
  }
 },
 "nbformat": 4,
 "nbformat_minor": 2
}
