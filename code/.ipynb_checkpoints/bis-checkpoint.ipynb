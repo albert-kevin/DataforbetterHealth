{
 "cells": [
  {
   "cell_type": "code",
   "execution_count": null,
   "metadata": {},
   "outputs": [],
   "source": [
    "! pip install xlrd"
   ]
  },
  {
   "cell_type": "code",
   "execution_count": null,
   "metadata": {},
   "outputs": [],
   "source": [
    "import pandas_profiling as pp\n",
    "import pandas as pd\n",
    "import numpy as np\n",
    "\n",
    "import seaborn as sns\n",
    "from matplotlib import pyplot as plt\n",
    "%matplotlib inline\n",
    "\n",
    "import warnings\n",
    "warnings.filterwarnings('ignore')\n",
    "\n",
    "from sklearn.preprocessing import StandardScaler"
   ]
  },
  {
   "cell_type": "code",
   "execution_count": null,
   "metadata": {
    "scrolled": true
   },
   "outputs": [],
   "source": [
    "! ls -l ../data/original"
   ]
  },
  {
   "cell_type": "code",
   "execution_count": null,
   "metadata": {},
   "outputs": [],
   "source": [
    "! head ../data/original/DB_V2.TXT"
   ]
  },
  {
   "cell_type": "markdown",
   "metadata": {},
   "source": [
    "## df = DB_V2.TXT"
   ]
  },
  {
   "cell_type": "code",
   "execution_count": null,
   "metadata": {},
   "outputs": [],
   "source": [
    "# RIZIV dataset 1.8GB\n",
    "# reading merge variable as a string\n",
    "df = pd.read_csv(\"../data/original/DB_V2.TXT\", sep='\\t',\n",
    "                 encoding='latin-1',\n",
    "                 low_memory=False,\n",
    "                 dtype={\"reimbt_cat_id\":\"str\", \"realization_date\":\"str\"})\n",
    "df.drop_duplicates(inplace=True)\n",
    "df.drop('Year', axis=1, inplace=True)\n",
    "df.drop('account_yy_ss', axis=1, inplace=True)"
   ]
  },
  {
   "cell_type": "code",
   "execution_count": null,
   "metadata": {},
   "outputs": [],
   "source": [
    "pp.ProfileReport(df).to_file(outputfile=\"../data/report/DB_V2_initial_dataset_report.html\")"
   ]
  },
  {
   "cell_type": "markdown",
   "metadata": {},
   "source": [
    "## pharma_ref = PHARME_REF.xlsx"
   ]
  },
  {
   "cell_type": "code",
   "execution_count": null,
   "metadata": {},
   "outputs": [],
   "source": [
    "# fixed the drug_code issue for later merging\n",
    "pharma_ref = pd.read_excel(\"../data/original/PHARMA_REF.xlsx\",\n",
    "                           dtype={\"drug_code\":'str', \"produit_pharma\":'str'})\n",
    "pharma_ref.drop_duplicates(inplace=True)"
   ]
  },
  {
   "cell_type": "code",
   "execution_count": null,
   "metadata": {},
   "outputs": [],
   "source": [
    "pp.ProfileReport(pharma_ref).to_file(outputfile=\"../data/report/PHARMA_REF_xlsx_initial_dataset_report.html\")"
   ]
  },
  {
   "cell_type": "markdown",
   "metadata": {},
   "source": [
    "## reimburse_cat = reimb category.xls"
   ]
  },
  {
   "cell_type": "code",
   "execution_count": null,
   "metadata": {},
   "outputs": [],
   "source": [
    "# make sure the id's you merge on are read correctly and the same way\n",
    "reimburse_cat = pd.read_excel(\"../data/original/reimb category.xlsx\", dtype={\"reimbt_cat_id\":'str'})\n",
    "reimburse_cat.drop_duplicates(inplace=True)\n",
    "# max_pct is highly correlated with min_pct (ρ = 0.98479) and 6.1% missing values !\n",
    "reimburse_cat.drop('min_pct', axis=1, inplace=True)\n",
    "# remove the fresh descriptions\n",
    "reimburse_cat.drop('reimbt_cat_desc_fr', axis=1, inplace=True)"
   ]
  },
  {
   "cell_type": "code",
   "execution_count": null,
   "metadata": {},
   "outputs": [],
   "source": [
    "reimburse_cat_dict = {'nd':'other', 'A':'A', 'B':'B', 'Cat 1':'other', 'Cat 2 (A)':'other', 'Cat 3':'other', 'Cat 4':'other',\n",
    "       'Cat 5 (D)':'other', 'C':'C', 'Cs':'C', 'Cx':'C', 'Cxg':'C', 'D':'D', 'Csg':'C', 'Ag':'A', 'Bg':'B', 'Cg':'C',\n",
    "       'Forf Ant':'other', 'Nutri Par':'other', 'Br':'other', 'Ar':'other', 'Cr':'C', 'Csr':'C', 'Cxr':'C',\n",
    "       'Forf Adm':'other', 'Forf BH':'forf', 'V08':'other', 'Fa':'other', 'Fb':'other', 'Forf 1-3':'other',\n",
    "       'Forf 4-':'other', 'Ri-D11':'other', 'Ri-T1':'other', 'Ri-T2':'other', 'Ri-T3':'other', 'Ri-D5':'other', 'Ri-D7':'other',\n",
    "       'Ri-D2':'other', 'Ri-D9':'other', 'Ri-D6':'other', 'Ri-D10':'other', 'Ri-D3':'other', 'Ri-D1':'other', 'Ri-D8':'other',\n",
    "       'Ri-T4':'other', 'Ri-D4':'other', 'Forf PET':'other', '90-A':'A', '90-B':'B', '90-Fa':'other', '90-Fb':'other',\n",
    "       'Ri-T5':'other', 'Ri-T6':'other', 'Ri-T7':'other', 'Ri-T8':'other', '90-C':'C', '90-Cs':'C', '90-Cx':'C'}\n",
    "reimburse_cat[\"reimbt_crit_long\"] = reimburse_cat[\"reimbt_crit_long\"].map(reimburse_cat_dict)"
   ]
  },
  {
   "cell_type": "code",
   "execution_count": null,
   "metadata": {},
   "outputs": [],
   "source": [
    "pp.ProfileReport(reimburse_cat).to_file(outputfile=\"../data/report/reimb_category_xlsx_initial_dataset_report.html\")"
   ]
  },
  {
   "cell_type": "markdown",
   "metadata": {},
   "source": [
    "## MERGE left join 3x dataframes"
   ]
  },
  {
   "cell_type": "code",
   "execution_count": null,
   "metadata": {},
   "outputs": [],
   "source": [
    "df = pd.merge(df, pharma_ref, how=\"left\", left_on=\"drug_code\", right_on=\"drug_code\").reset_index()"
   ]
  },
  {
   "cell_type": "code",
   "execution_count": null,
   "metadata": {},
   "outputs": [],
   "source": [
    "df = pd.merge(df, reimburse_cat, how=\"left\", left_on=\"reimbt_cat_id\", right_on=\"reimbt_cat_id\").reset_index()"
   ]
  },
  {
   "cell_type": "code",
   "execution_count": null,
   "metadata": {},
   "outputs": [],
   "source": [
    "#df.merge(pharma_ref, how=\"left\", on=\"drug_code\").reset_index()"
   ]
  },
  {
   "cell_type": "code",
   "execution_count": null,
   "metadata": {},
   "outputs": [],
   "source": [
    "#df.merge(reimburse_cat, how=\"left\", on=\"reimbt_cat_id\").reset_index()"
   ]
  },
  {
   "cell_type": "markdown",
   "metadata": {},
   "source": [
    "## Datacleaning Phase II"
   ]
  },
  {
   "cell_type": "code",
   "execution_count": null,
   "metadata": {},
   "outputs": [],
   "source": [
    "df.columns"
   ]
  },
  {
   "cell_type": "code",
   "execution_count": null,
   "metadata": {},
   "outputs": [],
   "source": [
    "df.drop(\"level_0\", axis=1, inplace=True)\n",
    "df.drop(\"index\", axis=1, inplace=True)"
   ]
  },
  {
   "cell_type": "code",
   "execution_count": null,
   "metadata": {},
   "outputs": [],
   "source": [
    "df.info()"
   ]
  },
  {
   "cell_type": "code",
   "execution_count": null,
   "metadata": {},
   "outputs": [],
   "source": [
    "# only keep hospitalised data, ignore ambulant data\n",
    "#df = df[ (df[\"patient_cat\"] == 'HOSP') ]"
   ]
  },
  {
   "cell_type": "code",
   "execution_count": null,
   "metadata": {},
   "outputs": [],
   "source": [
    "df = df.astype({'Type':'category', 'type_drug_code':'category', 'statut_produit_pharma':'category',\n",
    "               'orphan_flag':'bool', 'chapter_IV_bis_flag':'bool', 'reimbt_cat_acute_yn':'bool',\n",
    "               'reimbt_cat_chron_yn':'bool', 'reimbt_cat_psy_yn':'bool', 'reimbt_cat_fixed_rate_yn':'bool',\n",
    "               'relative_care_yn':'bool', 'ami_ziv_amount_null_yn':'bool', 'not_reimbursed_null_yn':'bool', 'fee_cat':'category'})"
   ]
  },
  {
   "cell_type": "markdown",
   "metadata": {},
   "source": [
    "## Our domain expert suggest to only keep these columns:"
   ]
  },
  {
   "cell_type": "code",
   "execution_count": null,
   "metadata": {},
   "outputs": [],
   "source": [
    "df.info()"
   ]
  },
  {
   "cell_type": "code",
   "execution_count": null,
   "metadata": {},
   "outputs": [],
   "source": [
    "# keep these columns:\n",
    "# check this later !\n",
    "df = df[['Province', 'Type', 'hosp_serv_id', 'reimbt_cat_id', 'drug_code',\n",
    "       'realization_date', 'quantity', 'amount_reimb', 'amount_not_reimb',\n",
    "       'trim_pharma', 'produit_pharma', 'type_drug_code',\n",
    "       'famille_produit_pharma', 'drug_name_aggregated',\n",
    "       'conditionnement', 'mode_administration',\n",
    "       'date_debut_rembourse', 'statut_produit_pharma', 'code_atc',\n",
    "       'code_atc_5', 'code_atc_4', 'code_atc_3', 'code_atc_1', 'DDD',\n",
    "       'nombre_prises', 'orphan_flag', 'chapter_IV_bis_flag',\n",
    "       'link_same_tablet', 'dbegin', 'dend',\n",
    "       'reimbt_cat_desc_nl', 'reimbt_crit_long', 'reimbt_crit_short',\n",
    "       'reimbt_cat_fixed_rate_yn', 'fee_cat']]"
   ]
  },
  {
   "cell_type": "code",
   "execution_count": null,
   "metadata": {},
   "outputs": [],
   "source": [
    "df.info()"
   ]
  },
  {
   "cell_type": "markdown",
   "metadata": {},
   "source": [
    "## then generate a new final report"
   ]
  },
  {
   "cell_type": "code",
   "execution_count": null,
   "metadata": {},
   "outputs": [],
   "source": [
    "#pp.ProfileReport(df).to_file(outputfile=\"../data/report/DB_V4_merged_pharmaref_and_reimbcategory_report.html\")"
   ]
  },
  {
   "cell_type": "markdown",
   "metadata": {},
   "source": [
    "## output the final dataset to *.parquet format"
   ]
  },
  {
   "cell_type": "code",
   "execution_count": null,
   "metadata": {},
   "outputs": [],
   "source": [
    "#df.to_parquet(\"../data/dataset/DB_V4.parquet\", index=False)"
   ]
  },
  {
   "cell_type": "markdown",
   "metadata": {},
   "source": [
    "# UPDATE trello\n",
    "\n",
    "## make some visualisations"
   ]
  },
  {
   "cell_type": "code",
   "execution_count": null,
   "metadata": {},
   "outputs": [],
   "source": [
    "# show all missing values \"int\"\n",
    "plt.close(\"all\")\n",
    "plt.figure(figsize=(14,10))\n",
    "sns.heatmap(df.select_dtypes(include=['int']).isnull(), cmap='viridis', cbar=False)\n",
    "plt.savefig(\"../data/image/missing_int.png\")"
   ]
  },
  {
   "cell_type": "code",
   "execution_count": null,
   "metadata": {},
   "outputs": [],
   "source": [
    "# show all missing values \"float\"\n",
    "plt.close(\"all\")\n",
    "plt.figure(figsize=(14,10))\n",
    "sns.heatmap(df.select_dtypes(include=['float']).isnull(), cmap='viridis', cbar=False)\n",
    "plt.savefig(\"../data/image/missing_float.png\")"
   ]
  },
  {
   "cell_type": "code",
   "execution_count": null,
   "metadata": {},
   "outputs": [],
   "source": [
    "# show all missing values \"bool\"\n",
    "plt.close(\"all\")\n",
    "plt.figure(figsize=(14,10))\n",
    "sns.heatmap(df.select_dtypes(include=['bool']).isnull(), cmap='viridis', cbar=False)\n",
    "plt.savefig(\"../data/image/missing_bool.png\")"
   ]
  },
  {
   "cell_type": "code",
   "execution_count": null,
   "metadata": {},
   "outputs": [],
   "source": [
    "# show all missing values \"object\"\n",
    "plt.close(\"all\")\n",
    "plt.figure(figsize=(14,10))\n",
    "sns.heatmap(df.select_dtypes(include=['object']).isnull(), cmap='viridis', cbar=False)\n",
    "plt.savefig(\"../data/image/missing_object.png\")"
   ]
  },
  {
   "cell_type": "code",
   "execution_count": null,
   "metadata": {},
   "outputs": [],
   "source": [
    "# show all missing values \"category\"\n",
    "plt.close(\"all\")\n",
    "plt.figure(figsize=(14,10))\n",
    "sns.heatmap(df.select_dtypes(include=['category']).isnull(), cmap='viridis', cbar=False)\n",
    "plt.savefig(\"../data/image/missing_category.png\")"
   ]
  },
  {
   "cell_type": "code",
   "execution_count": null,
   "metadata": {},
   "outputs": [],
   "source": [
    "# show all missing values \"datetime\"\n",
    "plt.close(\"all\")\n",
    "plt.figure(figsize=(14,10))\n",
    "sns.heatmap(df.select_dtypes(include=['datetime64']).isnull(), cmap='viridis', cbar=False)\n",
    "plt.savefig(\"../data/image/missing_datetime.png\")"
   ]
  },
  {
   "cell_type": "code",
   "execution_count": null,
   "metadata": {},
   "outputs": [],
   "source": [
    "# show all zero values\n",
    "plt.close(\"all\")\n",
    "plt.figure(figsize=(14,10))\n",
    "sns.heatmap(df.select_dtypes(include=['int', 'float']) == 0, cmap='viridis', cbar=False)\n",
    "plt.savefig(\"../data/image/zeros.png\")"
   ]
  },
  {
   "cell_type": "code",
   "execution_count": null,
   "metadata": {},
   "outputs": [],
   "source": [
    "# show all negative values\n",
    "plt.close(\"all\")\n",
    "plt.figure(figsize=(14,10))\n",
    "sns.heatmap(df.select_dtypes(include=['int', 'float']) < 0, cmap='viridis', cbar=False)\n",
    "plt.savefig(\"../data/image/negatives.png\")"
   ]
  },
  {
   "cell_type": "code",
   "execution_count": null,
   "metadata": {},
   "outputs": [],
   "source": [
    "# show all string values \"other\"\n",
    "plt.close(\"all\")\n",
    "plt.figure(figsize=(14,10))\n",
    "sns.heatmap(df.select_dtypes(include=['object']) == 'other', cmap='viridis', cbar=False)\n",
    "plt.savefig(\"../data/image/other_str.png\")"
   ]
  },
  {
   "cell_type": "code",
   "execution_count": null,
   "metadata": {},
   "outputs": [],
   "source": [
    "# show all \"duplicated\" values\n",
    "plt.close(\"all\")\n",
    "plt.figure(figsize=(14,10))\n",
    "sns.heatmap(df.duplicated(), cmap='viridis', cbar=False)\n",
    "plt.savefig(\"../data/image/duplicated.png\")"
   ]
  },
  {
   "cell_type": "code",
   "execution_count": null,
   "metadata": {},
   "outputs": [],
   "source": [
    "# show ALL missing values\n",
    "plt.close(\"all\")\n",
    "plt.figure(figsize=(14,10))\n",
    "sns.heatmap(df.isnull(), cmap='viridis', cbar=False)\n",
    "plt.savefig(\"../data/image/missing_all.png\")"
   ]
  },
  {
   "cell_type": "code",
   "execution_count": null,
   "metadata": {},
   "outputs": [],
   "source": [
    "# show the percentage of duplicates\n",
    "print (np.mean(df.duplicated()))"
   ]
  },
  {
   "cell_type": "code",
   "execution_count": null,
   "metadata": {},
   "outputs": [],
   "source": [
    "# show the amount of duplicates\n",
    "print (np.sum(df.duplicated()))"
   ]
  },
  {
   "cell_type": "code",
   "execution_count": null,
   "metadata": {},
   "outputs": [],
   "source": [
    "df.shape"
   ]
  },
  {
   "cell_type": "code",
   "execution_count": null,
   "metadata": {},
   "outputs": [],
   "source": [
    "# removing the duplicate rows\n",
    "df.drop_duplicates(inplace=True)"
   ]
  },
  {
   "cell_type": "code",
   "execution_count": null,
   "metadata": {},
   "outputs": [],
   "source": [
    "# show me a pairplot of all numerical combinations\n",
    "plt.close(\"all\")\n",
    "plt.figure(figsize=(14,10))\n",
    "sns.pairplot(df.select_dtypes(include=['int', 'float']))\n",
    "plt.savefig(\"../data/image/pairplot.png\")"
   ]
  },
  {
   "cell_type": "code",
   "execution_count": null,
   "metadata": {},
   "outputs": [],
   "source": [
    "# let's calculate standardized data"
   ]
  },
  {
   "cell_type": "code",
   "execution_count": null,
   "metadata": {},
   "outputs": [],
   "source": [
    "scaler = StandardScaler()\n",
    "df_scaled = pd.DataFrame(scaler.fit_transform(df.select_dtypes(include=['int', 'float'])),\n",
    "                         columns=df.select_dtypes(include=['int', 'float']).columns)"
   ]
  },
  {
   "cell_type": "code",
   "execution_count": null,
   "metadata": {},
   "outputs": [],
   "source": [
    "# show the pairplot of all numerical combinations but SCALED !\n",
    "plt.close(\"all\")\n",
    "plt.figure(figsize=(14,10))\n",
    "sns.pairplot(df_scaled)\n",
    "plt.savefig(\"../data/image/pairplot_normalized.png\")"
   ]
  },
  {
   "cell_type": "code",
   "execution_count": null,
   "metadata": {},
   "outputs": [],
   "source": [
    "# show the pairplot of all numerical combinations but SCALED !\n",
    "plt.close(\"all\")\n",
    "plt.figure(figsize=(14,10))\n",
    "scaler = StandardScaler()\n",
    "sns.pairplot(pd.DataFrame(scaler.fit_transform(df.select_dtypes(include=['int', 'float'])),\n",
    "                         columns=df.select_dtypes(include=['int', 'float']).columns))\n",
    "plt.savefig(\"../data/image/pairplot_normalized.png\")"
   ]
  },
  {
   "cell_type": "code",
   "execution_count": null,
   "metadata": {},
   "outputs": [],
   "source": [
    "df.corr().abs().style.background_gradient()"
   ]
  },
  {
   "cell_type": "code",
   "execution_count": null,
   "metadata": {},
   "outputs": [],
   "source": []
  },
  {
   "cell_type": "markdown",
   "metadata": {},
   "source": [
    "## then generate a new final report"
   ]
  },
  {
   "cell_type": "code",
   "execution_count": null,
   "metadata": {},
   "outputs": [],
   "source": [
    "pp.ProfileReport(df).to_file(outputfile=\"../data/report/DB_V4_merged_pharmaref_and_reimbcategory_report.html\")"
   ]
  },
  {
   "cell_type": "markdown",
   "metadata": {},
   "source": [
    "## output the final dataset to *.parquet format"
   ]
  },
  {
   "cell_type": "code",
   "execution_count": null,
   "metadata": {},
   "outputs": [],
   "source": [
    "df.to_parquet(\"../data/dataset/DB_V4.parquet\", index=False)"
   ]
  },
  {
   "cell_type": "code",
   "execution_count": null,
   "metadata": {},
   "outputs": [],
   "source": []
  },
  {
   "cell_type": "code",
   "execution_count": null,
   "metadata": {},
   "outputs": [],
   "source": []
  },
  {
   "cell_type": "code",
   "execution_count": null,
   "metadata": {},
   "outputs": [],
   "source": []
  },
  {
   "cell_type": "markdown",
   "metadata": {},
   "source": [
    "## make a split for every year"
   ]
  },
  {
   "cell_type": "code",
   "execution_count": null,
   "metadata": {},
   "outputs": [],
   "source": [
    "for i in df[\"realization_date\"].str[:4].unique():\n",
    "    print (i)"
   ]
  },
  {
   "cell_type": "code",
   "execution_count": null,
   "metadata": {},
   "outputs": [],
   "source": [
    "for year in df[\"realization_date\"].str[:4].unique():\n",
    "    print (\"selecting year: {}\".format(year))\n",
    "    df_year = df[ (df[\"realization_date\"].str[:4] == year)] # here we select only that year\n",
    "    print (\"created dataframe\")\n",
    "    pp.ProfileReport(df_year).to_file(outputfile=\"../data/report/DB_V4_\" + str(year) + \"_report.html\")\n",
    "    print (\"created html report\")\n",
    "    df_year.to_csv(\"../data/dataset/DB_V4_\" + str(year) + \".csv\", index=False)\n",
    "    print (\"created *.csv file\")"
   ]
  },
  {
   "cell_type": "code",
   "execution_count": null,
   "metadata": {},
   "outputs": [],
   "source": []
  },
  {
   "cell_type": "code",
   "execution_count": null,
   "metadata": {},
   "outputs": [],
   "source": []
  },
  {
   "cell_type": "code",
   "execution_count": null,
   "metadata": {},
   "outputs": [],
   "source": []
  },
  {
   "cell_type": "markdown",
   "metadata": {},
   "source": [
    "## Select 2016"
   ]
  },
  {
   "cell_type": "code",
   "execution_count": null,
   "metadata": {},
   "outputs": [],
   "source": [
    "df = df[ (df[\"realization_date\"].str[:4] == '2016')]"
   ]
  },
  {
   "cell_type": "code",
   "execution_count": null,
   "metadata": {},
   "outputs": [],
   "source": [
    "df.info()"
   ]
  },
  {
   "cell_type": "markdown",
   "metadata": {},
   "source": [
    "## output result"
   ]
  },
  {
   "cell_type": "code",
   "execution_count": null,
   "metadata": {},
   "outputs": [],
   "source": [
    "pp.ProfileReport(df).to_file(outputfile=\"../data/report/DB_V4_2016_report.html\")"
   ]
  },
  {
   "cell_type": "code",
   "execution_count": null,
   "metadata": {},
   "outputs": [],
   "source": [
    "#df.to_csv(\"../data/dataset/DB_V4.csv\", index=False)"
   ]
  },
  {
   "cell_type": "code",
   "execution_count": null,
   "metadata": {},
   "outputs": [],
   "source": [
    "df.info(verbose=True)"
   ]
  },
  {
   "cell_type": "code",
   "execution_count": null,
   "metadata": {},
   "outputs": [],
   "source": [
    "#import pandas_profiling as pp"
   ]
  },
  {
   "cell_type": "code",
   "execution_count": null,
   "metadata": {},
   "outputs": [],
   "source": [
    "#pp.ProfileReport(pharma_ref)"
   ]
  },
  {
   "cell_type": "code",
   "execution_count": null,
   "metadata": {},
   "outputs": [],
   "source": [
    "#df[\"realization_date\"] = df[\"realization_date\"].astype('str')"
   ]
  },
  {
   "cell_type": "code",
   "execution_count": null,
   "metadata": {},
   "outputs": [],
   "source": [
    "#(df[\"realization_date\"].str[:4] == '2016').value_counts()"
   ]
  },
  {
   "cell_type": "code",
   "execution_count": null,
   "metadata": {},
   "outputs": [],
   "source": [
    "df.columns"
   ]
  },
  {
   "cell_type": "code",
   "execution_count": null,
   "metadata": {},
   "outputs": [],
   "source": [
    "# keep these columns:\n",
    "df = df[['Province', 'Type', 'hosp_serv_id', 'reimbt_cat_id', 'drug_code',\n",
    "       'realization_date', 'quantity', 'amount_reimb', 'amount_not_reimb',\n",
    "       'trim_pharma', 'produit_pharma', 'type_drug_code',\n",
    "       'famille_produit_pharma', 'drug_name_aggregated',\n",
    "       'conditionnement', 'mode_administration',\n",
    "       'date_debut_rembourse', 'statut_produit_pharma', 'code_atc',\n",
    "       'code_atc_5', 'code_atc_4', 'code_atc_3', 'code_atc_1', 'DDD',\n",
    "       'nombre_prises', 'orphan_flag', 'chapter_IV_bis_flag',\n",
    "       'link_same_tablet', 'dbegin', 'dend', 'reimbt_cat_desc_fr',\n",
    "       'reimbt_cat_desc_nl', 'reimbt_crit_long', 'reimbt_crit_short',\n",
    "       'reimbt_cat_fixed_rate_yn', 'fee_cat']]"
   ]
  },
  {
   "cell_type": "code",
   "execution_count": null,
   "metadata": {},
   "outputs": [],
   "source": [
    "df[\"reimbt_cat_fixed_rate_yn\"] = df[\"reimbt_cat_fixed_rate_yn\"].astype('bool')"
   ]
  },
  {
   "cell_type": "code",
   "execution_count": null,
   "metadata": {},
   "outputs": [],
   "source": [
    "df_work = df[ (df[\"reimbt_cat_fixed_rate_yn\"] == True) ]"
   ]
  },
  {
   "cell_type": "code",
   "execution_count": null,
   "metadata": {},
   "outputs": [],
   "source": [
    "df_work.to_csv(\"../data/dataset/not_reimb_workfile_2016.csv\", index=False)"
   ]
  },
  {
   "cell_type": "code",
   "execution_count": null,
   "metadata": {},
   "outputs": [],
   "source": [
    "df_work[\"Type\"].value_counts()"
   ]
  },
  {
   "cell_type": "code",
   "execution_count": null,
   "metadata": {},
   "outputs": [],
   "source": [
    "df_work[\"amount_reimb_div_quantity\"] = df_work[\"amount_reimb\"] / df_work[\"quantity\"]"
   ]
  },
  {
   "cell_type": "code",
   "execution_count": null,
   "metadata": {},
   "outputs": [],
   "source": [
    "#df.groupby('col1')['col2'].apply(lambda x: x)"
   ]
  },
  {
   "cell_type": "code",
   "execution_count": null,
   "metadata": {},
   "outputs": [],
   "source": [
    "df_work = df_work[ (df_work[\"Type\"] == \"Général\") ]"
   ]
  },
  {
   "cell_type": "code",
   "execution_count": null,
   "metadata": {},
   "outputs": [],
   "source": [
    "df_work.groupby([\"code_atc\"])[\"amount_reimb_div_quantity\"].sum().value_counts(ascending=False)"
   ]
  },
  {
   "cell_type": "code",
   "execution_count": null,
   "metadata": {},
   "outputs": [],
   "source": [
    "df_work.groupby([\"code_atc\"]).value_counts()"
   ]
  },
  {
   "cell_type": "code",
   "execution_count": null,
   "metadata": {},
   "outputs": [],
   "source": [
    "df_work.sample(5).T"
   ]
  },
  {
   "cell_type": "code",
   "execution_count": null,
   "metadata": {},
   "outputs": [],
   "source": [
    "df_work.statut_produit_pharma.unique()"
   ]
  },
  {
   "cell_type": "code",
   "execution_count": null,
   "metadata": {},
   "outputs": [],
   "source": [
    "statut_produit_pharma_dict = {'G':True, 'orig':False, 'orig R':True}"
   ]
  },
  {
   "cell_type": "code",
   "execution_count": null,
   "metadata": {},
   "outputs": [],
   "source": [
    "df_work[\"B_IsGeneric\"] = df_work[\"statut_produit_pharma\"].map(statut_produit_pharma_dict)"
   ]
  },
  {
   "cell_type": "code",
   "execution_count": null,
   "metadata": {},
   "outputs": [],
   "source": [
    "df_work[\"B_IsGeneric\"].value_counts(normalize=True)"
   ]
  },
  {
   "cell_type": "code",
   "execution_count": null,
   "metadata": {},
   "outputs": [],
   "source": [
    "generic = df_work.groupby([\"code_atc_1\"])[\"B_IsGeneric\"].value_counts(normalize=True)\n",
    "generic"
   ]
  },
  {
   "cell_type": "code",
   "execution_count": null,
   "metadata": {},
   "outputs": [],
   "source": [
    "generic.index"
   ]
  },
  {
   "cell_type": "code",
   "execution_count": null,
   "metadata": {},
   "outputs": [],
   "source": [
    "newgeneric = pd.DataFrame()"
   ]
  },
  {
   "cell_type": "code",
   "execution_count": null,
   "metadata": {},
   "outputs": [],
   "source": [
    "newgeneric[\"percentageOfGeneric\"] = generic.values"
   ]
  },
  {
   "cell_type": "code",
   "execution_count": null,
   "metadata": {},
   "outputs": [],
   "source": [
    "newgeneric[\"ATC\"] = pd.Series(['A', 'B', 'C', 'D', 'G', 'H', 'J', 'L', 'M', 'N', 'P', 'R', 'S', 'V', 'X', 'Z'])"
   ]
  },
  {
   "cell_type": "code",
   "execution_count": null,
   "metadata": {},
   "outputs": [],
   "source": [
    "newgeneric"
   ]
  },
  {
   "cell_type": "code",
   "execution_count": null,
   "metadata": {},
   "outputs": [],
   "source": [
    "import seaborn as sns"
   ]
  },
  {
   "cell_type": "code",
   "execution_count": null,
   "metadata": {},
   "outputs": [],
   "source": []
  },
  {
   "cell_type": "code",
   "execution_count": null,
   "metadata": {},
   "outputs": [],
   "source": []
  },
  {
   "cell_type": "code",
   "execution_count": null,
   "metadata": {},
   "outputs": [],
   "source": [
    "generic.plot(kind=\"bar\")"
   ]
  },
  {
   "cell_type": "code",
   "execution_count": null,
   "metadata": {},
   "outputs": [],
   "source": [
    "plt.figure(figsize=(20,8))\n",
    "sns.barplot(data=newgeneric, x=\"percentageOfGeneric\", y=\"ATC\", color='blue' )"
   ]
  },
  {
   "cell_type": "code",
   "execution_count": null,
   "metadata": {},
   "outputs": [],
   "source": []
  },
  {
   "cell_type": "code",
   "execution_count": null,
   "metadata": {},
   "outputs": [],
   "source": [
    "genericByService = df_work.groupby([\"hosp_serv_id\"])[\"B_IsGeneric\"].value_counts(normalize=True)\n",
    "genericByService"
   ]
  },
  {
   "cell_type": "code",
   "execution_count": null,
   "metadata": {},
   "outputs": [],
   "source": [
    "genericByService.index"
   ]
  },
  {
   "cell_type": "code",
   "execution_count": null,
   "metadata": {},
   "outputs": [],
   "source": [
    "newgenericByService = pd.DataFrame()"
   ]
  },
  {
   "cell_type": "code",
   "execution_count": null,
   "metadata": {},
   "outputs": [],
   "source": [
    "newgenericByService[\"percentageOfGeneric\"] = genericByService.values"
   ]
  },
  {
   "cell_type": "code",
   "execution_count": null,
   "metadata": {},
   "outputs": [],
   "source": [
    "newgenericByService[\"Service\"] = pd.Series([2, 190, 210, 220, 230, 250, 260, 270, 290, 300, 320, 340, 350, 370, 380, 490, 610, 620, 630, 640, 650, 660, 710, 720, 730, 740, 750, 760, 770, 810, 840, 990, 2, 190, 210, 220, 230, 250, 260, 270, 290, 300, 320, 340, 350, 370, 380, 490, 610, 620, 630, 640, 650, 660, 710, 720, 730, 740, 750, 760, 770, 810, 840, 990])"
   ]
  },
  {
   "cell_type": "code",
   "execution_count": null,
   "metadata": {},
   "outputs": [],
   "source": [
    "plt.figure(figsize=(20,8))\n",
    "sns.barplot(data=newgenericByService, y=\"percentageOfGeneric\", x=\"Service\", color='blue' )"
   ]
  },
  {
   "cell_type": "code",
   "execution_count": null,
   "metadata": {},
   "outputs": [],
   "source": []
  },
  {
   "cell_type": "code",
   "execution_count": null,
   "metadata": {},
   "outputs": [],
   "source": [
    "df.info()"
   ]
  },
  {
   "cell_type": "code",
   "execution_count": null,
   "metadata": {},
   "outputs": [],
   "source": [
    "df.drop_duplicates(inplace=True)"
   ]
  },
  {
   "cell_type": "code",
   "execution_count": null,
   "metadata": {},
   "outputs": [],
   "source": [
    "df.info()"
   ]
  },
  {
   "cell_type": "code",
   "execution_count": null,
   "metadata": {},
   "outputs": [],
   "source": []
  }
 ],
 "metadata": {
  "kernelspec": {
   "display_name": "Python 3",
   "language": "python",
   "name": "python3"
  },
  "language_info": {
   "codemirror_mode": {
    "name": "ipython",
    "version": 3
   },
   "file_extension": ".py",
   "mimetype": "text/x-python",
   "name": "python",
   "nbconvert_exporter": "python",
   "pygments_lexer": "ipython3",
   "version": "3.5.2"
  }
 },
 "nbformat": 4,
 "nbformat_minor": 2
}
