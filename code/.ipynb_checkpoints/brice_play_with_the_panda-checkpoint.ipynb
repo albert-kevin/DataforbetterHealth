{
 "cells": [
  {
   "cell_type": "code",
   "execution_count": 1,
   "metadata": {},
   "outputs": [],
   "source": [
    "import pandas_profiling as pp\n",
    "import pandas as pd"
   ]
  },
  {
   "cell_type": "code",
   "execution_count": 2,
   "metadata": {},
   "outputs": [
    {
     "name": "stdout",
     "output_type": "stream",
     "text": [
      "total 1846244\r\n",
      "-rw-rw-r-- 1 ubuntu ubuntu    1641746 Jan 25 17:33 atc-icd-mialist.csv\r\n",
      "-rw-rw-r-- 1 ubuntu ubuntu    2740224 Jan 25 17:23 BE_COD_2015_FR_v1.xls\r\n",
      "-rw-rw-r-- 1 ubuntu ubuntu    2743296 Jan 25 17:23 BE_COD_2015_NL_v2.xls\r\n",
      "-rw-rw-r-- 1 ubuntu ubuntu      13946 Jan 25 17:22 Care place service.xlsx\r\n",
      "-rw-rw-r-- 1 ubuntu ubuntu    1585669 Jan 25 17:22 csv4Emd_Fr_1901A.zip\r\n",
      "-rw-rw-r-- 1 ubuntu ubuntu    1552530 Jan 25 17:22 csv4Emd_Nl_1901A.zip\r\n",
      "-rw-rw-r-- 1 ubuntu ubuntu     782180 Jan 25 17:22 csv_ATCDPP_1808A.zip\r\n",
      "-rw-rw-r-- 1 ubuntu ubuntu     641368 Jan 25 17:22 csv_VOSDCI_1901A.zip\r\n",
      "-rw-rw-r-- 1 ubuntu ubuntu    5330821 Jan 25 17:22 d20061027316.pdf\r\n",
      "-rw-rw-r-- 1 ubuntu ubuntu     152496 Jan 25 17:21 db4emd-docEN.pdf\r\n",
      "-rw-r--r-- 1 ubuntu ubuntu 1812381904 Jan 25 17:15 DB_V2.TXT\r\n",
      "-rw-rw-r-- 1 ubuntu ubuntu     357479 Jan 25 17:33 extended_tabel3.csv\r\n",
      "-rw-rw-r-- 1 ubuntu ubuntu     265193 Jan 25 17:22 MvtProvFR.xlsx\r\n",
      "-rw-rw-r-- 1 ubuntu ubuntu     264961 Jan 25 17:22 MvtProvNL.xlsx\r\n",
      "-rw-rw-r-- 1 ubuntu ubuntu    1527893 Jan 25 17:33 pdfs_tabel3.csv\r\n",
      "-rw-rw-r-- 1 ubuntu ubuntu    4611002 Jan 25 17:40 PHARMA_REF.xlsx\r\n",
      "-rw-rw-r-- 1 ubuntu ubuntu      85921 Jan 25 17:22 reimb category.xlsx\r\n",
      "drwxrwxr-x 3 ubuntu ubuntu       4096 Jan 25 16:15 resources\r\n",
      "-rw-rw-r-- 1 ubuntu ubuntu   47349760 Jan 25 17:34 riziv-pdfs.tar\r\n",
      "-rw-rw-r-- 1 ubuntu ubuntu    1908793 Jan 25 17:33 riziv-stats.csv\r\n",
      "-rw-rw-r-- 1 ubuntu ubuntu    1723176 Jan 25 17:21 sql4Emd_Fr_1901A.zip\r\n",
      "-rw-rw-r-- 1 ubuntu ubuntu    1687352 Jan 25 17:21 sql4Emd_Nl_1901A.zip\r\n",
      "-rw-rw-r-- 1 ubuntu ubuntu     855188 Jan 25 17:21 sql_ATCDPP_1808A.zip\r\n",
      "-rw-rw-r-- 1 ubuntu ubuntu     302296 Jan 25 17:21 VOSDCI_nl.pdf\r\n"
     ]
    }
   ],
   "source": [
    "! ls -l ../data/"
   ]
  },
  {
   "cell_type": "code",
   "execution_count": 3,
   "metadata": {},
   "outputs": [
    {
     "name": "stdout",
     "output_type": "stream",
     "text": [
      "account_yy_ss\tProvince\tType\thosp_serv_id\treimbt_cat_id\tdrug_code\trealization_date\tquantity\tamount_reimb\tamount_not_reimb\tYear\r",
      "\r\n",
      "20026\tAnvers\tG�n�ral\t990\t698014\t0000000\t20014\t1\t218.1\t0\t2002\r",
      "\r\n",
      "20026\tAnvers\tG�n�ral\t990\t698051\t0000000\t20014\t3\t5816.01\t0\t2002\r",
      "\r\n",
      "20027\tAnvers\tG�n�ral\t990\t698051\t0000000\t20014\t1\t51.83\t0\t2002\r",
      "\r\n",
      "20026\tAnvers\tG�n�ral\t990\t698051\t0000000\t20021\t2\t535.21\t0\t2002\r",
      "\r\n",
      "20027\tAnvers\tG�n�ral\t990\t698051\t0000000\t20021\t1\t267.61\t0\t2002\r",
      "\r\n",
      "20026\tAnvers\tG�n�ral\t720\t698051\t0000000\t20022\t1\t5184.17\t0\t2002\r",
      "\r\n",
      "20027\tAnvers\tG�n�ral\t720\t698051\t0000000\t20022\t1\t5184.17\t0\t2002\r",
      "\r\n",
      "20027\tAnvers\tG�n�ral\t990\t698051\t0000000\t20022\t7\t6789.83\t0\t2002\r",
      "\r\n",
      "20027\tAnvers\tG�n�ral\t990\t698051\t0000000\t20023\t4\t1070.44\t0\t2002\r",
      "\r\n"
     ]
    }
   ],
   "source": [
    "! head ../data/DB_V2.TXT"
   ]
  },
  {
   "cell_type": "code",
   "execution_count": null,
   "metadata": {},
   "outputs": [],
   "source": []
  },
  {
   "cell_type": "code",
   "execution_count": null,
   "metadata": {},
   "outputs": [],
   "source": []
  }
 ],
 "metadata": {
  "kernelspec": {
   "display_name": "Python 3",
   "language": "python",
   "name": "python3"
  },
  "language_info": {
   "codemirror_mode": {
    "name": "ipython",
    "version": 3
   },
   "file_extension": ".py",
   "mimetype": "text/x-python",
   "name": "python",
   "nbconvert_exporter": "python",
   "pygments_lexer": "ipython3",
   "version": "3.5.2"
  }
 },
 "nbformat": 4,
 "nbformat_minor": 2
}
