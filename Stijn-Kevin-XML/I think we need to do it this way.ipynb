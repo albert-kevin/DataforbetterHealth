{
 "cells": [
  {
   "cell_type": "code",
   "execution_count": 1,
   "metadata": {},
   "outputs": [],
   "source": [
    "# http://blog.appliedinformaticsinc.com/how-to-parse-and-convert-xml-to-csv-using-python/"
   ]
  },
  {
   "cell_type": "code",
   "execution_count": 2,
   "metadata": {},
   "outputs": [
    {
     "name": "stdout",
     "output_type": "stream",
     "text": [
      "Writing resident_data.xml\n"
     ]
    }
   ],
   "source": [
    "%%writefile resident_data.xml\n",
    "\n",
    "<State>\n",
    "<Resident Id=\"100\">\n",
    "<Name>Sample Name</Name>\n",
    "\t<PhoneNumber>1234567891</PhoneNumber>\n",
    "\t<EmailAddress>sample_name@example.com</EmailAddress>\n",
    "\t<Address>\n",
    "\t\t<StreetLine1>Street Line1</StreetLine1>\n",
    "\t\t<City>City Name</City>\n",
    "\t\t<StateCode>AE</StateCode>\n",
    "\t\t<PostalCode>12345</PostalCode>\n",
    "\t</Address>\n",
    "</Resident>\n",
    "<Resident Id=\"101\">\n",
    "\t<Name>Sample Name1</Name>\n",
    "\t<PhoneNumber>1234567891</PhoneNumber>\n",
    "\t<EmailAddress>sample_name1@example.com</EmailAddress>\n",
    "\t<Address>\n",
    "\t\t<StreetLine1>Current Address</StreetLine1>\n",
    "\t\t<City>Los Angeles</City>\n",
    "\t\t<StateCode>CA</StateCode>\n",
    "\t\t<PostalCode>56666</PostalCode>\n",
    "\t</Address>\n",
    "</Resident>\n",
    ".\n",
    ".\n",
    ".\n",
    ".\n",
    "</State>"
   ]
  },
  {
   "cell_type": "code",
   "execution_count": 3,
   "metadata": {},
   "outputs": [
    {
     "name": "stdout",
     "output_type": "stream",
     "text": [
      "\r\n",
      "<State>\r\n",
      "<Resident Id=\"100\">\r\n",
      "<Name>Sample Name</Name>\r\n",
      "\t<PhoneNumber>1234567891</PhoneNumber>\r\n",
      "\t<EmailAddress>sample_name@example.com</EmailAddress>\r\n",
      "\t<Address>\r\n",
      "\t\t<StreetLine1>Street Line1</StreetLine1>\r\n",
      "\t\t<City>City Name</City>\r\n",
      "\t\t<StateCode>AE</StateCode>\r\n",
      "\t\t<PostalCode>12345</PostalCode>\r\n",
      "\t</Address>\r\n",
      "</Resident>\r\n",
      "<Resident Id=\"101\">\r\n",
      "\t<Name>Sample Name1</Name>\r\n",
      "\t<PhoneNumber>1234567891</PhoneNumber>\r\n",
      "\t<EmailAddress>sample_name1@example.com</EmailAddress>\r\n",
      "\t<Address>\r\n",
      "\t\t<StreetLine1>Current Address</StreetLine1>\r\n",
      "\t\t<City>Los Angeles</City>\r\n",
      "\t\t<StateCode>CA</StateCode>\r\n",
      "\t\t<PostalCode>56666</PostalCode>\r\n",
      "\t</Address>\r\n",
      "</Resident>\r\n",
      ".\r\n",
      ".\r\n",
      ".\r\n",
      ".\r\n",
      "</State>\r\n"
     ]
    }
   ],
   "source": [
    "!cat resident_data.xml"
   ]
  },
  {
   "cell_type": "code",
   "execution_count": 4,
   "metadata": {},
   "outputs": [],
   "source": [
    "import xml.etree.ElementTree as ET\n",
    "import csv"
   ]
  },
  {
   "cell_type": "code",
   "execution_count": 27,
   "metadata": {},
   "outputs": [],
   "source": [
    "tree = ET.parse(\"resident_data.xml\")\n",
    "root = tree.getroot()"
   ]
  },
  {
   "cell_type": "code",
   "execution_count": 28,
   "metadata": {},
   "outputs": [],
   "source": [
    "# open a file for writing\n",
    "\n",
    "Resident_data = open('ResidentData.csv', 'w')"
   ]
  },
  {
   "cell_type": "code",
   "execution_count": 29,
   "metadata": {},
   "outputs": [],
   "source": [
    "# create the csv writer object\n",
    "\n",
    "csvwriter = csv.writer(Resident_data)"
   ]
  },
  {
   "cell_type": "code",
   "execution_count": 30,
   "metadata": {},
   "outputs": [],
   "source": [
    "resident_head = []\n",
    "count = 0"
   ]
  },
  {
   "cell_type": "code",
   "execution_count": 31,
   "metadata": {},
   "outputs": [],
   "source": [
    "for member in root.findall('Resident'):\n",
    "    resident = []\n",
    "    address_list = []\n",
    "    if count == 0:\n",
    "        name = member.find('Name').tag\n",
    "        resident_head.append(name)\n",
    "        PhoneNumber = member.find('PhoneNumber').tag\n",
    "        resident_head.append(PhoneNumber)\n",
    "        EmailAddress = member.find('EmailAddress').tag\n",
    "        resident_head.append(EmailAddress)\n",
    "        Address = member[3].tag\n",
    "        resident_head.append(Address)\n",
    "        csvwriter.writerow(resident_head)\n",
    "        count = count + 1\n",
    "\n",
    "    name = member.find('Name').text\n",
    "    resident.append(name)\n",
    "    PhoneNumber = member.find('PhoneNumber').text\n",
    "    resident.append(PhoneNumber)\n",
    "    EmailAddress = member.find('EmailAddress').text\n",
    "    resident.append(EmailAddress)\n",
    "    Address = member[3][0].text\n",
    "    address_list.append(Address)\n",
    "    City = member[3][1].text\n",
    "    address_list.append(City)\n",
    "    StateCode = member[3][2].text\n",
    "    address_list.append(StateCode)\n",
    "    PostalCode = member[3][3].text\n",
    "    address_list.append(PostalCode)\n",
    "    resident.append(address_list)\n",
    "    csvwriter.writerow(resident)\n",
    "Resident_data.close()"
   ]
  },
  {
   "cell_type": "code",
   "execution_count": null,
   "metadata": {},
   "outputs": [],
   "source": []
  },
  {
   "cell_type": "code",
   "execution_count": 23,
   "metadata": {},
   "outputs": [],
   "source": [
    "tree = ET.parse(\"CPN-1551441614834.xml\")\n",
    "root = tree.getroot()"
   ]
  },
  {
   "cell_type": "code",
   "execution_count": 24,
   "metadata": {},
   "outputs": [],
   "source": [
    "# open a file for writing\n",
    "\n",
    "company_data = open('CPN-1551441614834_testing.csv', 'w')"
   ]
  },
  {
   "cell_type": "code",
   "execution_count": 25,
   "metadata": {},
   "outputs": [],
   "source": [
    "# create the csv writer object\n",
    "\n",
    "csvwriter = csv.writer(company_data)"
   ]
  },
  {
   "cell_type": "code",
   "execution_count": 26,
   "metadata": {},
   "outputs": [],
   "source": [
    "company_head = []\n",
    "count = 0"
   ]
  },
  {
   "cell_type": "code",
   "execution_count": null,
   "metadata": {},
   "outputs": [],
   "source": [
    "for member in root.findall('ns2:Company'):\n",
    "    company = []\n",
    "    address_list = []\n",
    "    if count == 0:\n",
    "        name = member.find('Denomination').tag\n",
    "        company_head.append(name)\n",
    "        PhoneNumber = member.find('PhoneNumber').tag\n",
    "        company_head.append(PhoneNumber)\n",
    "        EmailAddress = member.find('EmailAddress').tag\n",
    "        company_head.append(EmailAddress)\n",
    "        Address = member[3].tag\n",
    "        company_head.append(Address)\n",
    "        csvwriter.writerow(company_head)\n",
    "        count = count + 1\n",
    "\n",
    "    name = member.find('Name').text\n",
    "    company.append(name)\n",
    "    PhoneNumber = member.find('PhoneNumber').text\n",
    "    company.append(PhoneNumber)\n",
    "    EmailAddress = member.find('EmailAddress').text\n",
    "    company.append(EmailAddress)\n",
    "    Address = member[3][0].text\n",
    "    address_list.append(Address)\n",
    "    City = member[3][1].text\n",
    "    address_list.append(City)\n",
    "    StateCode = member[3][2].text\n",
    "    address_list.append(StateCode)\n",
    "    PostalCode = member[3][3].text\n",
    "    address_list.append(PostalCode)\n",
    "    company.append(address_list)\n",
    "    csvwriter.writerow(company)\n",
    "company_data.close()"
   ]
  },
  {
   "cell_type": "code",
   "execution_count": null,
   "metadata": {},
   "outputs": [],
   "source": []
  },
  {
   "cell_type": "code",
   "execution_count": null,
   "metadata": {},
   "outputs": [],
   "source": []
  }
 ],
 "metadata": {
  "kernelspec": {
   "display_name": "Python 3",
   "language": "python",
   "name": "python3"
  },
  "language_info": {
   "codemirror_mode": {
    "name": "ipython",
    "version": 3
   },
   "file_extension": ".py",
   "mimetype": "text/x-python",
   "name": "python",
   "nbconvert_exporter": "python",
   "pygments_lexer": "ipython3",
   "version": "3.5.2"
  }
 },
 "nbformat": 4,
 "nbformat_minor": 2
}
