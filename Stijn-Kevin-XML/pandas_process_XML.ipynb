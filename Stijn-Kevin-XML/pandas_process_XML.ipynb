{
 "cells": [
  {
   "cell_type": "code",
   "execution_count": null,
   "metadata": {},
   "outputs": [],
   "source": [
    "# https://knanne.github.io/notebooks/pandas_process_XML.html"
   ]
  },
  {
   "cell_type": "code",
   "execution_count": 1,
   "metadata": {},
   "outputs": [
    {
     "name": "stderr",
     "output_type": "stream",
     "text": [
      "/home/ubuntu/venv/lib/python3.5/importlib/_bootstrap.py:222: RuntimeWarning: numpy.dtype size changed, may indicate binary incompatibility. Expected 96, got 88\n",
      "  return f(*args, **kwds)\n",
      "/home/ubuntu/venv/lib/python3.5/importlib/_bootstrap.py:222: RuntimeWarning: numpy.dtype size changed, may indicate binary incompatibility. Expected 96, got 88\n",
      "  return f(*args, **kwds)\n"
     ]
    }
   ],
   "source": [
    "import xmltodict\n",
    "import json\n",
    "import numpy as np\n",
    "import pandas as pd\n",
    "#import modin.pandas as pd"
   ]
  },
  {
   "cell_type": "code",
   "execution_count": 2,
   "metadata": {},
   "outputs": [],
   "source": [
    "file1 = 'AMP-1551441621600.xml'\n",
    "file2 = 'CMP-1551442404739.xml' #done\n",
    "file3 = 'CPN-1551441614834.xml' #done\n",
    "file4 = 'NONMEDICINAL-1551442405811.xml'\n",
    "file5 = 'REF-1551442403585.xml'\n",
    "file6 = 'RMB-1551442388793.xml'\n",
    "file7 = 'RML-1551442383410.xml' #done\n",
    "file8 = 'VMP-1551442363567.xml' #done (2)"
   ]
  },
  {
   "cell_type": "code",
   "execution_count": 3,
   "metadata": {},
   "outputs": [],
   "source": [
    "def load_print(file):\n",
    "    with open(file) as fd:\n",
    "        d = xmltodict.parse(fd.read())\n",
    "    print(json.dumps(d, indent=2)[0:5000])\n",
    "    return d"
   ]
  },
  {
   "cell_type": "code",
   "execution_count": 4,
   "metadata": {},
   "outputs": [],
   "source": [
    "def save_to_csv(file, df, entry):\n",
    "    df.to_csv(\"csv/\"+entry+\"_\"+file[:-3]+\"csv\", index=False)"
   ]
  },
  {
   "cell_type": "markdown",
   "metadata": {},
   "source": [
    "# file8"
   ]
  },
  {
   "cell_type": "code",
   "execution_count": null,
   "metadata": {},
   "outputs": [],
   "source": [
    "file = file8"
   ]
  },
  {
   "cell_type": "code",
   "execution_count": null,
   "metadata": {},
   "outputs": [],
   "source": [
    "d = load_print(file)"
   ]
  },
  {
   "cell_type": "code",
   "execution_count": null,
   "metadata": {},
   "outputs": [],
   "source": [
    "root  = \"ns3:ExportVirtualMedicines\"\n",
    "entry = \"ns3:Vtm\"\n",
    "df = pd.DataFrame.from_dict(d[root][entry])"
   ]
  },
  {
   "cell_type": "code",
   "execution_count": null,
   "metadata": {},
   "outputs": [],
   "source": [
    "df.sample(5)"
   ]
  },
  {
   "cell_type": "code",
   "execution_count": null,
   "metadata": {},
   "outputs": [],
   "source": [
    "pd.Series(df[\"ns3:Data\"][0])"
   ]
  },
  {
   "cell_type": "code",
   "execution_count": null,
   "metadata": {},
   "outputs": [],
   "source": [
    "df = df.join(df['ns3:Data'].apply(pd.Series), how='left')"
   ]
  },
  {
   "cell_type": "code",
   "execution_count": null,
   "metadata": {},
   "outputs": [],
   "source": [
    "df[0][0]"
   ]
  },
  {
   "cell_type": "code",
   "execution_count": null,
   "metadata": {},
   "outputs": [],
   "source": [
    "df = df.drop(['ns3:Data', 0, 1], axis=1).rename(columns={'@code':'code', '@from':'from', '@to':'to'})"
   ]
  },
  {
   "cell_type": "code",
   "execution_count": null,
   "metadata": {},
   "outputs": [],
   "source": [
    "df[\"ns2:Name\"][0]"
   ]
  },
  {
   "cell_type": "code",
   "execution_count": null,
   "metadata": {},
   "outputs": [],
   "source": [
    "pd.Series(df[\"ns2:Name\"][0])"
   ]
  },
  {
   "cell_type": "code",
   "execution_count": null,
   "metadata": {},
   "outputs": [],
   "source": [
    "df['ns2:Name'].apply(pd.Series).drop([0], axis=1)"
   ]
  },
  {
   "cell_type": "code",
   "execution_count": null,
   "metadata": {},
   "outputs": [],
   "source": [
    "df = df.join(df['ns2:Name'].apply(pd.Series).drop([0], axis=1), how='left')"
   ]
  },
  {
   "cell_type": "code",
   "execution_count": null,
   "metadata": {},
   "outputs": [],
   "source": [
    "df = df.drop(['ns2:Name'], axis=1).rename(columns={'code':'code'})"
   ]
  },
  {
   "cell_type": "code",
   "execution_count": null,
   "metadata": {},
   "outputs": [],
   "source": [
    "save_to_csv(file, df, entry)"
   ]
  },
  {
   "cell_type": "code",
   "execution_count": null,
   "metadata": {},
   "outputs": [],
   "source": []
  },
  {
   "cell_type": "code",
   "execution_count": null,
   "metadata": {},
   "outputs": [],
   "source": []
  },
  {
   "cell_type": "code",
   "execution_count": null,
   "metadata": {},
   "outputs": [],
   "source": [
    "root  = \"ns3:ExportVirtualMedicines\"\n",
    "entry = \"ns3:VmpGroup\"\n",
    "df = pd.DataFrame.from_dict(d[root][entry])"
   ]
  },
  {
   "cell_type": "code",
   "execution_count": null,
   "metadata": {},
   "outputs": [],
   "source": [
    "df.sample(5)"
   ]
  },
  {
   "cell_type": "code",
   "execution_count": null,
   "metadata": {},
   "outputs": [],
   "source": [
    "df = df.join(df['ns3:Data'].apply(pd.Series), how='left')"
   ]
  },
  {
   "cell_type": "code",
   "execution_count": null,
   "metadata": {},
   "outputs": [],
   "source": [
    "df = df.drop(['ns3:Data', 0, 1, 2, 3], axis=1).rename(columns={'@code':'code', '@from':'from', '@to':'to'})"
   ]
  },
  {
   "cell_type": "code",
   "execution_count": null,
   "metadata": {},
   "outputs": [],
   "source": [
    "df = df.join(df['ns2:Name'].apply(pd.Series), how='left')"
   ]
  },
  {
   "cell_type": "code",
   "execution_count": null,
   "metadata": {},
   "outputs": [],
   "source": [
    "df = df.drop(['ns2:Name', 'ns3:NoGenericPrescriptionReason', 'ns3:NoSwitchReason', 0], axis=1).rename(columns={'code':'code'})"
   ]
  },
  {
   "cell_type": "code",
   "execution_count": null,
   "metadata": {},
   "outputs": [],
   "source": [
    "save_to_csv(file, df, entry)"
   ]
  },
  {
   "cell_type": "markdown",
   "metadata": {},
   "source": [
    "# file3"
   ]
  },
  {
   "cell_type": "code",
   "execution_count": null,
   "metadata": {},
   "outputs": [],
   "source": [
    "d = load_print(file3)"
   ]
  },
  {
   "cell_type": "code",
   "execution_count": null,
   "metadata": {},
   "outputs": [],
   "source": [
    "root  = \"ns2:ExportCompanies\"\n",
    "entry = \"ns2:Company\"\n",
    "df = pd.DataFrame.from_dict(d[root][entry])"
   ]
  },
  {
   "cell_type": "code",
   "execution_count": null,
   "metadata": {},
   "outputs": [],
   "source": [
    "df = df.join(df['ns2:Data'].apply(pd.Series), how='left')\n",
    "df = df.drop(['ns2:Data'], axis=1)"
   ]
  },
  {
   "cell_type": "code",
   "execution_count": null,
   "metadata": {},
   "outputs": [],
   "source": [
    "save_to_csv(file=file3, df=df, entry=entry)"
   ]
  },
  {
   "cell_type": "code",
   "execution_count": null,
   "metadata": {},
   "outputs": [],
   "source": [
    "df.sample(5)"
   ]
  },
  {
   "cell_type": "markdown",
   "metadata": {},
   "source": [
    "# file2"
   ]
  },
  {
   "cell_type": "code",
   "execution_count": null,
   "metadata": {},
   "outputs": [],
   "source": [
    "file = file2"
   ]
  },
  {
   "cell_type": "code",
   "execution_count": null,
   "metadata": {},
   "outputs": [],
   "source": [
    "d = load_print(file)"
   ]
  },
  {
   "cell_type": "code",
   "execution_count": null,
   "metadata": {},
   "outputs": [],
   "source": [
    "root  = \"ns2:ExportCompounding\"\n",
    "entry = \"ns2:CompoundingIngredient\""
   ]
  },
  {
   "cell_type": "code",
   "execution_count": null,
   "metadata": {},
   "outputs": [],
   "source": [
    "df = pd.DataFrame.from_dict(d[root][entry])"
   ]
  },
  {
   "cell_type": "code",
   "execution_count": null,
   "metadata": {},
   "outputs": [],
   "source": [
    "df.sample(5)"
   ]
  },
  {
   "cell_type": "code",
   "execution_count": null,
   "metadata": {},
   "outputs": [],
   "source": [
    "df = df.join(df['ns2:Data'].apply(pd.Series), how='left')"
   ]
  },
  {
   "cell_type": "code",
   "execution_count": null,
   "metadata": {},
   "outputs": [],
   "source": [
    "df = df.drop(['ns2:Data'], axis=1).rename(columns={'@code':'code', '@codeType':'codeType', '@from':'from'})"
   ]
  },
  {
   "cell_type": "code",
   "execution_count": null,
   "metadata": {},
   "outputs": [],
   "source": [
    "df = df.join(df['Synonym'].apply(pd.Series), how='left')"
   ]
  },
  {
   "cell_type": "code",
   "execution_count": null,
   "metadata": {},
   "outputs": [],
   "source": [
    "df = df.drop(['Synonym', 1, 2, 3, 4, 5, 6, 7, 8, 9, 10, 11, 12, 13], axis=1).rename(columns={0:'Synonym_Fr'})"
   ]
  },
  {
   "cell_type": "code",
   "execution_count": null,
   "metadata": {},
   "outputs": [],
   "source": [
    "df = df.join(df['Synonym_Fr'].apply(pd.Series), how='left')"
   ]
  },
  {
   "cell_type": "code",
   "execution_count": null,
   "metadata": {},
   "outputs": [],
   "source": [
    "df = df.drop(['Synonym_Fr', \"@xml:lang\", \"@rank\"], axis=1).rename(columns={'#text':'Synonym_Fr'})"
   ]
  },
  {
   "cell_type": "code",
   "execution_count": null,
   "metadata": {},
   "outputs": [],
   "source": [
    "save_to_csv(file, df, entry)"
   ]
  },
  {
   "cell_type": "code",
   "execution_count": null,
   "metadata": {},
   "outputs": [],
   "source": []
  },
  {
   "cell_type": "markdown",
   "metadata": {},
   "source": [
    "# file6"
   ]
  },
  {
   "cell_type": "code",
   "execution_count": null,
   "metadata": {},
   "outputs": [],
   "source": [
    "file = file6"
   ]
  },
  {
   "cell_type": "code",
   "execution_count": null,
   "metadata": {},
   "outputs": [],
   "source": [
    "d = load_print(file)"
   ]
  },
  {
   "cell_type": "code",
   "execution_count": null,
   "metadata": {},
   "outputs": [],
   "source": [
    "root  = \"ns4:ExportReimbursements\"\n",
    "entry = \"ns4:ReimbursementContext\""
   ]
  },
  {
   "cell_type": "code",
   "execution_count": null,
   "metadata": {},
   "outputs": [],
   "source": [
    "df = pd.DataFrame.from_dict(d[root][entry])"
   ]
  },
  {
   "cell_type": "code",
   "execution_count": null,
   "metadata": {},
   "outputs": [],
   "source": [
    "df.head(5).T"
   ]
  },
  {
   "cell_type": "code",
   "execution_count": null,
   "metadata": {},
   "outputs": [],
   "source": [
    "df = df.join(df['ns4:Data'].apply(pd.Series), how='left')"
   ]
  },
  {
   "cell_type": "code",
   "execution_count": null,
   "metadata": {},
   "outputs": [],
   "source": [
    "df = df.drop(['ns4:Data', 0,1,2,3,4,5, 'ns4:Copayment'], axis=1).rename(columns={'@deliveryEnvironment':'deliveryEnvironment',\n",
    "                                                   '@code':'deliveryEnvironment_code',\n",
    "                                                   '@codeType':'deliveryEnvironment_codeType',\n",
    "                                                   '@legalReferencePath':'legalReferencePath',\n",
    "                                                   '@from':'from',\n",
    "                                                   '@to':'to'})"
   ]
  },
  {
   "cell_type": "code",
   "execution_count": null,
   "metadata": {},
   "outputs": [],
   "source": [
    "df = df.join(df['PricingUnit'].apply(pd.Series), how='left')"
   ]
  },
  {
   "cell_type": "code",
   "execution_count": null,
   "metadata": {},
   "outputs": [],
   "source": [
    "df = df.drop(['PricingUnit', 0], axis=1).rename(columns={'Quantity':'PricingUnit_Quantity',\n",
    "                                                         'Multiple':'PricingUnit_Multiple'})"
   ]
  },
  {
   "cell_type": "code",
   "execution_count": null,
   "metadata": {},
   "outputs": [],
   "source": [
    "df = df.join(df['Label'].apply(pd.Series), how='left')"
   ]
  },
  {
   "cell_type": "code",
   "execution_count": null,
   "metadata": {},
   "outputs": [],
   "source": [
    "df = df.drop(['Label', 0], axis=1).rename(columns={'ns2:Fr':'PricingUnit_Label_Fr',\n",
    "                                                   'ns2:Nl':'PricingUnit_Label_Nl'})"
   ]
  },
  {
   "cell_type": "code",
   "execution_count": null,
   "metadata": {},
   "outputs": [],
   "source": [
    "df = df.join(df['ns4:ReimbursementCriterion'].apply(pd.Series), how='left')"
   ]
  },
  {
   "cell_type": "code",
   "execution_count": null,
   "metadata": {},
   "outputs": [],
   "source": [
    "df = df.drop(['ns4:ReimbursementCriterion',\n",
    "              'CopaymentSupplement',\n",
    "              'PricingSlice',\n",
    "              'PricingUnit_Multiple', 0], axis=1).rename(columns={'@category':'ReimbursementCriterion_category',\n",
    "                                                                        '@code':'ReimbursementCriterion_code'})"
   ]
  },
  {
   "cell_type": "code",
   "execution_count": null,
   "metadata": {},
   "outputs": [],
   "source": [
    "df = df.join(df['ns3:Description'].apply(pd.Series), how='left')"
   ]
  },
  {
   "cell_type": "code",
   "execution_count": null,
   "metadata": {},
   "outputs": [],
   "source": [
    "df = df.drop(['ns3:Description', 0], axis=1).rename(columns={'ns2:Fr':'ReimbursementCriterion_Description_Fr',\n",
    "                                                             'ns2:Nl':'ReimbursementCriterion_Description_Nl'})"
   ]
  },
  {
   "cell_type": "code",
   "execution_count": null,
   "metadata": {},
   "outputs": [],
   "source": [
    "save_to_csv(file, df, entry)"
   ]
  },
  {
   "cell_type": "code",
   "execution_count": null,
   "metadata": {},
   "outputs": [],
   "source": []
  },
  {
   "cell_type": "markdown",
   "metadata": {},
   "source": [
    "# file1"
   ]
  },
  {
   "cell_type": "code",
   "execution_count": 5,
   "metadata": {},
   "outputs": [],
   "source": [
    "file = file1"
   ]
  },
  {
   "cell_type": "code",
   "execution_count": 6,
   "metadata": {},
   "outputs": [
    {
     "name": "stdout",
     "output_type": "stream",
     "text": [
      "{\n",
      "  \"ns4:ExportActualMedicines\": {\n",
      "    \"@xmlns\": \"urn:be:fgov:ehealth:samws:v2:actual:common\",\n",
      "    \"@xmlns:ns2\": \"urn:be:fgov:ehealth:samws:v2:core\",\n",
      "    \"@xmlns:ns3\": \"urn:be:fgov:ehealth:samws:v2:company:submit\",\n",
      "    \"@xmlns:ns4\": \"urn:be:fgov:ehealth:samws:v2:export\",\n",
      "    \"@xmlns:ns5\": \"urn:be:fgov:ehealth:samws:v2:refdata\",\n",
      "    \"@xmlns:ns6\": \"urn:be:fgov:ehealth:samws:v2:consultation\",\n",
      "    \"@xmlns:ns7\": \"urn:be:fgov:ehealth:samws:v2:reimbursement:submit\",\n",
      "    \"@xmlns:ns8\": \"urn:be:fgov:ehealth:samws:v2:reimbursementlaw:submit\",\n",
      "    \"@xmlns:ns9\": \"urn:be:fgov:ehealth:samws:v2:virtual:common\",\n",
      "    \"@xmlns:ns10\": \"urn:be:fgov:ehealth:samws:v2:compounding:common\",\n",
      "    \"@xmlns:ns11\": \"urn:be:fgov:ehealth:samws:v2:nonmedicinal:common\",\n",
      "    \"@xmlns:ns12\": \"urn:be:fgov:ehealth:samws:v2:actual:status\",\n",
      "    \"@version\": \"3.4\",\n",
      "    \"ns4:Amp\": [\n",
      "      {\n",
      "        \"@vmpCode\": \"16469\",\n",
      "        \"@code\": \"SAM000025-00\",\n",
      "        \"ns4:Data\": [\n",
      "          {\n",
      "            \"@from\": \"1961-07-01\",\n",
      "            \"@to\": \"2016-09-30\",\n",
      "            \"OfficialName\": \"Haldol 5 mg/ml\",\n",
      "            \"Status\": \"AUTHORIZED\",\n",
      "            \"Name\": {\n",
      "              \"ns2:Fr\": \"Haldol 5 mg/ml\",\n",
      "              \"ns2:Nl\": \"Haldol 5 mg/ml\",\n",
      "              \"ns2:De\": \"Haldol 5 mg/ml\",\n",
      "              \"ns2:En\": \"Haldol 5 mg/ml\"\n",
      "            },\n",
      "            \"BlackTriangle\": \"false\",\n",
      "            \"MedicineType\": \"ALLOPATHIC\",\n",
      "            \"ns4:Company\": {\n",
      "              \"@actorNr\": \"01028\",\n",
      "              \"ns4:Data\": {\n",
      "                \"@from\": \"1960-01-01\",\n",
      "                \"ns3:AuthorisationNr\": \"1028H\",\n",
      "                \"ns3:Denomination\": \"Janssen-Cilag\",\n",
      "                \"ns3:LegalForm\": \"NV\",\n",
      "                \"ns3:StreetName\": \"Antwerpseweg\",\n",
      "                \"ns3:StreetNum\": \"15-17\",\n",
      "                \"ns3:Postcode\": \"2340\",\n",
      "                \"ns3:City\": \"Beerse\",\n",
      "                \"ns3:CountryCode\": \"BE\",\n",
      "                \"ns3:Phone\": \"03/2805411\",\n",
      "                \"ns3:Language\": \"NL\"\n",
      "              }\n",
      "            }\n",
      "          },\n",
      "          {\n",
      "            \"@from\": \"2017-09-19\",\n",
      "            \"OfficialName\": \"Haldol 5 mg/ml\",\n",
      "            \"Status\": \"AUTHORIZED\",\n",
      "            \"Name\": {\n",
      "              \"ns2:Fr\": \"Haldol 5 mg/ml\",\n",
      "              \"ns2:Nl\": \"Haldol 5 mg/ml\",\n",
      "              \"ns2:De\": \"Haldol 5 mg/ml\",\n",
      "              \"ns2:En\": \"Haldol 5 mg/ml\"\n",
      "            },\n",
      "            \"BlackTriangle\": \"false\",\n",
      "            \"MedicineType\": \"ALLOPATHIC\",\n",
      "            \"ns4:Company\": {\n",
      "              \"@actorNr\": \"01028\",\n",
      "              \"ns4:Data\": {\n",
      "                \"@from\": \"1960-01-01\",\n",
      "                \"ns3:AuthorisationNr\": \"1028H\",\n",
      "                \"ns3:Denomination\": \"Janssen-Cilag\",\n",
      "                \"ns3:LegalForm\": \"NV\",\n",
      "                \"ns3:StreetName\": \"Antwerpseweg\",\n",
      "                \"ns3:StreetNum\": \"15-17\",\n",
      "                \"ns3:Postcode\": \"2340\",\n",
      "                \"ns3:City\": \"Beerse\",\n",
      "                \"ns3:CountryCode\": \"BE\",\n",
      "                \"ns3:Phone\": \"03/2805411\",\n",
      "                \"ns3:Language\": \"NL\"\n",
      "              }\n",
      "            },\n",
      "            \"AbbreviatedName\": {\n",
      "              \"ns2:Fr\": \"Haldol sol. inj. i.m. [amp.] 5 mg / 1 ml\",\n",
      "              \"ns2:Nl\": \"Haldol inj. oploss. i.m. [amp.] 5 mg / 1 ml\"\n",
      "            },\n",
      "            \"ProprietarySuffix\": {\n",
      "              \"ns2:Fr\": \"-\",\n",
      "              \"ns2:Nl\": \"-\"\n",
      "            },\n",
      "            \"PrescriptionName\": {\n",
      "              \"ns2:Fr\": \"Haldol sol. inj. i.m. [amp.] 5 mg / 1 ml\",\n",
      "              \"ns2:Nl\": \"Haldol inj. oploss. i.m. [amp.] 5 mg / 1 ml\"\n",
      "            }\n",
      "          },\n",
      "          {\n",
      "            \"@from\": \"2016-10-01\",\n",
      "            \"@to\": \"2017-09-18\",\n",
      "            \"OfficialName\": \"Haldol 5 mg/ml\",\n",
      "            \"Status\": \"AUTHORIZED\",\n",
      "            \"Name\": {\n",
      "              \"ns2:Fr\": \"Haldol 5 mg/ml\",\n",
      "              \"ns2:Nl\": \"Haldol 5 mg/ml\",\n",
      "              \"ns2:De\": \"Haldol 5 mg/ml\",\n",
      "              \"ns2:En\": \"Haldol 5 mg/ml\"\n",
      "            },\n",
      "            \"BlackTriangle\": \"false\",\n",
      "            \"MedicineType\": \"ALLOPATHIC\",\n",
      "            \"ns4:Company\": {\n",
      "              \"@actorNr\": \"01028\",\n",
      "              \"ns4:Data\": {\n",
      "                \"@from\": \"1960-01-01\",\n",
      "                \"ns3:AuthorisationNr\": \"1028H\",\n",
      "                \"ns3:Denomination\": \"Janssen-Cilag\",\n",
      "                \"ns3:LegalForm\": \"NV\",\n",
      "                \"ns3:StreetName\": \"Antwerpseweg\",\n",
      "                \"ns3:StreetNum\": \"15-17\",\n",
      "                \"ns3:Postcode\": \"2340\",\n",
      "                \"ns3:City\": \"Beerse\",\n",
      "                \"ns3:CountryCode\": \"BE\",\n",
      "                \"ns3:Phone\": \"03/2805411\",\n",
      "                \"ns3:Language\": \"NL\"\n",
      "              }\n",
      "            },\n",
      "            \"AbbreviatedName\": {\n",
      "              \"ns2:Fr\": \"Haldol sol. inj. i.m./i.v. [amp.] 5 mg / 1 ml\",\n",
      "              \"ns2:Nl\": \"Haldol inj. oploss. i.m./i.v. [amp.] 5 mg / 1 ml\"\n",
      "            },\n",
      "            \"ProprietarySuffix\": {\n",
      "              \"ns2:Fr\": \"-\",\n",
      "              \"ns2:Nl\": \"-\"\n",
      "            },\n",
      "            \"PrescriptionName\": {\n",
      "              \"ns2:Fr\": \"Haldol sol. inj. i.m./i.v. [amp.] 5 mg / 1 ml\",\n",
      "              \"ns2:Nl\": \"Haldol inj. oploss. i.m./i.v. [amp.]\n"
     ]
    }
   ],
   "source": [
    "%%time\n",
    "d = load_print(file)"
   ]
  },
  {
   "cell_type": "code",
   "execution_count": 7,
   "metadata": {},
   "outputs": [],
   "source": [
    "root  = \"ns4:ExportActualMedicines\"\n",
    "entry = \"ns4:Amp\""
   ]
  },
  {
   "cell_type": "code",
   "execution_count": 8,
   "metadata": {},
   "outputs": [
    {
     "name": "stdout",
     "output_type": "stream",
     "text": [
      "CPU times: user 1.11 s, sys: 108 ms, total: 1.22 s\n",
      "Wall time: 15.5 s\n"
     ]
    }
   ],
   "source": [
    "%%time\n",
    "df = pd.DataFrame.from_dict(d[root][entry])"
   ]
  },
  {
   "cell_type": "code",
   "execution_count": 9,
   "metadata": {},
   "outputs": [],
   "source": [
    "d = 0"
   ]
  },
  {
   "cell_type": "code",
   "execution_count": 15,
   "metadata": {},
   "outputs": [
    {
     "data": {
      "text/html": [
       "<div>\n",
       "<style scoped>\n",
       "    .dataframe tbody tr th:only-of-type {\n",
       "        vertical-align: middle;\n",
       "    }\n",
       "\n",
       "    .dataframe tbody tr th {\n",
       "        vertical-align: top;\n",
       "    }\n",
       "\n",
       "    .dataframe thead th {\n",
       "        text-align: right;\n",
       "    }\n",
       "</style>\n",
       "<table border=\"1\" class=\"dataframe\">\n",
       "  <thead>\n",
       "    <tr style=\"text-align: right;\">\n",
       "      <th></th>\n",
       "      <th>0</th>\n",
       "      <th>1</th>\n",
       "      <th>2</th>\n",
       "      <th>3</th>\n",
       "      <th>4</th>\n",
       "    </tr>\n",
       "  </thead>\n",
       "  <tbody>\n",
       "    <tr>\n",
       "      <th>vmpCode</th>\n",
       "      <td>16469</td>\n",
       "      <td>16436</td>\n",
       "      <td>16790</td>\n",
       "      <td>23044</td>\n",
       "      <td>14696</td>\n",
       "    </tr>\n",
       "    <tr>\n",
       "      <th>code</th>\n",
       "      <td>SAM000025-00</td>\n",
       "      <td>SAM000113-00</td>\n",
       "      <td>SAM000691-00</td>\n",
       "      <td>SAM000987-00</td>\n",
       "      <td>SAM000996-00</td>\n",
       "    </tr>\n",
       "    <tr>\n",
       "      <th>ns4:Data</th>\n",
       "      <td>[{'@from': '1961-07-01', '@to': '2016-09-30', ...</td>\n",
       "      <td>[{'@from': '1961-07-01', '@to': '2016-09-30', ...</td>\n",
       "      <td>[{'@from': '1972-06-01', '@to': '2016-09-30', ...</td>\n",
       "      <td>[{'@from': '1971-03-01', '@to': '2016-09-30', ...</td>\n",
       "      <td>[{'@from': '1970-06-01', '@to': '2016-09-30', ...</td>\n",
       "    </tr>\n",
       "    <tr>\n",
       "      <th>ns4:AmpComponent</th>\n",
       "      <td>{'@vmpComponentCode': '16469', '@sequenceNr': ...</td>\n",
       "      <td>{'@vmpComponentCode': '16436', '@sequenceNr': ...</td>\n",
       "      <td>{'@vmpComponentCode': '16790', '@sequenceNr': ...</td>\n",
       "      <td>{'@vmpComponentCode': '23044', '@sequenceNr': ...</td>\n",
       "      <td>{'@vmpComponentCode': '14696', '@sequenceNr': ...</td>\n",
       "    </tr>\n",
       "    <tr>\n",
       "      <th>ns4:Ampp</th>\n",
       "      <td>[{'@ctiExtended': '000025-01', 'ns4:Data': {'@...</td>\n",
       "      <td>[{'@ctiExtended': '000113-01', 'ns4:Data': {'@...</td>\n",
       "      <td>[{'@ctiExtended': '000691-01', 'ns4:Data': [Or...</td>\n",
       "      <td>{'@ctiExtended': '000987-01', 'ns4:Data': [{'@...</td>\n",
       "      <td>[{'@ctiExtended': '000996-01', 'ns4:Data': [Or...</td>\n",
       "    </tr>\n",
       "    <tr>\n",
       "      <th>0</th>\n",
       "      <td>{'@from': '1961-07-01', '@to': '2016-09-30', '...</td>\n",
       "      <td>{'@from': '1961-07-01', '@to': '2016-09-30', '...</td>\n",
       "      <td>{'@from': '1972-06-01', '@to': '2016-09-30', '...</td>\n",
       "      <td>{'@from': '1971-03-01', '@to': '2016-09-30', '...</td>\n",
       "      <td>{'@from': '1970-06-01', '@to': '2016-09-30', '...</td>\n",
       "    </tr>\n",
       "    <tr>\n",
       "      <th>1</th>\n",
       "      <td>{'@from': '2017-09-19', 'OfficialName': 'Haldo...</td>\n",
       "      <td>{'@from': '2016-10-01', 'OfficialName': 'Haldo...</td>\n",
       "      <td>{'@from': '2016-10-01', 'OfficialName': 'Dakta...</td>\n",
       "      <td>{'@from': '2016-10-01', 'OfficialName': 'Gyno-...</td>\n",
       "      <td>{'@from': '2016-10-01', 'OfficialName': 'Imap ...</td>\n",
       "    </tr>\n",
       "    <tr>\n",
       "      <th>2</th>\n",
       "      <td>{'@from': '2016-10-01', '@to': '2017-09-18', '...</td>\n",
       "      <td>NaN</td>\n",
       "      <td>NaN</td>\n",
       "      <td>NaN</td>\n",
       "      <td>NaN</td>\n",
       "    </tr>\n",
       "    <tr>\n",
       "      <th>@from</th>\n",
       "      <td>NaN</td>\n",
       "      <td>NaN</td>\n",
       "      <td>NaN</td>\n",
       "      <td>NaN</td>\n",
       "      <td>NaN</td>\n",
       "    </tr>\n",
       "    <tr>\n",
       "      <th>OfficialName</th>\n",
       "      <td>NaN</td>\n",
       "      <td>NaN</td>\n",
       "      <td>NaN</td>\n",
       "      <td>NaN</td>\n",
       "      <td>NaN</td>\n",
       "    </tr>\n",
       "    <tr>\n",
       "      <th>Status</th>\n",
       "      <td>NaN</td>\n",
       "      <td>NaN</td>\n",
       "      <td>NaN</td>\n",
       "      <td>NaN</td>\n",
       "      <td>NaN</td>\n",
       "    </tr>\n",
       "    <tr>\n",
       "      <th>Name</th>\n",
       "      <td>NaN</td>\n",
       "      <td>NaN</td>\n",
       "      <td>NaN</td>\n",
       "      <td>NaN</td>\n",
       "      <td>NaN</td>\n",
       "    </tr>\n",
       "    <tr>\n",
       "      <th>BlackTriangle</th>\n",
       "      <td>NaN</td>\n",
       "      <td>NaN</td>\n",
       "      <td>NaN</td>\n",
       "      <td>NaN</td>\n",
       "      <td>NaN</td>\n",
       "    </tr>\n",
       "    <tr>\n",
       "      <th>MedicineType</th>\n",
       "      <td>NaN</td>\n",
       "      <td>NaN</td>\n",
       "      <td>NaN</td>\n",
       "      <td>NaN</td>\n",
       "      <td>NaN</td>\n",
       "    </tr>\n",
       "    <tr>\n",
       "      <th>ns4:Company</th>\n",
       "      <td>NaN</td>\n",
       "      <td>NaN</td>\n",
       "      <td>NaN</td>\n",
       "      <td>NaN</td>\n",
       "      <td>NaN</td>\n",
       "    </tr>\n",
       "    <tr>\n",
       "      <th>3</th>\n",
       "      <td>NaN</td>\n",
       "      <td>NaN</td>\n",
       "      <td>NaN</td>\n",
       "      <td>NaN</td>\n",
       "      <td>NaN</td>\n",
       "    </tr>\n",
       "    <tr>\n",
       "      <th>4</th>\n",
       "      <td>NaN</td>\n",
       "      <td>NaN</td>\n",
       "      <td>NaN</td>\n",
       "      <td>NaN</td>\n",
       "      <td>NaN</td>\n",
       "    </tr>\n",
       "    <tr>\n",
       "      <th>5</th>\n",
       "      <td>NaN</td>\n",
       "      <td>NaN</td>\n",
       "      <td>NaN</td>\n",
       "      <td>NaN</td>\n",
       "      <td>NaN</td>\n",
       "    </tr>\n",
       "  </tbody>\n",
       "</table>\n",
       "</div>"
      ],
      "text/plain": [
       "                                                                  0  \\\n",
       "vmpCode                                                       16469   \n",
       "code                                                   SAM000025-00   \n",
       "ns4:Data          [{'@from': '1961-07-01', '@to': '2016-09-30', ...   \n",
       "ns4:AmpComponent  {'@vmpComponentCode': '16469', '@sequenceNr': ...   \n",
       "ns4:Ampp          [{'@ctiExtended': '000025-01', 'ns4:Data': {'@...   \n",
       "0                 {'@from': '1961-07-01', '@to': '2016-09-30', '...   \n",
       "1                 {'@from': '2017-09-19', 'OfficialName': 'Haldo...   \n",
       "2                 {'@from': '2016-10-01', '@to': '2017-09-18', '...   \n",
       "@from                                                           NaN   \n",
       "OfficialName                                                    NaN   \n",
       "Status                                                          NaN   \n",
       "Name                                                            NaN   \n",
       "BlackTriangle                                                   NaN   \n",
       "MedicineType                                                    NaN   \n",
       "ns4:Company                                                     NaN   \n",
       "3                                                               NaN   \n",
       "4                                                               NaN   \n",
       "5                                                               NaN   \n",
       "\n",
       "                                                                  1  \\\n",
       "vmpCode                                                       16436   \n",
       "code                                                   SAM000113-00   \n",
       "ns4:Data          [{'@from': '1961-07-01', '@to': '2016-09-30', ...   \n",
       "ns4:AmpComponent  {'@vmpComponentCode': '16436', '@sequenceNr': ...   \n",
       "ns4:Ampp          [{'@ctiExtended': '000113-01', 'ns4:Data': {'@...   \n",
       "0                 {'@from': '1961-07-01', '@to': '2016-09-30', '...   \n",
       "1                 {'@from': '2016-10-01', 'OfficialName': 'Haldo...   \n",
       "2                                                               NaN   \n",
       "@from                                                           NaN   \n",
       "OfficialName                                                    NaN   \n",
       "Status                                                          NaN   \n",
       "Name                                                            NaN   \n",
       "BlackTriangle                                                   NaN   \n",
       "MedicineType                                                    NaN   \n",
       "ns4:Company                                                     NaN   \n",
       "3                                                               NaN   \n",
       "4                                                               NaN   \n",
       "5                                                               NaN   \n",
       "\n",
       "                                                                  2  \\\n",
       "vmpCode                                                       16790   \n",
       "code                                                   SAM000691-00   \n",
       "ns4:Data          [{'@from': '1972-06-01', '@to': '2016-09-30', ...   \n",
       "ns4:AmpComponent  {'@vmpComponentCode': '16790', '@sequenceNr': ...   \n",
       "ns4:Ampp          [{'@ctiExtended': '000691-01', 'ns4:Data': [Or...   \n",
       "0                 {'@from': '1972-06-01', '@to': '2016-09-30', '...   \n",
       "1                 {'@from': '2016-10-01', 'OfficialName': 'Dakta...   \n",
       "2                                                               NaN   \n",
       "@from                                                           NaN   \n",
       "OfficialName                                                    NaN   \n",
       "Status                                                          NaN   \n",
       "Name                                                            NaN   \n",
       "BlackTriangle                                                   NaN   \n",
       "MedicineType                                                    NaN   \n",
       "ns4:Company                                                     NaN   \n",
       "3                                                               NaN   \n",
       "4                                                               NaN   \n",
       "5                                                               NaN   \n",
       "\n",
       "                                                                  3  \\\n",
       "vmpCode                                                       23044   \n",
       "code                                                   SAM000987-00   \n",
       "ns4:Data          [{'@from': '1971-03-01', '@to': '2016-09-30', ...   \n",
       "ns4:AmpComponent  {'@vmpComponentCode': '23044', '@sequenceNr': ...   \n",
       "ns4:Ampp          {'@ctiExtended': '000987-01', 'ns4:Data': [{'@...   \n",
       "0                 {'@from': '1971-03-01', '@to': '2016-09-30', '...   \n",
       "1                 {'@from': '2016-10-01', 'OfficialName': 'Gyno-...   \n",
       "2                                                               NaN   \n",
       "@from                                                           NaN   \n",
       "OfficialName                                                    NaN   \n",
       "Status                                                          NaN   \n",
       "Name                                                            NaN   \n",
       "BlackTriangle                                                   NaN   \n",
       "MedicineType                                                    NaN   \n",
       "ns4:Company                                                     NaN   \n",
       "3                                                               NaN   \n",
       "4                                                               NaN   \n",
       "5                                                               NaN   \n",
       "\n",
       "                                                                  4  \n",
       "vmpCode                                                       14696  \n",
       "code                                                   SAM000996-00  \n",
       "ns4:Data          [{'@from': '1970-06-01', '@to': '2016-09-30', ...  \n",
       "ns4:AmpComponent  {'@vmpComponentCode': '14696', '@sequenceNr': ...  \n",
       "ns4:Ampp          [{'@ctiExtended': '000996-01', 'ns4:Data': [Or...  \n",
       "0                 {'@from': '1970-06-01', '@to': '2016-09-30', '...  \n",
       "1                 {'@from': '2016-10-01', 'OfficialName': 'Imap ...  \n",
       "2                                                               NaN  \n",
       "@from                                                           NaN  \n",
       "OfficialName                                                    NaN  \n",
       "Status                                                          NaN  \n",
       "Name                                                            NaN  \n",
       "BlackTriangle                                                   NaN  \n",
       "MedicineType                                                    NaN  \n",
       "ns4:Company                                                     NaN  \n",
       "3                                                               NaN  \n",
       "4                                                               NaN  \n",
       "5                                                               NaN  "
      ]
     },
     "execution_count": 15,
     "metadata": {},
     "output_type": "execute_result"
    }
   ],
   "source": [
    "df.head(5).T"
   ]
  },
  {
   "cell_type": "code",
   "execution_count": 16,
   "metadata": {},
   "outputs": [
    {
     "data": {
      "text/plain": [
       "(1334, 18)"
      ]
     },
     "execution_count": 16,
     "metadata": {},
     "output_type": "execute_result"
    }
   ],
   "source": [
    "df.shape"
   ]
  },
  {
   "cell_type": "code",
   "execution_count": 12,
   "metadata": {},
   "outputs": [],
   "source": [
    "df = df.head(1334)"
   ]
  },
  {
   "cell_type": "code",
   "execution_count": 13,
   "metadata": {},
   "outputs": [],
   "source": [
    "df = df.rename(columns={'@vmpCode':'vmpCode', '@code':'code'})"
   ]
  },
  {
   "cell_type": "code",
   "execution_count": 14,
   "metadata": {},
   "outputs": [
    {
     "name": "stderr",
     "output_type": "stream",
     "text": [
      "/home/ubuntu/venv/lib/python3.5/site-packages/pandas/core/indexes/range.py:465: RuntimeWarning: unorderable types: int() < str(), sort order is undefined for incomparable objects\n",
      "  return self._int64index.union(other)\n",
      "/home/ubuntu/venv/lib/python3.5/site-packages/pandas/core/indexes/api.py:107: RuntimeWarning: unorderable types: str() < int(), sort order is undefined for incomparable objects\n",
      "  result = result.union(other)\n",
      "/home/ubuntu/venv/lib/python3.5/site-packages/pandas/core/indexes/api.py:69: RuntimeWarning: unorderable types: str() < int(), sort order is undefined for incomparable objects\n",
      "  index = _union_indexes(indexes, sort=sort)\n"
     ]
    }
   ],
   "source": [
    "df = df.join(df['ns4:Data'].apply(pd.Series), how='left')"
   ]
  },
  {
   "cell_type": "code",
   "execution_count": null,
   "metadata": {},
   "outputs": [],
   "source": [
    "df = df.drop(['ns4:Data', 0,3,4,5,6,7,8,9,10], axis=1).rename(columns={'@vmpCode':'vmpCode',\n",
    "                                                                       '@code':'code',\n",
    "                                                                       '@from':'from',\n",
    "                                                                       1:'@1', 2:'@2'})"
   ]
  },
  {
   "cell_type": "code",
   "execution_count": null,
   "metadata": {},
   "outputs": [],
   "source": [
    "df = df.join(df['ns4:Company'].apply(pd.Series), how='left')"
   ]
  },
  {
   "cell_type": "code",
   "execution_count": null,
   "metadata": {},
   "outputs": [],
   "source": [
    "df = df.drop(['ns4:Company', 0], axis=1).rename(columns={'@actorNr':'actorNr'})"
   ]
  },
  {
   "cell_type": "code",
   "execution_count": null,
   "metadata": {},
   "outputs": [],
   "source": [
    "df = df.join(df['ns4:Data'].apply(pd.Series), how='left')"
   ]
  },
  {
   "cell_type": "code",
   "execution_count": null,
   "metadata": {},
   "outputs": [],
   "source": [
    "df = df.drop(['ns4:Data', 0], axis=1).rename(columns={'@from':'from'})"
   ]
  },
  {
   "cell_type": "code",
   "execution_count": null,
   "metadata": {},
   "outputs": [],
   "source": []
  },
  {
   "cell_type": "code",
   "execution_count": null,
   "metadata": {},
   "outputs": [],
   "source": []
  },
  {
   "cell_type": "code",
   "execution_count": null,
   "metadata": {},
   "outputs": [],
   "source": []
  },
  {
   "cell_type": "code",
   "execution_count": null,
   "metadata": {},
   "outputs": [],
   "source": [
    "df = df.join(df['ns4:AmpComponent'].apply(pd.Series), how='left', lsuffix=\"hola__\")"
   ]
  },
  {
   "cell_type": "code",
   "execution_count": null,
   "metadata": {},
   "outputs": [],
   "source": [
    "df = df.drop(['ns4:AmpComponent', 0], axis=1).rename(columns={'Quantity':'PricingUnit_Quantity',\n",
    "                                                         'Multiple':'PricingUnit_Multiple'})"
   ]
  },
  {
   "cell_type": "code",
   "execution_count": null,
   "metadata": {},
   "outputs": [],
   "source": []
  },
  {
   "cell_type": "code",
   "execution_count": null,
   "metadata": {},
   "outputs": [],
   "source": []
  },
  {
   "cell_type": "code",
   "execution_count": null,
   "metadata": {},
   "outputs": [],
   "source": []
  },
  {
   "cell_type": "code",
   "execution_count": null,
   "metadata": {},
   "outputs": [],
   "source": [
    "df = df.join(df['ns4:Ampp'].apply(pd.Series), how='left')"
   ]
  },
  {
   "cell_type": "code",
   "execution_count": null,
   "metadata": {},
   "outputs": [],
   "source": [
    "df = df.drop(['ns4:Ampp', 0], axis=1).rename(columns={'Quantity':'PricingUnit_Quantity',\n",
    "                                                         'Multiple':'PricingUnit_Multiple'})"
   ]
  },
  {
   "cell_type": "code",
   "execution_count": null,
   "metadata": {},
   "outputs": [],
   "source": []
  },
  {
   "cell_type": "code",
   "execution_count": null,
   "metadata": {},
   "outputs": [],
   "source": []
  },
  {
   "cell_type": "code",
   "execution_count": null,
   "metadata": {},
   "outputs": [],
   "source": []
  },
  {
   "cell_type": "code",
   "execution_count": null,
   "metadata": {},
   "outputs": [],
   "source": []
  },
  {
   "cell_type": "code",
   "execution_count": null,
   "metadata": {},
   "outputs": [],
   "source": []
  },
  {
   "cell_type": "code",
   "execution_count": null,
   "metadata": {},
   "outputs": [],
   "source": []
  },
  {
   "cell_type": "code",
   "execution_count": null,
   "metadata": {},
   "outputs": [],
   "source": []
  },
  {
   "cell_type": "code",
   "execution_count": null,
   "metadata": {},
   "outputs": [],
   "source": []
  },
  {
   "cell_type": "code",
   "execution_count": null,
   "metadata": {},
   "outputs": [],
   "source": []
  },
  {
   "cell_type": "code",
   "execution_count": null,
   "metadata": {},
   "outputs": [],
   "source": []
  }
 ],
 "metadata": {
  "kernelspec": {
   "display_name": "Python 3",
   "language": "python",
   "name": "python3"
  },
  "language_info": {
   "codemirror_mode": {
    "name": "ipython",
    "version": 3
   },
   "file_extension": ".py",
   "mimetype": "text/x-python",
   "name": "python",
   "nbconvert_exporter": "python",
   "pygments_lexer": "ipython3",
   "version": "3.5.2"
  }
 },
 "nbformat": 4,
 "nbformat_minor": 2
}
