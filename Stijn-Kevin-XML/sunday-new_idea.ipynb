{
 "cells": [
  {
   "cell_type": "code",
   "execution_count": null,
   "metadata": {},
   "outputs": [],
   "source": [
    "import xml.etree.cElementTree as ET\n",
    "import pandas as pd\n",
    "import numpy as np\n",
    "import pdb\n",
    "import re"
   ]
  },
  {
   "cell_type": "code",
   "execution_count": null,
   "metadata": {},
   "outputs": [],
   "source": [
    "tree = ET.ElementTree(file='CPN-1551441614834.xml')"
   ]
  },
  {
   "cell_type": "code",
   "execution_count": null,
   "metadata": {},
   "outputs": [],
   "source": [
    "root = tree.getroot()"
   ]
  },
  {
   "cell_type": "code",
   "execution_count": null,
   "metadata": {},
   "outputs": [],
   "source": [
    "print(root)"
   ]
  },
  {
   "cell_type": "code",
   "execution_count": null,
   "metadata": {},
   "outputs": [],
   "source": [
    "len(root)"
   ]
  },
  {
   "cell_type": "code",
   "execution_count": null,
   "metadata": {},
   "outputs": [],
   "source": [
    "# child element\n",
    "for child in root:\n",
    "    # define the attribute name\n",
    "    print(child.get('actorNr'))"
   ]
  },
  {
   "cell_type": "code",
   "execution_count": null,
   "metadata": {},
   "outputs": [],
   "source": [
    "# child element\n",
    "for child in root:\n",
    "    #check for selecting the correct tag:\n",
    "    #print(child.tag)\n",
    "    if (child.tag == '{urn:be:fgov:ehealth:samws:v2:export}Company'):\n",
    "        # define the attribute name\n",
    "        print(child.get('actorNr'))"
   ]
  },
  {
   "cell_type": "code",
   "execution_count": null,
   "metadata": {},
   "outputs": [],
   "source": [
    "# child element\n",
    "for child in root:\n",
    "    #check for selecting the correct tag:\n",
    "    #print(child.tag)\n",
    "    if (child.tag == '{urn:be:fgov:ehealth:samws:v2:export}Company'):\n",
    "        # define the attribute name\n",
    "        print(child.get('actorNr'))\n",
    "    for sec_child in child:\n",
    "        #print(sec_child)\n",
    "        if (sec_child.tag == '{urn:be:fgov:ehealth:samws:v2:export}Data'):\n",
    "            print(sec_child.get('from'))"
   ]
  },
  {
   "cell_type": "code",
   "execution_count": null,
   "metadata": {},
   "outputs": [],
   "source": [
    "# child element\n",
    "for Company in root:\n",
    "    #check for selecting the correct tag:\n",
    "    #print(child.tag)\n",
    "    if (Company.tag == '{urn:be:fgov:ehealth:samws:v2:export}Company'):\n",
    "        # define the attribute name\n",
    "        print(Company.get('actorNr'))\n",
    "    for Data in Company:\n",
    "        #print(sec_child)\n",
    "        if (Data.tag == '{urn:be:fgov:ehealth:samws:v2:export}Data'):\n",
    "            print(Data.get('from'))\n",
    "            \n",
    "            ### now we add the attributes of this level:\n",
    "            for attr in Data:\n",
    "                #print(attr)\n",
    "                if (attr.tag == '{urn:be:fgov:ehealth:samws:v2:company:submit}Denomination'):\n",
    "                    print(attr.text)"
   ]
  },
  {
   "cell_type": "code",
   "execution_count": null,
   "metadata": {},
   "outputs": [],
   "source": [
    "# now let's expand this to have the complete data"
   ]
  },
  {
   "cell_type": "code",
   "execution_count": null,
   "metadata": {},
   "outputs": [],
   "source": [
    "# child element\n",
    "for Company in root:\n",
    "    #check for selecting the correct tag:\n",
    "    #print(child.tag)\n",
    "    if (Company.tag == '{urn:be:fgov:ehealth:samws:v2:export}Company'):\n",
    "        # define the attribute name\n",
    "        print(Company.get('actorNr'))\n",
    "    for Data in Company:\n",
    "        #print(sec_child)\n",
    "        if (Data.tag == '{urn:be:fgov:ehealth:samws:v2:export}Data'):\n",
    "            print(Data.get('from'))\n",
    "            \n",
    "            ### now we add the attributes of this level:\n",
    "            for attr in Data:\n",
    "                print(attr)\n",
    "                if (attr.tag == '{urn:be:fgov:ehealth:samws:v2:company:submit}Denomination'):\n",
    "                    print(attr.text)\n",
    "                if (attr.tag == '{urn:be:fgov:ehealth:samws:v2:company:submit}StreetName'):\n",
    "                    print(attr.text)\n",
    "                if (attr.tag == '{urn:be:fgov:ehealth:samws:v2:company:submit}StreetNum'):\n",
    "                    print(attr.text)\n",
    "                if (attr.tag == '{urn:be:fgov:ehealth:samws:v2:company:submit}Postcode'):\n",
    "                    print(attr.text)\n",
    "                if (attr.tag == '{urn:be:fgov:ehealth:samws:v2:company:submit}City'):\n",
    "                    print(attr.text)\n",
    "                if (attr.tag == '{urn:be:fgov:ehealth:samws:v2:company:submit}CountryCode'):\n",
    "                    print(attr.text)\n",
    "                if (attr.tag == '{urn:be:fgov:ehealth:samws:v2:company:submit}Language'):\n",
    "                    print(attr.text)\n",
    "                    print(\"\\n\")"
   ]
  },
  {
   "cell_type": "code",
   "execution_count": null,
   "metadata": {},
   "outputs": [],
   "source": [
    "# now let's save these values to a dataframe\n",
    "dictionary = {}\n",
    "\n",
    "# child element\n",
    "for Company in root:\n",
    "    #check for selecting the correct tag:\n",
    "    #print(child.tag)\n",
    "    if (Company.tag == '{urn:be:fgov:ehealth:samws:v2:export}Company'):\n",
    "        # define the attribute name\n",
    "        print(Company.get('actorNr'))\n",
    "        dictionary.update(actorNr = Company.get('actorNr'))\n",
    "    for Data in Company:\n",
    "        #print(sec_child)\n",
    "        if (Data.tag == '{urn:be:fgov:ehealth:samws:v2:export}Data'):\n",
    "            print(Data.get('from'))\n",
    "            dictionary.update(from_date = Data.get('from'))\n",
    "            \n",
    "            ### now we add the attributes of this level:\n",
    "            for attr in Data:\n",
    "                print(attr)\n",
    "                #pdb.set_trace()\n",
    "                if (attr.tag == '{urn:be:fgov:ehealth:samws:v2:company:submit}Denomination'):\n",
    "                    print(attr.text)\n",
    "                    dictionary.update(Denomination = attr.text)\n",
    "                if (attr.tag == '{urn:be:fgov:ehealth:samws:v2:company:submit}StreetName'):\n",
    "                    print(attr.text)\n",
    "                    dictionary.update(StreetName = attr.text)\n",
    "                if (attr.tag == '{urn:be:fgov:ehealth:samws:v2:company:submit}StreetNum'):\n",
    "                    print(attr.text)\n",
    "                    dictionary.update(StreetNum = attr.text)\n",
    "                if (attr.tag == '{urn:be:fgov:ehealth:samws:v2:company:submit}Postcode'):\n",
    "                    print(attr.text)\n",
    "                    dictionary.update(Postcode = attr.text)\n",
    "                if (attr.tag == '{urn:be:fgov:ehealth:samws:v2:company:submit}City'):\n",
    "                    print(attr.text)\n",
    "                    dictionary.update(City = attr.text)\n",
    "                if (attr.tag == '{urn:be:fgov:ehealth:samws:v2:company:submit}CountryCode'):\n",
    "                    print(attr.text)\n",
    "                    dictionary.update(CountryCode = attr.text)\n",
    "                if (attr.tag == '{urn:be:fgov:ehealth:samws:v2:company:submit}Language'):\n",
    "                    print(attr.text)\n",
    "                    dictionary.update(Language = attr.text)\n",
    "                    \n",
    "                    print(dictionary)\n",
    "                    print(\"\\n\")\n",
    "\n"
   ]
  },
  {
   "cell_type": "code",
   "execution_count": null,
   "metadata": {},
   "outputs": [],
   "source": [
    "dictionary"
   ]
  },
  {
   "cell_type": "code",
   "execution_count": null,
   "metadata": {},
   "outputs": [],
   "source": [
    "# now you can create a dataframe\n",
    "\n",
    "x = pd.Series(dictionary)\n",
    "x"
   ]
  },
  {
   "cell_type": "code",
   "execution_count": null,
   "metadata": {},
   "outputs": [],
   "source": [
    "df = pd.DataFrame()"
   ]
  },
  {
   "cell_type": "code",
   "execution_count": null,
   "metadata": {},
   "outputs": [],
   "source": [
    "df.append(x, ignore_index=True)\n",
    "df"
   ]
  },
  {
   "cell_type": "code",
   "execution_count": null,
   "metadata": {},
   "outputs": [],
   "source": [
    "x = pd.DataFrame(x).T\n",
    "x"
   ]
  },
  {
   "cell_type": "code",
   "execution_count": null,
   "metadata": {},
   "outputs": [],
   "source": [
    "df.append(pd.DataFrame(pd.Series(dictionary)).T, ignore_index=True)"
   ]
  },
  {
   "cell_type": "code",
   "execution_count": null,
   "metadata": {},
   "outputs": [],
   "source": []
  },
  {
   "cell_type": "code",
   "execution_count": null,
   "metadata": {},
   "outputs": [],
   "source": []
  },
  {
   "cell_type": "code",
   "execution_count": null,
   "metadata": {
    "scrolled": true
   },
   "outputs": [],
   "source": [
    "# now let's save these values to a dataframe\n",
    "actorNr = []\n",
    "from_date = []\n",
    "Denomination = []\n",
    "StreetName = []\n",
    "StreetNum = []\n",
    "Postcode = []\n",
    "City = []\n",
    "CountryCode = []\n",
    "Language = []\n",
    "LegalForm = []\n",
    "Building = []\n",
    "\n",
    "\n",
    "# child element\n",
    "for Company in root:\n",
    "    #check for selecting the correct tag:\n",
    "    #print(child.tag)\n",
    "    if (Company.tag == '{urn:be:fgov:ehealth:samws:v2:export}Company'):\n",
    "        # define the attribute name\n",
    "        print(Company.get('actorNr'))\n",
    "        actorNr.append(Company.get('actorNr'))\n",
    "    for Data in Company:\n",
    "        #print(sec_child)\n",
    "        if (Data.tag == '{urn:be:fgov:ehealth:samws:v2:export}Data'):\n",
    "            print(Data.get('from'))\n",
    "            from_date.append(Data.get('from'))\n",
    "            \n",
    "            ### now we add the attributes of this level:\n",
    "            for attr in Data:\n",
    "                print(attr)\n",
    "                #pdb.set_trace()\n",
    "                if (attr.tag == '{urn:be:fgov:ehealth:samws:v2:company:submit}LegalForm'):\n",
    "                    print(attr.text)\n",
    "                    LegalForm.append(attr.text)\n",
    "                else:\n",
    "                    print(np.nan)\n",
    "                    LegalForm.append(np.nan)\n",
    "                    \n",
    "                if (attr.tag == '{urn:be:fgov:ehealth:samws:v2:company:submit}Building'):\n",
    "                    print(attr.text)\n",
    "                    Building.append(attr.text)\n",
    "                else:\n",
    "                    print(np.nan)\n",
    "                    Building.append(np.nan)\n",
    "                    \n",
    "                if (attr.tag == '{urn:be:fgov:ehealth:samws:v2:company:submit}Denomination'):\n",
    "                    print(attr.text)\n",
    "                    Denomination.append(attr.text)\n",
    "                else:\n",
    "                    print(np.nan)\n",
    "                    Denomination.append(np.nan)\n",
    "                    \n",
    "                if (attr.tag == '{urn:be:fgov:ehealth:samws:v2:company:submit}StreetName'):\n",
    "                    print(attr.text)\n",
    "                    StreetName.append(attr.text)\n",
    "                else:\n",
    "                    print(np.nan)\n",
    "                    StreetName.append(np.nan)\n",
    "                    \n",
    "                if (attr.tag == '{urn:be:fgov:ehealth:samws:v2:company:submit}StreetNum'):\n",
    "                    print(attr.text)\n",
    "                    StreetNum.append(attr.text)\n",
    "                else:\n",
    "                    print(np.nan)\n",
    "                    StreetNum.append(np.nan)\n",
    "                    \n",
    "                if (attr.tag == '{urn:be:fgov:ehealth:samws:v2:company:submit}Postcode'):\n",
    "                    print(attr.text)\n",
    "                    Postcode.append(attr.text)\n",
    "                else:\n",
    "                    print(np.nan)\n",
    "                    Postcode.append(np.nan)\n",
    "                    \n",
    "                if (attr.tag == '{urn:be:fgov:ehealth:samws:v2:company:submit}City'):\n",
    "                    print(attr.text)\n",
    "                    City.append(attr.text)\n",
    "                else:\n",
    "                    print(np.nan)\n",
    "                    City.append(np.nan)\n",
    "                    \n",
    "                if (attr.tag == '{urn:be:fgov:ehealth:samws:v2:company:submit}CountryCode'):\n",
    "                    print(attr.text)\n",
    "                    CountryCode.append(attr.text)\n",
    "                else:\n",
    "                    print(np.nan)\n",
    "                    CountryCode.append(np.nan)\n",
    "                    \n",
    "                if (attr.tag == '{urn:be:fgov:ehealth:samws:v2:company:submit}Language'):\n",
    "                    print(attr.text)\n",
    "                    Language.append(attr.text)\n",
    "                else:\n",
    "                    print(np.nan)\n",
    "                    Language.append(np.nan)\n",
    "                    \n",
    "                    #print(dictionary)\n",
    "                    print(\"\\n\")"
   ]
  },
  {
   "cell_type": "code",
   "execution_count": null,
   "metadata": {},
   "outputs": [],
   "source": []
  },
  {
   "cell_type": "code",
   "execution_count": null,
   "metadata": {},
   "outputs": [],
   "source": [
    "len(Language)"
   ]
  },
  {
   "cell_type": "code",
   "execution_count": null,
   "metadata": {},
   "outputs": [],
   "source": [
    "len(Postcode)"
   ]
  },
  {
   "cell_type": "code",
   "execution_count": null,
   "metadata": {},
   "outputs": [],
   "source": [
    "df = pd.DataFrame({\"actorNr\":actorNr,\n",
    "                   \"from_date\":from_date,\n",
    "                   \"Denomination\":Denomination,\n",
    "                   \"StreetName\":StreetName,\n",
    "                   \"StreetNum\":StreetNum,\n",
    "                   \"Postcode\":Postcode,\n",
    "                   \"City\":City,\n",
    "                   \"CountryCode\":CountryCode,\n",
    "                   \"Language\":Language,\n",
    "                   \"LegalForm\":LegalForm})\n",
    "df"
   ]
  },
  {
   "cell_type": "markdown",
   "metadata": {},
   "source": [
    "## different method using regex"
   ]
  },
  {
   "cell_type": "code",
   "execution_count": null,
   "metadata": {},
   "outputs": [],
   "source": [
    "pattern = r\"[A-Z]+\\w+\""
   ]
  },
  {
   "cell_type": "code",
   "execution_count": null,
   "metadata": {},
   "outputs": [],
   "source": [
    "test_str = \"{urn:be:fgov:ehealth:samws:v2:company:submit}LegalForm\""
   ]
  },
  {
   "cell_type": "code",
   "execution_count": null,
   "metadata": {},
   "outputs": [],
   "source": [
    "re.findall(pattern, test_str)[0]"
   ]
  },
  {
   "cell_type": "code",
   "execution_count": null,
   "metadata": {},
   "outputs": [],
   "source": [
    "# now let's save these values to a dataframe\n",
    "# dictionary = {}\n",
    "df = pd.DataFrame()\n",
    "rowindex = 0\n",
    "\n",
    "# actorNr = []\n",
    "# from_date = []\n",
    "# Denomination = []\n",
    "# StreetName = []\n",
    "# StreetNum = []\n",
    "# Postcode = []\n",
    "# City = []\n",
    "# CountryCode = []\n",
    "# Language = []\n",
    "# LegalForm = []\n",
    "# Building = []\n",
    "\n",
    "\n",
    "\n",
    "# child element\n",
    "for Company in root:\n",
    "    #check for selecting the correct tag:\n",
    "    print(Company.tag)\n",
    "    if (Company.tag == '{urn:be:fgov:ehealth:samws:v2:export}Company'):\n",
    "        # define the attribute name\n",
    "        print(Company.get('actorNr'))\n",
    "        #actorNr.append(Company.get('actorNr'))\n",
    "        #dictionary.update(actorNr = Company.get('actorNr'))\n",
    "        # df.loc[rowindex, 'col1'] = value\n",
    "        #df.loc[rowindex, re.findall(pattern, Company.tag)[0]] = Company.get('actorNr')\n",
    "        df.loc[rowindex, \"actorNr\"] = Company.get('actorNr')\n",
    "    for Data in Company:\n",
    "        #print(sec_child)\n",
    "        #pdb.set_trace()\n",
    "        if (Data.tag == '{urn:be:fgov:ehealth:samws:v2:export}Data'):\n",
    "            print(Data.get('from'))\n",
    "            #from_date.append(Data.get('from'))\n",
    "            #dictionary.update(from_date = Data.get('from'))\n",
    "            df.loc[rowindex, \"From_Date\"] = Data.get('from')\n",
    "            \n",
    "            ### now we add the attributes of this level:\n",
    "            for attr in Data:\n",
    "                #print(dictionary.update(from_date = Data.get('from')))\n",
    "                #pdb.set_trace()\n",
    "                #dictionary.update(dictionary.update(from_date = Data.get('from')) = Data.get('from'))\n",
    "                print(\"{} -> {}\".format(re.findall(pattern, attr.tag)[0], attr.text))\n",
    "                df.loc[rowindex, re.findall(pattern, attr.tag)[0]] = attr.text\n",
    "                                   \n",
    "                #print(dictionary)\n",
    "            print(\"\\n\")\n",
    "                    \n",
    "        # below must be in the Data loop\n",
    "        rowindex += 1"
   ]
  },
  {
   "cell_type": "code",
   "execution_count": null,
   "metadata": {},
   "outputs": [],
   "source": [
    "df.shape"
   ]
  },
  {
   "cell_type": "code",
   "execution_count": null,
   "metadata": {},
   "outputs": [],
   "source": [
    "df.sample(10)"
   ]
  },
  {
   "cell_type": "markdown",
   "metadata": {},
   "source": [
    "## the finished script"
   ]
  },
  {
   "cell_type": "code",
   "execution_count": 1,
   "metadata": {},
   "outputs": [
    {
     "name": "stderr",
     "output_type": "stream",
     "text": [
      "/home/ubuntu/venv/lib/python3.5/importlib/_bootstrap.py:222: RuntimeWarning: numpy.dtype size changed, may indicate binary incompatibility. Expected 96, got 88\n",
      "  return f(*args, **kwds)\n",
      "/home/ubuntu/venv/lib/python3.5/importlib/_bootstrap.py:222: RuntimeWarning: numpy.dtype size changed, may indicate binary incompatibility. Expected 96, got 88\n",
      "  return f(*args, **kwds)\n"
     ]
    }
   ],
   "source": [
    "%time\n",
    "import xml.etree.cElementTree as ET\n",
    "import pandas as pd\n",
    "import re\n",
    "import pdb\n",
    "\n",
    "#load data file\n",
    "file = 'CPN-1551441614834.xml'\n",
    "tree = ET.ElementTree(file=file)\n",
    "\n",
    "# initialise\n",
    "pattern = r\"[A-Z]+\\w+\"\n",
    "df = pd.DataFrame()\n",
    "rowindex = 0\n",
    "\n",
    "# child element\n",
    "root = tree.getroot()\n",
    "for Company in root:\n",
    "    #check for selecting the correct tag:\n",
    "    if (Company.tag == '{urn:be:fgov:ehealth:samws:v2:export}Company'):\n",
    "        # define the attribute name\n",
    "        df.loc[rowindex, \"actorNr\"] = Company.get('actorNr')\n",
    "    for Data in Company:\n",
    "        if (Data.tag == '{urn:be:fgov:ehealth:samws:v2:export}Data'):\n",
    "            df.loc[rowindex, \"From_Date\"] = Data.get('from')\n",
    "            # now we add the attributes of this level:\n",
    "            for attr in Data:\n",
    "                df.loc[rowindex, re.findall(pattern, attr.tag)[0]] = attr.text\n",
    "        # below must be in the Data loop\n",
    "        rowindex += 1\n",
    "# save the dataframe to csv\n",
    "df.to_csv(\"output/\"+file[:-3]+\"csv\", index=False)"
   ]
  }
 ],
 "metadata": {
  "kernelspec": {
   "display_name": "Python 3",
   "language": "python",
   "name": "python3"
  },
  "language_info": {
   "codemirror_mode": {
    "name": "ipython",
    "version": 3
   },
   "file_extension": ".py",
   "mimetype": "text/x-python",
   "name": "python",
   "nbconvert_exporter": "python",
   "pygments_lexer": "ipython3",
   "version": "3.5.2"
  }
 },
 "nbformat": 4,
 "nbformat_minor": 2
}
