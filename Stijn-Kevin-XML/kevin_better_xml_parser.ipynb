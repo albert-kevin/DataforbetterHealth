{
 "cells": [
  {
   "cell_type": "code",
   "execution_count": 20,
   "metadata": {},
   "outputs": [],
   "source": [
    "# https://docs.python.org/3.4/library/xml.etree.elementtree.html\n",
    "import xml.etree.cElementTree as ET\n",
    "\n",
    "import pandas as pd\n",
    "import re\n",
    "import pdb"
   ]
  },
  {
   "cell_type": "code",
   "execution_count": 21,
   "metadata": {},
   "outputs": [],
   "source": [
    "#load data file\n",
    "file = 'REF-1551442403585.xml'\n",
    "tree = ET.ElementTree(file=file)\n",
    "df = pd.DataFrame()\n",
    "root = tree.getroot()"
   ]
  },
  {
   "cell_type": "code",
   "execution_count": 22,
   "metadata": {},
   "outputs": [],
   "source": [
    "for atype in root.findall('type'):\n",
    "    print(atype.get('foobar'))"
   ]
  },
  {
   "cell_type": "code",
   "execution_count": 23,
   "metadata": {},
   "outputs": [],
   "source": [
    "import xmltodict"
   ]
  },
  {
   "cell_type": "code",
   "execution_count": 24,
   "metadata": {},
   "outputs": [],
   "source": [
    ">>> doc = xmltodict.parse(\"\"\"\n",
    "... <mydocument has=\"an attribute\">\n",
    "...   <and>\n",
    "...     <many>elements</many>\n",
    "...     <many>more elements</many>\n",
    "...   </and>\n",
    "...   <plus a=\"complex\">\n",
    "...     element as well\n",
    "...   </plus>\n",
    "... </mydocument>\n",
    "... \"\"\")"
   ]
  },
  {
   "cell_type": "code",
   "execution_count": 25,
   "metadata": {},
   "outputs": [
    {
     "data": {
      "text/plain": [
       "'an attribute'"
      ]
     },
     "execution_count": 25,
     "metadata": {},
     "output_type": "execute_result"
    }
   ],
   "source": [
    "doc['mydocument']['@has']"
   ]
  },
  {
   "cell_type": "code",
   "execution_count": 26,
   "metadata": {},
   "outputs": [
    {
     "data": {
      "text/plain": [
       "['elements', 'more elements']"
      ]
     },
     "execution_count": 26,
     "metadata": {},
     "output_type": "execute_result"
    }
   ],
   "source": [
    "doc['mydocument']['and']['many']"
   ]
  },
  {
   "cell_type": "code",
   "execution_count": 28,
   "metadata": {},
   "outputs": [
    {
     "data": {
      "text/plain": [
       "OrderedDict([('mydocument',\n",
       "              OrderedDict([('@has', 'an attribute'),\n",
       "                           ('and',\n",
       "                            OrderedDict([('many',\n",
       "                                          ['elements', 'more elements'])])),\n",
       "                           ('plus',\n",
       "                            OrderedDict([('@a', 'complex'),\n",
       "                                         ('#text', 'element as well')]))]))])"
      ]
     },
     "execution_count": 28,
     "metadata": {},
     "output_type": "execute_result"
    }
   ],
   "source": [
    "doc"
   ]
  },
  {
   "cell_type": "code",
   "execution_count": 29,
   "metadata": {},
   "outputs": [
    {
     "data": {
      "text/plain": [
       "'complex'"
      ]
     },
     "execution_count": 29,
     "metadata": {},
     "output_type": "execute_result"
    }
   ],
   "source": [
    "doc['mydocument']['plus']['@a']"
   ]
  },
  {
   "cell_type": "code",
   "execution_count": 30,
   "metadata": {},
   "outputs": [
    {
     "data": {
      "text/plain": [
       "'element as well'"
      ]
     },
     "execution_count": 30,
     "metadata": {},
     "output_type": "execute_result"
    }
   ],
   "source": [
    "doc['mydocument']['plus']['#text']"
   ]
  },
  {
   "cell_type": "code",
   "execution_count": null,
   "metadata": {},
   "outputs": [],
   "source": []
  },
  {
   "cell_type": "markdown",
   "metadata": {},
   "source": [
    "## lets try using the xml file"
   ]
  },
  {
   "cell_type": "code",
   "execution_count": 42,
   "metadata": {},
   "outputs": [],
   "source": [
    "#doc = xmltodict.parse('resident_data.xml')\n",
    "with open('resident_data.xml') as fd:\n",
    "    doc = xmltodict.parse(fd.read())"
   ]
  },
  {
   "cell_type": "code",
   "execution_count": 43,
   "metadata": {},
   "outputs": [
    {
     "data": {
      "text/plain": [
       "OrderedDict([('State',\n",
       "              OrderedDict([('Resident',\n",
       "                            [OrderedDict([('@Id', '100'),\n",
       "                                          ('Name', 'Sample Name'),\n",
       "                                          ('PhoneNumber', '1234567891'),\n",
       "                                          ('EmailAddress',\n",
       "                                           'sample_name@example.com'),\n",
       "                                          ('Address',\n",
       "                                           OrderedDict([('StreetLine1',\n",
       "                                                         'Street Line1'),\n",
       "                                                        ('City', 'City Name'),\n",
       "                                                        ('StateCode', 'AE'),\n",
       "                                                        ('PostalCode',\n",
       "                                                         '12345')]))]),\n",
       "                             OrderedDict([('@Id', '101'),\n",
       "                                          ('Name', 'Sample Name1'),\n",
       "                                          ('PhoneNumber', '1234567891'),\n",
       "                                          ('EmailAddress',\n",
       "                                           'sample_name1@example.com'),\n",
       "                                          ('Address',\n",
       "                                           OrderedDict([('StreetLine1',\n",
       "                                                         'Current Address'),\n",
       "                                                        ('City',\n",
       "                                                         'Los Angeles'),\n",
       "                                                        ('StateCode', 'CA'),\n",
       "                                                        ('PostalCode',\n",
       "                                                         '56666')]))])]),\n",
       "                           ('#text', '.\\n.\\n.\\n.')]))])"
      ]
     },
     "execution_count": 43,
     "metadata": {},
     "output_type": "execute_result"
    }
   ],
   "source": [
    "doc"
   ]
  },
  {
   "cell_type": "code",
   "execution_count": 38,
   "metadata": {},
   "outputs": [],
   "source": [
    "import json\n",
    "import pandas\n",
    "import requests\n",
    "import xmltodict"
   ]
  },
  {
   "cell_type": "code",
   "execution_count": 39,
   "metadata": {},
   "outputs": [],
   "source": [
    "web_request = requests.get(u'http://xml.pinnaclesports.com/pinnacleFeed.aspx?sportType=Basketball')"
   ]
  },
  {
   "cell_type": "code",
   "execution_count": 40,
   "metadata": {},
   "outputs": [
    {
     "ename": "ExpatError",
     "evalue": "not well-formed (invalid token): line 9, column 82",
     "output_type": "error",
     "traceback": [
      "\u001b[0;31m---------------------------------------------------------------------------\u001b[0m",
      "\u001b[0;31mExpatError\u001b[0m                                Traceback (most recent call last)",
      "\u001b[0;32m<ipython-input-40-6b94c873654c>\u001b[0m in \u001b[0;36m<module>\u001b[0;34m\u001b[0m\n\u001b[1;32m      1\u001b[0m \u001b[0;31m# Make that unweidly XML doc look like a native Dictionary!\u001b[0m\u001b[0;34m\u001b[0m\u001b[0;34m\u001b[0m\u001b[0m\n\u001b[0;32m----> 2\u001b[0;31m \u001b[0mresult\u001b[0m \u001b[0;34m=\u001b[0m \u001b[0mxmltodict\u001b[0m\u001b[0;34m.\u001b[0m\u001b[0mparse\u001b[0m\u001b[0;34m(\u001b[0m\u001b[0mweb_request\u001b[0m\u001b[0;34m.\u001b[0m\u001b[0mtext\u001b[0m\u001b[0;34m)\u001b[0m\u001b[0;34m\u001b[0m\u001b[0m\n\u001b[0m",
      "\u001b[0;32m~/venv/lib/python3.5/site-packages/xmltodict.py\u001b[0m in \u001b[0;36mparse\u001b[0;34m(xml_input, encoding, expat, process_namespaces, namespace_separator, disable_entities, **kwargs)\u001b[0m\n\u001b[1;32m    325\u001b[0m         \u001b[0mparser\u001b[0m\u001b[0;34m.\u001b[0m\u001b[0mParseFile\u001b[0m\u001b[0;34m(\u001b[0m\u001b[0mxml_input\u001b[0m\u001b[0;34m)\u001b[0m\u001b[0;34m\u001b[0m\u001b[0m\n\u001b[1;32m    326\u001b[0m     \u001b[0;32melse\u001b[0m\u001b[0;34m:\u001b[0m\u001b[0;34m\u001b[0m\u001b[0m\n\u001b[0;32m--> 327\u001b[0;31m         \u001b[0mparser\u001b[0m\u001b[0;34m.\u001b[0m\u001b[0mParse\u001b[0m\u001b[0;34m(\u001b[0m\u001b[0mxml_input\u001b[0m\u001b[0;34m,\u001b[0m \u001b[0;32mTrue\u001b[0m\u001b[0;34m)\u001b[0m\u001b[0;34m\u001b[0m\u001b[0m\n\u001b[0m\u001b[1;32m    328\u001b[0m     \u001b[0;32mreturn\u001b[0m \u001b[0mhandler\u001b[0m\u001b[0;34m.\u001b[0m\u001b[0mitem\u001b[0m\u001b[0;34m\u001b[0m\u001b[0m\n\u001b[1;32m    329\u001b[0m \u001b[0;34m\u001b[0m\u001b[0m\n",
      "\u001b[0;31mExpatError\u001b[0m: not well-formed (invalid token): line 9, column 82"
     ]
    }
   ],
   "source": [
    "# Make that unweidly XML doc look like a native Dictionary!\n",
    "result = xmltodict.parse(web_request.text)"
   ]
  },
  {
   "cell_type": "code",
   "execution_count": null,
   "metadata": {},
   "outputs": [],
   "source": [
    "# Next, convert the nested OrderedDict to a real dict, which isn't strictly necessary, but helps you\n",
    "#   visualize what the structure of the data looks like\n",
    "normal_dict = json.loads(json.dumps(result.get('pinnacle_line_feed', {}).get(u'events', {}).get(u'event', [])))"
   ]
  },
  {
   "cell_type": "code",
   "execution_count": null,
   "metadata": {},
   "outputs": [],
   "source": []
  },
  {
   "cell_type": "code",
   "execution_count": 50,
   "metadata": {},
   "outputs": [],
   "source": [
    "# Now, make that dictionary into a dataframe\n",
    "df = pd.DataFrame.from_dict(doc)"
   ]
  },
  {
   "cell_type": "code",
   "execution_count": 52,
   "metadata": {},
   "outputs": [
    {
     "data": {
      "text/html": [
       "<div>\n",
       "<style scoped>\n",
       "    .dataframe tbody tr th:only-of-type {\n",
       "        vertical-align: middle;\n",
       "    }\n",
       "\n",
       "    .dataframe tbody tr th {\n",
       "        vertical-align: top;\n",
       "    }\n",
       "\n",
       "    .dataframe thead th {\n",
       "        text-align: right;\n",
       "    }\n",
       "</style>\n",
       "<table border=\"1\" class=\"dataframe\">\n",
       "  <thead>\n",
       "    <tr style=\"text-align: right;\">\n",
       "      <th></th>\n",
       "      <th>#text</th>\n",
       "      <th>Resident</th>\n",
       "    </tr>\n",
       "  </thead>\n",
       "  <tbody>\n",
       "    <tr>\n",
       "      <th>State</th>\n",
       "      <td>.\\n.\\n.\\n.</td>\n",
       "      <td>[{'@Id': '100', 'Name': 'Sample Name', 'PhoneN...</td>\n",
       "    </tr>\n",
       "  </tbody>\n",
       "</table>\n",
       "</div>"
      ],
      "text/plain": [
       "            #text                                           Resident\n",
       "State  .\\n.\\n.\\n.  [{'@Id': '100', 'Name': 'Sample Name', 'PhoneN..."
      ]
     },
     "execution_count": 52,
     "metadata": {},
     "output_type": "execute_result"
    }
   ],
   "source": [
    "df.T"
   ]
  },
  {
   "cell_type": "code",
   "execution_count": 55,
   "metadata": {},
   "outputs": [
    {
     "data": {
      "text/plain": [
       "'{\"State\": {\"Resident\": [{\"@Id\": \"100\", \"Name\": \"Sample Name\", \"PhoneNumber\": \"1234567891\", \"EmailAddress\": \"sample_name@example.com\", \"Address\": {\"StreetLine1\": \"Street Line1\", \"City\": \"City Name\", \"StateCode\": \"AE\", \"PostalCode\": \"12345\"}}, {\"@Id\": \"101\", \"Name\": \"Sample Name1\", \"PhoneNumber\": \"1234567891\", \"EmailAddress\": \"sample_name1@example.com\", \"Address\": {\"StreetLine1\": \"Current Address\", \"City\": \"Los Angeles\", \"StateCode\": \"CA\", \"PostalCode\": \"56666\"}}], \"#text\": \".\\\\n.\\\\n.\\\\n.\"}}'"
      ]
     },
     "execution_count": 55,
     "metadata": {},
     "output_type": "execute_result"
    }
   ],
   "source": [
    "json.dumps(doc)"
   ]
  },
  {
   "cell_type": "code",
   "execution_count": 58,
   "metadata": {},
   "outputs": [
    {
     "data": {
      "text/plain": [
       "OrderedDict([('State',\n",
       "              OrderedDict([('Resident',\n",
       "                            [OrderedDict([('@Id', '100'),\n",
       "                                          ('Name', 'Sample Name'),\n",
       "                                          ('PhoneNumber', '1234567891'),\n",
       "                                          ('EmailAddress',\n",
       "                                           'sample_name@example.com'),\n",
       "                                          ('Address',\n",
       "                                           OrderedDict([('StreetLine1',\n",
       "                                                         'Street Line1'),\n",
       "                                                        ('City', 'City Name'),\n",
       "                                                        ('StateCode', 'AE'),\n",
       "                                                        ('PostalCode',\n",
       "                                                         '12345')]))]),\n",
       "                             OrderedDict([('@Id', '101'),\n",
       "                                          ('Name', 'Sample Name1'),\n",
       "                                          ('PhoneNumber', '1234567891'),\n",
       "                                          ('EmailAddress',\n",
       "                                           'sample_name1@example.com'),\n",
       "                                          ('Address',\n",
       "                                           OrderedDict([('StreetLine1',\n",
       "                                                         'Current Address'),\n",
       "                                                        ('City',\n",
       "                                                         'Los Angeles'),\n",
       "                                                        ('StateCode', 'CA'),\n",
       "                                                        ('PostalCode',\n",
       "                                                         '56666')]))])]),\n",
       "                           ('#text', '.\\n.\\n.\\n.')]))])"
      ]
     },
     "execution_count": 58,
     "metadata": {},
     "output_type": "execute_result"
    }
   ],
   "source": [
    "doc"
   ]
  },
  {
   "cell_type": "code",
   "execution_count": null,
   "metadata": {},
   "outputs": [],
   "source": []
  },
  {
   "cell_type": "code",
   "execution_count": null,
   "metadata": {},
   "outputs": [],
   "source": [
    "collections.OrderedDict()"
   ]
  },
  {
   "cell_type": "code",
   "execution_count": 60,
   "metadata": {},
   "outputs": [
    {
     "ename": "ExpatError",
     "evalue": "not well-formed (invalid token): line 9, column 82",
     "output_type": "error",
     "traceback": [
      "\u001b[0;31m---------------------------------------------------------------------------\u001b[0m",
      "\u001b[0;31mExpatError\u001b[0m                                Traceback (most recent call last)",
      "\u001b[0;32m<ipython-input-60-e0462b3123dd>\u001b[0m in \u001b[0;36m<module>\u001b[0;34m\u001b[0m\n\u001b[1;32m      7\u001b[0m \u001b[0;34m\u001b[0m\u001b[0m\n\u001b[1;32m      8\u001b[0m \u001b[0;31m# Make that unweidly XML doc look like a native Dictionary!\u001b[0m\u001b[0;34m\u001b[0m\u001b[0;34m\u001b[0m\u001b[0m\n\u001b[0;32m----> 9\u001b[0;31m \u001b[0mresult\u001b[0m \u001b[0;34m=\u001b[0m \u001b[0mxmltodict\u001b[0m\u001b[0;34m.\u001b[0m\u001b[0mparse\u001b[0m\u001b[0;34m(\u001b[0m\u001b[0mweb_request\u001b[0m\u001b[0;34m.\u001b[0m\u001b[0mtext\u001b[0m\u001b[0;34m)\u001b[0m\u001b[0;34m\u001b[0m\u001b[0m\n\u001b[0m\u001b[1;32m     10\u001b[0m \u001b[0;34m\u001b[0m\u001b[0m\n\u001b[1;32m     11\u001b[0m \u001b[0;31m# Next, convert the nested OrderedDict to a real dict, which isn't strictly necessary, but helps you\u001b[0m\u001b[0;34m\u001b[0m\u001b[0;34m\u001b[0m\u001b[0m\n",
      "\u001b[0;32m~/venv/lib/python3.5/site-packages/xmltodict.py\u001b[0m in \u001b[0;36mparse\u001b[0;34m(xml_input, encoding, expat, process_namespaces, namespace_separator, disable_entities, **kwargs)\u001b[0m\n\u001b[1;32m    325\u001b[0m         \u001b[0mparser\u001b[0m\u001b[0;34m.\u001b[0m\u001b[0mParseFile\u001b[0m\u001b[0;34m(\u001b[0m\u001b[0mxml_input\u001b[0m\u001b[0;34m)\u001b[0m\u001b[0;34m\u001b[0m\u001b[0m\n\u001b[1;32m    326\u001b[0m     \u001b[0;32melse\u001b[0m\u001b[0;34m:\u001b[0m\u001b[0;34m\u001b[0m\u001b[0m\n\u001b[0;32m--> 327\u001b[0;31m         \u001b[0mparser\u001b[0m\u001b[0;34m.\u001b[0m\u001b[0mParse\u001b[0m\u001b[0;34m(\u001b[0m\u001b[0mxml_input\u001b[0m\u001b[0;34m,\u001b[0m \u001b[0;32mTrue\u001b[0m\u001b[0;34m)\u001b[0m\u001b[0;34m\u001b[0m\u001b[0m\n\u001b[0m\u001b[1;32m    328\u001b[0m     \u001b[0;32mreturn\u001b[0m \u001b[0mhandler\u001b[0m\u001b[0;34m.\u001b[0m\u001b[0mitem\u001b[0m\u001b[0;34m\u001b[0m\u001b[0m\n\u001b[1;32m    329\u001b[0m \u001b[0;34m\u001b[0m\u001b[0m\n",
      "\u001b[0;31mExpatError\u001b[0m: not well-formed (invalid token): line 9, column 82"
     ]
    }
   ],
   "source": [
    "import json\n",
    "import pandas\n",
    "import requests\n",
    "import xmltodict\n",
    "\n",
    "web_request = requests.get(u'http://xml.pinnaclesports.com/pinnacleFeed.aspx?sportType=Basketball')\n",
    "\n",
    "# Make that unweidly XML doc look like a native Dictionary!\n",
    "result = xmltodict.parse(web_request.text)\n",
    "\n",
    "# Next, convert the nested OrderedDict to a real dict, which isn't strictly necessary, but helps you\n",
    "#   visualize what the structure of the data looks like\n",
    "normal_dict = json.loads(json.dumps(result.get('pinnacle_line_feed', {}).get(u'events', {}).get(u'event', [])))\n",
    "\n",
    "# Now, make that dictionary into a dataframe\n",
    "df = pandas.DataFrame.from_dict(normal_dict)"
   ]
  },
  {
   "cell_type": "code",
   "execution_count": null,
   "metadata": {},
   "outputs": [],
   "source": []
  },
  {
   "cell_type": "code",
   "execution_count": null,
   "metadata": {},
   "outputs": [],
   "source": []
  },
  {
   "cell_type": "code",
   "execution_count": null,
   "metadata": {},
   "outputs": [],
   "source": []
  },
  {
   "cell_type": "code",
   "execution_count": null,
   "metadata": {},
   "outputs": [],
   "source": []
  },
  {
   "cell_type": "code",
   "execution_count": null,
   "metadata": {},
   "outputs": [],
   "source": []
  },
  {
   "cell_type": "markdown",
   "metadata": {},
   "source": [
    "# Epic method"
   ]
  },
  {
   "cell_type": "code",
   "execution_count": null,
   "metadata": {},
   "outputs": [],
   "source": [
    "# https://knanne.github.io/notebooks/pandas_process_XML.html"
   ]
  },
  {
   "cell_type": "code",
   "execution_count": 101,
   "metadata": {},
   "outputs": [],
   "source": [
    "import requests"
   ]
  },
  {
   "cell_type": "code",
   "execution_count": 102,
   "metadata": {},
   "outputs": [],
   "source": [
    "response = requests.get('https://knanne.github.io/feed.xml')"
   ]
  },
  {
   "cell_type": "code",
   "execution_count": 103,
   "metadata": {},
   "outputs": [
    {
     "data": {
      "text/plain": [
       "True"
      ]
     },
     "execution_count": 103,
     "metadata": {},
     "output_type": "execute_result"
    }
   ],
   "source": [
    "response.ok"
   ]
  },
  {
   "cell_type": "code",
   "execution_count": 104,
   "metadata": {},
   "outputs": [],
   "source": [
    "import xmltodict\n",
    "import json"
   ]
  },
  {
   "cell_type": "code",
   "execution_count": 105,
   "metadata": {},
   "outputs": [
    {
     "name": "stdout",
     "output_type": "stream",
     "text": [
      "CPU times: user 0 ns, sys: 0 ns, total: 0 ns\n",
      "Wall time: 5.78 ms\n"
     ]
    }
   ],
   "source": [
    "%%time\n",
    "d = xmltodict.parse(response.content)"
   ]
  },
  {
   "cell_type": "code",
   "execution_count": 68,
   "metadata": {},
   "outputs": [
    {
     "data": {
      "text/plain": [
       "OrderedDict([('feed',\n",
       "              OrderedDict([('@xmlns', 'http://www.w3.org/2005/Atom'),\n",
       "                           ('generator',\n",
       "                            OrderedDict([('@uri', 'https://jekyllrb.com/'),\n",
       "                                         ('@version', '3.7.4'),\n",
       "                                         ('#text', 'Jekyll')])),\n",
       "                           ('link',\n",
       "                            [OrderedDict([('@href',\n",
       "                                           'https://knanne.github.io/feed.xml'),\n",
       "                                          ('@rel', 'self'),\n",
       "                                          ('@type', 'application/atom+xml')]),\n",
       "                             OrderedDict([('@href',\n",
       "                                           'https://knanne.github.io/'),\n",
       "                                          ('@rel', 'alternate'),\n",
       "                                          ('@type', 'text/html')])]),\n",
       "                           ('updated', '2018-11-25T16:32:05+00:00'),\n",
       "                           ('id', 'https://knanne.github.io/feed.xml'),\n",
       "                           ('title',\n",
       "                            OrderedDict([('@type', 'html'),\n",
       "                                         ('#text', 'knanne')])),\n",
       "                           ('subtitle',\n",
       "                            'Expert traveler, amateur farmer, beer / wine enthusiast - with a data science problem'),\n",
       "                           ('author', OrderedDict([('name', 'Kain Nanne')])),\n",
       "                           ('entry',\n",
       "                            [OrderedDict([('title',\n",
       "                                           OrderedDict([('@type', 'html'),\n",
       "                                                        ('#text',\n",
       "                                                         'Notes On Excel')])),\n",
       "                                          ('link',\n",
       "                                           OrderedDict([('@href',\n",
       "                                                         'https://knanne.github.io/posts/notes-on-excel'),\n",
       "                                                        ('@rel', 'alternate'),\n",
       "                                                        ('@type', 'text/html'),\n",
       "                                                        ('@title',\n",
       "                                                         'Notes On Excel')])),\n",
       "                                          ('published',\n",
       "                                           '2018-05-29T00:00:00+00:00'),\n",
       "                                          ('updated',\n",
       "                                           '2018-05-29T00:00:00+00:00'),\n",
       "                                          ('id',\n",
       "                                           'https://knanne.github.io/posts/notes-on-excel'),\n",
       "                                          ('content',\n",
       "                                           OrderedDict([('@type', 'html'),\n",
       "                                                        ('@xml:base',\n",
       "                                                         'https://knanne.github.io/posts/notes-on-excel'),\n",
       "                                                        ('#text',\n",
       "                                                         '<p>Random notes on using Excel</p>\\n\\n<!-- excerpt separator -->\\n\\n<ul id=\"markdown-toc\">\\n  <li><a href=\"#pivot-tables\" id=\"markdown-toc-pivot-tables\">Pivot Tables</a></li>\\n  <li><a href=\"#filtering-data\" id=\"markdown-toc-filtering-data\">Filtering Data</a></li>\\n  <li><a href=\"#highlight-non-null-cells\" id=\"markdown-toc-highlight-non-null-cells\">Highlight Non-NULL Cells</a></li>\\n</ul>\\n\\n<p>I know, I know…but sometimes it’s just easier.</p>\\n\\n<p>Here are some basic things which are handy to know in Excel.</p>\\n\\n<h1 id=\"pivot-tables\">Pivot Tables</h1>\\n\\n<h1 id=\"filtering-data\">Filtering Data</h1>\\n\\n<h1 id=\"highlight-non-null-cells\">Highlight Non-NULL Cells</h1>\\n\\n<p>Example of how to highlight non-blank cells in column A.</p>\\n\\n<ol>\\n  <li>Go to <code class=\"highlighter-rouge\">Home &gt; Conditional Formatting &gt; New Rule</code>.</li>\\n  <li>Select “Use a formula to determine which cells to format”`</li>\\n  <li>Enter the formula <code class=\"highlighter-rouge\">=NOT(ISBLANK($A1))</code></li>\\n  <li>Configure your desired formatting (i.e. fill yellow)</li>\\n  <li>Click Okay</li>\\n  <li>Change “Applies to” to your column <code class=\"highlighter-rouge\">=$A:$A</code></li>\\n  <li>Click Apply</li>\\n</ol>')])),\n",
       "                                          ('author',\n",
       "                                           OrderedDict([('name',\n",
       "                                                         'Kain Nanne')])),\n",
       "                                          ('category',\n",
       "                                           OrderedDict([('@term', 'excel')])),\n",
       "                                          ('summary',\n",
       "                                           OrderedDict([('@type', 'html'),\n",
       "                                                        ('#text',\n",
       "                                                         'Random notes on using Excel')]))]),\n",
       "                             OrderedDict([('title',\n",
       "                                           OrderedDict([('@type', 'html'),\n",
       "                                                        ('#text',\n",
       "                                                         'Notes On Shell')])),\n",
       "                                          ('link',\n",
       "                                           OrderedDict([('@href',\n",
       "                                                         'https://knanne.github.io/posts/notes-on-shell'),\n",
       "                                                        ('@rel', 'alternate'),\n",
       "                                                        ('@type', 'text/html'),\n",
       "                                                        ('@title',\n",
       "                                                         'Notes On Shell')])),\n",
       "                                          ('published',\n",
       "                                           '2018-05-26T00:00:00+00:00'),\n",
       "                                          ('updated',\n",
       "                                           '2018-05-26T00:00:00+00:00'),\n",
       "                                          ('id',\n",
       "                                           'https://knanne.github.io/posts/notes-on-shell'),\n",
       "                                          ('content',\n",
       "                                           OrderedDict([('@type', 'html'),\n",
       "                                                        ('@xml:base',\n",
       "                                                         'https://knanne.github.io/posts/notes-on-shell'),\n",
       "                                                        ('#text',\n",
       "                                                         '<p>Random notes on the Unix command line (e.g. bash)</p>\\n\\n<!-- excerpt separator -->\\n\\n<ul id=\"markdown-toc\">\\n  <li><a href=\"#intro\" id=\"markdown-toc-intro\">Intro</a></li>\\n  <li><a href=\"#advantages\" id=\"markdown-toc-advantages\">Advantages</a></li>\\n  <li><a href=\"#commands\" id=\"markdown-toc-commands\">Commands</a></li>\\n  <li><a href=\"#scripting\" id=\"markdown-toc-scripting\">Scripting</a></li>\\n</ul>\\n\\n<h1 id=\"intro\">Intro</h1>\\n\\n<p>The following is a compilation of commands and notes on using the command line. Specifically <code class=\"highlighter-rouge\">bash</code>. Bash commands, or the corresponding ELF executables, are available on Linux/Unix based systems like Ubuntu and Mac OSX.</p>\\n\\n<p>While they are not easily available on Windows, it is possible to run some commands via <a href=\"http://cmder.net/\">console emulators like Cmder with Git Bash</a>, or more recently the <a href=\"https://en.wikipedia.org/wiki/Windows_Subsystem_for_Linux\">Windows Subsystem for Linux</a> which gives full access to ELF binaries.</p>\\n\\n<p>For an introduction on the command line, there is a great practical book by Jeroen Janssens called Data Science at the Command Line, which can be read online <a href=\"https://www.datascienceatthecommandline.com/\">here</a>.</p>\\n\\n<p>Generally speaking, the notes provided here are practical data science examples on the collection of tools exposed via the Unix command line (i.e. bash, shell, console). This can include the defaults or commonly used extensions.</p>\\n\\n<h1 id=\"advantages\">Advantages</h1>\\n\\n<p>Unix commands execute specific scripts or tools which have been designed to do a single task, and do it as efficiently as possible without loading all the data in memory. In this case, if available, it is much faster to read/manipulate/process data using these tools than trying to do the same thing in another programming language.</p>\\n\\n<h1 id=\"commands\">Commands</h1>\\n\\n<p>Below is just a short list of notable commands I have found useful, and want to remember. On all commands, use <code class=\"highlighter-rouge\">--help</code> flag for more info and usage instructions.</p>\\n\\n<ul>\\n  <li><code class=\"highlighter-rouge\">echo</code> writes to output</li>\\n  <li><code class=\"highlighter-rouge\">printf</code> prints with formatting</li>\\n  <li><code class=\"highlighter-rouge\">touch</code> creates an empty file (this command will NOT overwrite or delete contents of an existing file)</li>\\n  <li><code class=\"highlighter-rouge\">&gt;</code> also known as redirect, outputs text to a file, creating it if it does not exist. <code class=\"highlighter-rouge\">&gt;</code> will overwrite an existing file, while <code class=\"highlighter-rouge\">&gt;&gt;</code> will append to an existing file</li>\\n  <li><code class=\"highlighter-rouge\">head</code> preview first 10 lines of file</li>\\n  <li><code class=\"highlighter-rouge\">sort</code> sort a file</li>\\n  <li><code class=\"highlighter-rouge\">grep</code> search a file for a regular expression pattern.</li>\\n  <li><code class=\"highlighter-rouge\">|</code> also known as pipe operator, combines multiple commands</li>\\n  <li><code class=\"highlighter-rouge\">find</code> will find a file</li>\\n  <li><code class=\"highlighter-rouge\">cat</code> will concatenate files or output</li>\\n  <li><code class=\"highlighter-rouge\">truncate</code> with <code class=\"highlighter-rouge\">-s 0</code> option will delete contents of a file</li>\\n  <li><code class=\"highlighter-rouge\">uniq</code> will deduplicate data, however the duplicates must be adjacent (use <code class=\"highlighter-rouge\">sort</code> first). Use flag <code class=\"highlighter-rouge\">-c</code> to count the number of duplications. Also pass <code class=\"highlighter-rouge\">-d</code> flag to show duplicated data only.</li>\\n  <li><code class=\"highlighter-rouge\">wc</code> command on a file by default will return the number of lines, words, and characters.</li>\\n</ul>\\n\\n<h2 id=\"for-loops\">For Loops</h2>\\n\\n<p>A one line for loop looks like <code class=\"highlighter-rouge\">for i in {1..10}; do echo \"Hello World!\"; done</code></p>\\n\\n<h2 id=\"examples\">Examples</h2>\\n\\n<h3 id=\"basic-file-manipulation\">Basic File Manipulation</h3>\\n\\n<p>The is an example of how to use practical commands in sequence to explore file operations. Run the one by one in order.</p>\\n\\n<div class=\"language-shell highlighter-rouge\"><div class=\"highlight\"><pre class=\"highlight\"><code><span class=\"nb\">echo </span>Hello World!\\n\\ntouch data.txt\\n\\n<span class=\"k\">for </span>i <span class=\"k\">in</span> <span class=\"o\">{</span>1..10<span class=\"o\">}</span>\\n<span class=\"k\">do\\n  </span><span class=\"nb\">echo</span> <span class=\"s2\">\"</span><span class=\"nv\">$i</span><span class=\"s2\"> Hello World!\"</span> <span class=\"o\">&gt;&gt;</span> data.txt\\n<span class=\"k\">done\\n\\n</span>head data.txt\\n\\nsort data.txt <span class=\"nt\">-r</span>\\n\\n<span class=\"nb\">grep</span> <span class=\"o\">[</span>3-7] data.txt\\n\\n<span class=\"k\">for </span>i <span class=\"k\">in</span> <span class=\"o\">{</span>1..15<span class=\"o\">}</span><span class=\"p\">;</span> <span class=\"k\">do </span><span class=\"nb\">echo</span> <span class=\"s2\">\"</span><span class=\"nv\">$i</span><span class=\"s2\"> Hello World!\"</span> <span class=\"o\">&gt;&gt;</span> data.txt<span class=\"p\">;</span> <span class=\"k\">done\\n\\n</span>wc data.txt\\n\\nsort data.txt | uniq <span class=\"nt\">-c</span>\\n</code></pre></div></div>\\n\\n<h2 id=\"curl\">Curl</h2>\\n\\n<blockquote>\\n  <p>curl is used in command lines or scripts to transfer data. - <a href=\"https://curl.haxx.se/\">website</a></p>\\n</blockquote>\\n\\n<h2 id=\"jq\">jq</h2>\\n\\n<blockquote>\\n  <p>jq is a lightweight and flexible command-line JSON processor. - <a href=\"https://stedolan.github.io/jq/\">website</a></p>\\n</blockquote>\\n\\n<p>You may need to download it <a href=\"https://stedolan.github.io/jq/download/\">here</a></p>\\n\\n<p>Here is an example of how to get the <code class=\"highlighter-rouge\">html</code> key from a returned JSON object, using the open <a href=\"https://www.instagram.com/developer/embedding/#oembed\">Instagram oembed endpoint</a> for one of my posts.</p>\\n\\n<div class=\"language-shell highlighter-rouge\"><div class=\"highlight\"><pre class=\"highlight\"><code>curl <span class=\"nt\">-s</span> <span class=\"s2\">\"https://api.instagram.com/oembed/?url=http://instagr.am/p/BjPSQKJFUYa\"</span> | jq <span class=\"nt\">-r</span> <span class=\"s2\">\".html\"</span>\\n</code></pre></div></div>\\n\\n<h1 id=\"scripting\">Scripting</h1>\\n\\n<p><code class=\"highlighter-rouge\">.sh</code> shell scripts can be used for absolutely anything.</p>\\n\\n<h2 id=\"example-curl-api-redirect-json-key-to-file\">Example curl API, redirect JSON key to file</h2>\\n\\n<p>This below is an example of writing a shell script to automatically and dynamically redirect API data to a file in one command.</p>\\n\\n<h3 id=\"fetch-latest-instagram-post-embed-html\">Fetch Latest Instagram Post Embed HTML</h3>\\n\\n<p>I recently created a very simple shell script to fulfill a very simple task for this website.</p>\\n\\n<p>My problem was I wanted to embed my latest Instagram post on the <a href=\"https://knanne.github.io/about/\">about page</a>, yet Instagram does not allow to get this dynamically. In this case I have to manually update the embed html for the latest post of interest. This is a hassle, and like any good developer I considered how to automate this.</p>\\n\\n<p>After finding that Instagram has an open API for getting a posts embed html, it is possible to simply make a GET request, and parse the HTML from the returned JSON. So I explored using <code class=\"highlighter-rouge\">curl</code> to do the HTTP request, and <code class=\"highlighter-rouge\">jq</code> to process the JSON, and finally redirect this into a file. The following command works well.</p>\\n\\n<p><code class=\"highlighter-rouge\">curl -s \"https://api.instagram.com/oembed/?url=http://instagr.am/p/BjPSQKJFUYa\" | jq -r \".html\"</code></p>\\n\\n<p>Now, before I continue I must admit at this point I found someone who implemented this exact thing and already wrapped it up into a shell script. So credit goes to <a href=\"https://www.wouterbulten.nl/blog/tech/import-instagram-for-jekyll/\">Wouter Bulten</a> for the informational post on this topic already. My simplified and custom solution meeting my specific needs is continued below.</p>\\n\\n<p>Now to just finalize the script, I add two dynamic variables. One for the path of the output file, hardcoded in the script. And the other is the required shortcode of the post of interest. The shortcode can be supplied as a command line argument or entered during execution when prompted.</p>\\n\\n<p>I saved the file under the name, <code class=\"highlighter-rouge\">fetch_latest_instagram.sh</code>. Running the code therefore looks like <code class=\"highlighter-rouge\">fetch_latest_instagram.sh BjPSQKJFUYa</code>, and then for me the embed code is written to the correct file in my <code class=\"highlighter-rouge\">_includes</code> folder which I pick up on my <a href=\"https://knanne.github.io/about/\">about page</a>.</p>\\n\\n<p>Note that I added an additional prompt before closing because on Windows the shell script opens in a new window, which automatically closes after execution, making it impossible to read if there was an error.</p>\\n\\n<div class=\"language-shell highlighter-rouge\"><div class=\"highlight\"><pre class=\"highlight\"><code><span class=\"k\">if</span> <span class=\"o\">[</span> <span class=\"nv\">$# </span><span class=\"nt\">-eq</span> 0 <span class=\"o\">]</span>\\n  <span class=\"k\">then\\n    </span><span class=\"nb\">echo</span> <span class=\"s2\">\"Enter post shortcode:\"</span>\\n    <span class=\"nb\">read </span>shortcode\\n<span class=\"k\">else\\n  </span><span class=\"nv\">shortcode</span><span class=\"o\">=</span><span class=\"s2\">\"</span><span class=\"nv\">$1</span><span class=\"s2\">\"</span>\\n<span class=\"k\">fi\\n\\n</span><span class=\"nv\">path</span><span class=\"o\">=</span><span class=\"s2\">\"_includes</span><span class=\"se\">\\\\i</span><span class=\"s2\">ntegrations</span><span class=\"se\">\\\\i</span><span class=\"s2\">nstagram_latest_photo.html\"</span>\\n\\n<span class=\"nb\">echo</span> <span class=\"s2\">\"Fetching embed HTML of given post\"</span>\\n<span class=\"nb\">echo</span> <span class=\"s2\">\"Writing to </span><span class=\"nv\">$path</span><span class=\"s2\">\"</span>\\n\\ncurl <span class=\"nt\">-s</span> <span class=\"s2\">\"https://api.instagram.com/oembed/?url=http://instagr.am/p/</span><span class=\"nv\">$shortcode</span><span class=\"s2\">\"</span> | jq <span class=\"nt\">-r</span> <span class=\"s2\">\".html\"</span> <span class=\"o\">&gt;</span> <span class=\"s2\">\"</span><span class=\"nv\">$path</span><span class=\"s2\">\"</span>\\n\\n<span class=\"nb\">echo</span> <span class=\"s2\">\"Successfully wrote embed code to instagram_latest_photo.html\"</span>\\n\\n<span class=\"nb\">echo</span> <span class=\"s2\">\"Type any key to close:\"</span>\\n<span class=\"nb\">read </span>dummmy\\n\\n<span class=\"nb\">echo</span> <span class=\"s2\">\"Closing\"</span>\\n</code></pre></div></div>')])),\n",
       "                                          ('author',\n",
       "                                           OrderedDict([('name',\n",
       "                                                         'Kain Nanne')])),\n",
       "                                          ('category',\n",
       "                                           [OrderedDict([('@term', 'shell')]),\n",
       "                                            OrderedDict([('@term', 'unix')]),\n",
       "                                            OrderedDict([('@term', 'bash')])]),\n",
       "                                          ('summary',\n",
       "                                           OrderedDict([('@type', 'html'),\n",
       "                                                        ('#text',\n",
       "                                                         'Random notes on the Unix command line (e.g. bash)')]))]),\n",
       "                             OrderedDict([('title',\n",
       "                                           OrderedDict([('@type', 'html'),\n",
       "                                                        ('#text',\n",
       "                                                         'Notes On Ssh')])),\n",
       "                                          ('link',\n",
       "                                           OrderedDict([('@href',\n",
       "                                                         'https://knanne.github.io/posts/notes-on-ssh'),\n",
       "                                                        ('@rel', 'alternate'),\n",
       "                                                        ('@type', 'text/html'),\n",
       "                                                        ('@title',\n",
       "                                                         'Notes On Ssh')])),\n",
       "                                          ('published',\n",
       "                                           '2018-05-26T00:00:00+00:00'),\n",
       "                                          ('updated',\n",
       "                                           '2018-05-26T00:00:00+00:00'),\n",
       "                                          ('id',\n",
       "                                           'https://knanne.github.io/posts/notes-on-ssh'),\n",
       "                                          ('content',\n",
       "                                           OrderedDict([('@type', 'html'),\n",
       "                                                        ('@xml:base',\n",
       "                                                         'https://knanne.github.io/posts/notes-on-ssh'),\n",
       "                                                        ('#text',\n",
       "                                                         '<p>Random notes on using SSH</p>\\n\\n<!-- excerpt separator -->\\n\\n<ul id=\"markdown-toc\">\\n  <li><a href=\"#ssh\" id=\"markdown-toc-ssh\">SSH</a></li>\\n  <li><a href=\"#keys\" id=\"markdown-toc-keys\">Keys</a></li>\\n  <li><a href=\"#connecting\" id=\"markdown-toc-connecting\">Connecting</a></li>\\n  <li><a href=\"#copy\" id=\"markdown-toc-copy\">Copy</a></li>\\n  <li><a href=\"#execute-command\" id=\"markdown-toc-execute-command\">Execute Command</a></li>\\n  <li><a href=\"#execute-local-file\" id=\"markdown-toc-execute-local-file\">Execute Local File</a></li>\\n  <li><a href=\"#code-snippets\" id=\"markdown-toc-code-snippets\">Code Snippets</a></li>\\n  <li><a href=\"#example-of-python-workflow\" id=\"markdown-toc-example-of-python-workflow\">Example of Python Workflow</a></li>\\n  <li><a href=\"#sftp\" id=\"markdown-toc-sftp\">SFTP</a></li>\\n</ul>\\n\\n<h1 id=\"ssh\">SSH</h1>\\n\\n<blockquote>\\n  <p>ssh (SSH client) is a program for logging into a remote machine and for executing commands on a remote machine. - <a href=\"https://man.openbsd.org/ssh.1\">website</a></p>\\n</blockquote>\\n\\n<h1 id=\"keys\">Keys</h1>\\n\\n<p>Most implementations of SSH connection will use the secure route of authentication through keys. Meaning authentication is done by comparing the transmission of an encrypted string across hosts. A private-public key pair is first generated on the local machine wishing to connect to the remote. The public key is then shared with the remote machine you wish to connect with, while the private key is never shared. Encryption is done on the remote machine with the public key, and decryption is done with the private key living only on the connecting machine before sending the decrypted message back for verification.</p>\\n\\n<p>Typically when doing this procedure for services like GitHub or GitLab, it is best to simply follow there docs to ensure your profile is configured correctly to their needs.</p>\\n\\n<p>SSH keys are typically stored in the root or user’s directory in a folder called <code class=\"highlighter-rouge\">~/.ssh/</code>.</p>\\n\\n<p>To quickly generate a key pair to be used for a specific task, do the following. Maybe you need to generate it for two remote servers needing to connect, or another user.</p>\\n\\n<div class=\"language-shell highlighter-rouge\"><div class=\"highlight\"><pre class=\"highlight\"><code>ssh-keygen <span class=\"nt\">-f</span> &lt;KEYFILE&gt; <span class=\"nt\">-C</span> &lt;USERNAME&gt;\\n</code></pre></div></div>\\n\\n<h2 id=\"change-password\">Change Password</h2>\\n\\n<p>In case you created a keyfile with a password, and need to change or remove it, use the following command. To remove the password just hit enter when prompted for the new one.</p>\\n\\n<div class=\"language-shell highlighter-rouge\"><div class=\"highlight\"><pre class=\"highlight\"><code>ssh-keygen <span class=\"nt\">-p</span> <span class=\"nt\">-f</span> &lt;KEYFILE&gt;\\n</code></pre></div></div>\\n\\n<h1 id=\"connecting\">Connecting</h1>\\n\\n<div class=\"language-shell highlighter-rouge\"><div class=\"highlight\"><pre class=\"highlight\"><code>ssh <span class=\"nt\">-i</span> &lt;KEYFILE&gt; &lt;USERNAME&gt;@&lt;REMOTEHOST&gt;\\n</code></pre></div></div>\\n\\n<h1 id=\"copy\">Copy</h1>\\n\\n<h1 id=\"execute-command\">Execute Command</h1>\\n\\n<h1 id=\"execute-local-file\">Execute Local File</h1>\\n\\n<h1 id=\"code-snippets\">Code Snippets</h1>\\n\\n<h1 id=\"example-of-python-workflow\">Example of Python Workflow</h1>\\n\\n<h3 id=\"move-requirements-over\">Move Requirements Over</h3>\\n\\n<div class=\"language-shell highlighter-rouge\"><div class=\"highlight\"><pre class=\"highlight\"><code>scp ssh <span class=\"nt\">-i</span> &lt;KEYFILE&gt; path<span class=\"se\">\\\\t</span>o<span class=\"se\">\\\\l</span>ocal<span class=\"se\">\\\\r</span>equirements.txt &lt;USERNAME&gt;@&lt;REMOTEHOST&gt;:<span class=\"se\">\\\\p</span>ath<span class=\"se\">\\\\t</span>o<span class=\"se\">\\\\r</span>emote<span class=\"se\">\\\\r</span>equirements.txt\\n</code></pre></div></div>\\n\\n<h3 id=\"install-requirements\">Install Requirements</h3>\\n\\n<div class=\"language-shell highlighter-rouge\"><div class=\"highlight\"><pre class=\"highlight\"><code>ssh <span class=\"nt\">-i</span> &lt;KEYFILE&gt; &lt;USERNAME&gt;@&lt;REMOTEHOST <span class=\"s2\">\"pip install -r requirements.txt\"</span>\\n</code></pre></div></div>\\n\\n<h3 id=\"execute-local-python-file\">Execute Local Python File</h3>\\n\\n<div class=\"language-shell highlighter-rouge\"><div class=\"highlight\"><pre class=\"highlight\"><code><span class=\"nb\">cat </span>path<span class=\"se\">\\\\t</span>o<span class=\"se\">\\\\l</span>ocal<span class=\"se\">\\\\f</span>ile.py | ssh <span class=\"nt\">-i</span> &lt;KEYFILE&gt; &lt;USERNAME&gt;@&lt;REMOTEHOST&gt; python - <span class=\"o\">&gt;</span> path<span class=\"se\">\\\\t</span>o<span class=\"se\">\\\\l</span>ocal<span class=\"se\">\\\\l</span>og.txt\\n</code></pre></div></div>\\n\\n<h1 id=\"sftp\">SFTP</h1>\\n\\n<p>Secure File Transfer Protocol over SSH. DigitalOcean has a <a href=\"ttps://www.digitalocean.com/community/tutorials/how-to-use-sftp-to-securely-transfer-files-with-a-remote-server\">good post</a> to start with.</p>\\n\\n<p>Here are the necessary basics for connecting and transferring files.</p>\\n\\n<div class=\"language-shell highlighter-rouge\"><div class=\"highlight\"><pre class=\"highlight\"><code>sftp username@remote_hostname_or_IP\\n\\nget remoteFile localFile\\n\\nput localFile\\n</code></pre></div></div>')])),\n",
       "                                          ('author',\n",
       "                                           OrderedDict([('name',\n",
       "                                                         'Kain Nanne')])),\n",
       "                                          ('category',\n",
       "                                           OrderedDict([('@term', 'ssh')])),\n",
       "                                          ('summary',\n",
       "                                           OrderedDict([('@type', 'html'),\n",
       "                                                        ('#text',\n",
       "                                                         'Random notes on using SSH')]))]),\n",
       "                             OrderedDict([('title',\n",
       "                                           OrderedDict([('@type', 'html'),\n",
       "                                                        ('#text',\n",
       "                                                         'Notes On Pyspark')])),\n",
       "                                          ('link',\n",
       "                                           OrderedDict([('@href',\n",
       "                                                         'https://knanne.github.io/posts/notes-on-pyspark'),\n",
       "                                                        ('@rel', 'alternate'),\n",
       "                                                        ('@type', 'text/html'),\n",
       "                                                        ('@title',\n",
       "                                                         'Notes On Pyspark')])),\n",
       "                                          ('published',\n",
       "                                           '2017-12-27T00:00:00+00:00'),\n",
       "                                          ('updated',\n",
       "                                           '2017-12-27T00:00:00+00:00'),\n",
       "                                          ('id',\n",
       "                                           'https://knanne.github.io/posts/notes-on-pyspark'),\n",
       "                                          ('content',\n",
       "                                           OrderedDict([('@type', 'html'),\n",
       "                                                        ('@xml:base',\n",
       "                                                         'https://knanne.github.io/posts/notes-on-pyspark'),\n",
       "                                                        ('#text',\n",
       "                                                         '<p>Random notes, links, commands or snippets of code related to big data analysis using PySpark (on Databricks).</p>\\n\\n<!-- excerpt separator -->\\n\\n<ul id=\"markdown-toc\">\\n  <li><a href=\"#intro\" id=\"markdown-toc-intro\">Intro</a></li>\\n  <li><a href=\"#common-techniques\" id=\"markdown-toc-common-techniques\">Common Techniques</a></li>\\n  <li><a href=\"#code-snippets\" id=\"markdown-toc-code-snippets\">Code Snippets</a></li>\\n  <li><a href=\"#machine-learning\" id=\"markdown-toc-machine-learning\">Machine Learning</a></li>\\n</ul>\\n\\n<h1 id=\"intro\">Intro</h1>\\n\\n<blockquote>\\n  <p>Apache Spark™ is a fast and general engine for large-scale data processing. - <a href=\"http://spark.apache.org/\">website</a></p>\\n</blockquote>\\n\\n<p>Spark is made accessible to Python users via the Python API, which is virtually as up to date as the Scala and Java API.</p>\\n\\n<p>I was introduced to Spark via way of <a href=\"https://databricks.com\">Databricks</a> (Also Apache) platform through my company. Consider it a commercial version of Jupyter or Zeppelin notebooks, language-agnostic, integrated on top of a Spark with a bunch of fancy runtime features.</p>\\n\\n<p>Going through the registration for a free trial of Databricks and deploying it on a free trial of Amazon AWS takes minutes, and I would highly recommend it as a starting point to getting introduced to Spark. Databricks also has a community edition for learning purposes worth looking into.</p>\\n\\n<p>Browse the <a href=\"https://docs.databricks.com/spark/latest/training/index.html\">Databricks training material</a> and public notebooks for more.</p>\\n\\n<p>Regarding Python, <a href=\"https://spark.apache.org/docs/latest/api/python/index.html\">the Python API docs</a> are available from Apache and the best source for up to date examples. As well, <a href=\"https://docs.databricks.com/\">Databricks</a> has some good notes, but not complete as they are not trying to replace the official docs.</p>\\n\\n<h1 id=\"common-techniques\">Common Techniques</h1>\\n\\n<p>There are two common ways to select on DataFrames through the Python API of Spark. Either <code class=\"highlighter-rouge\">df.select(\"myCol\")</code> or <code class=\"highlighter-rouge\">df.selectExp(\"myCol\")</code>.</p>\\n\\n<p>For me <code class=\"highlighter-rouge\">.select()</code> is the most intuitive coming from Pandas, however I also always do <code class=\"highlighter-rouge\">from pyspark.sql import functions as F</code> and use <code class=\"highlighter-rouge\">df.select(F.col(\"myCol\").key)</code> or <code class=\"highlighter-rouge\">df.select(F.explode(\"myCol\"))</code>.</p>\\n\\n<p>While others prefer to use <code class=\"highlighter-rouge\">.selectExp()</code> which accepts SQL but still returns the DataFrame, and do <code class=\"highlighter-rouge\">df.selectExp(\"myCol.key\")</code> or <code class=\"highlighter-rouge\">df.selectExp(\"explode(myCol)\")</code>.</p>\\n\\n<p>Group by and aggregation look like this, <code class=\"highlighter-rouge\">df.groupby(\"myCol1\", \"myCol2\").agg(F.countDistinct(\"myCol3\"))</code>.</p>\\n\\n<p>The below table (stolen from a Databricks talk I attended) outlines main SQL functions and their Python API equivalent. The cool thing is these apply the same across Spark APIs (Scala, R, Java etc.)</p>\\n\\n<table>\\n  <thead>\\n    <tr>\\n      <th>SQL</th>\\n      <th>DataFame API</th>\\n      <th>DataFrame example (with String column names)</th>\\n    </tr>\\n  </thead>\\n  <tbody>\\n    <tr>\\n      <td>SELECT</td>\\n      <td>select, selectExpr</td>\\n      <td>myDataFrame.select(“someColumn”)</td>\\n    </tr>\\n    <tr>\\n      <td>WHERE</td>\\n      <td>filter, where</td>\\n      <td>myDataFrame.filter(“someColumn &gt; 10”)</td>\\n    </tr>\\n    <tr>\\n      <td>GROUP BY</td>\\n      <td>groupBy</td>\\n      <td>myDataFrame.groupBy(“someColumn”)</td>\\n    </tr>\\n    <tr>\\n      <td>ORDER BY</td>\\n      <td>orderBy</td>\\n      <td>myDataFrame.orderBy(“column”)</td>\\n    </tr>\\n    <tr>\\n      <td>JOIN</td>\\n      <td>join</td>\\n      <td>myDataFrame.join(otherDataFrame, “innerEquiJoinColumn”)</td>\\n    </tr>\\n    <tr>\\n      <td>UNION</td>\\n      <td>union</td>\\n      <td>myDataFrame.union(otherDataFrame)</td>\\n    </tr>\\n  </tbody>\\n</table>\\n\\n<p>Chaining functions together works really well, for example: <code class=\"highlighter-rouge\">df.filter(...).select(...).join(...).groupby(...).agg(...)</code>.</p>\\n\\n<p>Also, when dealing with Spark Datasets (RDDs or HIVE tables), nested dictionaries and arrays can be utilized quite powerfully, and accessed in natural Pythonic ways. For example, as show above, access dictionaries using <code class=\"highlighter-rouge\">myDictCol.key</code>, and index arrays simply with <code class=\"highlighter-rouge\">myArrayCol[index]</code>.</p>\\n\\n<p>Common functions to remember are <code class=\"highlighter-rouge\">.withColumn()</code> to add calculated fields to DataFrames or chain more than one <code class=\"highlighter-rouge\">explode</code> together, and also <code class=\"highlighter-rouge\">.withColumnRenamed()</code> to quickly rename that function-applied column.</p>\\n\\n<p>After <code class=\"highlighter-rouge\">from pyspark.sql import functions as F</code>, you have access to a lot of basic tools, which can be combined in all sorts of ways to analysis. Consider the example of making SQL-accepted date column by combining a string year and month column. <code class=\"highlighter-rouge\">df.withColumn(F.to_date(F.concat_ws(\\'-\\', df.year, df.month, F.lit(\\'01\\')), format=\\'yyyy-MM-dd\\').alias(\"date\"))</code>.</p>\\n\\n<h1 id=\"code-snippets\">Code Snippets</h1>\\n\\n<p>Below is a collection of code samples which I have created and needed to use in my work more than once. They may be helpful to others.</p>\\n\\n<h2 id=\"explode-with-index\">Explode with Index</h2>\\n\\n<p>Explode an elements in an array, or a key in an array of nested dictionaries with an index value, to capture the sequence.</p>\\n\\n<p>The below code creates a PySpark <code class=\"highlighter-rouge\">user defined function</code> which implements <code class=\"highlighter-rouge\">enumerate</code> on a list and returns a dictionary with <code class=\"highlighter-rouge\">{index:value}</code> as integer and string respectively. I apply this to a dummy column “myNestedDict” which contains a key “myNestedCol” to show that this can work on dictionaries as well as arrays.</p>\\n\\n<div class=\"language-python highlighter-rouge\"><div class=\"highlight\"><pre class=\"highlight\"><code><span class=\"kn\">from</span> <span class=\"nn\">pyspark.sql.functions</span> <span class=\"kn\">import</span> <span class=\"n\">udf</span><span class=\"p\">,</span> <span class=\"n\">col</span><span class=\"p\">,</span> <span class=\"n\">explode</span>\\n<span class=\"kn\">from</span> <span class=\"nn\">pyspark.sql.types</span> <span class=\"kn\">import</span> <span class=\"n\">ArrayType</span><span class=\"p\">,</span> <span class=\"n\">MapType</span><span class=\"p\">,</span> <span class=\"n\">StringType</span><span class=\"p\">,</span> <span class=\"n\">IntegerType</span>\\n\\n<span class=\"n\">explodeWithIndex</span> <span class=\"o\">=</span> <span class=\"n\">udf</span><span class=\"p\">(</span><span class=\"k\">lambda</span> <span class=\"n\">x</span><span class=\"p\">:</span> <span class=\"n\">i</span><span class=\"p\">:</span><span class=\"nb\">str</span><span class=\"p\">(</span><span class=\"n\">v</span><span class=\"p\">)</span> <span class=\"k\">for</span> <span class=\"n\">i</span><span class=\"p\">,</span><span class=\"n\">v</span> <span class=\"ow\">in</span> <span class=\"nb\">enumerate</span><span class=\"p\">(</span><span class=\"n\">x</span><span class=\"p\">)</span> <span class=\"k\">if</span> <span class=\"n\">x</span> <span class=\"ow\">is</span> <span class=\"ow\">not</span> <span class=\"bp\">None</span><span class=\"p\">,</span> <span class=\"n\">MapType</span><span class=\"p\">(</span><span class=\"n\">IntegerType</span><span class=\"p\">(),</span><span class=\"n\">StringType</span><span class=\"p\">()))</span>\\n\\n<span class=\"n\">df2</span> <span class=\"o\">=</span> <span class=\"n\">df</span><span class=\"o\">.</span><span class=\"nb\">filter</span><span class=\"p\">(</span><span class=\"n\">col</span><span class=\"p\">(</span><span class=\"s\">\"myNestedDict\"</span><span class=\"p\">)</span><span class=\"o\">.</span><span class=\"n\">isNotNull</span><span class=\"p\">())</span><span class=\"o\">.</span><span class=\"n\">select</span><span class=\"p\">(</span><span class=\"s\">\"id\"</span><span class=\"p\">,</span> <span class=\"n\">explode</span><span class=\"p\">(</span><span class=\"n\">explodeWithIndex</span><span class=\"p\">(</span><span class=\"s\">\"myNestedDict\"</span><span class=\"p\">)</span><span class=\"o\">.</span><span class=\"n\">myNestedCol</span><span class=\"p\">))</span>\\n</code></pre></div></div>\\n\\n<h2 id=\"reverse-explode\">Reverse Explode</h2>\\n\\n<p>Convert a column of strings to comma separated values list as a single string within a group by statement.</p>\\n\\n<p>The below sample code will group by a dummy id, and roll up a column of string values into a single column of comma separated values. This could also be considered as a reverse explode.</p>\\n\\n<div class=\"language-python highlighter-rouge\"><div class=\"highlight\"><pre class=\"highlight\"><code><span class=\"kn\">from</span> <span class=\"nn\">pyspark.sql</span> <span class=\"kn\">import</span> <span class=\"n\">functions</span> <span class=\"k\">as</span> <span class=\"n\">F</span>\\n\\n<span class=\"n\">df2</span> <span class=\"o\">=</span> <span class=\"n\">df</span><span class=\"o\">.</span><span class=\"n\">groupby</span><span class=\"p\">(</span><span class=\"s\">\"id\"</span><span class=\"p\">)</span><span class=\"o\">.</span><span class=\"n\">agg</span><span class=\"p\">(</span><span class=\"n\">F</span><span class=\"o\">.</span><span class=\"n\">concat_ws</span><span class=\"p\">(</span><span class=\"s\">\",\"</span><span class=\"p\">,</span> <span class=\"n\">F</span><span class=\"o\">.</span><span class=\"n\">collect_list</span><span class=\"p\">(</span><span class=\"s\">\"myValues\"</span><span class=\"p\">)))</span><span class=\"o\">.</span><span class=\"n\">withColumnRenamed</span><span class=\"p\">(</span><span class=\"s\">\"concat_ws(,, collect_list(myValues))\"</span><span class=\"p\">,</span> <span class=\"s\">\"myCSV\"</span><span class=\"p\">)</span>\\n</code></pre></div></div>\\n\\n<h1 id=\"machine-learning\">Machine Learning</h1>\\n\\n<p>I have a really basic example of how to fully train and evaluate a Linear Regression Model using a Spark DataFrame, you can find it as a notebook at <a href=\"/notebooks/pyspark_linear_regression\">notebooks/pyspark_linear_regression</a>.</p>')])),\n",
       "                                          ('author',\n",
       "                                           OrderedDict([('name',\n",
       "                                                         'Kain Nanne')])),\n",
       "                                          ('category',\n",
       "                                           [OrderedDict([('@term',\n",
       "                                                          'pyspark')]),\n",
       "                                            OrderedDict([('@term', 'spark')]),\n",
       "                                            OrderedDict([('@term', 'python')]),\n",
       "                                            OrderedDict([('@term',\n",
       "                                                          'databricks')])]),\n",
       "                                          ('summary',\n",
       "                                           OrderedDict([('@type', 'html'),\n",
       "                                                        ('#text',\n",
       "                                                         'Random notes, links, commands or snippets of code related to big data analysis using PySpark (on Databricks).')]))]),\n",
       "                             OrderedDict([('title',\n",
       "                                           OrderedDict([('@type', 'html'),\n",
       "                                                        ('#text',\n",
       "                                                         'Random Resources For Data Analysis')])),\n",
       "                                          ('link',\n",
       "                                           OrderedDict([('@href',\n",
       "                                                         'https://knanne.github.io/posts/random-resources-for-data-analysis'),\n",
       "                                                        ('@rel', 'alternate'),\n",
       "                                                        ('@type', 'text/html'),\n",
       "                                                        ('@title',\n",
       "                                                         'Random Resources For Data Analysis')])),\n",
       "                                          ('published',\n",
       "                                           '2017-11-22T00:00:00+00:00'),\n",
       "                                          ('updated',\n",
       "                                           '2017-11-22T00:00:00+00:00'),\n",
       "                                          ('id',\n",
       "                                           'https://knanne.github.io/posts/random-resources-for-data-analysis'),\n",
       "                                          ('content',\n",
       "                                           OrderedDict([('@type', 'html'),\n",
       "                                                        ('@xml:base',\n",
       "                                                         'https://knanne.github.io/posts/random-resources-for-data-analysis'),\n",
       "                                                        ('#text',\n",
       "                                                         '<p>Random notes, links, commands or snippets of code related to data analysis and the like.</p>\\n\\n<!-- excerpt separator -->\\n\\n<ul id=\"markdown-toc\">\\n  <li><a href=\"#github-file\" id=\"markdown-toc-github-file\">GitHub File</a></li>\\n</ul>\\n\\n<h1 id=\"github-file\">GitHub File</h1>\\n\\n<p>Download a single file from GitHub using the curl and a hidden, direct path. The link is <code class=\"highlighter-rouge\">https://raw.githubusercontent.com/username/project/branch/file</code></p>\\n\\n<div class=\"language-shell highlighter-rouge\"><div class=\"highlight\"><pre class=\"highlight\"><code>curl https://raw.githubusercontent.com/username/project/branch/file <span class=\"o\">&gt;</span> outfile\\n</code></pre></div></div>')])),\n",
       "                                          ('author',\n",
       "                                           OrderedDict([('name',\n",
       "                                                         'Kain Nanne')])),\n",
       "                                          ('summary',\n",
       "                                           OrderedDict([('@type', 'html'),\n",
       "                                                        ('#text',\n",
       "                                                         'Random notes, links, commands or snippets of code related to data analysis and the like.')]))]),\n",
       "                             OrderedDict([('title',\n",
       "                                           OrderedDict([('@type', 'html'),\n",
       "                                                        ('#text',\n",
       "                                                         'Preprocessing Data In Pandas')])),\n",
       "                                          ('link',\n",
       "                                           OrderedDict([('@href',\n",
       "                                                         'https://knanne.github.io/posts/preprocessing-data-in-pandas'),\n",
       "                                                        ('@rel', 'alternate'),\n",
       "                                                        ('@type', 'text/html'),\n",
       "                                                        ('@title',\n",
       "                                                         'Preprocessing Data In Pandas')])),\n",
       "                                          ('published',\n",
       "                                           '2017-11-11T00:00:00+00:00'),\n",
       "                                          ('updated',\n",
       "                                           '2017-11-11T00:00:00+00:00'),\n",
       "                                          ('id',\n",
       "                                           'https://knanne.github.io/posts/preprocessing-data-in-pandas'),\n",
       "                                          ('content',\n",
       "                                           OrderedDict([('@type', 'html'),\n",
       "                                                        ('@xml:base',\n",
       "                                                         'https://knanne.github.io/posts/preprocessing-data-in-pandas'),\n",
       "                                                        ('#text',\n",
       "                                                         '<p>Notes on preparing a Pandas DataFrame for statistical modeling</p>\\n\\n<!-- excerpt separator -->\\n\\n<ul id=\"markdown-toc\">\\n  <li><a href=\"#pandas\" id=\"markdown-toc-pandas\">Pandas</a></li>\\n  <li><a href=\"#scikit-learn\" id=\"markdown-toc-scikit-learn\">scikit-learn</a></li>\\n</ul>\\n\\n<h1 id=\"pandas\">Pandas</h1>\\n\\n<h2 id=\"scale\">Scale</h2>\\n\\n<p>Transform all data columns to having range from 0 to 1.</p>\\n\\n<div class=\"language-python highlighter-rouge\"><div class=\"highlight\"><pre class=\"highlight\"><code><span class=\"n\">scale</span> <span class=\"o\">=</span> <span class=\"k\">lambda</span> <span class=\"n\">x</span><span class=\"p\">:</span> <span class=\"n\">x</span> <span class=\"o\">/</span> <span class=\"n\">x</span><span class=\"o\">.</span><span class=\"nb\">max</span><span class=\"p\">()</span>\\n<span class=\"n\">df_scale</span> <span class=\"o\">=</span> <span class=\"n\">df</span><span class=\"o\">.</span><span class=\"nb\">apply</span><span class=\"p\">(</span><span class=\"n\">scale</span><span class=\"p\">)</span>\\n<span class=\"n\">df_scale</span><span class=\"o\">.</span><span class=\"n\">describe</span><span class=\"p\">()</span>\\n</code></pre></div></div>\\n\\n<h2 id=\"normalize\">Normalize</h2>\\n\\n<p>Transform all data columns to having mean 0, and standard deviation 1.</p>\\n\\n<div class=\"language-python highlighter-rouge\"><div class=\"highlight\"><pre class=\"highlight\"><code><span class=\"n\">normalize</span> <span class=\"o\">=</span> <span class=\"k\">lambda</span> <span class=\"n\">x</span><span class=\"p\">:</span> <span class=\"p\">(</span><span class=\"n\">x</span> <span class=\"o\">-</span> <span class=\"n\">x</span><span class=\"o\">.</span><span class=\"n\">mean</span><span class=\"p\">())</span> <span class=\"o\">/</span> <span class=\"n\">x</span><span class=\"o\">.</span><span class=\"n\">std</span><span class=\"p\">()</span>\\n<span class=\"n\">df_norm</span> <span class=\"o\">=</span> <span class=\"n\">df</span><span class=\"o\">.</span><span class=\"nb\">apply</span><span class=\"p\">(</span><span class=\"n\">normalize</span><span class=\"p\">)</span>\\n<span class=\"n\">df_norm</span><span class=\"o\">.</span><span class=\"n\">describe</span><span class=\"p\">()</span>\\n</code></pre></div></div>\\n\\n<h2 id=\"standardize\">Standardize</h2>\\n\\n<p>First normalize the data, then scale from 0 to 1.</p>\\n\\n<div class=\"language-python highlighter-rouge\"><div class=\"highlight\"><pre class=\"highlight\"><code><span class=\"n\">df_stdz</span> <span class=\"o\">=</span> <span class=\"n\">df</span><span class=\"o\">.</span><span class=\"nb\">apply</span><span class=\"p\">(</span><span class=\"n\">normalize</span><span class=\"p\">)</span><span class=\"o\">.</span><span class=\"nb\">apply</span><span class=\"p\">(</span><span class=\"n\">scale</span><span class=\"p\">)</span>\\n<span class=\"c\"># if the above throws an error, this means you probably divided by zero when normalizing. Use the below code to first impute bad data to 0 before scaling.</span>\\n<span class=\"c\">#df_stdz = df.apply(normalize).replace([-np.inf,np.inf], np.nan).fillna(0).apply(scale)</span>\\n<span class=\"n\">df_stdz</span><span class=\"o\">.</span><span class=\"n\">describe</span><span class=\"p\">()</span>\\n</code></pre></div></div>\\n\\n<h1 id=\"scikit-learn\">scikit-learn</h1>\\n\\n<p>Using <a href=\"http://scikit-learn.org/\">scikit-learn</a>, do the same thing.</p>\\n\\n<div class=\"language-python highlighter-rouge\"><div class=\"highlight\"><pre class=\"highlight\"><code><span class=\"kn\">from</span> <span class=\"nn\">sklearnsklearn.preprocessing</span> <span class=\"kn\">import</span> <span class=\"n\">MinMaxScaler</span>\\n\\n<span class=\"n\">scaler</span> <span class=\"o\">=</span> <span class=\"n\">MinMaxScaler</span><span class=\"p\">()</span>\\n\\n<span class=\"n\">df_stdz</span> <span class=\"o\">=</span> <span class=\"n\">pd</span><span class=\"o\">.</span><span class=\"n\">DataFrame</span><span class=\"p\">(</span><span class=\"n\">scaler</span><span class=\"o\">.</span><span class=\"n\">fit_transform</span><span class=\"p\">(</span><span class=\"n\">df</span><span class=\"p\">),</span> <span class=\"n\">columns</span><span class=\"o\">=</span><span class=\"n\">df</span><span class=\"o\">.</span><span class=\"n\">columns</span><span class=\"p\">,</span> <span class=\"n\">index</span><span class=\"o\">=</span><span class=\"n\">df</span><span class=\"o\">.</span><span class=\"n\">index</span><span class=\"p\">)</span>\\n<span class=\"n\">df_stdz</span><span class=\"o\">.</span><span class=\"n\">describe</span><span class=\"p\">()</span>\\n</code></pre></div></div>\\n\\n<p>Now look into other <a href=\"(http://scikit-learn.org/stable/modules/preprocessing.html)\">built-in preprocessors on scikit-learn</a>, and consider <a href=\"http://scikit-learn.org/stable/auto_examples/preprocessing/plot_all_scaling.html#sphx-glr-auto-examples-preprocessing-plot-all-scaling-py\">how to handle outliers</a></p>')])),\n",
       "                                          ('author',\n",
       "                                           OrderedDict([('name',\n",
       "                                                         'Kain Nanne')])),\n",
       "                                          ('category',\n",
       "                                           [OrderedDict([('@term', 'python')]),\n",
       "                                            OrderedDict([('@term',\n",
       "                                                          'pandas')])]),\n",
       "                                          ('summary',\n",
       "                                           OrderedDict([('@type', 'html'),\n",
       "                                                        ('#text',\n",
       "                                                         'Notes on preparing a Pandas DataFrame for statistical modeling')]))]),\n",
       "                             OrderedDict([('title',\n",
       "                                           OrderedDict([('@type', 'html'),\n",
       "                                                        ('#text',\n",
       "                                                         'Notes On Regular Expression')])),\n",
       "                                          ('link',\n",
       "                                           OrderedDict([('@href',\n",
       "                                                         'https://knanne.github.io/posts/notes-on-regular-expression'),\n",
       "                                                        ('@rel', 'alternate'),\n",
       "                                                        ('@type', 'text/html'),\n",
       "                                                        ('@title',\n",
       "                                                         'Notes On Regular Expression')])),\n",
       "                                          ('published',\n",
       "                                           '2017-10-04T00:00:00+00:00'),\n",
       "                                          ('updated',\n",
       "                                           '2017-10-04T00:00:00+00:00'),\n",
       "                                          ('id',\n",
       "                                           'https://knanne.github.io/posts/notes-on-regular-expression'),\n",
       "                                          ('content',\n",
       "                                           OrderedDict([('@type', 'html'),\n",
       "                                                        ('@xml:base',\n",
       "                                                         'https://knanne.github.io/posts/notes-on-regular-expression'),\n",
       "                                                        ('#text',\n",
       "                                                         '<p>Notes and scripts on Regular Expression that may be useful to others</p>\\n\\n<!-- excerpt separator -->\\n\\n<ul id=\"markdown-toc\">\\n  <li><a href=\"#intro\" id=\"markdown-toc-intro\">Intro</a></li>\\n  <li><a href=\"#basics\" id=\"markdown-toc-basics\">Basics</a></li>\\n  <li><a href=\"#validation\" id=\"markdown-toc-validation\">Validation</a></li>\\n  <li><a href=\"#search\" id=\"markdown-toc-search\">Search</a></li>\\n  <li><a href=\"#python\" id=\"markdown-toc-python\">Python</a></li>\\n  <li><a href=\"#find-and-replace\" id=\"markdown-toc-find-and-replace\">Find and Replace</a></li>\\n  <li><a href=\"#random-code-snippets\" id=\"markdown-toc-random-code-snippets\">Random Code Snippets</a></li>\\n</ul>\\n\\n<h1 id=\"intro\">Intro</h1>\\n\\n<p>Regular Expression is some serious magic.</p>\\n\\n<p>But, after some time playing around at <a href=\"https://regex101.com/\">regex101.com/</a>, you can understand how to combine the right components you may need to solve your problems.</p>\\n\\n<h1 id=\"basics\">Basics</h1>\\n\\n<p>Here is a short list of some common regex code and their meanings.</p>\\n\\n<ul>\\n  <li><code class=\"highlighter-rouge\">^</code> means start at beginning of sting</li>\\n  <li><code class=\"highlighter-rouge\">$</code> means start from end of string</li>\\n  <li>anything in <code class=\"highlighter-rouge\">[]</code> will return exact matches for those characters</li>\\n  <li>adding a <code class=\"highlighter-rouge\">^</code> inside the square brackets negates those characters, and returns anything but the given characters, for example: <code class=\"highlighter-rouge\">[^0-9]</code> will return non-numeric characters</li>\\n  <li>anything in <code class=\"highlighter-rouge\">()</code> means capturing group</li>\\n  <li>a non-capturing group is identified by <code class=\"highlighter-rouge\">(?:</code>+<code class=\"highlighter-rouge\">whatever</code>+<code class=\"highlighter-rouge\">)</code></li>\\n  <li>the combination of <code class=\"highlighter-rouge\">(.*?)</code> will return virtually everything (except for new line)</li>\\n  <li>chain logic together with logical OR using pipe operator <code class=\"highlighter-rouge\">|</code></li>\\n  <li><code class=\"highlighter-rouge\">{4}</code> following a pattern means with length of 4</li>\\n  <li><code class=\"highlighter-rouge\">\\\\b</code> will match a “word boundary”</li>\\n  <li><code class=\"highlighter-rouge\">(?=)</code> is used as a “positive look ahead”, see <a href=\"https://stackoverflow.com/a/2973495/5356898\">this simple explanation</a></li>\\n  <li><code class=\"highlighter-rouge\">(?&lt;=)</code> is used as a “positive look behind”, see <a href=\"https://stackoverflow.com/a/2973495/5356898\">this simple explanation</a></li>\\n</ul>\\n\\n<h1 id=\"validation\">Validation</h1>\\n\\n<p>A good use for regular expression is for validation strings. For example, if you manage some user interface where you want to accept input based on some set criteria.</p>\\n\\n<h2 id=\"comma-separated-words\">Comma Separated Words</h2>\\n\\n<p>The following will validate only a list of comma separated characters (lowercase, or uppercase).</p>\\n\\n<p><code class=\"highlighter-rouge\">^([a-zA-Z ])+(,[a-zA-Z ]+)*$</code></p>\\n\\n<h2 id=\"comma-separated-numbers\">Comma Separated Numbers</h2>\\n\\n<p>The following will validate a only list of comma separated numbers of length 1 to 10.</p>\\n\\n<p><code class=\"highlighter-rouge\">^([0-9]{1,10})+(,[0-9]{1,10}+)*$</code></p>\\n\\n<h2 id=\"email\">Email</h2>\\n\\n<p>If we consider an email con only contain characters <code class=\"highlighter-rouge\">0-9</code>, <code class=\"highlighter-rouge\">a-z</code>, <code class=\"highlighter-rouge\">A-Z</code>, <code class=\"highlighter-rouge\">-</code>, <code class=\"highlighter-rouge\">.</code>, or <code class=\"highlighter-rouge\">_</code>, we can construct checks for these characters separated by <code class=\"highlighter-rouge\">@</code>.</p>\\n\\n<p>Verify string is email with <code class=\"highlighter-rouge\">^([0-9a-zA-Z._-]+)@(?:[0-9a-zA-Z._-]*)$</code>.</p>\\n\\n<p>Verify string is a list of emails, separated by comma or semicolon, with <code class=\"highlighter-rouge\">^(([0-9a-zA-Z._-]+)@(?:[0-9a-zA-Z._-]*)(\\\\]?)(\\\\s*(;|,)\\\\s*|\\\\s*$))*$</code>.</p>\\n\\n<p>To achieve both of these and also check for a specific email domain, for example a company email address, use <code class=\"highlighter-rouge\">^([0-9a-zA-Z._-]+)@company.com$</code></p>\\n\\n<p>Or for a comma / semicolon separated list <code class=\"highlighter-rouge\">^(([0-9a-zA-Z._-]+)@company.com(\\\\]?)(\\\\s*(;|,)\\\\s*|\\\\s*$))*$</code></p>\\n\\n<h1 id=\"search\">Search</h1>\\n\\n<p>Regular expression can have many applications in data analysis for searching text data.</p>\\n\\n<h2 id=\"between\">Between</h2>\\n\\n<p>Just use <code class=\"highlighter-rouge\">prefix(.*?)suffix</code>.</p>\\n\\n<p>Or combine the above logic with non-capturing groups for more dynamic searching. For example, <code class=\"highlighter-rouge\">(?:prefix1|prefix2|prefix3)(.*)(?:suffix1|suffix2|suffix3)</code></p>\\n\\n<p>Imagine if you needed to parse contracts or some sort of somewhat standardized document to find optional data fields. You could construct a regular expression to include the possible words that would always appear before and after the desired text (e.g. “party 1 paid…to party 2”).</p>\\n\\n<h1 id=\"python\">Python</h1>\\n\\n<p>Here is a, not very practical example, of how to use regular expression in python.</p>\\n\\n<p>The regular expression: <code class=\"highlighter-rouge\">(?:slow|quick)(.*)(?:walks|jumps|crawls)(.*)(?:lazy|happy|sleeping)(.*)</code></p>\\n\\n<p>The example text:</p>\\n<blockquote>\\n  <p>The quick brown fox jumps over the lazy dog</p>\\n</blockquote>\\n\\n<div class=\"language-python highlighter-rouge\"><div class=\"highlight\"><pre class=\"highlight\"><code><span class=\"kn\">import</span> <span class=\"nn\">re</span>\\n\\n<span class=\"n\">s</span> <span class=\"o\">=</span> <span class=\"s\">\"The quick brown fox jumps over the lazy dog.\"</span>\\n\\n<span class=\"n\">pattern</span> <span class=\"o\">=</span> <span class=\"s\">\"(?:slow|quick)(.*)(?:walks|jumps|crawls)(.*)(?:lazy|happy|sleeping)(.*)\"</span>\\n\\n<span class=\"n\">r</span> <span class=\"o\">=</span> <span class=\"n\">re</span><span class=\"o\">.</span><span class=\"n\">findall</span><span class=\"p\">(</span><span class=\"n\">pattern</span><span class=\"p\">,</span> <span class=\"n\">s</span><span class=\"p\">)</span>\\n\\n<span class=\"k\">print</span><span class=\"p\">(</span><span class=\"n\">r</span><span class=\"p\">)</span>\\n</code></pre></div></div>\\n\\n<p>This will print out: <code class=\"highlighter-rouge\">[(\\' brown fox \\', \\' over the \\', \\' dog.\\')]</code></p>\\n\\n<h1 id=\"find-and-replace\">Find and Replace</h1>\\n\\n<p>Another common problem to solve may be finding and replacing certain text, using more complicated logic than the traditional method.</p>\\n\\n<h2 id=\"replace-leading-or-trailing-characters\">Replace Leading or Trailing Characters</h2>\\n\\n<p>Instead of doing a find and replace of an extract string, regex allows you create a logical search for certain characters based on their position in relation to other characters.</p>\\n\\n<p>For example, imagine the case of have the string <code class=\"highlighter-rouge\">\"$ 10,000.00 USD\"</code>, and we want to remove the leading or trailing non-numeric characters and keep only the numeric characters, as this is the valid data we want to store.</p>\\n\\n<p>Use the positive look ahead/behind concepts in regex to apply the following logic.</p>\\n\\n<p><code class=\"highlighter-rouge\">^[^0-9 ]+(?=[0-9,\\\\.])</code> will match leading non-numeric characters preceding a pattern of numeric characters which may also include comma or period</p>\\n\\n<p><code class=\"highlighter-rouge\">(?&lt;=[0-9,\\\\.])[^0-9]+$</code> will similarly match the trailing non-numeric following a pattern of numeric characters which may also include comma or period</p>\\n\\n<p>Wrapping this up in Python, with the <code class=\"highlighter-rouge\">re.sub()</code> function looks like:</p>\\n\\n<div class=\"language-python highlighter-rouge\"><div class=\"highlight\"><pre class=\"highlight\"><code><span class=\"n\">s</span> <span class=\"o\">=</span> <span class=\"s\">\"$ 10,000.00 USD\"</span>\\n<span class=\"k\">print</span><span class=\"p\">(</span><span class=\"n\">s</span><span class=\"p\">)</span>\\n<span class=\"n\">s</span> <span class=\"o\">=</span> <span class=\"n\">re</span><span class=\"o\">.</span><span class=\"n\">sub</span><span class=\"p\">(</span><span class=\"s\">r\\'^[^0-9]+(?=[0-9,\\\\.])\\'</span><span class=\"p\">,</span><span class=\"s\">\\'\\'</span><span class=\"p\">,</span><span class=\"n\">s</span><span class=\"p\">)</span>\\n<span class=\"k\">print</span><span class=\"p\">(</span><span class=\"n\">s</span><span class=\"p\">)</span>\\n<span class=\"n\">s</span> <span class=\"o\">=</span> <span class=\"n\">re</span><span class=\"o\">.</span><span class=\"n\">sub</span><span class=\"p\">(</span><span class=\"s\">r\\'(?&lt;=[0-9,\\\\.])[^0-9]+$\\'</span><span class=\"p\">,</span><span class=\"s\">\\'\\'</span><span class=\"p\">,</span><span class=\"n\">s</span><span class=\"p\">)</span>\\n<span class=\"k\">print</span><span class=\"p\">(</span><span class=\"n\">s</span><span class=\"p\">)</span>\\n</code></pre></div></div>\\n\\n<h1 id=\"random-code-snippets\">Random Code Snippets</h1>\\n\\n<h2 id=\"clean-date-text\">Clean Date Text</h2>\\n\\n<p>Here is a simple implementation of cleaning date text, from <a href=\"https://stackoverflow.com/a/14478473/5356898\">this StackOverflow post and answer</a></p>\\n\\n<p>Imagine parsing text with a date that looks like: “24th of April, 2018”. Wish there was a way to identify these number endings to remove them? Enter <code class=\"highlighter-rouge\">(?&lt;=\\\\d)(st|nd|rd|th)\\\\b</code>.</p>\\n\\n<p>By adding more logic or chaining other cleaning methods in python, you could try and capture many once dirty date text chunks into datetimes types.</p>\\n\\n<div class=\"language-python highlighter-rouge\"><div class=\"highlight\"><pre class=\"highlight\"><code><span class=\"kn\">import</span> <span class=\"nn\">pandas</span> <span class=\"k\">as</span> <span class=\"n\">pd</span>\\n<span class=\"kn\">import</span> <span class=\"nn\">re</span>\\n\\n<span class=\"n\">s</span> <span class=\"o\">=</span> <span class=\"s\">\"24th of April, 2018\"</span>\\n<span class=\"n\">s</span> <span class=\"o\">=</span> <span class=\"n\">re</span><span class=\"o\">.</span><span class=\"n\">sub</span><span class=\"p\">(</span><span class=\"s\">r\"(?&lt;=\\\\d)(st|nd|rd|th)\\\\b\"</span><span class=\"p\">,</span> <span class=\"s\">\\'\\'</span><span class=\"p\">,</span> <span class=\"n\">s</span><span class=\"p\">)</span>\\n<span class=\"n\">s</span> <span class=\"o\">=</span> <span class=\"s\">\\' \\'</span><span class=\"o\">.</span><span class=\"n\">join</span><span class=\"p\">(</span><span class=\"n\">s</span><span class=\"o\">.</span><span class=\"n\">replace</span><span class=\"p\">(</span><span class=\"s\">\\',\\'</span><span class=\"p\">,</span><span class=\"s\">\\'\\'</span><span class=\"p\">)</span><span class=\"o\">.</span><span class=\"n\">replace</span><span class=\"p\">(</span><span class=\"s\">\\'of\\'</span><span class=\"p\">,</span><span class=\"s\">\\'\\'</span><span class=\"p\">)</span><span class=\"o\">.</span><span class=\"n\">split</span><span class=\"p\">())</span>\\n<span class=\"n\">d</span> <span class=\"o\">=</span> <span class=\"n\">pd</span><span class=\"o\">.</span><span class=\"n\">to_datetime</span><span class=\"p\">(</span><span class=\"n\">s</span><span class=\"p\">,</span> <span class=\"n\">infer_datetime_format</span><span class=\"o\">=</span><span class=\"bp\">True</span><span class=\"p\">)</span>\\n<span class=\"n\">d</span>\\n</code></pre></div></div>\\n\\n<p>This will result in:</p>\\n\\n<div class=\"language-python highlighter-rouge\"><div class=\"highlight\"><pre class=\"highlight\"><code><span class=\"n\">Timestamp</span><span class=\"p\">(</span><span class=\"s\">\\'2018-04-24 00:00:00\\'</span><span class=\"p\">)</span><span class=\"err\">`</span>\\n</code></pre></div></div>')])),\n",
       "                                          ('author',\n",
       "                                           OrderedDict([('name',\n",
       "                                                         'Kain Nanne')])),\n",
       "                                          ('category',\n",
       "                                           OrderedDict([('@term', 'regex')])),\n",
       "                                          ('summary',\n",
       "                                           OrderedDict([('@type', 'html'),\n",
       "                                                        ('#text',\n",
       "                                                         'Notes and scripts on Regular Expression that may be useful to others')]))]),\n",
       "                             OrderedDict([('title',\n",
       "                                           OrderedDict([('@type', 'html'),\n",
       "                                                        ('#text',\n",
       "                                                         'Cleaning Data In Pandas')])),\n",
       "                                          ('link',\n",
       "                                           OrderedDict([('@href',\n",
       "                                                         'https://knanne.github.io/posts/cleaning-data-in-pandas'),\n",
       "                                                        ('@rel', 'alternate'),\n",
       "                                                        ('@type', 'text/html'),\n",
       "                                                        ('@title',\n",
       "                                                         'Cleaning Data In Pandas')])),\n",
       "                                          ('published',\n",
       "                                           '2017-09-24T00:00:00+00:00'),\n",
       "                                          ('updated',\n",
       "                                           '2017-09-24T00:00:00+00:00'),\n",
       "                                          ('id',\n",
       "                                           'https://knanne.github.io/posts/cleaning-data-in-pandas'),\n",
       "                                          ('content',\n",
       "                                           OrderedDict([('@type', 'html'),\n",
       "                                                        ('@xml:base',\n",
       "                                                         'https://knanne.github.io/posts/cleaning-data-in-pandas'),\n",
       "                                                        ('#text',\n",
       "                                                         '<p>Helpful scripts for data “munging” data using Pandas</p>\\n\\n<!-- excerpt separator -->\\n\\n<ul id=\"markdown-toc\">\\n  <li><a href=\"#columns\" id=\"markdown-toc-columns\">Columns</a></li>\\n  <li><a href=\"#missing-data\" id=\"markdown-toc-missing-data\">Missing Data</a></li>\\n  <li><a href=\"#coalesce\" id=\"markdown-toc-coalesce\">Coalesce</a></li>\\n  <li><a href=\"#dedupe\" id=\"markdown-toc-dedupe\">Dedupe</a></li>\\n  <li><a href=\"#search\" id=\"markdown-toc-search\">Search</a></li>\\n  <li><a href=\"#explode\" id=\"markdown-toc-explode\">Explode</a></li>\\n</ul>\\n\\n<h1 id=\"columns\">Columns</h1>\\n\\n<p>I often wish to standardize the header of a dataset after import, because the creator used capital letters, spaces, or other non-alphanumeric characters when naming columns.</p>\\n\\n<div class=\"language-python highlighter-rouge\"><div class=\"highlight\"><pre class=\"highlight\"><code><span class=\"kn\">import</span> <span class=\"nn\">re</span>\\n<span class=\"n\">clean</span> <span class=\"o\">=</span> <span class=\"k\">lambda</span> <span class=\"n\">s</span><span class=\"p\">:</span> <span class=\"n\">re</span><span class=\"o\">.</span><span class=\"n\">sub</span><span class=\"p\">(</span><span class=\"s\">\\'[^0-9a-zA-Z]+\\'</span><span class=\"p\">,</span> <span class=\"s\">\\'_\\'</span><span class=\"p\">,</span> <span class=\"n\">s</span><span class=\"o\">.</span><span class=\"n\">lower</span><span class=\"p\">())</span>\\n<span class=\"n\">df</span><span class=\"o\">.</span><span class=\"n\">columns</span> <span class=\"o\">=</span> <span class=\"n\">df</span><span class=\"o\">.</span><span class=\"n\">columns</span><span class=\"o\">.</span><span class=\"nb\">map</span><span class=\"p\">(</span><span class=\"n\">clean</span><span class=\"p\">)</span>\\n</code></pre></div></div>\\n\\n<h1 id=\"missing-data\">Missing Data</h1>\\n\\n<p>Count how many non-<code class=\"highlighter-rouge\">NULL</code> values are in each column.</p>\\n\\n<div class=\"language-python highlighter-rouge\"><div class=\"highlight\"><pre class=\"highlight\"><code><span class=\"n\">df</span><span class=\"o\">.</span><span class=\"n\">count</span><span class=\"p\">()</span>\\n</code></pre></div></div>\\n\\n<p>A fast and effective way to count how many <code class=\"highlighter-rouge\">NULL</code> values are in each column.</p>\\n\\n<div class=\"language-python highlighter-rouge\"><div class=\"highlight\"><pre class=\"highlight\"><code><span class=\"n\">df</span><span class=\"o\">.</span><span class=\"n\">isnull</span><span class=\"p\">()</span><span class=\"o\">.</span><span class=\"nb\">sum</span><span class=\"p\">()</span>\\n</code></pre></div></div>\\n\\n<p>Therefore, to get a percent of non-NULL values in your dataframe, do:</p>\\n\\n<div class=\"language-python highlighter-rouge\"><div class=\"highlight\"><pre class=\"highlight\"><code><span class=\"n\">df</span><span class=\"o\">.</span><span class=\"n\">count</span><span class=\"p\">()</span> <span class=\"o\">/</span> <span class=\"p\">(</span><span class=\"n\">df</span><span class=\"o\">.</span><span class=\"n\">count</span><span class=\"p\">()</span> <span class=\"o\">+</span> <span class=\"n\">df</span><span class=\"o\">.</span><span class=\"n\">isnull</span><span class=\"p\">()</span><span class=\"o\">.</span><span class=\"nb\">sum</span><span class=\"p\">())</span>\\n</code></pre></div></div>\\n\\n<p>Impute all <code class=\"highlighter-rouge\">NULL</code> values in an entire DataFrame of numeric data to 0.</p>\\n\\n<div class=\"language-python highlighter-rouge\"><div class=\"highlight\"><pre class=\"highlight\"><code><span class=\"n\">df</span><span class=\"o\">.</span><span class=\"n\">fillna</span><span class=\"p\">(</span><span class=\"mi\">0</span><span class=\"p\">)</span>\\n</code></pre></div></div>\\n\\n<p>If you need to impute more than <code class=\"highlighter-rouge\">NULL</code> values (maybe because you divided by 0 and now have infinite), you can chain together a <code class=\"highlighter-rouge\">.replace()</code> and <code class=\"highlighter-rouge\">.fillna()</code>.</p>\\n\\n<div class=\"language-python highlighter-rouge\"><div class=\"highlight\"><pre class=\"highlight\"><code><span class=\"n\">df</span><span class=\"o\">.</span><span class=\"n\">col</span><span class=\"o\">.</span><span class=\"n\">replace</span><span class=\"p\">([</span><span class=\"o\">-</span><span class=\"n\">np</span><span class=\"o\">.</span><span class=\"n\">inf</span><span class=\"p\">,</span> <span class=\"n\">np</span><span class=\"o\">.</span><span class=\"n\">inf</span><span class=\"p\">],</span> <span class=\"n\">np</span><span class=\"o\">.</span><span class=\"n\">nan</span><span class=\"p\">)</span><span class=\"o\">.</span><span class=\"n\">fillna</span><span class=\"p\">(</span><span class=\"mi\">0</span><span class=\"p\">)</span>\\n</code></pre></div></div>\\n\\n<h1 id=\"coalesce\">Coalesce</h1>\\n\\n<p>The concept of applying coalesce to multiple columns (like in SQL) can be applied on DataFrame columns. For example if you wanted to set a master phone number for record based on priority of phone1-3, you could do something like the following.</p>\\n\\n<div class=\"language-python highlighter-rouge\"><div class=\"highlight\"><pre class=\"highlight\"><code><span class=\"n\">df</span><span class=\"o\">.</span><span class=\"n\">iloc</span><span class=\"p\">[:,</span><span class=\"s\">\\'phone\\'</span><span class=\"p\">]</span> <span class=\"o\">=</span> <span class=\"n\">np</span><span class=\"o\">.</span><span class=\"n\">nan</span>\\n<span class=\"n\">df</span><span class=\"p\">[</span><span class=\"s\">\\'phone\\'</span><span class=\"p\">]</span> <span class=\"o\">=</span> <span class=\"n\">df</span><span class=\"p\">[</span><span class=\"s\">\\'phone\\'</span><span class=\"p\">]</span><span class=\"o\">.</span><span class=\"n\">fillna</span><span class=\"p\">(</span><span class=\"n\">df</span><span class=\"o\">.</span><span class=\"n\">phone1</span><span class=\"p\">)</span><span class=\"o\">.</span><span class=\"n\">fillna</span><span class=\"p\">(</span><span class=\"n\">df</span><span class=\"o\">.</span><span class=\"n\">phone2</span><span class=\"p\">)</span><span class=\"o\">.</span><span class=\"n\">fillna</span><span class=\"p\">(</span><span class=\"n\">df</span><span class=\"o\">.</span><span class=\"n\">phone3</span><span class=\"p\">)</span>\\n</code></pre></div></div>\\n\\n<h1 id=\"dedupe\">Dedupe</h1>\\n\\n<p>Dropping duplicates using <code class=\"highlighter-rouge\">df.drop_duplicates()</code> is the simplest method of deduplicating records by far. You can give keyword arguments to make it more useful like a only deduplicating on a subset of columns, or a method for which row to take.</p>\\n\\n<p>If you need to show the duplicates, you can use “~” to negate the indices of the deduplicated rows.</p>\\n\\n<div class=\"language-python highlighter-rouge\"><div class=\"highlight\"><pre class=\"highlight\"><code><span class=\"n\">df</span><span class=\"o\">.</span><span class=\"n\">loc</span><span class=\"p\">[</span><span class=\"o\">~</span><span class=\"n\">df</span><span class=\"o\">.</span><span class=\"n\">isin</span><span class=\"p\">(</span><span class=\"n\">df</span><span class=\"o\">.</span><span class=\"n\">drop_duplicates</span><span class=\"p\">())]</span>\\n</code></pre></div></div>\\n\\n<p>To show all rows within duplicated records based on some subset of columns, use the following. This can help isolate duplicated data to then figure out the logic for keeping the desired record.</p>\\n\\n<div class=\"language-python highlighter-rouge\"><div class=\"highlight\"><pre class=\"highlight\"><code><span class=\"n\">df</span><span class=\"p\">[</span><span class=\"n\">df</span><span class=\"o\">.</span><span class=\"n\">duplicated</span><span class=\"p\">(</span><span class=\"n\">subset</span><span class=\"o\">=</span><span class=\"p\">[</span><span class=\"s\">\\'col1\\'</span><span class=\"p\">,</span><span class=\"s\">\\'col2\\'</span><span class=\"p\">,</span><span class=\"s\">\\'col3\\'</span><span class=\"p\">],</span><span class=\"n\">keep</span><span class=\"o\">=</span><span class=\"bp\">False</span><span class=\"p\">)]</span><span class=\"o\">.</span><span class=\"n\">sort_values</span><span class=\"p\">(</span><span class=\"n\">by</span><span class=\"o\">=</span><span class=\"s\">\\'col4\\'</span><span class=\"p\">,</span><span class=\"n\">ascending</span><span class=\"o\">=</span><span class=\"bp\">False</span><span class=\"p\">)</span>\\n</code></pre></div></div>\\n\\n<p>Instead of keeping the first or last, we can apply more complex logic to for keeping records. For example, keep the record with max value (in col4) for each combination of multiple columns (col1, col2, and col3). Achieve this with the following code, by slicing the your DataFrame on indices of max for each group.</p>\\n\\n<div class=\"language-python highlighter-rouge\"><div class=\"highlight\"><pre class=\"highlight\"><code><span class=\"n\">df</span><span class=\"o\">.</span><span class=\"n\">iloc</span><span class=\"p\">[</span><span class=\"n\">df</span><span class=\"o\">.</span><span class=\"n\">groupby</span><span class=\"p\">([</span><span class=\"s\">\\'col1\\'</span><span class=\"p\">,</span> <span class=\"s\">\\'col2\\'</span><span class=\"p\">,</span> <span class=\"s\">\\'col3\\'</span><span class=\"p\">])</span><span class=\"o\">.</span><span class=\"n\">col4</span><span class=\"o\">.</span><span class=\"n\">idxmax</span><span class=\"p\">()]</span>\\n</code></pre></div></div>\\n\\n<h1 id=\"search\">Search</h1>\\n\\n<p>Search a column by a regular expression pattern, or single keyword, with <code class=\"highlighter-rouge\">.str.contains()</code> or <code class=\"highlighter-rouge\">.str.match()</code>. For more on this, refer to the Pandas docs on <a href=\"https://pandas.pydata.org/pandas-docs/stable/text.html#testing-for-strings-that-match-or-contain-a-pattern\">working with text data</a>. Alternatively, filter on a list of keywords with the below code.</p>\\n\\n<div class=\"language-python highlighter-rouge\"><div class=\"highlight\"><pre class=\"highlight\"><code><span class=\"n\">df</span> <span class=\"o\">=</span> <span class=\"n\">pd</span><span class=\"o\">.</span><span class=\"n\">DataFrame</span><span class=\"p\">({</span><span class=\"s\">\\'text\\'</span> <span class=\"p\">:</span> <span class=\"p\">[</span><span class=\"s\">\\'somekey1blah\\'</span><span class=\"p\">,</span>\\n                             <span class=\"s\">\\'somekey2blah\\'</span><span class=\"p\">,</span>\\n                             <span class=\"s\">\\'somekey3blah\\'</span><span class=\"p\">,</span>\\n                             <span class=\"s\">\\'somekey4blah\\'</span><span class=\"p\">,</span>\\n                             <span class=\"s\">\\'somekey5blah\\'</span><span class=\"p\">]})</span>\\n\\n<span class=\"n\">keywords</span> <span class=\"o\">=</span> <span class=\"p\">[</span><span class=\"s\">\\'key1\\'</span><span class=\"p\">,</span> <span class=\"s\">\\'key2\\'</span><span class=\"p\">,</span> <span class=\"s\">\\'key3\\'</span><span class=\"p\">]</span>\\n\\n<span class=\"c\"># inclusive search</span>\\n<span class=\"n\">df</span><span class=\"p\">[</span><span class=\"n\">df</span><span class=\"p\">[</span><span class=\"s\">\\'text\\'</span><span class=\"p\">]</span><span class=\"o\">.</span><span class=\"nb\">str</span><span class=\"o\">.</span><span class=\"n\">contains</span><span class=\"p\">(</span><span class=\"s\">\\'|\\'</span><span class=\"o\">.</span><span class=\"n\">join</span><span class=\"p\">(</span><span class=\"n\">keywords</span><span class=\"p\">),</span> <span class=\"n\">case</span><span class=\"o\">=</span><span class=\"bp\">False</span><span class=\"p\">)]</span>\\n<span class=\"c\"># exclusive search</span>\\n<span class=\"n\">df</span><span class=\"p\">[</span><span class=\"n\">df</span><span class=\"p\">[</span><span class=\"s\">\\'text\\'</span><span class=\"p\">]</span><span class=\"o\">.</span><span class=\"nb\">str</span><span class=\"o\">.</span><span class=\"n\">contains</span><span class=\"p\">(</span><span class=\"s\">\\'|\\'</span><span class=\"o\">.</span><span class=\"n\">join</span><span class=\"p\">(</span><span class=\"n\">keywords</span><span class=\"p\">),</span> <span class=\"n\">case</span><span class=\"o\">=</span><span class=\"bp\">False</span><span class=\"p\">)</span> <span class=\"o\">==</span> <span class=\"bp\">False</span><span class=\"p\">]</span>\\n</code></pre></div></div>\\n\\n<h1 id=\"explode\">Explode</h1>\\n\\n<div class=\"language-python highlighter-rouge\"><div class=\"highlight\"><pre class=\"highlight\"><code><span class=\"n\">df</span> <span class=\"o\">=</span> <span class=\"n\">pd</span><span class=\"o\">.</span><span class=\"n\">DataFrame</span><span class=\"p\">({</span><span class=\"s\">\\'csv\\'</span> <span class=\"p\">:</span> <span class=\"p\">[</span><span class=\"s\">\\'value1\\'</span><span class=\"p\">,</span>\\n                             <span class=\"s\">\\'value1,value2\\'</span><span class=\"p\">,</span>\\n                             <span class=\"s\">\\'value1,value2,value3,value4,value5,value6\\'</span><span class=\"p\">,</span>\\n                             <span class=\"s\">\\'value1\\'</span><span class=\"p\">,</span>\\n                             <span class=\"s\">\\'value1,value2,value3,value14\\'</span><span class=\"p\">]})</span>\\n\\n<span class=\"n\">df_exploded</span> <span class=\"o\">=</span> <span class=\"n\">df</span><span class=\"p\">[</span><span class=\"s\">\\'csv\\'</span><span class=\"p\">]</span><span class=\"o\">.</span><span class=\"nb\">str</span><span class=\"o\">.</span><span class=\"n\">split</span><span class=\"p\">(</span><span class=\"n\">pat</span><span class=\"o\">=</span><span class=\"s\">\\',\\'</span><span class=\"p\">,</span> <span class=\"n\">expand</span><span class=\"o\">=</span><span class=\"bp\">True</span><span class=\"p\">)</span><span class=\"o\">.</span><span class=\"n\">stack</span><span class=\"p\">()</span><span class=\"o\">.</span><span class=\"n\">to_frame</span><span class=\"p\">()</span>\\n\\n<span class=\"n\">df_exploded</span><span class=\"o\">.</span><span class=\"n\">columns</span> <span class=\"o\">=</span> <span class=\"p\">[</span><span class=\"s\">\\'value\\'</span><span class=\"p\">]</span>\\n<span class=\"n\">df_exploded</span><span class=\"o\">.</span><span class=\"n\">index</span><span class=\"o\">.</span><span class=\"n\">names</span> <span class=\"o\">=</span> <span class=\"p\">[</span><span class=\"s\">\\'id\\'</span><span class=\"p\">,</span> <span class=\"s\">\\'sequence\\'</span><span class=\"p\">]</span>\\n\\n<span class=\"n\">df_exploded</span> <span class=\"o\">=</span> <span class=\"n\">df_exploded</span><span class=\"o\">.</span><span class=\"n\">reset_index</span><span class=\"p\">(</span><span class=\"n\">level</span><span class=\"o\">=</span><span class=\"s\">\\'sequence\\'</span><span class=\"p\">)</span>\\n\\n<span class=\"n\">df</span> <span class=\"o\">=</span> <span class=\"n\">df</span><span class=\"o\">.</span><span class=\"n\">merge</span><span class=\"p\">(</span><span class=\"n\">df_exploded</span><span class=\"p\">,</span> <span class=\"n\">how</span><span class=\"o\">=</span><span class=\"s\">\\'left\\'</span><span class=\"p\">,</span> <span class=\"n\">left_index</span><span class=\"o\">=</span><span class=\"bp\">True</span><span class=\"p\">,</span> <span class=\"n\">right_index</span><span class=\"o\">=</span><span class=\"bp\">True</span><span class=\"p\">)</span>\\n</code></pre></div></div>')])),\n",
       "                                          ('author',\n",
       "                                           OrderedDict([('name',\n",
       "                                                         'Kain Nanne')])),\n",
       "                                          ('category',\n",
       "                                           [OrderedDict([('@term', 'python')]),\n",
       "                                            OrderedDict([('@term',\n",
       "                                                          'pandas')])]),\n",
       "                                          ('summary',\n",
       "                                           OrderedDict([('@type', 'html'),\n",
       "                                                        ('#text',\n",
       "                                                         'Helpful scripts for data “munging” data using Pandas')]))]),\n",
       "                             OrderedDict([('title',\n",
       "                                           OrderedDict([('@type', 'html'),\n",
       "                                                        ('#text',\n",
       "                                                         'Automating Everything In Python')])),\n",
       "                                          ('link',\n",
       "                                           OrderedDict([('@href',\n",
       "                                                         'https://knanne.github.io/posts/automating-everything-in-python'),\n",
       "                                                        ('@rel', 'alternate'),\n",
       "                                                        ('@type', 'text/html'),\n",
       "                                                        ('@title',\n",
       "                                                         'Automating Everything In Python')])),\n",
       "                                          ('published',\n",
       "                                           '2017-09-03T00:00:00+00:00'),\n",
       "                                          ('updated',\n",
       "                                           '2017-09-03T00:00:00+00:00'),\n",
       "                                          ('id',\n",
       "                                           'https://knanne.github.io/posts/automating-everything-in-python'),\n",
       "                                          ('content',\n",
       "                                           OrderedDict([('@type', 'html'),\n",
       "                                                        ('@xml:base',\n",
       "                                                         'https://knanne.github.io/posts/automating-everything-in-python'),\n",
       "                                                        ('#text',\n",
       "                                                         '<p>Helpful scripts for automating everything Python</p>\\n\\n<!-- excerpt separator -->\\n\\n<ul id=\"markdown-toc\">\\n  <li><a href=\"#files\" id=\"markdown-toc-files\">Files</a></li>\\n  <li><a href=\"#shell\" id=\"markdown-toc-shell\">Shell</a></li>\\n  <li><a href=\"#security\" id=\"markdown-toc-security\">Security</a></li>\\n  <li><a href=\"#system\" id=\"markdown-toc-system\">System</a></li>\\n  <li><a href=\"#http\" id=\"markdown-toc-http\">HTTP</a></li>\\n  <li><a href=\"#sql\" id=\"markdown-toc-sql\">SQL</a></li>\\n  <li><a href=\"#processing\" id=\"markdown-toc-processing\">Processing</a></li>\\n  <li><a href=\"#runtime\" id=\"markdown-toc-runtime\">Runtime</a></li>\\n  <li><a href=\"#smtp-email\" id=\"markdown-toc-smtp-email\">SMTP Email</a></li>\\n  <li><a href=\"#jupyter\" id=\"markdown-toc-jupyter\">Jupyter</a></li>\\n</ul>\\n\\n<h1 id=\"files\">Files</h1>\\n\\n<p>Manipulate files for automating ETL pipelines.</p>\\n\\n<h2 id=\"stats\">Stats</h2>\\n\\n<div class=\"language-python highlighter-rouge\"><div class=\"highlight\"><pre class=\"highlight\"><code><span class=\"kn\">import</span> <span class=\"nn\">os</span>\\n<span class=\"kn\">from</span> <span class=\"nn\">datetime</span> <span class=\"kn\">import</span> <span class=\"n\">datetime</span>\\n<span class=\"n\">f</span> <span class=\"o\">=</span> <span class=\"s\">\\'file.txt\\'</span>\\n<span class=\"n\">size</span> <span class=\"o\">=</span> <span class=\"n\">os</span><span class=\"o\">.</span><span class=\"n\">stat</span><span class=\"p\">(</span><span class=\"n\">f</span><span class=\"p\">)</span><span class=\"o\">.</span><span class=\"n\">st_size</span>\\n<span class=\"n\">last_modified</span> <span class=\"o\">=</span> <span class=\"n\">datetime</span><span class=\"o\">.</span><span class=\"n\">fromtimestamp</span><span class=\"p\">(</span><span class=\"n\">os</span><span class=\"o\">.</span><span class=\"n\">stat</span><span class=\"p\">(</span><span class=\"n\">f</span><span class=\"p\">)</span><span class=\"o\">.</span><span class=\"n\">st_mtime</span><span class=\"p\">)</span>\\n</code></pre></div></div>\\n\\n<h2 id=\"temporary\">Temporary</h2>\\n<div class=\"language-python highlighter-rouge\"><div class=\"highlight\"><pre class=\"highlight\"><code><span class=\"kn\">from</span> <span class=\"nn\">tempfile</span> <span class=\"kn\">import</span> <span class=\"n\">TemporaryDirectory</span>\\n<span class=\"k\">with</span> <span class=\"n\">TemporaryDirectory</span><span class=\"p\">()</span> <span class=\"k\">as</span> <span class=\"n\">tmpdir</span><span class=\"p\">:</span>\\n    <span class=\"c\"># do stuff</span>\\n    <span class=\"c\"># context manager cleans up after itself</span>\\n<span class=\"c\"># OR</span>\\n<span class=\"kn\">import</span> <span class=\"nn\">tempfile</span>\\n<span class=\"kn\">import</span> <span class=\"nn\">shutil</span>\\n<span class=\"n\">tmpdir</span> <span class=\"o\">=</span> <span class=\"n\">tempfile</span><span class=\"o\">.</span><span class=\"n\">mkdtemp</span><span class=\"p\">()</span>\\n<span class=\"c\"># do stuff</span>\\n<span class=\"c\"># and clean up after yourself</span>\\n<span class=\"n\">shutil</span><span class=\"o\">.</span><span class=\"n\">rmtree</span><span class=\"p\">(</span><span class=\"n\">tmpdir</span><span class=\"p\">)</span>\\n</code></pre></div></div>\\n\\n<h2 id=\"creating\">Creating</h2>\\n\\n<div class=\"language-python highlighter-rouge\"><div class=\"highlight\"><pre class=\"highlight\"><code><span class=\"kn\">import</span> <span class=\"nn\">os</span>\\n<span class=\"n\">folder</span> <span class=\"o\">=</span> <span class=\"n\">os</span><span class=\"o\">.</span><span class=\"n\">path</span><span class=\"o\">.</span><span class=\"n\">abspath</span><span class=\"p\">(</span><span class=\"s\">\\'folder\\'</span><span class=\"p\">)</span>\\n<span class=\"k\">if</span> <span class=\"ow\">not</span> <span class=\"n\">os</span><span class=\"o\">.</span><span class=\"n\">path</span><span class=\"o\">.</span><span class=\"n\">exists</span><span class=\"p\">(</span><span class=\"n\">folder</span><span class=\"p\">):</span>\\n    <span class=\"n\">os</span><span class=\"o\">.</span><span class=\"n\">makedirs</span><span class=\"p\">(</span><span class=\"n\">folder</span><span class=\"p\">)</span>\\n</code></pre></div></div>\\n\\n<h2 id=\"copying\">Copying</h2>\\n\\n<div class=\"language-python highlighter-rouge\"><div class=\"highlight\"><pre class=\"highlight\"><code><span class=\"kn\">import</span> <span class=\"nn\">os</span>\\n<span class=\"kn\">import</span> <span class=\"nn\">glob</span>\\n<span class=\"kn\">import</span> <span class=\"nn\">shutil</span>\\n<span class=\"n\">src_dir</span> <span class=\"o\">=</span> <span class=\"s\">\\'folder_in\\'</span>\\n<span class=\"n\">dst_dir</span> <span class=\"o\">=</span> <span class=\"s\">\\'folder_out\\'</span>\\n<span class=\"k\">if</span> <span class=\"ow\">not</span> <span class=\"n\">os</span><span class=\"o\">.</span><span class=\"n\">path</span><span class=\"o\">.</span><span class=\"n\">exists</span><span class=\"p\">(</span><span class=\"n\">dst_dir</span><span class=\"p\">):</span>\\n  <span class=\"n\">os</span><span class=\"o\">.</span><span class=\"n\">makedirs</span><span class=\"p\">(</span><span class=\"n\">dst_dir</span><span class=\"p\">)</span>\\n<span class=\"k\">for</span> <span class=\"n\">f</span> <span class=\"ow\">in</span> <span class=\"n\">glob</span><span class=\"o\">.</span><span class=\"n\">glob</span><span class=\"p\">(</span><span class=\"n\">os</span><span class=\"o\">.</span><span class=\"n\">path</span><span class=\"o\">.</span><span class=\"n\">join</span><span class=\"p\">(</span><span class=\"n\">src_dir</span><span class=\"p\">,</span> <span class=\"s\">\\'*.txt\\'</span><span class=\"p\">)):</span>\\n  <span class=\"n\">shutil</span><span class=\"o\">.</span><span class=\"n\">copy</span><span class=\"p\">(</span><span class=\"n\">f</span><span class=\"p\">,</span> <span class=\"n\">dst_dir</span><span class=\"p\">)</span>\\n</code></pre></div></div>\\n\\n<h2 id=\"zipping\">Zipping</h2>\\n\\n<div class=\"language-python highlighter-rouge\"><div class=\"highlight\"><pre class=\"highlight\"><code><span class=\"kn\">import</span> <span class=\"nn\">zipfile</span>\\n<span class=\"kn\">import</span> <span class=\"nn\">os</span>\\n<span class=\"n\">src_dir</span> <span class=\"o\">=</span> <span class=\"s\">\\'folder\\'</span>\\n<span class=\"n\">dst_dir</span> <span class=\"o\">=</span> <span class=\"s\">\\'folder.zip\\'</span>\\n<span class=\"n\">zp</span> <span class=\"o\">=</span> <span class=\"n\">zipfile</span><span class=\"o\">.</span><span class=\"n\">ZipFile</span><span class=\"p\">(</span><span class=\"n\">dst_dir</span><span class=\"p\">,</span> <span class=\"s\">\\'w\\'</span><span class=\"p\">)</span>\\n<span class=\"k\">for</span> <span class=\"n\">folder</span><span class=\"p\">,</span> <span class=\"n\">subfolder</span><span class=\"p\">,</span> <span class=\"n\">files</span> <span class=\"ow\">in</span> <span class=\"n\">os</span><span class=\"o\">.</span><span class=\"n\">walk</span><span class=\"p\">(</span><span class=\"n\">src_dir</span><span class=\"p\">):</span>\\n  <span class=\"k\">for</span> <span class=\"n\">f</span> <span class=\"ow\">in</span> <span class=\"n\">files</span><span class=\"p\">:</span>\\n    <span class=\"n\">zp</span><span class=\"o\">.</span><span class=\"n\">write</span><span class=\"p\">(</span><span class=\"n\">os</span><span class=\"o\">.</span><span class=\"n\">path</span><span class=\"o\">.</span><span class=\"n\">join</span><span class=\"p\">(</span><span class=\"n\">folder</span><span class=\"p\">,</span><span class=\"n\">f</span><span class=\"p\">),</span> <span class=\"n\">os</span><span class=\"o\">.</span><span class=\"n\">path</span><span class=\"o\">.</span><span class=\"n\">relpath</span><span class=\"p\">(</span><span class=\"n\">os</span><span class=\"o\">.</span><span class=\"n\">path</span><span class=\"o\">.</span><span class=\"n\">join</span><span class=\"p\">(</span><span class=\"n\">folder</span><span class=\"p\">,</span><span class=\"n\">f</span><span class=\"p\">),</span> <span class=\"n\">dst_dir</span><span class=\"p\">),</span> <span class=\"n\">compress_type</span><span class=\"o\">=</span><span class=\"n\">zipfile</span><span class=\"o\">.</span><span class=\"n\">ZIP_DEFLATED</span><span class=\"p\">)</span>\\n<span class=\"n\">zp</span><span class=\"o\">.</span><span class=\"n\">close</span><span class=\"p\">()</span>\\n</code></pre></div></div>\\n\\n<h2 id=\"decompressing\">Decompressing</h2>\\n\\n<div class=\"language-python highlighter-rouge\"><div class=\"highlight\"><pre class=\"highlight\"><code><span class=\"kn\">import</span> <span class=\"nn\">gzip</span>\\n<span class=\"kn\">import</span> <span class=\"nn\">io</span>\\n<span class=\"n\">infile</span> <span class=\"o\">=</span> <span class=\"s\">\\'compressed.gz\\'</span>\\n<span class=\"n\">outfile</span> <span class=\"o\">=</span> <span class=\"s\">\\'decompressed.txt\\'</span>\\n<span class=\"k\">with</span> <span class=\"n\">gzip</span><span class=\"o\">.</span><span class=\"nb\">open</span><span class=\"p\">(</span><span class=\"n\">infile</span><span class=\"p\">,</span> <span class=\"s\">\\'rb\\'</span><span class=\"p\">)</span> <span class=\"k\">as</span> <span class=\"n\">inf</span><span class=\"p\">:</span>\\n  <span class=\"k\">with</span> <span class=\"n\">io</span><span class=\"o\">.</span><span class=\"nb\">open</span><span class=\"p\">(</span><span class=\"n\">outfile</span><span class=\"p\">,</span> <span class=\"s\">\\'wb+\\'</span><span class=\"p\">)</span> <span class=\"k\">as</span> <span class=\"n\">outf</span><span class=\"p\">:</span>\\n    <span class=\"n\">outf</span><span class=\"o\">.</span><span class=\"n\">write</span><span class=\"p\">(</span><span class=\"n\">inf</span><span class=\"o\">.</span><span class=\"n\">read</span><span class=\"p\">())</span>\\n</code></pre></div></div>\\n\\n<h1 id=\"shell\">Shell</h1>\\n\\n<p>Run command line operations from within python.</p>\\n\\n<h2 id=\"executing-commands\">Executing Commands</h2>\\n\\n<div class=\"language-python highlighter-rouge\"><div class=\"highlight\"><pre class=\"highlight\"><code><span class=\"kn\">import</span> <span class=\"nn\">subprocess</span>\\n<span class=\"n\">infiles</span> <span class=\"o\">=</span> <span class=\"n\">os</span><span class=\"o\">.</span><span class=\"n\">path</span><span class=\"o\">.</span><span class=\"n\">join</span><span class=\"p\">(</span><span class=\"s\">\\'folder\\'</span><span class=\"p\">,</span> <span class=\"s\">\\'*.gz\\'</span><span class=\"p\">)</span>\\n<span class=\"n\">outfile</span> <span class=\"o\">=</span> <span class=\"s\">\\'combined.gz\\'</span>\\n\\n<span class=\"c\"># windows</span>\\n<span class=\"n\">cmd</span> <span class=\"o\">=</span> <span class=\"s\">\\'copy /B /Y {} {}\\'</span><span class=\"o\">.</span><span class=\"n\">format</span><span class=\"p\">(</span><span class=\"n\">infiles</span><span class=\"p\">,</span> <span class=\"n\">outfile</span><span class=\"p\">)</span>\\n<span class=\"c\"># unix</span>\\n<span class=\"n\">cmd</span> <span class=\"o\">=</span> <span class=\"s\">\\'cat {} &gt; {}\\'</span><span class=\"o\">.</span><span class=\"n\">format</span><span class=\"p\">(</span><span class=\"n\">infiles</span><span class=\"p\">,</span> <span class=\"n\">outfile</span><span class=\"p\">)</span>\\n\\n<span class=\"n\">subprocess</span><span class=\"o\">.</span><span class=\"n\">run</span><span class=\"p\">(</span><span class=\"n\">cmd</span><span class=\"p\">,</span> <span class=\"n\">shell</span><span class=\"o\">=</span><span class=\"bp\">True</span><span class=\"p\">)</span>\\n</code></pre></div></div>\\n\\n<h1 id=\"security\">Security</h1>\\n\\n<p>Always hide credentials or keys behind the scenes.</p>\\n\\n<h2 id=\"accessing-credentials\">Accessing Credentials</h2>\\n\\n<p>From files. The file should contain a dictionary, looking something like this:</p>\\n\\n<div class=\"language-json highlighter-rouge\"><div class=\"highlight\"><pre class=\"highlight\"><code><span class=\"p\">{</span><span class=\"w\">\\n  </span><span class=\"err\">\\'username\\'</span><span class=\"p\">:</span><span class=\"w\"> </span><span class=\"err\">\\'fake_user\\'</span><span class=\"p\">,</span><span class=\"w\">\\n  </span><span class=\"err\">\\'password\\'</span><span class=\"p\">:</span><span class=\"w\"> </span><span class=\"err\">\\'fake_password\\'</span><span class=\"w\">\\n</span><span class=\"p\">}</span><span class=\"w\">\\n</span></code></pre></div></div>\\n\\n<div class=\"language-python highlighter-rouge\"><div class=\"highlight\"><pre class=\"highlight\"><code><span class=\"kn\">import</span> <span class=\"nn\">json</span>\\n<span class=\"k\">with</span> <span class=\"nb\">open</span><span class=\"p\">(</span><span class=\"s\">\\'credentials\\'</span><span class=\"p\">,</span> <span class=\"s\">\\'r\\'</span><span class=\"p\">)</span> <span class=\"k\">as</span> <span class=\"n\">f</span><span class=\"p\">:</span>\\n    <span class=\"n\">creds</span> <span class=\"o\">=</span> <span class=\"n\">json</span><span class=\"o\">.</span><span class=\"n\">loads</span><span class=\"p\">(</span><span class=\"n\">f</span><span class=\"o\">.</span><span class=\"n\">read</span><span class=\"p\">())</span>\\n</code></pre></div></div>\\n\\n<p>From environmental variables.</p>\\n\\n<div class=\"language-python highlighter-rouge\"><div class=\"highlight\"><pre class=\"highlight\"><code><span class=\"kn\">import</span> <span class=\"nn\">os</span>\\n<span class=\"n\">username</span> <span class=\"o\">=</span> <span class=\"n\">os</span><span class=\"o\">.</span><span class=\"n\">environ</span><span class=\"p\">[</span><span class=\"s\">\\'USERNAME\\'</span><span class=\"p\">]</span>\\n<span class=\"n\">password</span> <span class=\"o\">=</span> <span class=\"n\">os</span><span class=\"o\">.</span><span class=\"n\">environ</span><span class=\"p\">[</span><span class=\"s\">\\'PASSWORD\\'</span><span class=\"p\">]</span>\\n</code></pre></div></div>\\n\\n<h1 id=\"system\">System</h1>\\n\\n<p>Access and use system settings in a workflow.</p>\\n\\n<h2 id=\"time\">Time</h2>\\n\\n<div class=\"language-python highlighter-rouge\"><div class=\"highlight\"><pre class=\"highlight\"><code><span class=\"kn\">import</span> <span class=\"nn\">time</span>\\n<span class=\"kn\">from</span> <span class=\"nn\">datetime</span> <span class=\"kn\">import</span> <span class=\"n\">datetime</span>\\n\\n<span class=\"n\">start</span> <span class=\"o\">=</span> <span class=\"n\">datetime</span><span class=\"o\">.</span><span class=\"n\">now</span><span class=\"p\">()</span>\\n<span class=\"c\"># do something</span>\\n<span class=\"n\">time</span><span class=\"o\">.</span><span class=\"n\">sleep</span><span class=\"p\">(</span><span class=\"mi\">2</span><span class=\"p\">)</span>\\n<span class=\"c\"># or sleep two seconds</span>\\n<span class=\"n\">end</span> <span class=\"o\">=</span> <span class=\"n\">datetime</span><span class=\"o\">.</span><span class=\"n\">now</span><span class=\"p\">()</span>\\n\\n<span class=\"n\">time_delta</span> <span class=\"o\">=</span> <span class=\"n\">end</span> <span class=\"o\">-</span> <span class=\"n\">start</span>\\n<span class=\"n\">processing_speed</span> <span class=\"o\">=</span> <span class=\"n\">time_delta</span><span class=\"o\">.</span><span class=\"n\">seconds</span>\\n</code></pre></div></div>\\n\\n<h2 id=\"os\">OS</h2>\\n\\n<div class=\"language-python highlighter-rouge\"><div class=\"highlight\"><pre class=\"highlight\"><code><span class=\"kn\">import</span> <span class=\"nn\">platform</span>\\n<span class=\"k\">print</span><span class=\"p\">(</span><span class=\"n\">platform</span><span class=\"o\">.</span><span class=\"n\">system</span><span class=\"p\">())</span>\\n</code></pre></div></div>\\n\\n<h2 id=\"python-installation\">Python Installation</h2>\\n\\n<div class=\"language-python highlighter-rouge\"><div class=\"highlight\"><pre class=\"highlight\"><code><span class=\"kn\">import</span> <span class=\"nn\">sys</span>\\n<span class=\"c\"># python installation location</span>\\n<span class=\"k\">print</span><span class=\"p\">(</span><span class=\"n\">sys</span><span class=\"o\">.</span><span class=\"n\">executable</span><span class=\"p\">)</span>\\n<span class=\"c\"># python version</span>\\n<span class=\"k\">print</span><span class=\"p\">(</span><span class=\"n\">sys</span><span class=\"o\">.</span><span class=\"n\">version_info</span><span class=\"o\">.</span><span class=\"n\">major</span><span class=\"p\">)</span>\\n</code></pre></div></div>\\n\\n<h2 id=\"modify-path\">Modify PATH</h2>\\n\\n<p>Temporarily add a folder to you path, maybe for importing a custom python module.</p>\\n\\n<div class=\"language-python highlighter-rouge\"><div class=\"highlight\"><pre class=\"highlight\"><code><span class=\"kn\">import</span> <span class=\"nn\">sys</span>\\n<span class=\"kn\">import</span> <span class=\"nn\">os</span>\\n<span class=\"n\">custom_module</span> <span class=\"o\">=</span> <span class=\"n\">os</span><span class=\"o\">.</span><span class=\"n\">path</span><span class=\"o\">.</span><span class=\"n\">abspath</span><span class=\"p\">(</span><span class=\"s\">\\'custom_module\\'</span><span class=\"p\">)</span>\\n<span class=\"n\">sys</span><span class=\"o\">.</span><span class=\"n\">path</span><span class=\"o\">.</span><span class=\"n\">append</span><span class=\"p\">(</span><span class=\"n\">custom_module</span><span class=\"p\">)</span>\\n</code></pre></div></div>\\n\\n<h1 id=\"http\">HTTP</h1>\\n\\n<p>Operations over HTTP(s)</p>\\n\\n<h2 id=\"api\">API</h2>\\n\\n<div class=\"language-python highlighter-rouge\"><div class=\"highlight\"><pre class=\"highlight\"><code><span class=\"kn\">import</span> <span class=\"nn\">requests</span>\\n<span class=\"n\">url</span> <span class=\"o\">=</span> <span class=\"s\">\\'https://site/endpoint\\'</span>\\n<span class=\"n\">payload</span> <span class=\"o\">=</span> <span class=\"p\">{</span>\\n  <span class=\"s\">\\'item1\\'</span><span class=\"p\">:</span> <span class=\"n\">item1</span><span class=\"p\">,</span>\\n  <span class=\"s\">\\'item2\\'</span><span class=\"p\">:</span> <span class=\"n\">item2</span>\\n<span class=\"p\">}</span>\\n<span class=\"n\">headers</span> <span class=\"o\">=</span> <span class=\"p\">{</span><span class=\"s\">\\'hitem1\\'</span><span class=\"p\">:</span> <span class=\"n\">hitem1</span><span class=\"p\">}</span>\\n<span class=\"n\">r</span> <span class=\"o\">=</span> <span class=\"n\">requests</span><span class=\"o\">.</span><span class=\"n\">post</span><span class=\"p\">(</span><span class=\"n\">url</span><span class=\"p\">,</span> <span class=\"n\">headers</span><span class=\"o\">=</span><span class=\"n\">headers</span><span class=\"p\">,</span> <span class=\"n\">json</span><span class=\"o\">=</span><span class=\"n\">payload</span><span class=\"p\">)</span>\\n</code></pre></div></div>\\n\\n<h2 id=\"download\">Download</h2>\\n\\n<div class=\"language-python highlighter-rouge\"><div class=\"highlight\"><pre class=\"highlight\"><code><span class=\"kn\">import</span> <span class=\"nn\">urllib</span>\\n<span class=\"n\">url</span> <span class=\"o\">=</span> <span class=\"s\">\\'https://site/endpoint/file\\'</span>\\n<span class=\"n\">urllib</span><span class=\"o\">.</span><span class=\"n\">urlretrieve</span><span class=\"p\">(</span><span class=\"n\">url</span><span class=\"p\">)</span>\\n</code></pre></div></div>\\n\\n<h1 id=\"sql\">SQL</h1>\\n\\n<p>Connect to a database and execute a sql statement with the following.</p>\\n\\n<p>This following example uses <a href=\"http://www.sqlalchemy.org/\">SQLAlchemy</a>. Depending on the type of database you are connecting to, there is an extra configuration step to install the right Python-to-ODBC connection, then choose the correct engine below.</p>\\n\\n<p>PostgreSQL: <code class=\"highlighter-rouge\">pip install psycopg2</code>, see <a href=\"http://initd.org/psycopg/\">psycopg homepage</a></p>\\n\\n<p>MySQL: <code class=\"highlighter-rouge\">pip install mysqlclient</code>, see <a href=\"https://github.com/PyMySQL/mysqlclient-python\">mysqlclient-python on github</a> which supports python 3.6. If on Windows, find the correct wheel file for your platform on <a href=\"https://pypi.python.org/pypi/mysqlclient\">pypi</a></p>\\n\\n<p>Oracle: <code class=\"highlighter-rouge\">pip install cx_Oracle</code> see <a href=\"https://github.com/oracle/python-cx_Oracle\">python-cx_Oracle on github</a>. You will also need the <a href=\"http://www.oracle.com/technetwork/database/features/instant-client/index.html\">Oracle Client</a>.</p>\\n\\n<div class=\"language-python highlighter-rouge\"><div class=\"highlight\"><pre class=\"highlight\"><code><span class=\"kn\">import</span> <span class=\"nn\">json</span>\\n<span class=\"c\"># read database credentials from json file</span>\\n<span class=\"k\">with</span> <span class=\"nb\">open</span><span class=\"p\">(</span><span class=\"s\">\\'creds_file\\'</span><span class=\"p\">)</span> <span class=\"k\">as</span> <span class=\"n\">f</span><span class=\"p\">:</span>\\n  <span class=\"n\">creds</span> <span class=\"o\">=</span> <span class=\"n\">json</span><span class=\"o\">.</span><span class=\"n\">loads</span><span class=\"p\">(</span><span class=\"n\">f</span><span class=\"o\">.</span><span class=\"n\">read</span><span class=\"p\">())</span>\\n\\n<span class=\"kn\">from</span> <span class=\"nn\">sqlalchemy</span> <span class=\"kn\">import</span> <span class=\"n\">create_engine</span>\\n<span class=\"c\"># create appropriate database connection engine</span>\\n\\n<span class=\"c\">#postgresql</span>\\n<span class=\"n\">db</span> <span class=\"o\">=</span> <span class=\"n\">create_engine</span><span class=\"p\">(</span><span class=\"s\">\\'postgresql+psycopg2://{}:{}@{}:{}/{}\\'</span><span class=\"o\">.</span><span class=\"n\">format</span><span class=\"p\">(</span>\\n  <span class=\"n\">creds</span><span class=\"p\">[</span><span class=\"s\">\\'user\\'</span><span class=\"p\">],</span>\\n  <span class=\"n\">creds</span><span class=\"p\">[</span><span class=\"s\">\\'password\\'</span><span class=\"p\">],</span>\\n  <span class=\"n\">creds</span><span class=\"p\">[</span><span class=\"s\">\\'host\\'</span><span class=\"p\">],</span>\\n  <span class=\"n\">creds</span><span class=\"p\">[</span><span class=\"s\">\\'port\\'</span><span class=\"p\">],</span>\\n  <span class=\"n\">creds</span><span class=\"p\">[</span><span class=\"s\">\\'database\\'</span><span class=\"p\">]),</span>\\n    <span class=\"n\">encoding</span><span class=\"o\">=</span><span class=\"s\">\\'utf8\\'</span><span class=\"p\">)</span>\\n\\n<span class=\"c\">#mysql</span>\\n<span class=\"n\">db</span> <span class=\"o\">=</span> <span class=\"n\">create_engine</span><span class=\"p\">(</span><span class=\"s\">\\'mysql+mysqldb://{}:{}@{}:{}/{}?charset=utf8&amp;local_infile=1\\'</span><span class=\"o\">.</span><span class=\"n\">format</span><span class=\"p\">(</span>\\n    <span class=\"n\">creds</span><span class=\"p\">[</span><span class=\"s\">\\'user\\'</span><span class=\"p\">],</span>\\n    <span class=\"n\">creds</span><span class=\"p\">[</span><span class=\"s\">\\'password\\'</span><span class=\"p\">],</span>\\n    <span class=\"n\">creds</span><span class=\"p\">[</span><span class=\"s\">\\'host\\'</span><span class=\"p\">],</span>\\n    <span class=\"n\">creds</span><span class=\"p\">[</span><span class=\"s\">\\'port\\'</span><span class=\"p\">],</span>\\n    <span class=\"n\">creds</span><span class=\"p\">[</span><span class=\"s\">\\'database\\'</span><span class=\"p\">]),</span>\\n      <span class=\"n\">encoding</span><span class=\"o\">=</span><span class=\"s\">\\'utf8\\'</span><span class=\"p\">)</span>\\n\\n<span class=\"c\">#oracle</span>\\n<span class=\"n\">db</span> <span class=\"o\">=</span> <span class=\"n\">create_engine</span><span class=\"p\">(</span><span class=\"s\">\\'oracle+cx_oracle://{}:{}@{}:{}/{}\\'</span><span class=\"o\">.</span><span class=\"n\">format</span><span class=\"p\">(</span>\\n  <span class=\"n\">creds</span><span class=\"p\">[</span><span class=\"s\">\\'user\\'</span><span class=\"p\">],</span>\\n  <span class=\"n\">creds</span><span class=\"p\">[</span><span class=\"s\">\\'password\\'</span><span class=\"p\">],</span>\\n  <span class=\"n\">creds</span><span class=\"p\">[</span><span class=\"s\">\\'host\\'</span><span class=\"p\">],</span>\\n  <span class=\"n\">creds</span><span class=\"p\">[</span><span class=\"s\">\\'port\\'</span><span class=\"p\">],</span>\\n  <span class=\"n\">creds</span><span class=\"p\">[</span><span class=\"s\">\\'tns\\'</span><span class=\"p\">]),</span>\\n    <span class=\"n\">encoding</span><span class=\"o\">=</span><span class=\"s\">\\'utf8\\'</span><span class=\"p\">)</span>\\n\\n<span class=\"c\">#write some data to file from pandas</span>\\n<span class=\"c\">#(format NULLs for MySQL acceptance)</span>\\n<span class=\"n\">df</span><span class=\"o\">.</span><span class=\"n\">fillna</span><span class=\"p\">(</span><span class=\"s\">\\'</span><span class=\"se\">\\\\\\\\</span><span class=\"s\">N\\'</span><span class=\"p\">)</span><span class=\"o\">.</span><span class=\"n\">to_csv</span><span class=\"p\">(</span><span class=\"s\">\\'datafile.txt\\'</span><span class=\"p\">,</span> <span class=\"n\">sep</span><span class=\"o\">=</span><span class=\"s\">\\'</span><span class=\"se\">\\\\t</span><span class=\"s\">\\'</span><span class=\"p\">,</span> <span class=\"n\">encoding</span><span class=\"o\">=</span><span class=\"s\">\\'utf8\\'</span><span class=\"p\">,</span> <span class=\"n\">quotechar</span><span class=\"o\">=</span><span class=\"s\">\\'\"\\'</span><span class=\"p\">,</span> <span class=\"n\">line_terminator</span><span class=\"o\">=</span><span class=\"s\">\\'</span><span class=\"se\">\\\\n</span><span class=\"s\">\\'</span><span class=\"p\">)</span>\\n\\n<span class=\"c\"># define some sql statement</span>\\n<span class=\"n\">sql</span> <span class=\"o\">=</span> <span class=\"s\">\"\"\"\\n  LOAD DATA LOCAL INFILE \\'{data}\\'\\n  INTO TABLE {schema}.{table}\\n  CHARACTER  SET utf8\\n  FIELDS TERMINATED BY \\'</span><span class=\"se\">\\\\t</span><span class=\"s\">\\'\\n  OPTIONALLY] ENCLOSED BY \\'\"\\'\\n  LINES TERMINATED BY \\'</span><span class=\"se\">\\\\n</span><span class=\"s\">\\'\\n  IGNORE 1 LINES\\n\"\"\"</span><span class=\"o\">.</span><span class=\"n\">format</span><span class=\"p\">(</span><span class=\"n\">data</span><span class=\"o\">=</span><span class=\"s\">\\'datafile.txt\\'</span><span class=\"p\">,</span>\\n           <span class=\"n\">schema</span><span class=\"o\">=</span><span class=\"s\">\\'db\\'</span><span class=\"p\">,</span>\\n           <span class=\"n\">table</span><span class=\"o\">=</span><span class=\"s\">\\'data\\'</span><span class=\"p\">)</span>\\n\\n<span class=\"c\"># execute sql</span>\\n<span class=\"n\">connection</span> <span class=\"o\">=</span> <span class=\"n\">db</span><span class=\"o\">.</span><span class=\"n\">connect</span><span class=\"p\">()</span>\\n<span class=\"n\">r</span> <span class=\"o\">=</span> <span class=\"n\">connection</span><span class=\"o\">.</span><span class=\"n\">execute</span><span class=\"p\">(</span><span class=\"n\">sql</span><span class=\"p\">)</span>\\n<span class=\"n\">connection</span><span class=\"o\">.</span><span class=\"n\">close</span><span class=\"p\">()</span>\\n</code></pre></div></div>\\n\\n<h1 id=\"processing\">Processing</h1>\\n\\n<h2 id=\"progress\">Progress</h2>\\n\\n<p><a href=\"https://github.com/tqdm/tqdm\">tqdm</a> is a super nice library for showing a progress bar when executing loops. They even have a <a href=\"https://github.com/tqdm/tqdm#pandas-integration\">pandas integration</a>.</p>\\n\\n<p>It runs in terminal by default, you can also run it in a Jupyter Notebook. Here is good example, using enumerate.</p>\\n\\n<div class=\"language-python highlighter-rouge\"><div class=\"highlight\"><pre class=\"highlight\"><code><span class=\"kn\">from</span> <span class=\"nn\">tqdm</span> <span class=\"kn\">import</span> <span class=\"n\">tqdm</span>\\n<span class=\"kn\">from</span> <span class=\"nn\">tqdm</span> <span class=\"kn\">import</span> <span class=\"n\">tnrange</span><span class=\"p\">,</span> <span class=\"n\">tqdm_notebook</span>\\n\\n<span class=\"k\">with</span> <span class=\"n\">tqdm_notebook</span><span class=\"p\">(</span><span class=\"n\">total</span><span class=\"o\">=</span><span class=\"nb\">len</span><span class=\"p\">(</span><span class=\"n\">data</span><span class=\"p\">))</span> <span class=\"k\">as</span> <span class=\"n\">pbar</span><span class=\"p\">:</span>\\n  <span class=\"k\">for</span> <span class=\"n\">i</span><span class=\"p\">,</span><span class=\"nb\">file</span> <span class=\"ow\">in</span> <span class=\"nb\">enumerate</span><span class=\"p\">(</span><span class=\"n\">data</span><span class=\"p\">):</span>\\n    <span class=\"n\">pbar</span><span class=\"o\">.</span><span class=\"n\">update</span><span class=\"p\">(</span><span class=\"mi\">1</span><span class=\"p\">)</span>\\n</code></pre></div></div>\\n\\n<h1 id=\"runtime\">Runtime</h1>\\n\\n<p>Various procedures to consider when building <code class=\"highlighter-rouge\">.py</code> executables.</p>\\n\\n<h2 id=\"arguments\">Arguments</h2>\\n\\n<p>Pass command line arguments to a .py during execution. Simply copy the below to a <code class=\"highlighter-rouge\">test.py</code> file and run <code class=\"highlighter-rouge\">test.py -h</code> from the command line.</p>\\n\\n<div class=\"language-python highlighter-rouge\"><div class=\"highlight\"><pre class=\"highlight\"><code><span class=\"kn\">import</span> <span class=\"nn\">argparse</span>\\n<span class=\"n\">parser</span> <span class=\"o\">=</span> <span class=\"n\">argparse</span><span class=\"o\">.</span><span class=\"n\">ArgumentParser</span><span class=\"p\">(</span><span class=\"n\">description</span><span class=\"o\">=</span><span class=\"s\">\\'Example on how to use ArgumentParser\\'</span><span class=\"p\">,</span> <span class=\"n\">formatter_class</span><span class=\"o\">=</span><span class=\"n\">argparse</span><span class=\"o\">.</span><span class=\"n\">ArgumentDefaultsHelpFormatter</span><span class=\"p\">)</span>\\n\\n<span class=\"k\">def</span> <span class=\"nf\">bool_string_input</span><span class=\"p\">(</span><span class=\"n\">s</span><span class=\"p\">):</span>\\n    <span class=\"k\">if</span> <span class=\"n\">s</span> <span class=\"ow\">in</span> <span class=\"p\">[</span><span class=\"s\">\\'True\\'</span><span class=\"p\">,</span><span class=\"s\">\\'False\\'</span><span class=\"p\">]:</span>\\n        <span class=\"k\">return</span> <span class=\"n\">s</span> <span class=\"o\">==</span> <span class=\"s\">\\'True\\'</span>\\n    <span class=\"k\">else</span><span class=\"p\">:</span>\\n        <span class=\"k\">raise</span> <span class=\"nb\">ValueError</span><span class=\"p\">(</span><span class=\"s\">\\'Incorrect boolean value provided. Please specify one of \"True\" or \"False\"\\'</span><span class=\"p\">)</span>\\n\\n<span class=\"n\">parser</span><span class=\"o\">.</span><span class=\"n\">add_argument</span><span class=\"p\">(</span><span class=\"s\">\\'-a\\'</span><span class=\"p\">,</span> <span class=\"s\">\\'--argument\\'</span><span class=\"p\">,</span> <span class=\"n\">dest</span><span class=\"o\">=</span><span class=\"s\">\\'myargument\\'</span><span class=\"p\">,</span> <span class=\"nb\">type</span><span class=\"o\">=</span><span class=\"nb\">str</span><span class=\"p\">,</span> <span class=\"n\">help</span><span class=\"o\">=</span><span class=\"s\">\\'Example argument description.\\'</span><span class=\"p\">,</span> <span class=\"n\">default</span><span class=\"o\">=</span><span class=\"s\">\\'test\\'</span><span class=\"p\">)</span>\\n<span class=\"n\">parser</span><span class=\"o\">.</span><span class=\"n\">add_argument</span><span class=\"p\">(</span><span class=\"s\">\\'-b\\'</span><span class=\"p\">,</span> <span class=\"s\">\\'--boolean\\'</span><span class=\"p\">,</span> <span class=\"n\">dest</span><span class=\"o\">=</span><span class=\"s\">\\'myboolean\\'</span><span class=\"p\">,</span> <span class=\"nb\">type</span><span class=\"o\">=</span><span class=\"n\">bool_string_input</span><span class=\"p\">,</span> <span class=\"n\">help</span><span class=\"o\">=</span><span class=\"s\">\\'Example boolean argument description.\\'</span><span class=\"p\">,</span> <span class=\"n\">default</span><span class=\"o\">=</span><span class=\"bp\">False</span><span class=\"p\">)</span>\\n\\n<span class=\"n\">args</span> <span class=\"o\">=</span> <span class=\"n\">parser</span><span class=\"o\">.</span><span class=\"n\">parse_args</span><span class=\"p\">()</span>\\n\\n<span class=\"n\">myargument</span> <span class=\"o\">=</span> <span class=\"n\">args</span><span class=\"o\">.</span><span class=\"n\">myargument</span>\\n<span class=\"n\">myboolean</span> <span class=\"o\">=</span> <span class=\"n\">args</span><span class=\"o\">.</span><span class=\"n\">myboolean</span>\\n</code></pre></div></div>\\n\\n<h2 id=\"logging\">Logging</h2>\\n\\n<p>Setup a basic logging configuration for outputting log messages to console during runtime.</p>\\n\\n<div class=\"language-python highlighter-rouge\"><div class=\"highlight\"><pre class=\"highlight\"><code><span class=\"kn\">import</span> <span class=\"nn\">Logging</span>\\n\\n<span class=\"n\">logger</span> <span class=\"o\">=</span> <span class=\"n\">logging</span><span class=\"o\">.</span><span class=\"n\">getLogger</span><span class=\"p\">(</span><span class=\"s\">\\'MyScript\\'</span><span class=\"p\">)</span>\\n\\n<span class=\"n\">ch</span> <span class=\"o\">=</span> <span class=\"n\">logging</span><span class=\"o\">.</span><span class=\"n\">StreamHandler</span><span class=\"p\">()</span>\\n<span class=\"n\">ch</span><span class=\"o\">.</span><span class=\"n\">setLevel</span><span class=\"p\">(</span><span class=\"n\">logging</span><span class=\"o\">.</span><span class=\"n\">INFO</span><span class=\"p\">)</span>\\n\\n<span class=\"n\">formatter</span> <span class=\"o\">=</span> <span class=\"n\">logging</span><span class=\"o\">.</span><span class=\"n\">Formatter</span><span class=\"p\">(</span><span class=\"s\">\\'</span><span class=\"si\">%(asctime)-15</span><span class=\"s\">s - </span><span class=\"si\">%(name)</span><span class=\"s\">s - </span><span class=\"si\">%(levelname)</span><span class=\"s\">s - </span><span class=\"si\">%(message)</span><span class=\"s\">s\\'</span><span class=\"p\">)</span>\\n<span class=\"n\">ch</span><span class=\"o\">.</span><span class=\"n\">setFormatter</span><span class=\"p\">(</span><span class=\"n\">formatter</span><span class=\"p\">)</span>\\n\\n<span class=\"n\">logger</span><span class=\"o\">.</span><span class=\"n\">addHandler</span><span class=\"p\">(</span><span class=\"n\">ch</span><span class=\"p\">)</span>\\n\\n<span class=\"n\">logger</span><span class=\"o\">.</span><span class=\"n\">info</span><span class=\"p\">(</span><span class=\"s\">\\'Doing stuff\\'</span><span class=\"p\">)</span>\\n<span class=\"n\">logger</span><span class=\"o\">.</span><span class=\"n\">info</span><span class=\"p\">(</span><span class=\"s\">\\'Doing other stuff\\'</span><span class=\"p\">)</span>\\n</code></pre></div></div>\\n\\n<h1 id=\"smtp-email\">SMTP Email</h1>\\n\\n<p>Find a full working example of how to send emails with attachments, in python, using the SMTP protocol.</p>\\n\\n<div class=\"language-python highlighter-rouge\"><div class=\"highlight\"><pre class=\"highlight\"><code><span class=\"kn\">import</span> <span class=\"nn\">smtplib</span>\\n<span class=\"kn\">from</span> <span class=\"nn\">email.message</span> <span class=\"kn\">import</span> <span class=\"n\">EmailMessage</span>\\n<span class=\"kn\">from</span> <span class=\"nn\">email.mime.application</span> <span class=\"kn\">import</span> <span class=\"n\">MIMEApplication</span>\\n<span class=\"kn\">from</span> <span class=\"nn\">email.mime.multipart</span> <span class=\"kn\">import</span> <span class=\"n\">MIMEMultipart</span>\\n<span class=\"kn\">from</span> <span class=\"nn\">email.mime.text</span> <span class=\"kn\">import</span> <span class=\"n\">MIMEText</span>\\n\\n<span class=\"n\">message_text</span> <span class=\"o\">=</span> <span class=\"s\">\"\"\"\\nAutomated message sent form Python job.\\n\\n{custom}\\n\"\"\"</span><span class=\"o\">.</span><span class=\"n\">format</span><span class=\"p\">(</span><span class=\"n\">custom</span><span class=\"o\">=</span><span class=\"s\">\"some custom message\"</span><span class=\"p\">)</span>\\n\\n<span class=\"n\">message_html</span> <span class=\"o\">=</span> <span class=\"s\">\"\"\"\\n&lt;html&gt;\\n  &lt;head&gt;&lt;/head&gt;\\n  &lt;body&gt;\\n      &lt;p&gt;Automated message sent form Python job.&lt;/p&gt;\\n      &lt;br&gt;&lt;br&gt;\\n      &lt;p&gt;{custom}&lt;/p&gt;\\n  &lt;/body&gt;\\n&lt;/html&gt;\\n\"\"\"</span><span class=\"o\">.</span><span class=\"n\">format</span><span class=\"p\">(</span><span class=\"n\">custom</span><span class=\"o\">=</span><span class=\"s\">\"some custom message\"</span><span class=\"p\">)</span>\\n\\n<span class=\"n\">msg</span> <span class=\"o\">=</span> <span class=\"n\">MIMEMultipart</span><span class=\"p\">(</span><span class=\"s\">\\'alternative\\'</span><span class=\"p\">)</span>\\n\\n<span class=\"n\">msg_text_part</span> <span class=\"o\">=</span> <span class=\"n\">MIMEText</span><span class=\"p\">(</span><span class=\"n\">message_text</span><span class=\"p\">,</span> <span class=\"s\">\\'plain\\'</span><span class=\"p\">)</span>\\n<span class=\"n\">msg_html_part</span> <span class=\"o\">=</span> <span class=\"n\">MIMEText</span><span class=\"p\">(</span><span class=\"n\">message_html</span><span class=\"p\">,</span> <span class=\"s\">\\'html\\'</span><span class=\"p\">)</span>\\n\\n<span class=\"n\">msg</span><span class=\"o\">.</span><span class=\"n\">attach</span><span class=\"p\">(</span><span class=\"n\">msg_text_part</span><span class=\"p\">)</span>\\n<span class=\"n\">msg</span><span class=\"o\">.</span><span class=\"n\">attach</span><span class=\"p\">(</span><span class=\"n\">msg_html_part</span><span class=\"p\">)</span>\\n\\n<span class=\"n\">msg</span><span class=\"p\">[</span><span class=\"s\">\\'Subject\\'</span><span class=\"p\">]</span> <span class=\"o\">=</span> <span class=\"s\">\\'Python Job Finished\\'</span>\\n<span class=\"n\">from_email</span> <span class=\"o\">=</span> <span class=\"s\">\\'your_email@domain.com\\'</span>\\n<span class=\"n\">msg</span><span class=\"p\">[</span><span class=\"s\">\\'From\\'</span><span class=\"p\">]</span> <span class=\"o\">=</span> <span class=\"n\">from_email</span>\\n<span class=\"n\">to_email</span> <span class=\"o\">=</span> <span class=\"s\">\\'their_email@domain.com\\'</span>\\n<span class=\"n\">msg</span><span class=\"p\">[</span><span class=\"s\">\\'To\\'</span><span class=\"p\">]</span> <span class=\"o\">=</span> <span class=\"n\">to_email</span>\\n\\n<span class=\"k\">for</span> <span class=\"n\">f</span> <span class=\"ow\">in</span> <span class=\"n\">attachments</span><span class=\"p\">:</span>\\n    <span class=\"k\">with</span> <span class=\"nb\">open</span><span class=\"p\">(</span><span class=\"n\">f</span><span class=\"p\">,</span><span class=\"s\">\\'rb\\'</span><span class=\"p\">)</span> <span class=\"k\">as</span> <span class=\"n\">b</span><span class=\"p\">:</span>\\n        <span class=\"n\">part</span> <span class=\"o\">=</span> <span class=\"n\">MIMEApplication</span><span class=\"p\">(</span>\\n            <span class=\"n\">b</span><span class=\"o\">.</span><span class=\"n\">read</span><span class=\"p\">(),</span>\\n            <span class=\"n\">Name</span><span class=\"o\">=</span><span class=\"n\">os</span><span class=\"o\">.</span><span class=\"n\">path</span><span class=\"o\">.</span><span class=\"n\">basename</span><span class=\"p\">(</span><span class=\"n\">f</span><span class=\"p\">)</span>\\n        <span class=\"p\">)</span>\\n        <span class=\"n\">part</span><span class=\"p\">[</span><span class=\"s\">\\'Content-Disposition\\'</span><span class=\"p\">]</span> <span class=\"o\">=</span> <span class=\"s\">\\'attachment; filename=\"{}\"\\'</span><span class=\"o\">.</span><span class=\"n\">format</span><span class=\"p\">(</span><span class=\"n\">os</span><span class=\"o\">.</span><span class=\"n\">path</span><span class=\"o\">.</span><span class=\"n\">basename</span><span class=\"p\">(</span><span class=\"n\">f</span><span class=\"p\">))</span>\\n        <span class=\"n\">msg</span><span class=\"o\">.</span><span class=\"n\">attach</span><span class=\"p\">(</span><span class=\"n\">part</span><span class=\"p\">)</span>\\n\\n<span class=\"n\">s</span> <span class=\"o\">=</span> <span class=\"n\">smtplib</span><span class=\"o\">.</span><span class=\"n\">SMTP</span><span class=\"p\">(</span><span class=\"s\">\\'smtp-server.yourcompany\\'</span><span class=\"p\">)</span>\\n<span class=\"n\">s</span><span class=\"o\">.</span><span class=\"n\">sendmail</span><span class=\"p\">(</span><span class=\"n\">from_email</span><span class=\"p\">,</span> <span class=\"n\">to_email</span><span class=\"p\">,</span> <span class=\"n\">msg</span><span class=\"o\">.</span><span class=\"n\">as_string</span><span class=\"p\">())</span>\\n</code></pre></div></div>\\n\\n<h1 id=\"jupyter\">Jupyter</h1>\\n\\n<p>Jupyter Notebooks are a great place to write and debug code on the fly and interactively. Here are a few added magic functions or tricks to make going back and forth a bit more convenient.</p>\\n\\n<p>Run a python file from within a Jupyter Notebook with:</p>\\n\\n<div class=\"language-shell highlighter-rouge\"><div class=\"highlight\"><pre class=\"highlight\"><code><span class=\"o\">!</span>python program.py <span class=\"nt\">-h</span>\\n</code></pre></div></div>\\n\\n<p>Load a python file into a Jupyter cell with the following.</p>\\n\\n<div class=\"language-shell highlighter-rouge\"><div class=\"highlight\"><pre class=\"highlight\"><code>%load program.py\\n</code></pre></div></div>\\n\\n<p>And if running some code inside a Jupyter Notebook, which utilizes <code class=\"highlighter-rouge\">argparse</code> and thus undesirable breaks execution, you can allow Jupyter Notebook to pass this section by doing the following.</p>\\n\\n<div class=\"language-python highlighter-rouge\"><div class=\"highlight\"><pre class=\"highlight\"><code><span class=\"k\">if</span> <span class=\"n\">get_ipython</span><span class=\"p\">()</span><span class=\"o\">.</span><span class=\"n\">__class__</span><span class=\"o\">.</span><span class=\"n\">__name__</span> <span class=\"o\">==</span> <span class=\"s\">\\'ZMQInteractiveShell\\'</span>\\n    <span class=\"n\">sys</span><span class=\"o\">.</span><span class=\"n\">argv</span> <span class=\"o\">=</span> <span class=\"p\">[</span><span class=\"s\">\\'-f\\'</span><span class=\"p\">]</span>\\n</code></pre></div></div>')])),\n",
       "                                          ('author',\n",
       "                                           OrderedDict([('name',\n",
       "                                                         'Kain Nanne')])),\n",
       "                                          ('category',\n",
       "                                           OrderedDict([('@term', 'python')])),\n",
       "                                          ('summary',\n",
       "                                           OrderedDict([('@type', 'html'),\n",
       "                                                        ('#text',\n",
       "                                                         'Helpful scripts for automating everything Python')]))]),\n",
       "                             OrderedDict([('title',\n",
       "                                           OrderedDict([('@type', 'html'),\n",
       "                                                        ('#text',\n",
       "                                                         'Calculations For Data Analysis')])),\n",
       "                                          ('link',\n",
       "                                           OrderedDict([('@href',\n",
       "                                                         'https://knanne.github.io/posts/calculations-for-data-analysis'),\n",
       "                                                        ('@rel', 'alternate'),\n",
       "                                                        ('@type', 'text/html'),\n",
       "                                                        ('@title',\n",
       "                                                         'Calculations For Data Analysis')])),\n",
       "                                          ('published',\n",
       "                                           '2017-06-25T00:00:00+00:00'),\n",
       "                                          ('updated',\n",
       "                                           '2017-06-25T00:00:00+00:00'),\n",
       "                                          ('id',\n",
       "                                           'https://knanne.github.io/posts/calculations-for-data-analysis'),\n",
       "                                          ('content',\n",
       "                                           OrderedDict([('@type', 'html'),\n",
       "                                                        ('@xml:base',\n",
       "                                                         'https://knanne.github.io/posts/calculations-for-data-analysis'),\n",
       "                                                        ('#text',\n",
       "                                                         '<p>A list of random calculations I will need again for data analysis</p>\\n\\n<!-- excerpt separator -->\\n\\n<ul id=\"markdown-toc\">\\n  <li><a href=\"#euclidean-distance\" id=\"markdown-toc-euclidean-distance\">Euclidean Distance</a></li>\\n  <li><a href=\"#compound-annual-growth-rate\" id=\"markdown-toc-compound-annual-growth-rate\">Compound Annual Growth Rate</a></li>\\n  <li><a href=\"#weighted-average\" id=\"markdown-toc-weighted-average\">Weighted Average</a></li>\\n</ul>\\n\\n<h1 id=\"euclidean-distance\">Euclidean Distance</h1>\\n\\n<p>The following equation can be used to calculate distance between two locations (e.g. shopper and store etc.)</p>\\n\\n<h2 id=\"sql\">SQL</h2>\\n\\n<div class=\"language-sql highlighter-rouge\"><div class=\"highlight\"><pre class=\"highlight\"><code><span class=\"k\">create</span> <span class=\"k\">database</span> <span class=\"n\">test</span><span class=\"p\">;</span>\\n<span class=\"k\">create</span> <span class=\"k\">table</span> <span class=\"n\">test</span><span class=\"p\">.</span><span class=\"n\">distance</span> <span class=\"p\">(</span><span class=\"n\">latitude1</span> <span class=\"n\">float</span><span class=\"p\">,</span> <span class=\"n\">longitude1</span> <span class=\"n\">float</span><span class=\"p\">,</span> <span class=\"n\">latitude2</span> <span class=\"n\">float</span><span class=\"p\">,</span> <span class=\"n\">longitude2</span> <span class=\"n\">float</span><span class=\"p\">);</span>\\n<span class=\"k\">insert</span> <span class=\"k\">into</span> <span class=\"n\">test</span><span class=\"p\">.</span><span class=\"n\">distance</span> <span class=\"p\">(</span><span class=\"n\">latitude1</span><span class=\"p\">,</span> <span class=\"n\">longitude1</span><span class=\"p\">,</span> <span class=\"n\">latitude2</span><span class=\"p\">,</span> <span class=\"n\">longitude2</span><span class=\"p\">)</span> <span class=\"k\">values</span> <span class=\"p\">(</span><span class=\"mi\">52</span><span class=\"p\">.</span><span class=\"mi\">379128</span><span class=\"p\">,</span> <span class=\"mi\">4</span><span class=\"p\">.</span><span class=\"mi\">900272</span><span class=\"p\">,</span> <span class=\"mi\">40</span><span class=\"p\">.</span><span class=\"mi\">752726</span><span class=\"p\">,</span> <span class=\"o\">-</span><span class=\"mi\">73</span><span class=\"p\">.</span><span class=\"mi\">977229</span><span class=\"p\">);</span>\\n\\n<span class=\"k\">select</span>\\n  <span class=\"o\">*</span><span class=\"p\">,</span>\\n  <span class=\"n\">distance_km</span> <span class=\"o\">/</span> <span class=\"mi\">1</span><span class=\"p\">.</span><span class=\"mi\">609344</span> <span class=\"nv\">\"distance_mi\"</span>\\n<span class=\"k\">from</span>\\n<span class=\"p\">(</span>\\n  <span class=\"k\">select</span>\\n  \\t<span class=\"n\">latitude1</span><span class=\"p\">,</span>\\n  \\t<span class=\"n\">longitude1</span><span class=\"p\">,</span>\\n  \\t<span class=\"n\">latitude2</span><span class=\"p\">,</span>\\n  \\t<span class=\"n\">longitude2</span><span class=\"p\">,</span>\\n  \\t<span class=\"n\">ACOS</span><span class=\"p\">(</span>\\n  \\t  <span class=\"n\">SIN</span><span class=\"p\">(</span><span class=\"n\">latitude1</span><span class=\"o\">*</span><span class=\"n\">PI</span><span class=\"p\">()</span><span class=\"o\">/</span><span class=\"mi\">180</span><span class=\"p\">)</span> <span class=\"o\">*</span> <span class=\"n\">SIN</span><span class=\"p\">(</span><span class=\"n\">latitude2</span><span class=\"o\">*</span><span class=\"n\">PI</span><span class=\"p\">()</span><span class=\"o\">/</span><span class=\"mi\">180</span><span class=\"p\">)</span>\\n  \\t\\t<span class=\"o\">+</span> <span class=\"n\">COS</span><span class=\"p\">(</span><span class=\"n\">latitude1</span><span class=\"o\">*</span><span class=\"n\">PI</span><span class=\"p\">()</span><span class=\"o\">/</span><span class=\"mi\">180</span><span class=\"p\">)</span> <span class=\"o\">*</span> <span class=\"n\">COS</span><span class=\"p\">(</span><span class=\"n\">latitude2</span><span class=\"o\">*</span><span class=\"n\">PI</span><span class=\"p\">()</span><span class=\"o\">/</span><span class=\"mi\">180</span><span class=\"p\">)</span>\\n  \\t\\t<span class=\"o\">*</span> <span class=\"n\">COS</span><span class=\"p\">(</span><span class=\"n\">longitude2</span><span class=\"o\">*</span><span class=\"n\">PI</span><span class=\"p\">()</span><span class=\"o\">/</span><span class=\"mi\">180</span> <span class=\"o\">-</span> <span class=\"n\">longitude1</span><span class=\"o\">*</span><span class=\"n\">PI</span><span class=\"p\">()</span><span class=\"o\">/</span><span class=\"mi\">180</span><span class=\"p\">)</span>\\n  \\t\\t<span class=\"p\">)</span> <span class=\"o\">*</span> <span class=\"mi\">6371</span> <span class=\"nv\">\"distance_km\"</span>\\n  <span class=\"k\">from</span> <span class=\"n\">test</span><span class=\"p\">.</span><span class=\"n\">distance</span>\\n<span class=\"p\">)</span> <span class=\"n\">x</span>\\n<span class=\"p\">;</span>\\n</code></pre></div></div>\\n\\n<h2 id=\"pandas\">Pandas</h2>\\n\\n<div class=\"language-python highlighter-rouge\"><div class=\"highlight\"><pre class=\"highlight\"><code><span class=\"kn\">import</span> <span class=\"nn\">pandas</span> <span class=\"k\">as</span> <span class=\"n\">pd</span>\\n<span class=\"kn\">import</span> <span class=\"nn\">math</span>\\n\\n<span class=\"n\">latitude1</span> <span class=\"o\">=</span> <span class=\"mf\">52.379128</span>\\n<span class=\"n\">latitude2</span> <span class=\"o\">=</span> <span class=\"mf\">40.752726</span>\\n<span class=\"n\">longitude2</span> <span class=\"o\">=</span> <span class=\"mf\">4.900272</span>\\n<span class=\"n\">longitude1</span> <span class=\"o\">=</span> <span class=\"o\">-</span><span class=\"mf\">73.977229</span>\\n\\n<span class=\"n\">df</span> <span class=\"o\">=</span> <span class=\"n\">pd</span><span class=\"o\">.</span><span class=\"n\">DataFrame</span><span class=\"p\">([{</span>\\n    <span class=\"s\">\\'latitude1\\'</span><span class=\"p\">:</span> <span class=\"n\">latitude1</span><span class=\"p\">,</span> <span class=\"s\">\\'longitude1\\'</span><span class=\"p\">:</span> <span class=\"n\">longitude1</span><span class=\"p\">,</span>\\n    <span class=\"s\">\\'latitude2\\'</span><span class=\"p\">:</span> <span class=\"n\">latitude2</span><span class=\"p\">,</span> <span class=\"s\">\\'longitude2\\'</span><span class=\"p\">:</span> <span class=\"n\">longitude2</span><span class=\"p\">}])</span>\\n\\n<span class=\"n\">euclidean_distance</span> <span class=\"o\">=</span> <span class=\"k\">lambda</span> <span class=\"n\">row</span><span class=\"p\">:</span> <span class=\"n\">math</span><span class=\"o\">.</span><span class=\"n\">acos</span><span class=\"p\">(</span>\\n  <span class=\"n\">math</span><span class=\"o\">.</span><span class=\"n\">sin</span><span class=\"p\">(</span><span class=\"n\">row</span><span class=\"p\">[</span><span class=\"s\">\\'latitude1\\'</span><span class=\"p\">]</span><span class=\"o\">*</span><span class=\"n\">math</span><span class=\"o\">.</span><span class=\"n\">pi</span><span class=\"o\">/</span><span class=\"mi\">180</span><span class=\"p\">)</span> <span class=\"o\">*</span> <span class=\"n\">math</span><span class=\"o\">.</span><span class=\"n\">sin</span><span class=\"p\">(</span><span class=\"n\">row</span><span class=\"p\">[</span><span class=\"s\">\\'latitude2\\'</span><span class=\"p\">]</span><span class=\"o\">*</span><span class=\"n\">math</span><span class=\"o\">.</span><span class=\"n\">pi</span><span class=\"o\">/</span><span class=\"mi\">180</span><span class=\"p\">)</span>\\n  <span class=\"o\">+</span> <span class=\"n\">math</span><span class=\"o\">.</span><span class=\"n\">cos</span><span class=\"p\">(</span><span class=\"n\">row</span><span class=\"p\">[</span><span class=\"s\">\\'latitude1\\'</span><span class=\"p\">]</span><span class=\"o\">*</span><span class=\"n\">math</span><span class=\"o\">.</span><span class=\"n\">pi</span><span class=\"o\">/</span><span class=\"mi\">180</span><span class=\"p\">)</span> <span class=\"o\">*</span> <span class=\"n\">math</span><span class=\"o\">.</span><span class=\"n\">cos</span><span class=\"p\">(</span><span class=\"n\">row</span><span class=\"p\">[</span><span class=\"s\">\\'latitude2\\'</span><span class=\"p\">]</span><span class=\"o\">*</span><span class=\"n\">math</span><span class=\"o\">.</span><span class=\"n\">pi</span><span class=\"o\">/</span><span class=\"mi\">180</span><span class=\"p\">)</span>\\n  <span class=\"o\">*</span> <span class=\"n\">math</span><span class=\"o\">.</span><span class=\"n\">cos</span><span class=\"p\">(</span><span class=\"n\">row</span><span class=\"p\">[</span><span class=\"s\">\\'longitude2\\'</span><span class=\"p\">]</span><span class=\"o\">*</span><span class=\"n\">math</span><span class=\"o\">.</span><span class=\"n\">pi</span><span class=\"o\">/</span><span class=\"mi\">180</span> <span class=\"o\">-</span> <span class=\"n\">row</span><span class=\"p\">[</span><span class=\"s\">\\'longitude1\\'</span><span class=\"p\">]</span><span class=\"o\">*</span><span class=\"n\">math</span><span class=\"o\">.</span><span class=\"n\">pi</span><span class=\"o\">/</span><span class=\"mi\">180</span><span class=\"p\">)</span> <span class=\"p\">)</span> <span class=\"o\">*</span> <span class=\"mi\">6371</span>\\n\\n<span class=\"n\">df</span><span class=\"p\">[</span><span class=\"s\">\\'distance_km\\'</span><span class=\"p\">]</span> <span class=\"o\">=</span> <span class=\"n\">df</span><span class=\"o\">.</span><span class=\"nb\">apply</span><span class=\"p\">(</span><span class=\"n\">euclidean_distance</span><span class=\"p\">,</span> <span class=\"n\">axis</span><span class=\"o\">=</span><span class=\"mi\">1</span><span class=\"p\">)</span>\\n<span class=\"n\">df</span><span class=\"p\">[</span><span class=\"s\">\\'distance_mi\\'</span><span class=\"p\">]</span> <span class=\"o\">=</span> <span class=\"n\">df</span><span class=\"p\">[</span><span class=\"s\">\\'distance_km\\'</span><span class=\"p\">]</span><span class=\"o\">.</span><span class=\"nb\">apply</span><span class=\"p\">(</span><span class=\"k\">lambda</span> <span class=\"n\">x</span><span class=\"p\">:</span> <span class=\"n\">x</span> <span class=\"o\">/</span> <span class=\"mf\">1.609344</span><span class=\"p\">)</span>\\n</code></pre></div></div>\\n\\n<p>Try yourself with <a href=\"http://nbviewer.jupyter.org/github/knanne/knanne.github.io/blob/master/pandas_apply_euclidean_distance.ipynb\">this Jupyter Notebook</a></p>\\n\\n<h1 id=\"compound-annual-growth-rate\">Compound Annual Growth Rate</h1>\\n\\n<script type=\"math/tex; mode=display\">{CAGR={Last/First}^{1/n}-1}</script>\\n\\n<p><a href=\"https://en.wikipedia.org/wiki/Compound_annual_growth_rate\">https://en.wikipedia.org/wiki/Compound_annual_growth_rate</a></p>\\n\\n<h2 id=\"pandas-1\">Pandas</h2>\\n\\n<div class=\"language-python highlighter-rouge\"><div class=\"highlight\"><pre class=\"highlight\"><code><span class=\"n\">df</span> <span class=\"o\">=</span> <span class=\"n\">pd</span><span class=\"o\">.</span><span class=\"n\">DataFrame</span><span class=\"p\">(</span><span class=\"n\">data</span><span class=\"o\">=</span><span class=\"n\">np</span><span class=\"o\">.</span><span class=\"n\">random</span><span class=\"o\">.</span><span class=\"n\">rand</span><span class=\"p\">(</span><span class=\"mi\">36</span><span class=\"p\">,</span><span class=\"mi\">4</span><span class=\"p\">),</span>\\n                  <span class=\"n\">index</span><span class=\"o\">=</span><span class=\"n\">pd</span><span class=\"o\">.</span><span class=\"n\">date_range</span><span class=\"p\">(</span><span class=\"n\">end</span><span class=\"o\">=</span><span class=\"n\">pd</span><span class=\"o\">.</span><span class=\"n\">datetime</span><span class=\"o\">.</span><span class=\"n\">now</span><span class=\"p\">(),</span> <span class=\"n\">periods</span><span class=\"o\">=</span><span class=\"mi\">36</span><span class=\"p\">,</span> <span class=\"n\">freq</span><span class=\"o\">=</span><span class=\"s\">\\'MS\\'</span><span class=\"p\">),</span>\\n                  <span class=\"n\">columns</span><span class=\"o\">=</span><span class=\"p\">[</span><span class=\"s\">\\'A\\'</span><span class=\"p\">,</span> <span class=\"s\">\\'B\\'</span><span class=\"p\">,</span> <span class=\"s\">\\'C\\'</span><span class=\"p\">,</span> <span class=\"s\">\\'D\\'</span><span class=\"p\">])</span>\\n\\n<span class=\"p\">(</span><span class=\"n\">df</span><span class=\"o\">.</span><span class=\"n\">iloc</span><span class=\"p\">[</span><span class=\"o\">-</span><span class=\"mi\">1</span><span class=\"p\">]</span> <span class=\"o\">/</span> <span class=\"n\">df</span><span class=\"o\">.</span><span class=\"n\">iloc</span><span class=\"p\">[</span><span class=\"mi\">0</span><span class=\"p\">])</span> <span class=\"o\">**</span> <span class=\"p\">(</span><span class=\"mi\">1</span><span class=\"o\">/</span><span class=\"nb\">len</span><span class=\"p\">(</span><span class=\"n\">df</span><span class=\"p\">))</span> <span class=\"o\">-</span> <span class=\"mi\">1</span>\\n</code></pre></div></div>\\n\\n<h1 id=\"weighted-average\">Weighted Average</h1>\\n\\n<h2 id=\"pandas-2\">Pandas</h2>\\n\\n<div class=\"language-python highlighter-rouge\"><div class=\"highlight\"><pre class=\"highlight\"><code><span class=\"n\">df</span> <span class=\"o\">=</span> <span class=\"n\">pd</span><span class=\"o\">.</span><span class=\"n\">DataFrame</span><span class=\"p\">(</span><span class=\"n\">data</span><span class=\"o\">=</span><span class=\"n\">np</span><span class=\"o\">.</span><span class=\"n\">random</span><span class=\"o\">.</span><span class=\"n\">rand</span><span class=\"p\">(</span><span class=\"mi\">4</span><span class=\"p\">,</span><span class=\"mi\">2</span><span class=\"p\">),</span>\\n                  <span class=\"n\">columns</span><span class=\"o\">=</span><span class=\"p\">[</span><span class=\"s\">\\'a\\'</span><span class=\"p\">,</span><span class=\"s\">\\'b\\'</span><span class=\"p\">])</span>\\n\\n<span class=\"n\">totals</span> <span class=\"o\">=</span> <span class=\"n\">df</span><span class=\"o\">.</span><span class=\"n\">agg</span><span class=\"p\">({</span>\\n  <span class=\"s\">\\'a\\'</span><span class=\"p\">:</span> <span class=\"s\">\\'mean\\'</span><span class=\"p\">,</span>\\n  <span class=\"s\">\\'b\\'</span><span class=\"p\">:</span> <span class=\"s\">\\'mean\\'</span><span class=\"p\">,</span>\\n  <span class=\"s\">\\'b\\'</span><span class=\"p\">:</span> <span class=\"k\">lambda</span> <span class=\"n\">x</span><span class=\"p\">:</span> <span class=\"n\">np</span><span class=\"o\">.</span><span class=\"n\">average</span><span class=\"p\">(</span><span class=\"n\">x</span> <span class=\"p\">,</span> <span class=\"n\">weights</span><span class=\"o\">=</span><span class=\"n\">df</span><span class=\"p\">[</span><span class=\"s\">\\'a\\'</span><span class=\"p\">])</span>\\n  <span class=\"p\">})</span><span class=\"o\">.</span><span class=\"n\">rename</span><span class=\"p\">(</span><span class=\"s\">\\'total\\'</span><span class=\"p\">)</span><span class=\"o\">.</span><span class=\"n\">to_frame</span><span class=\"p\">()</span><span class=\"o\">.</span><span class=\"n\">T</span>\\n</code></pre></div></div>')])),\n",
       "                                          ('author',\n",
       "                                           OrderedDict([('name',\n",
       "                                                         'Kain Nanne')])),\n",
       "                                          ('category',\n",
       "                                           [OrderedDict([('@term',\n",
       "                                                          'calculations')]),\n",
       "                                            OrderedDict([('@term',\n",
       "                                                          'equations')])]),\n",
       "                                          ('summary',\n",
       "                                           OrderedDict([('@type', 'html'),\n",
       "                                                        ('#text',\n",
       "                                                         'A list of random calculations I will need again for data analysis')]))])])]))])"
      ]
     },
     "execution_count": 68,
     "metadata": {},
     "output_type": "execute_result"
    }
   ],
   "source": [
    "d"
   ]
  },
  {
   "cell_type": "code",
   "execution_count": 106,
   "metadata": {},
   "outputs": [
    {
     "name": "stdout",
     "output_type": "stream",
     "text": [
      "{\n",
      "  \"feed\": {\n",
      "    \"@xmlns\": \"http://www.w3.org/2005/Atom\",\n",
      "    \"generator\": {\n",
      "      \"@uri\": \"https://jekyllrb.com/\",\n",
      "      \"@version\": \"3.7.4\",\n",
      "      \"#text\": \"Jekyll\"\n",
      "    },\n",
      "    \"link\": [\n",
      "      {\n",
      "        \"@href\": \"https://knanne.github.io/feed.xml\",\n",
      "        \"@rel\": \"self\",\n",
      "        \"@type\": \"application/atom+xml\"\n",
      "      },\n",
      "      {\n",
      "        \"@href\": \"https://knanne.github.io/\",\n",
      "        \"@rel\": \"alternate\",\n",
      "        \"@type\": \"text/html\"\n",
      "      }\n",
      "    ],\n",
      "    \"updated\": \"2018-11-25T16:32:05+00:00\",\n",
      "    \"id\": \"https://knanne.github.io/feed.xml\",\n",
      "    \"title\": {\n",
      "      \"@type\": \"html\",\n",
      "      \"#text\": \"knanne\"\n",
      "    },\n",
      "    \"subtitle\": \"Expert traveler, amateur farmer, beer / wine enthusiast - with a data science problem\",\n",
      "    \"author\": {\n",
      "      \"name\": \"Kai\n",
      ".\n",
      ".\n",
      ".\n",
      "\n"
     ]
    }
   ],
   "source": [
    "print(json.dumps(d, indent=2)[:750])\n",
    "print('.\\n'*3)"
   ]
  },
  {
   "cell_type": "code",
   "execution_count": 107,
   "metadata": {},
   "outputs": [],
   "source": [
    "import pandas as pd"
   ]
  },
  {
   "cell_type": "code",
   "execution_count": 109,
   "metadata": {},
   "outputs": [],
   "source": [
    "df = pd.DataFrame.from_dict(d['feed']['entry'])"
   ]
  },
  {
   "cell_type": "code",
   "execution_count": 71,
   "metadata": {},
   "outputs": [
    {
     "data": {
      "text/plain": [
       "(10, 9)"
      ]
     },
     "execution_count": 71,
     "metadata": {},
     "output_type": "execute_result"
    }
   ],
   "source": [
    "df.shape"
   ]
  },
  {
   "cell_type": "code",
   "execution_count": 72,
   "metadata": {},
   "outputs": [
    {
     "data": {
      "text/plain": [
       "Index(['title', 'link', 'published', 'updated', 'id', 'content', 'author',\n",
       "       'category', 'summary'],\n",
       "      dtype='object')"
      ]
     },
     "execution_count": 72,
     "metadata": {},
     "output_type": "execute_result"
    }
   ],
   "source": [
    "df.columns"
   ]
  },
  {
   "cell_type": "code",
   "execution_count": 75,
   "metadata": {},
   "outputs": [
    {
     "data": {
      "text/html": [
       "<div>\n",
       "<style scoped>\n",
       "    .dataframe tbody tr th:only-of-type {\n",
       "        vertical-align: middle;\n",
       "    }\n",
       "\n",
       "    .dataframe tbody tr th {\n",
       "        vertical-align: top;\n",
       "    }\n",
       "\n",
       "    .dataframe thead th {\n",
       "        text-align: right;\n",
       "    }\n",
       "</style>\n",
       "<table border=\"1\" class=\"dataframe\">\n",
       "  <thead>\n",
       "    <tr style=\"text-align: right;\">\n",
       "      <th></th>\n",
       "      <th>title</th>\n",
       "      <th>link</th>\n",
       "      <th>published</th>\n",
       "      <th>updated</th>\n",
       "      <th>id</th>\n",
       "      <th>content</th>\n",
       "      <th>author</th>\n",
       "      <th>category</th>\n",
       "      <th>summary</th>\n",
       "    </tr>\n",
       "  </thead>\n",
       "  <tbody>\n",
       "    <tr>\n",
       "      <th>0</th>\n",
       "      <td>{'@type': 'html', '#text': 'Notes On Excel'}</td>\n",
       "      <td>{'@href': 'https://knanne.github.io/posts/note...</td>\n",
       "      <td>2018-05-29T00:00:00+00:00</td>\n",
       "      <td>2018-05-29T00:00:00+00:00</td>\n",
       "      <td>https://knanne.github.io/posts/notes-on-excel</td>\n",
       "      <td>{'@type': 'html', '@xml:base': 'https://knanne...</td>\n",
       "      <td>{'name': 'Kain Nanne'}</td>\n",
       "      <td>{'@term': 'excel'}</td>\n",
       "      <td>{'@type': 'html', '#text': 'Random notes on us...</td>\n",
       "    </tr>\n",
       "    <tr>\n",
       "      <th>1</th>\n",
       "      <td>{'@type': 'html', '#text': 'Notes On Shell'}</td>\n",
       "      <td>{'@href': 'https://knanne.github.io/posts/note...</td>\n",
       "      <td>2018-05-26T00:00:00+00:00</td>\n",
       "      <td>2018-05-26T00:00:00+00:00</td>\n",
       "      <td>https://knanne.github.io/posts/notes-on-shell</td>\n",
       "      <td>{'@type': 'html', '@xml:base': 'https://knanne...</td>\n",
       "      <td>{'name': 'Kain Nanne'}</td>\n",
       "      <td>[{'@term': 'shell'}, {'@term': 'unix'}, {'@ter...</td>\n",
       "      <td>{'@type': 'html', '#text': 'Random notes on th...</td>\n",
       "    </tr>\n",
       "    <tr>\n",
       "      <th>2</th>\n",
       "      <td>{'@type': 'html', '#text': 'Notes On Ssh'}</td>\n",
       "      <td>{'@href': 'https://knanne.github.io/posts/note...</td>\n",
       "      <td>2018-05-26T00:00:00+00:00</td>\n",
       "      <td>2018-05-26T00:00:00+00:00</td>\n",
       "      <td>https://knanne.github.io/posts/notes-on-ssh</td>\n",
       "      <td>{'@type': 'html', '@xml:base': 'https://knanne...</td>\n",
       "      <td>{'name': 'Kain Nanne'}</td>\n",
       "      <td>{'@term': 'ssh'}</td>\n",
       "      <td>{'@type': 'html', '#text': 'Random notes on us...</td>\n",
       "    </tr>\n",
       "    <tr>\n",
       "      <th>3</th>\n",
       "      <td>{'@type': 'html', '#text': 'Notes On Pyspark'}</td>\n",
       "      <td>{'@href': 'https://knanne.github.io/posts/note...</td>\n",
       "      <td>2017-12-27T00:00:00+00:00</td>\n",
       "      <td>2017-12-27T00:00:00+00:00</td>\n",
       "      <td>https://knanne.github.io/posts/notes-on-pyspark</td>\n",
       "      <td>{'@type': 'html', '@xml:base': 'https://knanne...</td>\n",
       "      <td>{'name': 'Kain Nanne'}</td>\n",
       "      <td>[{'@term': 'pyspark'}, {'@term': 'spark'}, {'@...</td>\n",
       "      <td>{'@type': 'html', '#text': 'Random notes, link...</td>\n",
       "    </tr>\n",
       "    <tr>\n",
       "      <th>4</th>\n",
       "      <td>{'@type': 'html', '#text': 'Random Resources F...</td>\n",
       "      <td>{'@href': 'https://knanne.github.io/posts/rand...</td>\n",
       "      <td>2017-11-22T00:00:00+00:00</td>\n",
       "      <td>2017-11-22T00:00:00+00:00</td>\n",
       "      <td>https://knanne.github.io/posts/random-resource...</td>\n",
       "      <td>{'@type': 'html', '@xml:base': 'https://knanne...</td>\n",
       "      <td>{'name': 'Kain Nanne'}</td>\n",
       "      <td>NaN</td>\n",
       "      <td>{'@type': 'html', '#text': 'Random notes, link...</td>\n",
       "    </tr>\n",
       "  </tbody>\n",
       "</table>\n",
       "</div>"
      ],
      "text/plain": [
       "                                               title  \\\n",
       "0       {'@type': 'html', '#text': 'Notes On Excel'}   \n",
       "1       {'@type': 'html', '#text': 'Notes On Shell'}   \n",
       "2         {'@type': 'html', '#text': 'Notes On Ssh'}   \n",
       "3     {'@type': 'html', '#text': 'Notes On Pyspark'}   \n",
       "4  {'@type': 'html', '#text': 'Random Resources F...   \n",
       "\n",
       "                                                link  \\\n",
       "0  {'@href': 'https://knanne.github.io/posts/note...   \n",
       "1  {'@href': 'https://knanne.github.io/posts/note...   \n",
       "2  {'@href': 'https://knanne.github.io/posts/note...   \n",
       "3  {'@href': 'https://knanne.github.io/posts/note...   \n",
       "4  {'@href': 'https://knanne.github.io/posts/rand...   \n",
       "\n",
       "                   published                    updated  \\\n",
       "0  2018-05-29T00:00:00+00:00  2018-05-29T00:00:00+00:00   \n",
       "1  2018-05-26T00:00:00+00:00  2018-05-26T00:00:00+00:00   \n",
       "2  2018-05-26T00:00:00+00:00  2018-05-26T00:00:00+00:00   \n",
       "3  2017-12-27T00:00:00+00:00  2017-12-27T00:00:00+00:00   \n",
       "4  2017-11-22T00:00:00+00:00  2017-11-22T00:00:00+00:00   \n",
       "\n",
       "                                                  id  \\\n",
       "0      https://knanne.github.io/posts/notes-on-excel   \n",
       "1      https://knanne.github.io/posts/notes-on-shell   \n",
       "2        https://knanne.github.io/posts/notes-on-ssh   \n",
       "3    https://knanne.github.io/posts/notes-on-pyspark   \n",
       "4  https://knanne.github.io/posts/random-resource...   \n",
       "\n",
       "                                             content                  author  \\\n",
       "0  {'@type': 'html', '@xml:base': 'https://knanne...  {'name': 'Kain Nanne'}   \n",
       "1  {'@type': 'html', '@xml:base': 'https://knanne...  {'name': 'Kain Nanne'}   \n",
       "2  {'@type': 'html', '@xml:base': 'https://knanne...  {'name': 'Kain Nanne'}   \n",
       "3  {'@type': 'html', '@xml:base': 'https://knanne...  {'name': 'Kain Nanne'}   \n",
       "4  {'@type': 'html', '@xml:base': 'https://knanne...  {'name': 'Kain Nanne'}   \n",
       "\n",
       "                                            category  \\\n",
       "0                                 {'@term': 'excel'}   \n",
       "1  [{'@term': 'shell'}, {'@term': 'unix'}, {'@ter...   \n",
       "2                                   {'@term': 'ssh'}   \n",
       "3  [{'@term': 'pyspark'}, {'@term': 'spark'}, {'@...   \n",
       "4                                                NaN   \n",
       "\n",
       "                                             summary  \n",
       "0  {'@type': 'html', '#text': 'Random notes on us...  \n",
       "1  {'@type': 'html', '#text': 'Random notes on th...  \n",
       "2  {'@type': 'html', '#text': 'Random notes on us...  \n",
       "3  {'@type': 'html', '#text': 'Random notes, link...  \n",
       "4  {'@type': 'html', '#text': 'Random notes, link...  "
      ]
     },
     "execution_count": 75,
     "metadata": {},
     "output_type": "execute_result"
    }
   ],
   "source": [
    "df.head()"
   ]
  },
  {
   "cell_type": "code",
   "execution_count": 76,
   "metadata": {},
   "outputs": [
    {
     "data": {
      "text/plain": [
       "0    {'name': 'Kain Nanne'}\n",
       "1    {'name': 'Kain Nanne'}\n",
       "2    {'name': 'Kain Nanne'}\n",
       "3    {'name': 'Kain Nanne'}\n",
       "4    {'name': 'Kain Nanne'}\n",
       "5    {'name': 'Kain Nanne'}\n",
       "6    {'name': 'Kain Nanne'}\n",
       "7    {'name': 'Kain Nanne'}\n",
       "8    {'name': 'Kain Nanne'}\n",
       "9    {'name': 'Kain Nanne'}\n",
       "Name: author, dtype: object"
      ]
     },
     "execution_count": 76,
     "metadata": {},
     "output_type": "execute_result"
    }
   ],
   "source": [
    "df['author']"
   ]
  },
  {
   "cell_type": "code",
   "execution_count": 77,
   "metadata": {},
   "outputs": [
    {
     "data": {
      "text/plain": [
       "0    Kain Nanne\n",
       "1    Kain Nanne\n",
       "2    Kain Nanne\n",
       "3    Kain Nanne\n",
       "4    Kain Nanne\n",
       "5    Kain Nanne\n",
       "6    Kain Nanne\n",
       "7    Kain Nanne\n",
       "8    Kain Nanne\n",
       "9    Kain Nanne\n",
       "Name: author, dtype: object"
      ]
     },
     "execution_count": 77,
     "metadata": {},
     "output_type": "execute_result"
    }
   ],
   "source": [
    "df['author'].apply(lambda x: x.get('name'))"
   ]
  },
  {
   "cell_type": "code",
   "execution_count": 79,
   "metadata": {},
   "outputs": [
    {
     "data": {
      "text/html": [
       "<div>\n",
       "<style scoped>\n",
       "    .dataframe tbody tr th:only-of-type {\n",
       "        vertical-align: middle;\n",
       "    }\n",
       "\n",
       "    .dataframe tbody tr th {\n",
       "        vertical-align: top;\n",
       "    }\n",
       "\n",
       "    .dataframe thead th {\n",
       "        text-align: right;\n",
       "    }\n",
       "</style>\n",
       "<table border=\"1\" class=\"dataframe\">\n",
       "  <thead>\n",
       "    <tr style=\"text-align: right;\">\n",
       "      <th></th>\n",
       "      <th>name</th>\n",
       "    </tr>\n",
       "  </thead>\n",
       "  <tbody>\n",
       "    <tr>\n",
       "      <th>0</th>\n",
       "      <td>Kain Nanne</td>\n",
       "    </tr>\n",
       "    <tr>\n",
       "      <th>1</th>\n",
       "      <td>Kain Nanne</td>\n",
       "    </tr>\n",
       "    <tr>\n",
       "      <th>2</th>\n",
       "      <td>Kain Nanne</td>\n",
       "    </tr>\n",
       "    <tr>\n",
       "      <th>3</th>\n",
       "      <td>Kain Nanne</td>\n",
       "    </tr>\n",
       "    <tr>\n",
       "      <th>4</th>\n",
       "      <td>Kain Nanne</td>\n",
       "    </tr>\n",
       "    <tr>\n",
       "      <th>5</th>\n",
       "      <td>Kain Nanne</td>\n",
       "    </tr>\n",
       "    <tr>\n",
       "      <th>6</th>\n",
       "      <td>Kain Nanne</td>\n",
       "    </tr>\n",
       "    <tr>\n",
       "      <th>7</th>\n",
       "      <td>Kain Nanne</td>\n",
       "    </tr>\n",
       "    <tr>\n",
       "      <th>8</th>\n",
       "      <td>Kain Nanne</td>\n",
       "    </tr>\n",
       "    <tr>\n",
       "      <th>9</th>\n",
       "      <td>Kain Nanne</td>\n",
       "    </tr>\n",
       "  </tbody>\n",
       "</table>\n",
       "</div>"
      ],
      "text/plain": [
       "         name\n",
       "0  Kain Nanne\n",
       "1  Kain Nanne\n",
       "2  Kain Nanne\n",
       "3  Kain Nanne\n",
       "4  Kain Nanne\n",
       "5  Kain Nanne\n",
       "6  Kain Nanne\n",
       "7  Kain Nanne\n",
       "8  Kain Nanne\n",
       "9  Kain Nanne"
      ]
     },
     "execution_count": 79,
     "metadata": {},
     "output_type": "execute_result"
    }
   ],
   "source": [
    "df['author'].apply(pd.Series)"
   ]
  },
  {
   "cell_type": "code",
   "execution_count": 81,
   "metadata": {},
   "outputs": [],
   "source": [
    "df = df.join(df['author'].apply(pd.Series), how='left')"
   ]
  },
  {
   "cell_type": "code",
   "execution_count": 83,
   "metadata": {},
   "outputs": [
    {
     "data": {
      "text/plain": [
       "(10, 10)"
      ]
     },
     "execution_count": 83,
     "metadata": {},
     "output_type": "execute_result"
    }
   ],
   "source": [
    "df.shape"
   ]
  },
  {
   "cell_type": "code",
   "execution_count": 84,
   "metadata": {},
   "outputs": [
    {
     "data": {
      "text/html": [
       "<div>\n",
       "<style scoped>\n",
       "    .dataframe tbody tr th:only-of-type {\n",
       "        vertical-align: middle;\n",
       "    }\n",
       "\n",
       "    .dataframe tbody tr th {\n",
       "        vertical-align: top;\n",
       "    }\n",
       "\n",
       "    .dataframe thead th {\n",
       "        text-align: right;\n",
       "    }\n",
       "</style>\n",
       "<table border=\"1\" class=\"dataframe\">\n",
       "  <thead>\n",
       "    <tr style=\"text-align: right;\">\n",
       "      <th></th>\n",
       "      <th>title</th>\n",
       "      <th>link</th>\n",
       "      <th>published</th>\n",
       "      <th>updated</th>\n",
       "      <th>id</th>\n",
       "      <th>content</th>\n",
       "      <th>author</th>\n",
       "      <th>category</th>\n",
       "      <th>summary</th>\n",
       "      <th>name</th>\n",
       "    </tr>\n",
       "  </thead>\n",
       "  <tbody>\n",
       "    <tr>\n",
       "      <th>0</th>\n",
       "      <td>{'@type': 'html', '#text': 'Notes On Excel'}</td>\n",
       "      <td>{'@href': 'https://knanne.github.io/posts/note...</td>\n",
       "      <td>2018-05-29T00:00:00+00:00</td>\n",
       "      <td>2018-05-29T00:00:00+00:00</td>\n",
       "      <td>https://knanne.github.io/posts/notes-on-excel</td>\n",
       "      <td>{'@type': 'html', '@xml:base': 'https://knanne...</td>\n",
       "      <td>{'name': 'Kain Nanne'}</td>\n",
       "      <td>{'@term': 'excel'}</td>\n",
       "      <td>{'@type': 'html', '#text': 'Random notes on us...</td>\n",
       "      <td>Kain Nanne</td>\n",
       "    </tr>\n",
       "    <tr>\n",
       "      <th>1</th>\n",
       "      <td>{'@type': 'html', '#text': 'Notes On Shell'}</td>\n",
       "      <td>{'@href': 'https://knanne.github.io/posts/note...</td>\n",
       "      <td>2018-05-26T00:00:00+00:00</td>\n",
       "      <td>2018-05-26T00:00:00+00:00</td>\n",
       "      <td>https://knanne.github.io/posts/notes-on-shell</td>\n",
       "      <td>{'@type': 'html', '@xml:base': 'https://knanne...</td>\n",
       "      <td>{'name': 'Kain Nanne'}</td>\n",
       "      <td>[{'@term': 'shell'}, {'@term': 'unix'}, {'@ter...</td>\n",
       "      <td>{'@type': 'html', '#text': 'Random notes on th...</td>\n",
       "      <td>Kain Nanne</td>\n",
       "    </tr>\n",
       "    <tr>\n",
       "      <th>2</th>\n",
       "      <td>{'@type': 'html', '#text': 'Notes On Ssh'}</td>\n",
       "      <td>{'@href': 'https://knanne.github.io/posts/note...</td>\n",
       "      <td>2018-05-26T00:00:00+00:00</td>\n",
       "      <td>2018-05-26T00:00:00+00:00</td>\n",
       "      <td>https://knanne.github.io/posts/notes-on-ssh</td>\n",
       "      <td>{'@type': 'html', '@xml:base': 'https://knanne...</td>\n",
       "      <td>{'name': 'Kain Nanne'}</td>\n",
       "      <td>{'@term': 'ssh'}</td>\n",
       "      <td>{'@type': 'html', '#text': 'Random notes on us...</td>\n",
       "      <td>Kain Nanne</td>\n",
       "    </tr>\n",
       "    <tr>\n",
       "      <th>3</th>\n",
       "      <td>{'@type': 'html', '#text': 'Notes On Pyspark'}</td>\n",
       "      <td>{'@href': 'https://knanne.github.io/posts/note...</td>\n",
       "      <td>2017-12-27T00:00:00+00:00</td>\n",
       "      <td>2017-12-27T00:00:00+00:00</td>\n",
       "      <td>https://knanne.github.io/posts/notes-on-pyspark</td>\n",
       "      <td>{'@type': 'html', '@xml:base': 'https://knanne...</td>\n",
       "      <td>{'name': 'Kain Nanne'}</td>\n",
       "      <td>[{'@term': 'pyspark'}, {'@term': 'spark'}, {'@...</td>\n",
       "      <td>{'@type': 'html', '#text': 'Random notes, link...</td>\n",
       "      <td>Kain Nanne</td>\n",
       "    </tr>\n",
       "    <tr>\n",
       "      <th>4</th>\n",
       "      <td>{'@type': 'html', '#text': 'Random Resources F...</td>\n",
       "      <td>{'@href': 'https://knanne.github.io/posts/rand...</td>\n",
       "      <td>2017-11-22T00:00:00+00:00</td>\n",
       "      <td>2017-11-22T00:00:00+00:00</td>\n",
       "      <td>https://knanne.github.io/posts/random-resource...</td>\n",
       "      <td>{'@type': 'html', '@xml:base': 'https://knanne...</td>\n",
       "      <td>{'name': 'Kain Nanne'}</td>\n",
       "      <td>NaN</td>\n",
       "      <td>{'@type': 'html', '#text': 'Random notes, link...</td>\n",
       "      <td>Kain Nanne</td>\n",
       "    </tr>\n",
       "  </tbody>\n",
       "</table>\n",
       "</div>"
      ],
      "text/plain": [
       "                                               title  \\\n",
       "0       {'@type': 'html', '#text': 'Notes On Excel'}   \n",
       "1       {'@type': 'html', '#text': 'Notes On Shell'}   \n",
       "2         {'@type': 'html', '#text': 'Notes On Ssh'}   \n",
       "3     {'@type': 'html', '#text': 'Notes On Pyspark'}   \n",
       "4  {'@type': 'html', '#text': 'Random Resources F...   \n",
       "\n",
       "                                                link  \\\n",
       "0  {'@href': 'https://knanne.github.io/posts/note...   \n",
       "1  {'@href': 'https://knanne.github.io/posts/note...   \n",
       "2  {'@href': 'https://knanne.github.io/posts/note...   \n",
       "3  {'@href': 'https://knanne.github.io/posts/note...   \n",
       "4  {'@href': 'https://knanne.github.io/posts/rand...   \n",
       "\n",
       "                   published                    updated  \\\n",
       "0  2018-05-29T00:00:00+00:00  2018-05-29T00:00:00+00:00   \n",
       "1  2018-05-26T00:00:00+00:00  2018-05-26T00:00:00+00:00   \n",
       "2  2018-05-26T00:00:00+00:00  2018-05-26T00:00:00+00:00   \n",
       "3  2017-12-27T00:00:00+00:00  2017-12-27T00:00:00+00:00   \n",
       "4  2017-11-22T00:00:00+00:00  2017-11-22T00:00:00+00:00   \n",
       "\n",
       "                                                  id  \\\n",
       "0      https://knanne.github.io/posts/notes-on-excel   \n",
       "1      https://knanne.github.io/posts/notes-on-shell   \n",
       "2        https://knanne.github.io/posts/notes-on-ssh   \n",
       "3    https://knanne.github.io/posts/notes-on-pyspark   \n",
       "4  https://knanne.github.io/posts/random-resource...   \n",
       "\n",
       "                                             content                  author  \\\n",
       "0  {'@type': 'html', '@xml:base': 'https://knanne...  {'name': 'Kain Nanne'}   \n",
       "1  {'@type': 'html', '@xml:base': 'https://knanne...  {'name': 'Kain Nanne'}   \n",
       "2  {'@type': 'html', '@xml:base': 'https://knanne...  {'name': 'Kain Nanne'}   \n",
       "3  {'@type': 'html', '@xml:base': 'https://knanne...  {'name': 'Kain Nanne'}   \n",
       "4  {'@type': 'html', '@xml:base': 'https://knanne...  {'name': 'Kain Nanne'}   \n",
       "\n",
       "                                            category  \\\n",
       "0                                 {'@term': 'excel'}   \n",
       "1  [{'@term': 'shell'}, {'@term': 'unix'}, {'@ter...   \n",
       "2                                   {'@term': 'ssh'}   \n",
       "3  [{'@term': 'pyspark'}, {'@term': 'spark'}, {'@...   \n",
       "4                                                NaN   \n",
       "\n",
       "                                             summary        name  \n",
       "0  {'@type': 'html', '#text': 'Random notes on us...  Kain Nanne  \n",
       "1  {'@type': 'html', '#text': 'Random notes on th...  Kain Nanne  \n",
       "2  {'@type': 'html', '#text': 'Random notes on us...  Kain Nanne  \n",
       "3  {'@type': 'html', '#text': 'Random notes, link...  Kain Nanne  \n",
       "4  {'@type': 'html', '#text': 'Random notes, link...  Kain Nanne  "
      ]
     },
     "execution_count": 84,
     "metadata": {},
     "output_type": "execute_result"
    }
   ],
   "source": [
    "df.head()"
   ]
  },
  {
   "cell_type": "code",
   "execution_count": 86,
   "metadata": {},
   "outputs": [
    {
     "data": {
      "text/plain": [
       "0         {'@type': 'html', '#text': 'Notes On Excel'}\n",
       "1         {'@type': 'html', '#text': 'Notes On Shell'}\n",
       "2           {'@type': 'html', '#text': 'Notes On Ssh'}\n",
       "3       {'@type': 'html', '#text': 'Notes On Pyspark'}\n",
       "4    {'@type': 'html', '#text': 'Random Resources F...\n",
       "Name: title, dtype: object"
      ]
     },
     "execution_count": 86,
     "metadata": {},
     "output_type": "execute_result"
    }
   ],
   "source": [
    "df.title.head()"
   ]
  },
  {
   "cell_type": "code",
   "execution_count": 85,
   "metadata": {},
   "outputs": [
    {
     "data": {
      "text/html": [
       "<div>\n",
       "<style scoped>\n",
       "    .dataframe tbody tr th:only-of-type {\n",
       "        vertical-align: middle;\n",
       "    }\n",
       "\n",
       "    .dataframe tbody tr th {\n",
       "        vertical-align: top;\n",
       "    }\n",
       "\n",
       "    .dataframe thead th {\n",
       "        text-align: right;\n",
       "    }\n",
       "</style>\n",
       "<table border=\"1\" class=\"dataframe\">\n",
       "  <thead>\n",
       "    <tr style=\"text-align: right;\">\n",
       "      <th></th>\n",
       "      <th>@type</th>\n",
       "      <th>#text</th>\n",
       "    </tr>\n",
       "  </thead>\n",
       "  <tbody>\n",
       "    <tr>\n",
       "      <th>0</th>\n",
       "      <td>html</td>\n",
       "      <td>Notes On Excel</td>\n",
       "    </tr>\n",
       "    <tr>\n",
       "      <th>1</th>\n",
       "      <td>html</td>\n",
       "      <td>Notes On Shell</td>\n",
       "    </tr>\n",
       "    <tr>\n",
       "      <th>2</th>\n",
       "      <td>html</td>\n",
       "      <td>Notes On Ssh</td>\n",
       "    </tr>\n",
       "    <tr>\n",
       "      <th>3</th>\n",
       "      <td>html</td>\n",
       "      <td>Notes On Pyspark</td>\n",
       "    </tr>\n",
       "    <tr>\n",
       "      <th>4</th>\n",
       "      <td>html</td>\n",
       "      <td>Random Resources For Data Analysis</td>\n",
       "    </tr>\n",
       "    <tr>\n",
       "      <th>5</th>\n",
       "      <td>html</td>\n",
       "      <td>Preprocessing Data In Pandas</td>\n",
       "    </tr>\n",
       "    <tr>\n",
       "      <th>6</th>\n",
       "      <td>html</td>\n",
       "      <td>Notes On Regular Expression</td>\n",
       "    </tr>\n",
       "    <tr>\n",
       "      <th>7</th>\n",
       "      <td>html</td>\n",
       "      <td>Cleaning Data In Pandas</td>\n",
       "    </tr>\n",
       "    <tr>\n",
       "      <th>8</th>\n",
       "      <td>html</td>\n",
       "      <td>Automating Everything In Python</td>\n",
       "    </tr>\n",
       "    <tr>\n",
       "      <th>9</th>\n",
       "      <td>html</td>\n",
       "      <td>Calculations For Data Analysis</td>\n",
       "    </tr>\n",
       "  </tbody>\n",
       "</table>\n",
       "</div>"
      ],
      "text/plain": [
       "  @type                               #text\n",
       "0  html                      Notes On Excel\n",
       "1  html                      Notes On Shell\n",
       "2  html                        Notes On Ssh\n",
       "3  html                    Notes On Pyspark\n",
       "4  html  Random Resources For Data Analysis\n",
       "5  html        Preprocessing Data In Pandas\n",
       "6  html         Notes On Regular Expression\n",
       "7  html             Cleaning Data In Pandas\n",
       "8  html     Automating Everything In Python\n",
       "9  html      Calculations For Data Analysis"
      ]
     },
     "execution_count": 85,
     "metadata": {},
     "output_type": "execute_result"
    }
   ],
   "source": [
    "df.title.apply(pd.Series)"
   ]
  },
  {
   "cell_type": "code",
   "execution_count": 87,
   "metadata": {},
   "outputs": [],
   "source": [
    "df = df.join(df.title.apply(pd.Series), how='left')"
   ]
  },
  {
   "cell_type": "code",
   "execution_count": 88,
   "metadata": {},
   "outputs": [
    {
     "data": {
      "text/plain": [
       "(10, 12)"
      ]
     },
     "execution_count": 88,
     "metadata": {},
     "output_type": "execute_result"
    }
   ],
   "source": [
    "df.shape"
   ]
  },
  {
   "cell_type": "code",
   "execution_count": 89,
   "metadata": {},
   "outputs": [
    {
     "data": {
      "text/html": [
       "<div>\n",
       "<style scoped>\n",
       "    .dataframe tbody tr th:only-of-type {\n",
       "        vertical-align: middle;\n",
       "    }\n",
       "\n",
       "    .dataframe tbody tr th {\n",
       "        vertical-align: top;\n",
       "    }\n",
       "\n",
       "    .dataframe thead th {\n",
       "        text-align: right;\n",
       "    }\n",
       "</style>\n",
       "<table border=\"1\" class=\"dataframe\">\n",
       "  <thead>\n",
       "    <tr style=\"text-align: right;\">\n",
       "      <th></th>\n",
       "      <th>title</th>\n",
       "      <th>link</th>\n",
       "      <th>published</th>\n",
       "      <th>updated</th>\n",
       "      <th>id</th>\n",
       "      <th>content</th>\n",
       "      <th>author</th>\n",
       "      <th>category</th>\n",
       "      <th>summary</th>\n",
       "      <th>name</th>\n",
       "      <th>@type</th>\n",
       "      <th>#text</th>\n",
       "    </tr>\n",
       "  </thead>\n",
       "  <tbody>\n",
       "    <tr>\n",
       "      <th>0</th>\n",
       "      <td>{'@type': 'html', '#text': 'Notes On Excel'}</td>\n",
       "      <td>{'@href': 'https://knanne.github.io/posts/note...</td>\n",
       "      <td>2018-05-29T00:00:00+00:00</td>\n",
       "      <td>2018-05-29T00:00:00+00:00</td>\n",
       "      <td>https://knanne.github.io/posts/notes-on-excel</td>\n",
       "      <td>{'@type': 'html', '@xml:base': 'https://knanne...</td>\n",
       "      <td>{'name': 'Kain Nanne'}</td>\n",
       "      <td>{'@term': 'excel'}</td>\n",
       "      <td>{'@type': 'html', '#text': 'Random notes on us...</td>\n",
       "      <td>Kain Nanne</td>\n",
       "      <td>html</td>\n",
       "      <td>Notes On Excel</td>\n",
       "    </tr>\n",
       "    <tr>\n",
       "      <th>1</th>\n",
       "      <td>{'@type': 'html', '#text': 'Notes On Shell'}</td>\n",
       "      <td>{'@href': 'https://knanne.github.io/posts/note...</td>\n",
       "      <td>2018-05-26T00:00:00+00:00</td>\n",
       "      <td>2018-05-26T00:00:00+00:00</td>\n",
       "      <td>https://knanne.github.io/posts/notes-on-shell</td>\n",
       "      <td>{'@type': 'html', '@xml:base': 'https://knanne...</td>\n",
       "      <td>{'name': 'Kain Nanne'}</td>\n",
       "      <td>[{'@term': 'shell'}, {'@term': 'unix'}, {'@ter...</td>\n",
       "      <td>{'@type': 'html', '#text': 'Random notes on th...</td>\n",
       "      <td>Kain Nanne</td>\n",
       "      <td>html</td>\n",
       "      <td>Notes On Shell</td>\n",
       "    </tr>\n",
       "    <tr>\n",
       "      <th>2</th>\n",
       "      <td>{'@type': 'html', '#text': 'Notes On Ssh'}</td>\n",
       "      <td>{'@href': 'https://knanne.github.io/posts/note...</td>\n",
       "      <td>2018-05-26T00:00:00+00:00</td>\n",
       "      <td>2018-05-26T00:00:00+00:00</td>\n",
       "      <td>https://knanne.github.io/posts/notes-on-ssh</td>\n",
       "      <td>{'@type': 'html', '@xml:base': 'https://knanne...</td>\n",
       "      <td>{'name': 'Kain Nanne'}</td>\n",
       "      <td>{'@term': 'ssh'}</td>\n",
       "      <td>{'@type': 'html', '#text': 'Random notes on us...</td>\n",
       "      <td>Kain Nanne</td>\n",
       "      <td>html</td>\n",
       "      <td>Notes On Ssh</td>\n",
       "    </tr>\n",
       "    <tr>\n",
       "      <th>3</th>\n",
       "      <td>{'@type': 'html', '#text': 'Notes On Pyspark'}</td>\n",
       "      <td>{'@href': 'https://knanne.github.io/posts/note...</td>\n",
       "      <td>2017-12-27T00:00:00+00:00</td>\n",
       "      <td>2017-12-27T00:00:00+00:00</td>\n",
       "      <td>https://knanne.github.io/posts/notes-on-pyspark</td>\n",
       "      <td>{'@type': 'html', '@xml:base': 'https://knanne...</td>\n",
       "      <td>{'name': 'Kain Nanne'}</td>\n",
       "      <td>[{'@term': 'pyspark'}, {'@term': 'spark'}, {'@...</td>\n",
       "      <td>{'@type': 'html', '#text': 'Random notes, link...</td>\n",
       "      <td>Kain Nanne</td>\n",
       "      <td>html</td>\n",
       "      <td>Notes On Pyspark</td>\n",
       "    </tr>\n",
       "    <tr>\n",
       "      <th>4</th>\n",
       "      <td>{'@type': 'html', '#text': 'Random Resources F...</td>\n",
       "      <td>{'@href': 'https://knanne.github.io/posts/rand...</td>\n",
       "      <td>2017-11-22T00:00:00+00:00</td>\n",
       "      <td>2017-11-22T00:00:00+00:00</td>\n",
       "      <td>https://knanne.github.io/posts/random-resource...</td>\n",
       "      <td>{'@type': 'html', '@xml:base': 'https://knanne...</td>\n",
       "      <td>{'name': 'Kain Nanne'}</td>\n",
       "      <td>NaN</td>\n",
       "      <td>{'@type': 'html', '#text': 'Random notes, link...</td>\n",
       "      <td>Kain Nanne</td>\n",
       "      <td>html</td>\n",
       "      <td>Random Resources For Data Analysis</td>\n",
       "    </tr>\n",
       "  </tbody>\n",
       "</table>\n",
       "</div>"
      ],
      "text/plain": [
       "                                               title  \\\n",
       "0       {'@type': 'html', '#text': 'Notes On Excel'}   \n",
       "1       {'@type': 'html', '#text': 'Notes On Shell'}   \n",
       "2         {'@type': 'html', '#text': 'Notes On Ssh'}   \n",
       "3     {'@type': 'html', '#text': 'Notes On Pyspark'}   \n",
       "4  {'@type': 'html', '#text': 'Random Resources F...   \n",
       "\n",
       "                                                link  \\\n",
       "0  {'@href': 'https://knanne.github.io/posts/note...   \n",
       "1  {'@href': 'https://knanne.github.io/posts/note...   \n",
       "2  {'@href': 'https://knanne.github.io/posts/note...   \n",
       "3  {'@href': 'https://knanne.github.io/posts/note...   \n",
       "4  {'@href': 'https://knanne.github.io/posts/rand...   \n",
       "\n",
       "                   published                    updated  \\\n",
       "0  2018-05-29T00:00:00+00:00  2018-05-29T00:00:00+00:00   \n",
       "1  2018-05-26T00:00:00+00:00  2018-05-26T00:00:00+00:00   \n",
       "2  2018-05-26T00:00:00+00:00  2018-05-26T00:00:00+00:00   \n",
       "3  2017-12-27T00:00:00+00:00  2017-12-27T00:00:00+00:00   \n",
       "4  2017-11-22T00:00:00+00:00  2017-11-22T00:00:00+00:00   \n",
       "\n",
       "                                                  id  \\\n",
       "0      https://knanne.github.io/posts/notes-on-excel   \n",
       "1      https://knanne.github.io/posts/notes-on-shell   \n",
       "2        https://knanne.github.io/posts/notes-on-ssh   \n",
       "3    https://knanne.github.io/posts/notes-on-pyspark   \n",
       "4  https://knanne.github.io/posts/random-resource...   \n",
       "\n",
       "                                             content                  author  \\\n",
       "0  {'@type': 'html', '@xml:base': 'https://knanne...  {'name': 'Kain Nanne'}   \n",
       "1  {'@type': 'html', '@xml:base': 'https://knanne...  {'name': 'Kain Nanne'}   \n",
       "2  {'@type': 'html', '@xml:base': 'https://knanne...  {'name': 'Kain Nanne'}   \n",
       "3  {'@type': 'html', '@xml:base': 'https://knanne...  {'name': 'Kain Nanne'}   \n",
       "4  {'@type': 'html', '@xml:base': 'https://knanne...  {'name': 'Kain Nanne'}   \n",
       "\n",
       "                                            category  \\\n",
       "0                                 {'@term': 'excel'}   \n",
       "1  [{'@term': 'shell'}, {'@term': 'unix'}, {'@ter...   \n",
       "2                                   {'@term': 'ssh'}   \n",
       "3  [{'@term': 'pyspark'}, {'@term': 'spark'}, {'@...   \n",
       "4                                                NaN   \n",
       "\n",
       "                                             summary        name @type  \\\n",
       "0  {'@type': 'html', '#text': 'Random notes on us...  Kain Nanne  html   \n",
       "1  {'@type': 'html', '#text': 'Random notes on th...  Kain Nanne  html   \n",
       "2  {'@type': 'html', '#text': 'Random notes on us...  Kain Nanne  html   \n",
       "3  {'@type': 'html', '#text': 'Random notes, link...  Kain Nanne  html   \n",
       "4  {'@type': 'html', '#text': 'Random notes, link...  Kain Nanne  html   \n",
       "\n",
       "                                #text  \n",
       "0                      Notes On Excel  \n",
       "1                      Notes On Shell  \n",
       "2                        Notes On Ssh  \n",
       "3                    Notes On Pyspark  \n",
       "4  Random Resources For Data Analysis  "
      ]
     },
     "execution_count": 89,
     "metadata": {},
     "output_type": "execute_result"
    }
   ],
   "source": [
    "df.head()"
   ]
  },
  {
   "cell_type": "code",
   "execution_count": 90,
   "metadata": {},
   "outputs": [],
   "source": [
    "df = df.drop(['author','title'], axis=1).rename(columns={'name':'author', '#text':'title'})"
   ]
  },
  {
   "cell_type": "code",
   "execution_count": 92,
   "metadata": {},
   "outputs": [
    {
     "data": {
      "text/plain": [
       "0                                   {'@term': 'excel'}\n",
       "1    [{'@term': 'shell'}, {'@term': 'unix'}, {'@ter...\n",
       "2                                     {'@term': 'ssh'}\n",
       "3    [{'@term': 'pyspark'}, {'@term': 'spark'}, {'@...\n",
       "4                                                  NaN\n",
       "Name: category, dtype: object"
      ]
     },
     "execution_count": 92,
     "metadata": {},
     "output_type": "execute_result"
    }
   ],
   "source": [
    "df.category.head()"
   ]
  },
  {
   "cell_type": "code",
   "execution_count": 93,
   "metadata": {},
   "outputs": [
    {
     "name": "stderr",
     "output_type": "stream",
     "text": [
      "/home/ubuntu/venv/lib/python3.5/site-packages/pandas/core/indexes/api.py:69: RuntimeWarning: unorderable types: int() < str(), sort order is undefined for incomparable objects\n",
      "  index = _union_indexes(indexes, sort=sort)\n",
      "/home/ubuntu/venv/lib/python3.5/site-packages/pandas/core/indexes/api.py:107: RuntimeWarning: unorderable types: str() < int(), sort order is undefined for incomparable objects\n",
      "  result = result.union(other)\n",
      "/home/ubuntu/venv/lib/python3.5/site-packages/pandas/core/indexes/api.py:107: RuntimeWarning: unorderable types: int() < str(), sort order is undefined for incomparable objects\n",
      "  result = result.union(other)\n"
     ]
    },
    {
     "data": {
      "text/html": [
       "<div>\n",
       "<style scoped>\n",
       "    .dataframe tbody tr th:only-of-type {\n",
       "        vertical-align: middle;\n",
       "    }\n",
       "\n",
       "    .dataframe tbody tr th {\n",
       "        vertical-align: top;\n",
       "    }\n",
       "\n",
       "    .dataframe thead th {\n",
       "        text-align: right;\n",
       "    }\n",
       "</style>\n",
       "<table border=\"1\" class=\"dataframe\">\n",
       "  <thead>\n",
       "    <tr style=\"text-align: right;\">\n",
       "      <th></th>\n",
       "      <th>@term</th>\n",
       "      <th>0</th>\n",
       "      <th>1</th>\n",
       "      <th>2</th>\n",
       "      <th>3</th>\n",
       "    </tr>\n",
       "  </thead>\n",
       "  <tbody>\n",
       "    <tr>\n",
       "      <th>0</th>\n",
       "      <td>excel</td>\n",
       "      <td>NaN</td>\n",
       "      <td>NaN</td>\n",
       "      <td>NaN</td>\n",
       "      <td>NaN</td>\n",
       "    </tr>\n",
       "    <tr>\n",
       "      <th>1</th>\n",
       "      <td>NaN</td>\n",
       "      <td>{'@term': 'shell'}</td>\n",
       "      <td>{'@term': 'unix'}</td>\n",
       "      <td>{'@term': 'bash'}</td>\n",
       "      <td>NaN</td>\n",
       "    </tr>\n",
       "    <tr>\n",
       "      <th>2</th>\n",
       "      <td>ssh</td>\n",
       "      <td>NaN</td>\n",
       "      <td>NaN</td>\n",
       "      <td>NaN</td>\n",
       "      <td>NaN</td>\n",
       "    </tr>\n",
       "    <tr>\n",
       "      <th>3</th>\n",
       "      <td>NaN</td>\n",
       "      <td>{'@term': 'pyspark'}</td>\n",
       "      <td>{'@term': 'spark'}</td>\n",
       "      <td>{'@term': 'python'}</td>\n",
       "      <td>{'@term': 'databricks'}</td>\n",
       "    </tr>\n",
       "    <tr>\n",
       "      <th>4</th>\n",
       "      <td>NaN</td>\n",
       "      <td>NaN</td>\n",
       "      <td>NaN</td>\n",
       "      <td>NaN</td>\n",
       "      <td>NaN</td>\n",
       "    </tr>\n",
       "    <tr>\n",
       "      <th>5</th>\n",
       "      <td>NaN</td>\n",
       "      <td>{'@term': 'python'}</td>\n",
       "      <td>{'@term': 'pandas'}</td>\n",
       "      <td>NaN</td>\n",
       "      <td>NaN</td>\n",
       "    </tr>\n",
       "    <tr>\n",
       "      <th>6</th>\n",
       "      <td>regex</td>\n",
       "      <td>NaN</td>\n",
       "      <td>NaN</td>\n",
       "      <td>NaN</td>\n",
       "      <td>NaN</td>\n",
       "    </tr>\n",
       "    <tr>\n",
       "      <th>7</th>\n",
       "      <td>NaN</td>\n",
       "      <td>{'@term': 'python'}</td>\n",
       "      <td>{'@term': 'pandas'}</td>\n",
       "      <td>NaN</td>\n",
       "      <td>NaN</td>\n",
       "    </tr>\n",
       "    <tr>\n",
       "      <th>8</th>\n",
       "      <td>python</td>\n",
       "      <td>NaN</td>\n",
       "      <td>NaN</td>\n",
       "      <td>NaN</td>\n",
       "      <td>NaN</td>\n",
       "    </tr>\n",
       "    <tr>\n",
       "      <th>9</th>\n",
       "      <td>NaN</td>\n",
       "      <td>{'@term': 'calculations'}</td>\n",
       "      <td>{'@term': 'equations'}</td>\n",
       "      <td>NaN</td>\n",
       "      <td>NaN</td>\n",
       "    </tr>\n",
       "  </tbody>\n",
       "</table>\n",
       "</div>"
      ],
      "text/plain": [
       "    @term                          0                       1  \\\n",
       "0   excel                        NaN                     NaN   \n",
       "1     NaN         {'@term': 'shell'}       {'@term': 'unix'}   \n",
       "2     ssh                        NaN                     NaN   \n",
       "3     NaN       {'@term': 'pyspark'}      {'@term': 'spark'}   \n",
       "4     NaN                        NaN                     NaN   \n",
       "5     NaN        {'@term': 'python'}     {'@term': 'pandas'}   \n",
       "6   regex                        NaN                     NaN   \n",
       "7     NaN        {'@term': 'python'}     {'@term': 'pandas'}   \n",
       "8  python                        NaN                     NaN   \n",
       "9     NaN  {'@term': 'calculations'}  {'@term': 'equations'}   \n",
       "\n",
       "                     2                        3  \n",
       "0                  NaN                      NaN  \n",
       "1    {'@term': 'bash'}                      NaN  \n",
       "2                  NaN                      NaN  \n",
       "3  {'@term': 'python'}  {'@term': 'databricks'}  \n",
       "4                  NaN                      NaN  \n",
       "5                  NaN                      NaN  \n",
       "6                  NaN                      NaN  \n",
       "7                  NaN                      NaN  \n",
       "8                  NaN                      NaN  \n",
       "9                  NaN                      NaN  "
      ]
     },
     "execution_count": 93,
     "metadata": {},
     "output_type": "execute_result"
    }
   ],
   "source": [
    "df.category.apply(pd.Series)"
   ]
  },
  {
   "cell_type": "code",
   "execution_count": 94,
   "metadata": {},
   "outputs": [
    {
     "data": {
      "text/html": [
       "<div>\n",
       "<style scoped>\n",
       "    .dataframe tbody tr th:only-of-type {\n",
       "        vertical-align: middle;\n",
       "    }\n",
       "\n",
       "    .dataframe tbody tr th {\n",
       "        vertical-align: top;\n",
       "    }\n",
       "\n",
       "    .dataframe thead th {\n",
       "        text-align: right;\n",
       "    }\n",
       "</style>\n",
       "<table border=\"1\" class=\"dataframe\">\n",
       "  <thead>\n",
       "    <tr style=\"text-align: right;\">\n",
       "      <th></th>\n",
       "      <th>0</th>\n",
       "      <th>1</th>\n",
       "      <th>2</th>\n",
       "      <th>3</th>\n",
       "    </tr>\n",
       "  </thead>\n",
       "  <tbody>\n",
       "    <tr>\n",
       "      <th>0</th>\n",
       "      <td>{'@term': 'excel'}</td>\n",
       "      <td>NaN</td>\n",
       "      <td>NaN</td>\n",
       "      <td>NaN</td>\n",
       "    </tr>\n",
       "    <tr>\n",
       "      <th>1</th>\n",
       "      <td>{'@term': 'shell'}</td>\n",
       "      <td>{'@term': 'unix'}</td>\n",
       "      <td>{'@term': 'bash'}</td>\n",
       "      <td>NaN</td>\n",
       "    </tr>\n",
       "    <tr>\n",
       "      <th>2</th>\n",
       "      <td>{'@term': 'ssh'}</td>\n",
       "      <td>NaN</td>\n",
       "      <td>NaN</td>\n",
       "      <td>NaN</td>\n",
       "    </tr>\n",
       "    <tr>\n",
       "      <th>3</th>\n",
       "      <td>{'@term': 'pyspark'}</td>\n",
       "      <td>{'@term': 'spark'}</td>\n",
       "      <td>{'@term': 'python'}</td>\n",
       "      <td>{'@term': 'databricks'}</td>\n",
       "    </tr>\n",
       "    <tr>\n",
       "      <th>4</th>\n",
       "      <td>NaN</td>\n",
       "      <td>NaN</td>\n",
       "      <td>NaN</td>\n",
       "      <td>NaN</td>\n",
       "    </tr>\n",
       "    <tr>\n",
       "      <th>5</th>\n",
       "      <td>{'@term': 'python'}</td>\n",
       "      <td>{'@term': 'pandas'}</td>\n",
       "      <td>NaN</td>\n",
       "      <td>NaN</td>\n",
       "    </tr>\n",
       "    <tr>\n",
       "      <th>6</th>\n",
       "      <td>{'@term': 'regex'}</td>\n",
       "      <td>NaN</td>\n",
       "      <td>NaN</td>\n",
       "      <td>NaN</td>\n",
       "    </tr>\n",
       "    <tr>\n",
       "      <th>7</th>\n",
       "      <td>{'@term': 'python'}</td>\n",
       "      <td>{'@term': 'pandas'}</td>\n",
       "      <td>NaN</td>\n",
       "      <td>NaN</td>\n",
       "    </tr>\n",
       "    <tr>\n",
       "      <th>8</th>\n",
       "      <td>{'@term': 'python'}</td>\n",
       "      <td>NaN</td>\n",
       "      <td>NaN</td>\n",
       "      <td>NaN</td>\n",
       "    </tr>\n",
       "    <tr>\n",
       "      <th>9</th>\n",
       "      <td>{'@term': 'calculations'}</td>\n",
       "      <td>{'@term': 'equations'}</td>\n",
       "      <td>NaN</td>\n",
       "      <td>NaN</td>\n",
       "    </tr>\n",
       "  </tbody>\n",
       "</table>\n",
       "</div>"
      ],
      "text/plain": [
       "                           0                       1                    2  \\\n",
       "0         {'@term': 'excel'}                     NaN                  NaN   \n",
       "1         {'@term': 'shell'}       {'@term': 'unix'}    {'@term': 'bash'}   \n",
       "2           {'@term': 'ssh'}                     NaN                  NaN   \n",
       "3       {'@term': 'pyspark'}      {'@term': 'spark'}  {'@term': 'python'}   \n",
       "4                        NaN                     NaN                  NaN   \n",
       "5        {'@term': 'python'}     {'@term': 'pandas'}                  NaN   \n",
       "6         {'@term': 'regex'}                     NaN                  NaN   \n",
       "7        {'@term': 'python'}     {'@term': 'pandas'}                  NaN   \n",
       "8        {'@term': 'python'}                     NaN                  NaN   \n",
       "9  {'@term': 'calculations'}  {'@term': 'equations'}                  NaN   \n",
       "\n",
       "                         3  \n",
       "0                      NaN  \n",
       "1                      NaN  \n",
       "2                      NaN  \n",
       "3  {'@term': 'databricks'}  \n",
       "4                      NaN  \n",
       "5                      NaN  \n",
       "6                      NaN  \n",
       "7                      NaN  \n",
       "8                      NaN  \n",
       "9                      NaN  "
      ]
     },
     "execution_count": 94,
     "metadata": {},
     "output_type": "execute_result"
    }
   ],
   "source": [
    "df.category.apply(lambda x: pd.Series(x) if isinstance(x,list) else pd.Series([x]))"
   ]
  },
  {
   "cell_type": "code",
   "execution_count": 95,
   "metadata": {},
   "outputs": [],
   "source": [
    "exploded_column = df.category.apply(lambda x: pd.Series(x) if isinstance(x,list) else pd.Series([x]))\\\n",
    "    .stack()\\\n",
    "    .rename('term')\\\n",
    "    .apply(lambda x: x['@term'])\\\n",
    "    .to_frame()\\\n",
    "    .reset_index(level=1)\\\n",
    "    .rename(columns={'level_1':'term_index'})"
   ]
  },
  {
   "cell_type": "code",
   "execution_count": 96,
   "metadata": {},
   "outputs": [
    {
     "data": {
      "text/html": [
       "<div>\n",
       "<style scoped>\n",
       "    .dataframe tbody tr th:only-of-type {\n",
       "        vertical-align: middle;\n",
       "    }\n",
       "\n",
       "    .dataframe tbody tr th {\n",
       "        vertical-align: top;\n",
       "    }\n",
       "\n",
       "    .dataframe thead th {\n",
       "        text-align: right;\n",
       "    }\n",
       "</style>\n",
       "<table border=\"1\" class=\"dataframe\">\n",
       "  <thead>\n",
       "    <tr style=\"text-align: right;\">\n",
       "      <th></th>\n",
       "      <th>term_index</th>\n",
       "      <th>term</th>\n",
       "    </tr>\n",
       "  </thead>\n",
       "  <tbody>\n",
       "    <tr>\n",
       "      <th>0</th>\n",
       "      <td>0</td>\n",
       "      <td>excel</td>\n",
       "    </tr>\n",
       "    <tr>\n",
       "      <th>1</th>\n",
       "      <td>0</td>\n",
       "      <td>shell</td>\n",
       "    </tr>\n",
       "    <tr>\n",
       "      <th>1</th>\n",
       "      <td>1</td>\n",
       "      <td>unix</td>\n",
       "    </tr>\n",
       "    <tr>\n",
       "      <th>1</th>\n",
       "      <td>2</td>\n",
       "      <td>bash</td>\n",
       "    </tr>\n",
       "    <tr>\n",
       "      <th>2</th>\n",
       "      <td>0</td>\n",
       "      <td>ssh</td>\n",
       "    </tr>\n",
       "    <tr>\n",
       "      <th>3</th>\n",
       "      <td>0</td>\n",
       "      <td>pyspark</td>\n",
       "    </tr>\n",
       "    <tr>\n",
       "      <th>3</th>\n",
       "      <td>1</td>\n",
       "      <td>spark</td>\n",
       "    </tr>\n",
       "    <tr>\n",
       "      <th>3</th>\n",
       "      <td>2</td>\n",
       "      <td>python</td>\n",
       "    </tr>\n",
       "    <tr>\n",
       "      <th>3</th>\n",
       "      <td>3</td>\n",
       "      <td>databricks</td>\n",
       "    </tr>\n",
       "    <tr>\n",
       "      <th>5</th>\n",
       "      <td>0</td>\n",
       "      <td>python</td>\n",
       "    </tr>\n",
       "    <tr>\n",
       "      <th>5</th>\n",
       "      <td>1</td>\n",
       "      <td>pandas</td>\n",
       "    </tr>\n",
       "    <tr>\n",
       "      <th>6</th>\n",
       "      <td>0</td>\n",
       "      <td>regex</td>\n",
       "    </tr>\n",
       "    <tr>\n",
       "      <th>7</th>\n",
       "      <td>0</td>\n",
       "      <td>python</td>\n",
       "    </tr>\n",
       "    <tr>\n",
       "      <th>7</th>\n",
       "      <td>1</td>\n",
       "      <td>pandas</td>\n",
       "    </tr>\n",
       "    <tr>\n",
       "      <th>8</th>\n",
       "      <td>0</td>\n",
       "      <td>python</td>\n",
       "    </tr>\n",
       "    <tr>\n",
       "      <th>9</th>\n",
       "      <td>0</td>\n",
       "      <td>calculations</td>\n",
       "    </tr>\n",
       "    <tr>\n",
       "      <th>9</th>\n",
       "      <td>1</td>\n",
       "      <td>equations</td>\n",
       "    </tr>\n",
       "  </tbody>\n",
       "</table>\n",
       "</div>"
      ],
      "text/plain": [
       "   term_index          term\n",
       "0           0         excel\n",
       "1           0         shell\n",
       "1           1          unix\n",
       "1           2          bash\n",
       "2           0           ssh\n",
       "3           0       pyspark\n",
       "3           1         spark\n",
       "3           2        python\n",
       "3           3    databricks\n",
       "5           0        python\n",
       "5           1        pandas\n",
       "6           0         regex\n",
       "7           0        python\n",
       "7           1        pandas\n",
       "8           0        python\n",
       "9           0  calculations\n",
       "9           1     equations"
      ]
     },
     "execution_count": 96,
     "metadata": {},
     "output_type": "execute_result"
    }
   ],
   "source": [
    "exploded_column"
   ]
  },
  {
   "cell_type": "code",
   "execution_count": 97,
   "metadata": {},
   "outputs": [],
   "source": [
    "df = df.join(exploded_column, how='left')"
   ]
  },
  {
   "cell_type": "code",
   "execution_count": 98,
   "metadata": {},
   "outputs": [
    {
     "data": {
      "text/plain": [
       "(18, 12)"
      ]
     },
     "execution_count": 98,
     "metadata": {},
     "output_type": "execute_result"
    }
   ],
   "source": [
    "df.shape"
   ]
  },
  {
   "cell_type": "code",
   "execution_count": 99,
   "metadata": {},
   "outputs": [
    {
     "data": {
      "text/html": [
       "<div>\n",
       "<style scoped>\n",
       "    .dataframe tbody tr th:only-of-type {\n",
       "        vertical-align: middle;\n",
       "    }\n",
       "\n",
       "    .dataframe tbody tr th {\n",
       "        vertical-align: top;\n",
       "    }\n",
       "\n",
       "    .dataframe thead th {\n",
       "        text-align: right;\n",
       "    }\n",
       "</style>\n",
       "<table border=\"1\" class=\"dataframe\">\n",
       "  <thead>\n",
       "    <tr style=\"text-align: right;\">\n",
       "      <th></th>\n",
       "      <th>link</th>\n",
       "      <th>published</th>\n",
       "      <th>updated</th>\n",
       "      <th>id</th>\n",
       "      <th>content</th>\n",
       "      <th>category</th>\n",
       "      <th>summary</th>\n",
       "      <th>author</th>\n",
       "      <th>@type</th>\n",
       "      <th>title</th>\n",
       "      <th>term_index</th>\n",
       "      <th>term</th>\n",
       "    </tr>\n",
       "  </thead>\n",
       "  <tbody>\n",
       "    <tr>\n",
       "      <th>0</th>\n",
       "      <td>{'@href': 'https://knanne.github.io/posts/note...</td>\n",
       "      <td>2018-05-29T00:00:00+00:00</td>\n",
       "      <td>2018-05-29T00:00:00+00:00</td>\n",
       "      <td>https://knanne.github.io/posts/notes-on-excel</td>\n",
       "      <td>{'@type': 'html', '@xml:base': 'https://knanne...</td>\n",
       "      <td>{'@term': 'excel'}</td>\n",
       "      <td>{'@type': 'html', '#text': 'Random notes on us...</td>\n",
       "      <td>Kain Nanne</td>\n",
       "      <td>html</td>\n",
       "      <td>Notes On Excel</td>\n",
       "      <td>0.0</td>\n",
       "      <td>excel</td>\n",
       "    </tr>\n",
       "    <tr>\n",
       "      <th>1</th>\n",
       "      <td>{'@href': 'https://knanne.github.io/posts/note...</td>\n",
       "      <td>2018-05-26T00:00:00+00:00</td>\n",
       "      <td>2018-05-26T00:00:00+00:00</td>\n",
       "      <td>https://knanne.github.io/posts/notes-on-shell</td>\n",
       "      <td>{'@type': 'html', '@xml:base': 'https://knanne...</td>\n",
       "      <td>[{'@term': 'shell'}, {'@term': 'unix'}, {'@ter...</td>\n",
       "      <td>{'@type': 'html', '#text': 'Random notes on th...</td>\n",
       "      <td>Kain Nanne</td>\n",
       "      <td>html</td>\n",
       "      <td>Notes On Shell</td>\n",
       "      <td>0.0</td>\n",
       "      <td>shell</td>\n",
       "    </tr>\n",
       "    <tr>\n",
       "      <th>1</th>\n",
       "      <td>{'@href': 'https://knanne.github.io/posts/note...</td>\n",
       "      <td>2018-05-26T00:00:00+00:00</td>\n",
       "      <td>2018-05-26T00:00:00+00:00</td>\n",
       "      <td>https://knanne.github.io/posts/notes-on-shell</td>\n",
       "      <td>{'@type': 'html', '@xml:base': 'https://knanne...</td>\n",
       "      <td>[{'@term': 'shell'}, {'@term': 'unix'}, {'@ter...</td>\n",
       "      <td>{'@type': 'html', '#text': 'Random notes on th...</td>\n",
       "      <td>Kain Nanne</td>\n",
       "      <td>html</td>\n",
       "      <td>Notes On Shell</td>\n",
       "      <td>1.0</td>\n",
       "      <td>unix</td>\n",
       "    </tr>\n",
       "    <tr>\n",
       "      <th>1</th>\n",
       "      <td>{'@href': 'https://knanne.github.io/posts/note...</td>\n",
       "      <td>2018-05-26T00:00:00+00:00</td>\n",
       "      <td>2018-05-26T00:00:00+00:00</td>\n",
       "      <td>https://knanne.github.io/posts/notes-on-shell</td>\n",
       "      <td>{'@type': 'html', '@xml:base': 'https://knanne...</td>\n",
       "      <td>[{'@term': 'shell'}, {'@term': 'unix'}, {'@ter...</td>\n",
       "      <td>{'@type': 'html', '#text': 'Random notes on th...</td>\n",
       "      <td>Kain Nanne</td>\n",
       "      <td>html</td>\n",
       "      <td>Notes On Shell</td>\n",
       "      <td>2.0</td>\n",
       "      <td>bash</td>\n",
       "    </tr>\n",
       "    <tr>\n",
       "      <th>2</th>\n",
       "      <td>{'@href': 'https://knanne.github.io/posts/note...</td>\n",
       "      <td>2018-05-26T00:00:00+00:00</td>\n",
       "      <td>2018-05-26T00:00:00+00:00</td>\n",
       "      <td>https://knanne.github.io/posts/notes-on-ssh</td>\n",
       "      <td>{'@type': 'html', '@xml:base': 'https://knanne...</td>\n",
       "      <td>{'@term': 'ssh'}</td>\n",
       "      <td>{'@type': 'html', '#text': 'Random notes on us...</td>\n",
       "      <td>Kain Nanne</td>\n",
       "      <td>html</td>\n",
       "      <td>Notes On Ssh</td>\n",
       "      <td>0.0</td>\n",
       "      <td>ssh</td>\n",
       "    </tr>\n",
       "  </tbody>\n",
       "</table>\n",
       "</div>"
      ],
      "text/plain": [
       "                                                link  \\\n",
       "0  {'@href': 'https://knanne.github.io/posts/note...   \n",
       "1  {'@href': 'https://knanne.github.io/posts/note...   \n",
       "1  {'@href': 'https://knanne.github.io/posts/note...   \n",
       "1  {'@href': 'https://knanne.github.io/posts/note...   \n",
       "2  {'@href': 'https://knanne.github.io/posts/note...   \n",
       "\n",
       "                   published                    updated  \\\n",
       "0  2018-05-29T00:00:00+00:00  2018-05-29T00:00:00+00:00   \n",
       "1  2018-05-26T00:00:00+00:00  2018-05-26T00:00:00+00:00   \n",
       "1  2018-05-26T00:00:00+00:00  2018-05-26T00:00:00+00:00   \n",
       "1  2018-05-26T00:00:00+00:00  2018-05-26T00:00:00+00:00   \n",
       "2  2018-05-26T00:00:00+00:00  2018-05-26T00:00:00+00:00   \n",
       "\n",
       "                                              id  \\\n",
       "0  https://knanne.github.io/posts/notes-on-excel   \n",
       "1  https://knanne.github.io/posts/notes-on-shell   \n",
       "1  https://knanne.github.io/posts/notes-on-shell   \n",
       "1  https://knanne.github.io/posts/notes-on-shell   \n",
       "2    https://knanne.github.io/posts/notes-on-ssh   \n",
       "\n",
       "                                             content  \\\n",
       "0  {'@type': 'html', '@xml:base': 'https://knanne...   \n",
       "1  {'@type': 'html', '@xml:base': 'https://knanne...   \n",
       "1  {'@type': 'html', '@xml:base': 'https://knanne...   \n",
       "1  {'@type': 'html', '@xml:base': 'https://knanne...   \n",
       "2  {'@type': 'html', '@xml:base': 'https://knanne...   \n",
       "\n",
       "                                            category  \\\n",
       "0                                 {'@term': 'excel'}   \n",
       "1  [{'@term': 'shell'}, {'@term': 'unix'}, {'@ter...   \n",
       "1  [{'@term': 'shell'}, {'@term': 'unix'}, {'@ter...   \n",
       "1  [{'@term': 'shell'}, {'@term': 'unix'}, {'@ter...   \n",
       "2                                   {'@term': 'ssh'}   \n",
       "\n",
       "                                             summary      author @type  \\\n",
       "0  {'@type': 'html', '#text': 'Random notes on us...  Kain Nanne  html   \n",
       "1  {'@type': 'html', '#text': 'Random notes on th...  Kain Nanne  html   \n",
       "1  {'@type': 'html', '#text': 'Random notes on th...  Kain Nanne  html   \n",
       "1  {'@type': 'html', '#text': 'Random notes on th...  Kain Nanne  html   \n",
       "2  {'@type': 'html', '#text': 'Random notes on us...  Kain Nanne  html   \n",
       "\n",
       "            title  term_index   term  \n",
       "0  Notes On Excel         0.0  excel  \n",
       "1  Notes On Shell         0.0  shell  \n",
       "1  Notes On Shell         1.0   unix  \n",
       "1  Notes On Shell         2.0   bash  \n",
       "2    Notes On Ssh         0.0    ssh  "
      ]
     },
     "execution_count": 99,
     "metadata": {},
     "output_type": "execute_result"
    }
   ],
   "source": [
    "df.head()"
   ]
  },
  {
   "cell_type": "code",
   "execution_count": null,
   "metadata": {},
   "outputs": [],
   "source": []
  },
  {
   "cell_type": "code",
   "execution_count": null,
   "metadata": {},
   "outputs": [],
   "source": []
  },
  {
   "cell_type": "code",
   "execution_count": null,
   "metadata": {},
   "outputs": [],
   "source": []
  },
  {
   "cell_type": "code",
   "execution_count": null,
   "metadata": {},
   "outputs": [],
   "source": []
  },
  {
   "cell_type": "code",
   "execution_count": null,
   "metadata": {},
   "outputs": [],
   "source": []
  },
  {
   "cell_type": "code",
   "execution_count": null,
   "metadata": {},
   "outputs": [],
   "source": []
  },
  {
   "cell_type": "code",
   "execution_count": null,
   "metadata": {},
   "outputs": [],
   "source": []
  },
  {
   "cell_type": "code",
   "execution_count": null,
   "metadata": {},
   "outputs": [],
   "source": []
  },
  {
   "cell_type": "code",
   "execution_count": null,
   "metadata": {},
   "outputs": [],
   "source": []
  }
 ],
 "metadata": {
  "kernelspec": {
   "display_name": "Python 3",
   "language": "python",
   "name": "python3"
  },
  "language_info": {
   "codemirror_mode": {
    "name": "ipython",
    "version": 3
   },
   "file_extension": ".py",
   "mimetype": "text/x-python",
   "name": "python",
   "nbconvert_exporter": "python",
   "pygments_lexer": "ipython3",
   "version": "3.5.2"
  }
 },
 "nbformat": 4,
 "nbformat_minor": 2
}
